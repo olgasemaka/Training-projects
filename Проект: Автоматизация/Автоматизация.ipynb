{
 "cells": [
  {
   "cell_type": "markdown",
   "id": "4d386752",
   "metadata": {},
   "source": [
    "# Дашборд для Яндекс.Дзен. "
   ]
  },
  {
   "cell_type": "markdown",
   "id": "f1e58919",
   "metadata": {},
   "source": [
    " Анализ взаимодействия пользователей с карточками Яндекс.Дзен.\n",
    " \n",
    " Каждую карточку определяют её тема и источник (у него тоже есть тема). Примеры тем: «Красота и здоровье», «Россия», «Путешествия».\n",
    "Пользователей системы характеризует возрастная категория. Скажем, «26-30» или «45+».\n",
    "\n",
    "Есть три способа взаимодействия пользователей с системой:\n",
    "- Карточка отображена для пользователя (show);\n",
    "- Пользователь кликнул на карточку (click);\n",
    "- Пользователь просмотрел статью карточки (view).\n",
    "\n",
    "Каждую неделю возникают одни и те же вопросы:\n",
    "- Сколько взаимодействий пользователей с карточками происходит в системе с разбивкой по темам карточек?\n",
    "- Как много карточек генерируют источники с разными темами?\n",
    "- Как соотносятся темы карточек и темы источников?"
   ]
  },
  {
   "attachments": {},
   "cell_type": "markdown",
   "id": "b55935f1",
   "metadata": {},
   "source": [
    "## Kраткое ТЗ:\n",
    "\n",
    "Бизнес-задача: анализ взаимодействия пользователей с карточками Яндекс.Дзен;\n",
    "\n",
    "Насколько часто предполагается пользоваться дашбордом: не реже, чем раз в неделю;\n",
    "\n",
    "Кто будет основным пользователем дашборда: менеджеры по анализу контента;\n",
    "\n",
    "Состав данных для дашборда:\n",
    "- История событий по темам карточек (два графика - абсолютные числа и процентное соотношение);\n",
    "- Разбивка событий по темам источников;\n",
    "- Таблица соответствия тем источников темам карточек;\n",
    "\n",
    "По каким параметрам данные должны группироваться:\n",
    "- Дата и время;\n",
    "- Тема карточки;\n",
    "- Тема источника;\n",
    "- Возрастная группа;\n",
    "\n",
    "Характер данных:\n",
    "- История событий по темам карточек — абсолютные величины с разбивкой по минутам;\n",
    "- Разбивка событий по темам источников — относительные величины (% событий);\n",
    "- Соответствия тем источников темам карточек - абсолютные величины;\n",
    "- Важность: все графики имеют равную важность;\n",
    "Источники данных для дашборда: cырые данные о событиях взаимодействия пользователей с карточками (таблица log_raw);\n",
    "\n",
    "База данных, в которой будут храниться агрегированные данные: дополнительные агрегированные таблицы в БД zen;\n",
    "\n",
    "Частота обновления данных: один раз в сутки, в полночь по UTC;\n",
    "\n",
    "Какие графики должны отображаться и в каком порядке, какие элементы управления должны быть на дашборде (макет дашборда):\n",
    "https://drive.google.com/file/d/1RGUmWBwGRIvLi79uWdA7wG72r9xBnZK1/view?usp=sharing"
   ]
  },
  {
   "cell_type": "markdown",
   "id": "7ca97dc7",
   "metadata": {},
   "source": [
    "# Подготовим файл с расширением csv для построения дашборда в Tableau Public"
   ]
  },
  {
   "cell_type": "markdown",
   "id": "5bf6bd88",
   "metadata": {},
   "source": [
    "## Выгрузим данные из базы."
   ]
  },
  {
   "cell_type": "code",
   "execution_count": 1,
   "id": "259031cb",
   "metadata": {},
   "outputs": [
    {
     "name": "stdout",
     "output_type": "stream",
     "text": [
      "Requirement already satisfied: psycopg2-binary in c:\\users\\user\\anaconda3\\lib\\site-packages (2.9.3)\n"
     ]
    }
   ],
   "source": [
    "# импортируем библиотеки\n",
    "import pandas as pd\n",
    "from sqlalchemy import create_engine\n",
    "!pip install psycopg2-binary\n",
    "\n",
    "db_config = {'user': 'praktikum_student', # имя пользователя\n",
    "            'pwd': '', # пароль\n",
    "            'host': '",
    "            'port': , # порт подключения\n",
    "            'db': 'data-analyst-zen-project-db'} # название базы данных\n",
    "\n",
    "connection_string = 'postgresql://{}:{}@{}:{}/{}'.format(db_config['user'],\n",
    "                                                db_config['pwd'],\n",
    "                                                db_config['host'],\n",
    "                                                db_config['port'],\n",
    "                                                db_config['db'])\n",
    "\n",
    "engine = create_engine(connection_string)"
   ]
  },
  {
   "cell_type": "code",
   "execution_count": 2,
   "id": "d6e906ed",
   "metadata": {},
   "outputs": [],
   "source": [
    "query = '''SELECT * FROM dash_visits''' # sql запрос"
   ]
  },
  {
   "cell_type": "code",
   "execution_count": 3,
   "id": "e1d21966",
   "metadata": {},
   "outputs": [],
   "source": [
    "dash_visits = pd.io.sql.read_sql(query, con = engine) # сохраняем результат выполнения в DataFrame"
   ]
  },
  {
   "cell_type": "markdown",
   "id": "ac8590dd",
   "metadata": {},
   "source": [
    "## Проверим данные"
   ]
  },
  {
   "cell_type": "code",
   "execution_count": 4,
   "id": "d484dca6",
   "metadata": {},
   "outputs": [
    {
     "data": {
      "text/html": [
       "<div>\n",
       "<style scoped>\n",
       "    .dataframe tbody tr th:only-of-type {\n",
       "        vertical-align: middle;\n",
       "    }\n",
       "\n",
       "    .dataframe tbody tr th {\n",
       "        vertical-align: top;\n",
       "    }\n",
       "\n",
       "    .dataframe thead th {\n",
       "        text-align: right;\n",
       "    }\n",
       "</style>\n",
       "<table border=\"1\" class=\"dataframe\">\n",
       "  <thead>\n",
       "    <tr style=\"text-align: right;\">\n",
       "      <th></th>\n",
       "      <th>record_id</th>\n",
       "      <th>item_topic</th>\n",
       "      <th>source_topic</th>\n",
       "      <th>age_segment</th>\n",
       "      <th>dt</th>\n",
       "      <th>visits</th>\n",
       "    </tr>\n",
       "  </thead>\n",
       "  <tbody>\n",
       "    <tr>\n",
       "      <th>0</th>\n",
       "      <td>1040597</td>\n",
       "      <td>Деньги</td>\n",
       "      <td>Авто</td>\n",
       "      <td>18-25</td>\n",
       "      <td>2019-09-24 18:32:00</td>\n",
       "      <td>3</td>\n",
       "    </tr>\n",
       "    <tr>\n",
       "      <th>1</th>\n",
       "      <td>1040598</td>\n",
       "      <td>Деньги</td>\n",
       "      <td>Авто</td>\n",
       "      <td>18-25</td>\n",
       "      <td>2019-09-24 18:35:00</td>\n",
       "      <td>1</td>\n",
       "    </tr>\n",
       "    <tr>\n",
       "      <th>2</th>\n",
       "      <td>1040599</td>\n",
       "      <td>Деньги</td>\n",
       "      <td>Авто</td>\n",
       "      <td>18-25</td>\n",
       "      <td>2019-09-24 18:54:00</td>\n",
       "      <td>4</td>\n",
       "    </tr>\n",
       "    <tr>\n",
       "      <th>3</th>\n",
       "      <td>1040600</td>\n",
       "      <td>Деньги</td>\n",
       "      <td>Авто</td>\n",
       "      <td>18-25</td>\n",
       "      <td>2019-09-24 18:55:00</td>\n",
       "      <td>17</td>\n",
       "    </tr>\n",
       "    <tr>\n",
       "      <th>4</th>\n",
       "      <td>1040601</td>\n",
       "      <td>Деньги</td>\n",
       "      <td>Авто</td>\n",
       "      <td>18-25</td>\n",
       "      <td>2019-09-24 18:56:00</td>\n",
       "      <td>27</td>\n",
       "    </tr>\n",
       "    <tr>\n",
       "      <th>5</th>\n",
       "      <td>1040602</td>\n",
       "      <td>Деньги</td>\n",
       "      <td>Авто</td>\n",
       "      <td>18-25</td>\n",
       "      <td>2019-09-24 18:57:00</td>\n",
       "      <td>22</td>\n",
       "    </tr>\n",
       "    <tr>\n",
       "      <th>6</th>\n",
       "      <td>1040603</td>\n",
       "      <td>Деньги</td>\n",
       "      <td>Авто</td>\n",
       "      <td>18-25</td>\n",
       "      <td>2019-09-24 18:58:00</td>\n",
       "      <td>24</td>\n",
       "    </tr>\n",
       "    <tr>\n",
       "      <th>7</th>\n",
       "      <td>1040604</td>\n",
       "      <td>Деньги</td>\n",
       "      <td>Авто</td>\n",
       "      <td>18-25</td>\n",
       "      <td>2019-09-24 18:59:00</td>\n",
       "      <td>20</td>\n",
       "    </tr>\n",
       "    <tr>\n",
       "      <th>8</th>\n",
       "      <td>1040605</td>\n",
       "      <td>Деньги</td>\n",
       "      <td>Авто</td>\n",
       "      <td>18-25</td>\n",
       "      <td>2019-09-24 19:00:00</td>\n",
       "      <td>5</td>\n",
       "    </tr>\n",
       "    <tr>\n",
       "      <th>9</th>\n",
       "      <td>1040606</td>\n",
       "      <td>Деньги</td>\n",
       "      <td>Авто</td>\n",
       "      <td>26-30</td>\n",
       "      <td>2019-09-24 18:29:00</td>\n",
       "      <td>1</td>\n",
       "    </tr>\n",
       "  </tbody>\n",
       "</table>\n",
       "</div>"
      ],
      "text/plain": [
       "   record_id item_topic source_topic age_segment                  dt  visits\n",
       "0    1040597     Деньги         Авто       18-25 2019-09-24 18:32:00       3\n",
       "1    1040598     Деньги         Авто       18-25 2019-09-24 18:35:00       1\n",
       "2    1040599     Деньги         Авто       18-25 2019-09-24 18:54:00       4\n",
       "3    1040600     Деньги         Авто       18-25 2019-09-24 18:55:00      17\n",
       "4    1040601     Деньги         Авто       18-25 2019-09-24 18:56:00      27\n",
       "5    1040602     Деньги         Авто       18-25 2019-09-24 18:57:00      22\n",
       "6    1040603     Деньги         Авто       18-25 2019-09-24 18:58:00      24\n",
       "7    1040604     Деньги         Авто       18-25 2019-09-24 18:59:00      20\n",
       "8    1040605     Деньги         Авто       18-25 2019-09-24 19:00:00       5\n",
       "9    1040606     Деньги         Авто       26-30 2019-09-24 18:29:00       1"
      ]
     },
     "execution_count": 4,
     "metadata": {},
     "output_type": "execute_result"
    }
   ],
   "source": [
    "dash_visits.head(10)"
   ]
  },
  {
   "cell_type": "markdown",
   "id": "8b7af61e",
   "metadata": {},
   "source": [
    "***Описание данных***\n",
    "\n",
    "- record_id - номер записи;\n",
    "- item_topic - тема статьи;\n",
    "- source_topic - тема источника;\n",
    "- age_segment - возрастная категория пользователя;\n",
    "- dt - дата и время;\n",
    "- visits - количество действий пользователей по отношению к карточке статьи."
   ]
  },
  {
   "cell_type": "code",
   "execution_count": 5,
   "id": "1fcdd3cf",
   "metadata": {},
   "outputs": [
    {
     "name": "stdout",
     "output_type": "stream",
     "text": [
      "<class 'pandas.core.frame.DataFrame'>\n",
      "RangeIndex: 30745 entries, 0 to 30744\n",
      "Data columns (total 6 columns):\n",
      " #   Column        Non-Null Count  Dtype         \n",
      "---  ------        --------------  -----         \n",
      " 0   record_id     30745 non-null  int64         \n",
      " 1   item_topic    30745 non-null  object        \n",
      " 2   source_topic  30745 non-null  object        \n",
      " 3   age_segment   30745 non-null  object        \n",
      " 4   dt            30745 non-null  datetime64[ns]\n",
      " 5   visits        30745 non-null  int64         \n",
      "dtypes: datetime64[ns](1), int64(2), object(3)\n",
      "memory usage: 1.4+ MB\n"
     ]
    }
   ],
   "source": [
    "dash_visits.info()"
   ]
  },
  {
   "cell_type": "code",
   "execution_count": 6,
   "id": "5eb19579",
   "metadata": {},
   "outputs": [
    {
     "data": {
      "text/html": [
       "<div>\n",
       "<style scoped>\n",
       "    .dataframe tbody tr th:only-of-type {\n",
       "        vertical-align: middle;\n",
       "    }\n",
       "\n",
       "    .dataframe tbody tr th {\n",
       "        vertical-align: top;\n",
       "    }\n",
       "\n",
       "    .dataframe thead th {\n",
       "        text-align: right;\n",
       "    }\n",
       "</style>\n",
       "<table border=\"1\" class=\"dataframe\">\n",
       "  <thead>\n",
       "    <tr style=\"text-align: right;\">\n",
       "      <th></th>\n",
       "      <th>count</th>\n",
       "      <th>mean</th>\n",
       "      <th>std</th>\n",
       "      <th>min</th>\n",
       "      <th>25%</th>\n",
       "      <th>50%</th>\n",
       "      <th>75%</th>\n",
       "      <th>max</th>\n",
       "    </tr>\n",
       "  </thead>\n",
       "  <tbody>\n",
       "    <tr>\n",
       "      <th>record_id</th>\n",
       "      <td>30745.0</td>\n",
       "      <td>1.055969e+06</td>\n",
       "      <td>8875.461350</td>\n",
       "      <td>1040597.0</td>\n",
       "      <td>1048283.0</td>\n",
       "      <td>1055969.0</td>\n",
       "      <td>1063655.0</td>\n",
       "      <td>1071341.0</td>\n",
       "    </tr>\n",
       "    <tr>\n",
       "      <th>visits</th>\n",
       "      <td>30745.0</td>\n",
       "      <td>1.008967e+01</td>\n",
       "      <td>19.727601</td>\n",
       "      <td>1.0</td>\n",
       "      <td>1.0</td>\n",
       "      <td>3.0</td>\n",
       "      <td>10.0</td>\n",
       "      <td>371.0</td>\n",
       "    </tr>\n",
       "  </tbody>\n",
       "</table>\n",
       "</div>"
      ],
      "text/plain": [
       "             count          mean          std        min        25%  \\\n",
       "record_id  30745.0  1.055969e+06  8875.461350  1040597.0  1048283.0   \n",
       "visits     30745.0  1.008967e+01    19.727601        1.0        1.0   \n",
       "\n",
       "                 50%        75%        max  \n",
       "record_id  1055969.0  1063655.0  1071341.0  \n",
       "visits           3.0       10.0      371.0  "
      ]
     },
     "execution_count": 6,
     "metadata": {},
     "output_type": "execute_result"
    }
   ],
   "source": [
    "dash_visits.describe().T # посмотрим на цифры"
   ]
  },
  {
   "cell_type": "code",
   "execution_count": 7,
   "id": "be2c6df0",
   "metadata": {},
   "outputs": [
    {
     "data": {
      "text/html": [
       "<div>\n",
       "<style scoped>\n",
       "    .dataframe tbody tr th:only-of-type {\n",
       "        vertical-align: middle;\n",
       "    }\n",
       "\n",
       "    .dataframe tbody tr th {\n",
       "        vertical-align: top;\n",
       "    }\n",
       "\n",
       "    .dataframe thead th {\n",
       "        text-align: right;\n",
       "    }\n",
       "</style>\n",
       "<table border=\"1\" class=\"dataframe\">\n",
       "  <thead>\n",
       "    <tr style=\"text-align: right;\">\n",
       "      <th></th>\n",
       "      <th>record_id</th>\n",
       "      <th>item_topic</th>\n",
       "      <th>source_topic</th>\n",
       "      <th>age_segment</th>\n",
       "      <th>dt</th>\n",
       "      <th>visits</th>\n",
       "    </tr>\n",
       "  </thead>\n",
       "  <tbody>\n",
       "    <tr>\n",
       "      <th>3</th>\n",
       "      <td>1040600</td>\n",
       "      <td>Деньги</td>\n",
       "      <td>Авто</td>\n",
       "      <td>18-25</td>\n",
       "      <td>2019-09-24 18:55:00</td>\n",
       "      <td>17</td>\n",
       "    </tr>\n",
       "    <tr>\n",
       "      <th>4</th>\n",
       "      <td>1040601</td>\n",
       "      <td>Деньги</td>\n",
       "      <td>Авто</td>\n",
       "      <td>18-25</td>\n",
       "      <td>2019-09-24 18:56:00</td>\n",
       "      <td>27</td>\n",
       "    </tr>\n",
       "    <tr>\n",
       "      <th>5</th>\n",
       "      <td>1040602</td>\n",
       "      <td>Деньги</td>\n",
       "      <td>Авто</td>\n",
       "      <td>18-25</td>\n",
       "      <td>2019-09-24 18:57:00</td>\n",
       "      <td>22</td>\n",
       "    </tr>\n",
       "    <tr>\n",
       "      <th>6</th>\n",
       "      <td>1040603</td>\n",
       "      <td>Деньги</td>\n",
       "      <td>Авто</td>\n",
       "      <td>18-25</td>\n",
       "      <td>2019-09-24 18:58:00</td>\n",
       "      <td>24</td>\n",
       "    </tr>\n",
       "    <tr>\n",
       "      <th>7</th>\n",
       "      <td>1040604</td>\n",
       "      <td>Деньги</td>\n",
       "      <td>Авто</td>\n",
       "      <td>18-25</td>\n",
       "      <td>2019-09-24 18:59:00</td>\n",
       "      <td>20</td>\n",
       "    </tr>\n",
       "    <tr>\n",
       "      <th>...</th>\n",
       "      <td>...</td>\n",
       "      <td>...</td>\n",
       "      <td>...</td>\n",
       "      <td>...</td>\n",
       "      <td>...</td>\n",
       "      <td>...</td>\n",
       "    </tr>\n",
       "    <tr>\n",
       "      <th>30650</th>\n",
       "      <td>1071247</td>\n",
       "      <td>Юмор</td>\n",
       "      <td>Спорт</td>\n",
       "      <td>26-30</td>\n",
       "      <td>2019-09-24 18:59:00</td>\n",
       "      <td>11</td>\n",
       "    </tr>\n",
       "    <tr>\n",
       "      <th>30658</th>\n",
       "      <td>1071255</td>\n",
       "      <td>Юмор</td>\n",
       "      <td>Спорт</td>\n",
       "      <td>31-35</td>\n",
       "      <td>2019-09-24 18:58:00</td>\n",
       "      <td>11</td>\n",
       "    </tr>\n",
       "    <tr>\n",
       "      <th>30666</th>\n",
       "      <td>1071263</td>\n",
       "      <td>Юмор</td>\n",
       "      <td>Спорт</td>\n",
       "      <td>36-40</td>\n",
       "      <td>2019-09-24 18:56:00</td>\n",
       "      <td>15</td>\n",
       "    </tr>\n",
       "    <tr>\n",
       "      <th>30668</th>\n",
       "      <td>1071265</td>\n",
       "      <td>Юмор</td>\n",
       "      <td>Спорт</td>\n",
       "      <td>36-40</td>\n",
       "      <td>2019-09-24 18:58:00</td>\n",
       "      <td>15</td>\n",
       "    </tr>\n",
       "    <tr>\n",
       "      <th>30669</th>\n",
       "      <td>1071266</td>\n",
       "      <td>Юмор</td>\n",
       "      <td>Спорт</td>\n",
       "      <td>36-40</td>\n",
       "      <td>2019-09-24 18:59:00</td>\n",
       "      <td>16</td>\n",
       "    </tr>\n",
       "  </tbody>\n",
       "</table>\n",
       "<p>7414 rows × 6 columns</p>\n",
       "</div>"
      ],
      "text/plain": [
       "       record_id item_topic source_topic age_segment                  dt  \\\n",
       "3        1040600     Деньги         Авто       18-25 2019-09-24 18:55:00   \n",
       "4        1040601     Деньги         Авто       18-25 2019-09-24 18:56:00   \n",
       "5        1040602     Деньги         Авто       18-25 2019-09-24 18:57:00   \n",
       "6        1040603     Деньги         Авто       18-25 2019-09-24 18:58:00   \n",
       "7        1040604     Деньги         Авто       18-25 2019-09-24 18:59:00   \n",
       "...          ...        ...          ...         ...                 ...   \n",
       "30650    1071247       Юмор        Спорт       26-30 2019-09-24 18:59:00   \n",
       "30658    1071255       Юмор        Спорт       31-35 2019-09-24 18:58:00   \n",
       "30666    1071263       Юмор        Спорт       36-40 2019-09-24 18:56:00   \n",
       "30668    1071265       Юмор        Спорт       36-40 2019-09-24 18:58:00   \n",
       "30669    1071266       Юмор        Спорт       36-40 2019-09-24 18:59:00   \n",
       "\n",
       "       visits  \n",
       "3          17  \n",
       "4          27  \n",
       "5          22  \n",
       "6          24  \n",
       "7          20  \n",
       "...       ...  \n",
       "30650      11  \n",
       "30658      11  \n",
       "30666      15  \n",
       "30668      15  \n",
       "30669      16  \n",
       "\n",
       "[7414 rows x 6 columns]"
      ]
     },
     "execution_count": 7,
     "metadata": {},
     "output_type": "execute_result"
    }
   ],
   "source": [
    "dash_visits.query('visits > 10') # данных со значением больше Q3"
   ]
  },
  {
   "cell_type": "code",
   "execution_count": 8,
   "id": "6fdf0597",
   "metadata": {},
   "outputs": [
    {
     "data": {
      "text/plain": [
       "0"
      ]
     },
     "execution_count": 8,
     "metadata": {},
     "output_type": "execute_result"
    }
   ],
   "source": [
    "dash_visits.duplicated().sum() # проверим на дубликаты"
   ]
  },
  {
   "cell_type": "code",
   "execution_count": 9,
   "id": "10afb636",
   "metadata": {},
   "outputs": [
    {
     "data": {
      "text/plain": [
       "0"
      ]
     },
     "execution_count": 9,
     "metadata": {},
     "output_type": "execute_result"
    }
   ],
   "source": [
    "dash_visits[['item_topic', 'source_topic', 'age_segment', 'dt', 'visits']].duplicated().sum() # проверим на дубликаты без id"
   ]
  },
  {
   "cell_type": "code",
   "execution_count": 10,
   "id": "41c027f0",
   "metadata": {},
   "outputs": [
    {
     "data": {
      "text/plain": [
       "record_id       0.0\n",
       "item_topic      0.0\n",
       "source_topic    0.0\n",
       "age_segment     0.0\n",
       "dt              0.0\n",
       "visits          0.0\n",
       "dtype: float64"
      ]
     },
     "execution_count": 10,
     "metadata": {},
     "output_type": "execute_result"
    }
   ],
   "source": [
    "round((dash_visits.isna().mean()*100),2) # проверим на пропуски"
   ]
  },
  {
   "cell_type": "code",
   "execution_count": 11,
   "id": "d53c2200",
   "metadata": {},
   "outputs": [
    {
     "data": {
      "text/plain": [
       "record_id       0.0\n",
       "item_topic      0.0\n",
       "source_topic    0.0\n",
       "age_segment     0.0\n",
       "dt              0.0\n",
       "visits          0.0\n",
       "dtype: float64"
      ]
     },
     "execution_count": 11,
     "metadata": {},
     "output_type": "execute_result"
    }
   ],
   "source": [
    "round((dash_visits.isnull().mean()*100),2) # проверим на 0"
   ]
  },
  {
   "cell_type": "code",
   "execution_count": 12,
   "id": "b66e0c05",
   "metadata": {},
   "outputs": [
    {
     "name": "stdout",
     "output_type": "stream",
     "text": [
      "Время записи данных между 2019-09-24 18:28:00 и 2019-09-24 19:00:00\n"
     ]
    }
   ],
   "source": [
    "print('Время записи данных между {} и {}'.format(dash_visits['dt'].min(), dash_visits['dt'].max()))"
   ]
  },
  {
   "cell_type": "markdown",
   "id": "8482b06b",
   "metadata": {},
   "source": [
    "В ходе проверки данных пропусков и нулевых значенийне обнаружено. \n",
    "\n",
    "Типы данных в исходных столбцах не меняем.\n",
    "\n",
    "Данные в таблице за 24 сентября 2019 года с 18:28:00 до 19:00:00."
   ]
  },
  {
   "cell_type": "markdown",
   "id": "455630f1",
   "metadata": {},
   "source": [
    "## Экспортируем данные в csv-файл"
   ]
  },
  {
   "cell_type": "code",
   "execution_count": 14,
   "id": "a8adaab9",
   "metadata": {},
   "outputs": [],
   "source": [
    "dash_visits.to_csv('dash_visits.csv', sep='\\t', encoding='utf-8', index=False)"
   ]
  },
  {
   "cell_type": "markdown",
   "id": "0e4f8f34",
   "metadata": {},
   "source": [
    "Данные экспортированы в файл - 'dash_visits.csv'."
   ]
  }
 ],
 "metadata": {
  "kernelspec": {
   "display_name": "Python 3 (ipykernel)",
   "language": "python",
   "name": "python3"
  },
  "language_info": {
   "codemirror_mode": {
    "name": "ipython",
    "version": 3
   },
   "file_extension": ".py",
   "mimetype": "text/x-python",
   "name": "python",
   "nbconvert_exporter": "python",
   "pygments_lexer": "ipython3",
   "version": "3.9.7"
  },
  "toc": {
   "base_numbering": 1,
   "nav_menu": {},
   "number_sections": true,
   "sideBar": true,
   "skip_h1_title": false,
   "title_cell": "Table of Contents",
   "title_sidebar": "Contents",
   "toc_cell": false,
   "toc_position": {},
   "toc_section_display": true,
   "toc_window_display": false
  }
 },
 "nbformat": 4,
 "nbformat_minor": 5
}

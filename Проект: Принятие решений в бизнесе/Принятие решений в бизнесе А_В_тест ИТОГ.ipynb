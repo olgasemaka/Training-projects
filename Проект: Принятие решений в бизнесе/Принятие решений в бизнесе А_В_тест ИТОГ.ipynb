{
 "cells": [
  {
   "cell_type": "markdown",
   "id": "6138cfee",
   "metadata": {},
   "source": [
    "# Принятие решений в бизнесе.  "
   ]
  },
  {
   "cell_type": "markdown",
   "id": "8a51a21d",
   "metadata": {},
   "source": [
    "***Задача - проанализировать гипотезы подготовленные для увеличения выручки крупного интернет-магазина***\n",
    "\n",
    "Вместе с отделом маркетинга был подготовен список гипотез для увеличения выручки.\n",
    "Необходимо приоритизироваьт гипотезы, запустить A/B-тест и проанализировать результаты."
   ]
  },
  {
   "cell_type": "code",
   "execution_count": 1,
   "id": "82479617",
   "metadata": {},
   "outputs": [],
   "source": [
    "import pandas as pd\n",
    "import os\n",
    "import datetime as dt\n",
    "import numpy as np\n",
    "import matplotlib.pyplot as plt\n",
    "import scipy.stats as stats"
   ]
  },
  {
   "cell_type": "code",
   "execution_count": 2,
   "id": "7366176b",
   "metadata": {},
   "outputs": [],
   "source": [
    "if os.path.exists('/datasets/hypothesis.csv'):\n",
    "    hypothesis = pd.read_csv('/datasets/hypothesis.csv')\n",
    "    orders = pd.read_csv('/datasets/orders.csv')\n",
    "    visitors = pd.read_csv('/datasets/visitors.csv')\n",
    "else:\n",
    "    hypothesis = pd.read_csv('C:/Users/user/Documents/Проекты ЯП/Принятие решений в бизнесе/Исходные данные/hypothesis.csv')\n",
    "    orders = pd.read_csv('C:/Users/user/Documents/Проекты ЯП/Принятие решений в бизнесе/Исходные данные/orders.csv')\n",
    "    visitors = pd.read_csv('C:/Users/user/Documents/Проекты ЯП/Принятие решений в бизнесе/Исходные данные/visitors.csv')\n"
   ]
  },
  {
   "cell_type": "markdown",
   "id": "5f5b25fc",
   "metadata": {},
   "source": [
    "## Обзор данных."
   ]
  },
  {
   "cell_type": "code",
   "execution_count": 3,
   "id": "867ef28d",
   "metadata": {},
   "outputs": [
    {
     "data": {
      "text/html": [
       "<div>\n",
       "<style scoped>\n",
       "    .dataframe tbody tr th:only-of-type {\n",
       "        vertical-align: middle;\n",
       "    }\n",
       "\n",
       "    .dataframe tbody tr th {\n",
       "        vertical-align: top;\n",
       "    }\n",
       "\n",
       "    .dataframe thead th {\n",
       "        text-align: right;\n",
       "    }\n",
       "</style>\n",
       "<table border=\"1\" class=\"dataframe\">\n",
       "  <thead>\n",
       "    <tr style=\"text-align: right;\">\n",
       "      <th></th>\n",
       "      <th>Hypothesis</th>\n",
       "      <th>Reach</th>\n",
       "      <th>Impact</th>\n",
       "      <th>Confidence</th>\n",
       "      <th>Efforts</th>\n",
       "    </tr>\n",
       "  </thead>\n",
       "  <tbody>\n",
       "    <tr>\n",
       "      <th>0</th>\n",
       "      <td>Добавить два новых канала привлечения трафика, что позволит привлекать на 30% больше пользователей</td>\n",
       "      <td>3</td>\n",
       "      <td>10</td>\n",
       "      <td>8</td>\n",
       "      <td>6</td>\n",
       "    </tr>\n",
       "    <tr>\n",
       "      <th>1</th>\n",
       "      <td>Запустить собственную службу доставки, что сократит срок доставки заказов</td>\n",
       "      <td>2</td>\n",
       "      <td>5</td>\n",
       "      <td>4</td>\n",
       "      <td>10</td>\n",
       "    </tr>\n",
       "    <tr>\n",
       "      <th>2</th>\n",
       "      <td>Добавить блоки рекомендаций товаров на сайт интернет магазина, чтобы повысить конверсию и средний чек заказа</td>\n",
       "      <td>8</td>\n",
       "      <td>3</td>\n",
       "      <td>7</td>\n",
       "      <td>3</td>\n",
       "    </tr>\n",
       "    <tr>\n",
       "      <th>3</th>\n",
       "      <td>Изменить структура категорий, что увеличит конверсию, т.к. пользователи быстрее найдут нужный товар</td>\n",
       "      <td>8</td>\n",
       "      <td>3</td>\n",
       "      <td>3</td>\n",
       "      <td>8</td>\n",
       "    </tr>\n",
       "    <tr>\n",
       "      <th>4</th>\n",
       "      <td>Изменить цвет фона главной страницы, чтобы увеличить вовлеченность пользователей</td>\n",
       "      <td>3</td>\n",
       "      <td>1</td>\n",
       "      <td>1</td>\n",
       "      <td>1</td>\n",
       "    </tr>\n",
       "    <tr>\n",
       "      <th>5</th>\n",
       "      <td>Добавить страницу отзывов клиентов о магазине, что позволит увеличить количество заказов</td>\n",
       "      <td>3</td>\n",
       "      <td>2</td>\n",
       "      <td>2</td>\n",
       "      <td>3</td>\n",
       "    </tr>\n",
       "    <tr>\n",
       "      <th>6</th>\n",
       "      <td>Показать на главной странице баннеры с актуальными акциями и распродажами, чтобы увеличить конверсию</td>\n",
       "      <td>5</td>\n",
       "      <td>3</td>\n",
       "      <td>8</td>\n",
       "      <td>3</td>\n",
       "    </tr>\n",
       "    <tr>\n",
       "      <th>7</th>\n",
       "      <td>Добавить форму подписки на все основные страницы, чтобы собрать базу клиентов для email-рассылок</td>\n",
       "      <td>10</td>\n",
       "      <td>7</td>\n",
       "      <td>8</td>\n",
       "      <td>5</td>\n",
       "    </tr>\n",
       "    <tr>\n",
       "      <th>8</th>\n",
       "      <td>Запустить акцию, дающую скидку на товар в день рождения</td>\n",
       "      <td>1</td>\n",
       "      <td>9</td>\n",
       "      <td>9</td>\n",
       "      <td>5</td>\n",
       "    </tr>\n",
       "  </tbody>\n",
       "</table>\n",
       "</div>"
      ],
      "text/plain": [
       "                                                                                                     Hypothesis  \\\n",
       "0            Добавить два новых канала привлечения трафика, что позволит привлекать на 30% больше пользователей   \n",
       "1                                     Запустить собственную службу доставки, что сократит срок доставки заказов   \n",
       "2  Добавить блоки рекомендаций товаров на сайт интернет магазина, чтобы повысить конверсию и средний чек заказа   \n",
       "3           Изменить структура категорий, что увеличит конверсию, т.к. пользователи быстрее найдут нужный товар   \n",
       "4                              Изменить цвет фона главной страницы, чтобы увеличить вовлеченность пользователей   \n",
       "5                      Добавить страницу отзывов клиентов о магазине, что позволит увеличить количество заказов   \n",
       "6          Показать на главной странице баннеры с актуальными акциями и распродажами, чтобы увеличить конверсию   \n",
       "7              Добавить форму подписки на все основные страницы, чтобы собрать базу клиентов для email-рассылок   \n",
       "8                                                       Запустить акцию, дающую скидку на товар в день рождения   \n",
       "\n",
       "   Reach  Impact  Confidence  Efforts  \n",
       "0      3      10           8        6  \n",
       "1      2       5           4       10  \n",
       "2      8       3           7        3  \n",
       "3      8       3           3        8  \n",
       "4      3       1           1        1  \n",
       "5      3       2           2        3  \n",
       "6      5       3           8        3  \n",
       "7     10       7           8        5  \n",
       "8      1       9           9        5  "
      ]
     },
     "metadata": {},
     "output_type": "display_data"
    },
    {
     "name": "stdout",
     "output_type": "stream",
     "text": [
      "<class 'pandas.core.frame.DataFrame'>\n",
      "RangeIndex: 9 entries, 0 to 8\n",
      "Data columns (total 5 columns):\n",
      " #   Column      Non-Null Count  Dtype \n",
      "---  ------      --------------  ----- \n",
      " 0   Hypothesis  9 non-null      object\n",
      " 1   Reach       9 non-null      int64 \n",
      " 2   Impact      9 non-null      int64 \n",
      " 3   Confidence  9 non-null      int64 \n",
      " 4   Efforts     9 non-null      int64 \n",
      "dtypes: int64(4), object(1)\n",
      "memory usage: 488.0+ bytes\n"
     ]
    },
    {
     "data": {
      "text/plain": [
       "Hypothesis    0.0\n",
       "Reach         0.0\n",
       "Impact        0.0\n",
       "Confidence    0.0\n",
       "Efforts       0.0\n",
       "dtype: float64"
      ]
     },
     "metadata": {},
     "output_type": "display_data"
    },
    {
     "data": {
      "text/plain": [
       "0"
      ]
     },
     "metadata": {},
     "output_type": "display_data"
    }
   ],
   "source": [
    "pd.set_option('display.max_colwidth', None)\n",
    "display(hypothesis.head(9)) # посмотрим таблицу hypothesis\n",
    "hypothesis.info()\n",
    "display(round((hypothesis.isna().mean()*100),2)) # проверка на пропуски\n",
    "display(hypothesis.duplicated().sum()) # проверим на дубликаты"
   ]
  },
  {
   "cell_type": "code",
   "execution_count": 4,
   "id": "c28840fd",
   "metadata": {},
   "outputs": [
    {
     "data": {
      "text/html": [
       "<div>\n",
       "<style scoped>\n",
       "    .dataframe tbody tr th:only-of-type {\n",
       "        vertical-align: middle;\n",
       "    }\n",
       "\n",
       "    .dataframe tbody tr th {\n",
       "        vertical-align: top;\n",
       "    }\n",
       "\n",
       "    .dataframe thead th {\n",
       "        text-align: right;\n",
       "    }\n",
       "</style>\n",
       "<table border=\"1\" class=\"dataframe\">\n",
       "  <thead>\n",
       "    <tr style=\"text-align: right;\">\n",
       "      <th></th>\n",
       "      <th>transactionId</th>\n",
       "      <th>visitorId</th>\n",
       "      <th>date</th>\n",
       "      <th>revenue</th>\n",
       "      <th>group</th>\n",
       "    </tr>\n",
       "  </thead>\n",
       "  <tbody>\n",
       "    <tr>\n",
       "      <th>0</th>\n",
       "      <td>3667963787</td>\n",
       "      <td>3312258926</td>\n",
       "      <td>2019-08-15</td>\n",
       "      <td>1650</td>\n",
       "      <td>B</td>\n",
       "    </tr>\n",
       "    <tr>\n",
       "      <th>1</th>\n",
       "      <td>2804400009</td>\n",
       "      <td>3642806036</td>\n",
       "      <td>2019-08-15</td>\n",
       "      <td>730</td>\n",
       "      <td>B</td>\n",
       "    </tr>\n",
       "    <tr>\n",
       "      <th>2</th>\n",
       "      <td>2961555356</td>\n",
       "      <td>4069496402</td>\n",
       "      <td>2019-08-15</td>\n",
       "      <td>400</td>\n",
       "      <td>A</td>\n",
       "    </tr>\n",
       "    <tr>\n",
       "      <th>3</th>\n",
       "      <td>3797467345</td>\n",
       "      <td>1196621759</td>\n",
       "      <td>2019-08-15</td>\n",
       "      <td>9759</td>\n",
       "      <td>B</td>\n",
       "    </tr>\n",
       "    <tr>\n",
       "      <th>4</th>\n",
       "      <td>2282983706</td>\n",
       "      <td>2322279887</td>\n",
       "      <td>2019-08-15</td>\n",
       "      <td>2308</td>\n",
       "      <td>B</td>\n",
       "    </tr>\n",
       "  </tbody>\n",
       "</table>\n",
       "</div>"
      ],
      "text/plain": [
       "   transactionId   visitorId        date  revenue group\n",
       "0     3667963787  3312258926  2019-08-15     1650     B\n",
       "1     2804400009  3642806036  2019-08-15      730     B\n",
       "2     2961555356  4069496402  2019-08-15      400     A\n",
       "3     3797467345  1196621759  2019-08-15     9759     B\n",
       "4     2282983706  2322279887  2019-08-15     2308     B"
      ]
     },
     "metadata": {},
     "output_type": "display_data"
    },
    {
     "name": "stdout",
     "output_type": "stream",
     "text": [
      "<class 'pandas.core.frame.DataFrame'>\n",
      "RangeIndex: 1197 entries, 0 to 1196\n",
      "Data columns (total 5 columns):\n",
      " #   Column         Non-Null Count  Dtype \n",
      "---  ------         --------------  ----- \n",
      " 0   transactionId  1197 non-null   int64 \n",
      " 1   visitorId      1197 non-null   int64 \n",
      " 2   date           1197 non-null   object\n",
      " 3   revenue        1197 non-null   int64 \n",
      " 4   group          1197 non-null   object\n",
      "dtypes: int64(3), object(2)\n",
      "memory usage: 46.9+ KB\n"
     ]
    },
    {
     "data": {
      "text/plain": [
       "transactionId    0.0\n",
       "visitorId        0.0\n",
       "date             0.0\n",
       "revenue          0.0\n",
       "group            0.0\n",
       "dtype: float64"
      ]
     },
     "metadata": {},
     "output_type": "display_data"
    },
    {
     "data": {
      "text/plain": [
       "0"
      ]
     },
     "metadata": {},
     "output_type": "display_data"
    }
   ],
   "source": [
    "display(orders.head()) # посмотрим таблицу orders\n",
    "orders.info()\n",
    "display(round((orders.isna().mean()*100),2)) # проверка на пропуски\n",
    "display(orders.duplicated().sum()) # проверим на дубликаты"
   ]
  },
  {
   "cell_type": "code",
   "execution_count": 5,
   "id": "0fb5a3df",
   "metadata": {},
   "outputs": [
    {
     "data": {
      "text/html": [
       "<div>\n",
       "<style scoped>\n",
       "    .dataframe tbody tr th:only-of-type {\n",
       "        vertical-align: middle;\n",
       "    }\n",
       "\n",
       "    .dataframe tbody tr th {\n",
       "        vertical-align: top;\n",
       "    }\n",
       "\n",
       "    .dataframe thead th {\n",
       "        text-align: right;\n",
       "    }\n",
       "</style>\n",
       "<table border=\"1\" class=\"dataframe\">\n",
       "  <thead>\n",
       "    <tr style=\"text-align: right;\">\n",
       "      <th></th>\n",
       "      <th>date</th>\n",
       "      <th>group</th>\n",
       "      <th>visitors</th>\n",
       "    </tr>\n",
       "  </thead>\n",
       "  <tbody>\n",
       "    <tr>\n",
       "      <th>0</th>\n",
       "      <td>2019-08-01</td>\n",
       "      <td>A</td>\n",
       "      <td>719</td>\n",
       "    </tr>\n",
       "    <tr>\n",
       "      <th>1</th>\n",
       "      <td>2019-08-02</td>\n",
       "      <td>A</td>\n",
       "      <td>619</td>\n",
       "    </tr>\n",
       "    <tr>\n",
       "      <th>2</th>\n",
       "      <td>2019-08-03</td>\n",
       "      <td>A</td>\n",
       "      <td>507</td>\n",
       "    </tr>\n",
       "    <tr>\n",
       "      <th>3</th>\n",
       "      <td>2019-08-04</td>\n",
       "      <td>A</td>\n",
       "      <td>717</td>\n",
       "    </tr>\n",
       "    <tr>\n",
       "      <th>4</th>\n",
       "      <td>2019-08-05</td>\n",
       "      <td>A</td>\n",
       "      <td>756</td>\n",
       "    </tr>\n",
       "  </tbody>\n",
       "</table>\n",
       "</div>"
      ],
      "text/plain": [
       "         date group  visitors\n",
       "0  2019-08-01     A       719\n",
       "1  2019-08-02     A       619\n",
       "2  2019-08-03     A       507\n",
       "3  2019-08-04     A       717\n",
       "4  2019-08-05     A       756"
      ]
     },
     "metadata": {},
     "output_type": "display_data"
    },
    {
     "name": "stdout",
     "output_type": "stream",
     "text": [
      "<class 'pandas.core.frame.DataFrame'>\n",
      "RangeIndex: 62 entries, 0 to 61\n",
      "Data columns (total 3 columns):\n",
      " #   Column    Non-Null Count  Dtype \n",
      "---  ------    --------------  ----- \n",
      " 0   date      62 non-null     object\n",
      " 1   group     62 non-null     object\n",
      " 2   visitors  62 non-null     int64 \n",
      "dtypes: int64(1), object(2)\n",
      "memory usage: 1.6+ KB\n"
     ]
    },
    {
     "data": {
      "text/plain": [
       "date        0.0\n",
       "group       0.0\n",
       "visitors    0.0\n",
       "dtype: float64"
      ]
     },
     "metadata": {},
     "output_type": "display_data"
    },
    {
     "data": {
      "text/plain": [
       "0"
      ]
     },
     "metadata": {},
     "output_type": "display_data"
    }
   ],
   "source": [
    "display(visitors.head()) # посмотрим таблицу visitors\n",
    "visitors.info()\n",
    "display(round((visitors.isna().mean()*100),2)) # проверка на пропуски\n",
    "display(visitors.duplicated().sum()) # проверим на дубликаты"
   ]
  },
  {
   "cell_type": "markdown",
   "id": "968cc95a",
   "metadata": {},
   "source": [
    "***Описание данных***\n",
    "\n",
    "В нашем распоряжении три датасета. \n",
    "\n",
    "***hypothesis*** -9 гипотез по увеличению выручки интернет-магазина с указанными параметрами reach, impact, confidence, effort:\n",
    "\n",
    "- Hypothesis — краткое описание гипотезы;\n",
    "- Reach — охват пользователей по 10-балльной шкале;\n",
    "- Impact — влияние на пользователей по 10-балльной шкале;\n",
    "- Confidence — уверенность в гипотезе по 10-балльной шкале;\n",
    "- Efforts — затраты ресурсов на проверку гипотезы по 10-балльной шкале. Чем больше значение Efforts, тем дороже проверка гипотезы.\n",
    "\n",
    "***orders*** - информация по заказам, полученная в результате проведения А/В теста:\n",
    "\n",
    "- transactionId — идентификатор заказа;\n",
    "- visitorId — идентификатор пользователя, совершившего заказ;\n",
    "- date — дата, когда был совершён заказ;\n",
    "- revenue — выручка заказа;\n",
    "- group — группа A/B-теста, в которую попал заказ.\n",
    "\n",
    "***visitors*** - данные о посещении сайта, так же, полученные в результате проведения А/В теста:\n",
    "\n",
    "- date — дата;\n",
    "- group — группа A/B-теста;\n",
    "- visitors — количество пользователей в указанную дату в указанной группе A/B-теста"
   ]
  },
  {
   "cell_type": "markdown",
   "id": "a1e48c7b",
   "metadata": {},
   "source": [
    "Первичный просмотр данных показал, что все три таблицы не имеют пропусков и дубликатов значений. В таблицах есть даты, нужно привести их к соответствующему типу. Названия столбцов таблицы hypothesis привести к общепринятому виду."
   ]
  },
  {
   "cell_type": "markdown",
   "id": "533e1dc0",
   "metadata": {},
   "source": [
    "##  Подготовка и приведение данных к нужным типам."
   ]
  },
  {
   "cell_type": "code",
   "execution_count": 6,
   "id": "f0a326ae",
   "metadata": {},
   "outputs": [
    {
     "data": {
      "text/html": [
       "<div>\n",
       "<style scoped>\n",
       "    .dataframe tbody tr th:only-of-type {\n",
       "        vertical-align: middle;\n",
       "    }\n",
       "\n",
       "    .dataframe tbody tr th {\n",
       "        vertical-align: top;\n",
       "    }\n",
       "\n",
       "    .dataframe thead th {\n",
       "        text-align: right;\n",
       "    }\n",
       "</style>\n",
       "<table border=\"1\" class=\"dataframe\">\n",
       "  <thead>\n",
       "    <tr style=\"text-align: right;\">\n",
       "      <th></th>\n",
       "      <th>hypothesis</th>\n",
       "      <th>reach</th>\n",
       "      <th>impact</th>\n",
       "      <th>confidence</th>\n",
       "      <th>efforts</th>\n",
       "    </tr>\n",
       "  </thead>\n",
       "  <tbody>\n",
       "    <tr>\n",
       "      <th>0</th>\n",
       "      <td>Добавить два новых канала привлечения трафика, что позволит привлекать на 30% больше пользователей</td>\n",
       "      <td>3</td>\n",
       "      <td>10</td>\n",
       "      <td>8</td>\n",
       "      <td>6</td>\n",
       "    </tr>\n",
       "    <tr>\n",
       "      <th>1</th>\n",
       "      <td>Запустить собственную службу доставки, что сократит срок доставки заказов</td>\n",
       "      <td>2</td>\n",
       "      <td>5</td>\n",
       "      <td>4</td>\n",
       "      <td>10</td>\n",
       "    </tr>\n",
       "    <tr>\n",
       "      <th>2</th>\n",
       "      <td>Добавить блоки рекомендаций товаров на сайт интернет магазина, чтобы повысить конверсию и средний чек заказа</td>\n",
       "      <td>8</td>\n",
       "      <td>3</td>\n",
       "      <td>7</td>\n",
       "      <td>3</td>\n",
       "    </tr>\n",
       "    <tr>\n",
       "      <th>3</th>\n",
       "      <td>Изменить структура категорий, что увеличит конверсию, т.к. пользователи быстрее найдут нужный товар</td>\n",
       "      <td>8</td>\n",
       "      <td>3</td>\n",
       "      <td>3</td>\n",
       "      <td>8</td>\n",
       "    </tr>\n",
       "    <tr>\n",
       "      <th>4</th>\n",
       "      <td>Изменить цвет фона главной страницы, чтобы увеличить вовлеченность пользователей</td>\n",
       "      <td>3</td>\n",
       "      <td>1</td>\n",
       "      <td>1</td>\n",
       "      <td>1</td>\n",
       "    </tr>\n",
       "    <tr>\n",
       "      <th>5</th>\n",
       "      <td>Добавить страницу отзывов клиентов о магазине, что позволит увеличить количество заказов</td>\n",
       "      <td>3</td>\n",
       "      <td>2</td>\n",
       "      <td>2</td>\n",
       "      <td>3</td>\n",
       "    </tr>\n",
       "    <tr>\n",
       "      <th>6</th>\n",
       "      <td>Показать на главной странице баннеры с актуальными акциями и распродажами, чтобы увеличить конверсию</td>\n",
       "      <td>5</td>\n",
       "      <td>3</td>\n",
       "      <td>8</td>\n",
       "      <td>3</td>\n",
       "    </tr>\n",
       "    <tr>\n",
       "      <th>7</th>\n",
       "      <td>Добавить форму подписки на все основные страницы, чтобы собрать базу клиентов для email-рассылок</td>\n",
       "      <td>10</td>\n",
       "      <td>7</td>\n",
       "      <td>8</td>\n",
       "      <td>5</td>\n",
       "    </tr>\n",
       "    <tr>\n",
       "      <th>8</th>\n",
       "      <td>Запустить акцию, дающую скидку на товар в день рождения</td>\n",
       "      <td>1</td>\n",
       "      <td>9</td>\n",
       "      <td>9</td>\n",
       "      <td>5</td>\n",
       "    </tr>\n",
       "  </tbody>\n",
       "</table>\n",
       "</div>"
      ],
      "text/plain": [
       "                                                                                                     hypothesis  \\\n",
       "0            Добавить два новых канала привлечения трафика, что позволит привлекать на 30% больше пользователей   \n",
       "1                                     Запустить собственную службу доставки, что сократит срок доставки заказов   \n",
       "2  Добавить блоки рекомендаций товаров на сайт интернет магазина, чтобы повысить конверсию и средний чек заказа   \n",
       "3           Изменить структура категорий, что увеличит конверсию, т.к. пользователи быстрее найдут нужный товар   \n",
       "4                              Изменить цвет фона главной страницы, чтобы увеличить вовлеченность пользователей   \n",
       "5                      Добавить страницу отзывов клиентов о магазине, что позволит увеличить количество заказов   \n",
       "6          Показать на главной странице баннеры с актуальными акциями и распродажами, чтобы увеличить конверсию   \n",
       "7              Добавить форму подписки на все основные страницы, чтобы собрать базу клиентов для email-рассылок   \n",
       "8                                                       Запустить акцию, дающую скидку на товар в день рождения   \n",
       "\n",
       "   reach  impact  confidence  efforts  \n",
       "0      3      10           8        6  \n",
       "1      2       5           4       10  \n",
       "2      8       3           7        3  \n",
       "3      8       3           3        8  \n",
       "4      3       1           1        1  \n",
       "5      3       2           2        3  \n",
       "6      5       3           8        3  \n",
       "7     10       7           8        5  \n",
       "8      1       9           9        5  "
      ]
     },
     "execution_count": 6,
     "metadata": {},
     "output_type": "execute_result"
    }
   ],
   "source": [
    "# приведём название столбцов hypothesis к принятому виду\n",
    "hypothesis = hypothesis.rename(columns={\n",
    "    'Hypothesis':'hypothesis', \n",
    "    'Reach':'reach', \n",
    "    'Impact':'impact', \n",
    "    'Confidence':'confidence', \n",
    "    'Efforts':'efforts' \n",
    "    })\n",
    "hypothesis"
   ]
  },
  {
   "cell_type": "code",
   "execution_count": 7,
   "id": "2ee9c7cf",
   "metadata": {},
   "outputs": [
    {
     "name": "stdout",
     "output_type": "stream",
     "text": [
      "<class 'pandas.core.frame.DataFrame'>\n",
      "RangeIndex: 1197 entries, 0 to 1196\n",
      "Data columns (total 5 columns):\n",
      " #   Column         Non-Null Count  Dtype         \n",
      "---  ------         --------------  -----         \n",
      " 0   transactionId  1197 non-null   int64         \n",
      " 1   visitorId      1197 non-null   int64         \n",
      " 2   date           1197 non-null   datetime64[ns]\n",
      " 3   revenue        1197 non-null   int64         \n",
      " 4   group          1197 non-null   object        \n",
      "dtypes: datetime64[ns](1), int64(3), object(1)\n",
      "memory usage: 46.9+ KB\n"
     ]
    }
   ],
   "source": [
    "# столбцы с датами приведём к типу datetime\n",
    "orders['date'] = orders['date'].map(\n",
    "    lambda x: dt.datetime.strptime(x, '%Y-%m-%d')\n",
    ")\n",
    "orders.info()"
   ]
  },
  {
   "cell_type": "code",
   "execution_count": 8,
   "id": "848679fe",
   "metadata": {},
   "outputs": [
    {
     "name": "stdout",
     "output_type": "stream",
     "text": [
      "<class 'pandas.core.frame.DataFrame'>\n",
      "RangeIndex: 62 entries, 0 to 61\n",
      "Data columns (total 3 columns):\n",
      " #   Column    Non-Null Count  Dtype         \n",
      "---  ------    --------------  -----         \n",
      " 0   date      62 non-null     datetime64[ns]\n",
      " 1   group     62 non-null     object        \n",
      " 2   visitors  62 non-null     int64         \n",
      "dtypes: datetime64[ns](1), int64(1), object(1)\n",
      "memory usage: 1.6+ KB\n"
     ]
    }
   ],
   "source": [
    "# столбцы с датами приведём к типу datetime\n",
    "visitors['date'] = visitors['date'].map(\n",
    "    lambda x: dt.datetime.strptime(x, '%Y-%m-%d')\n",
    ")\n",
    "visitors.info()"
   ]
  },
  {
   "cell_type": "code",
   "execution_count": 9,
   "id": "3bfc1ec5",
   "metadata": {},
   "outputs": [
    {
     "data": {
      "text/plain": [
       "(Timestamp('2019-08-01 00:00:00'), Timestamp('2019-08-31 00:00:00'))"
      ]
     },
     "execution_count": 9,
     "metadata": {},
     "output_type": "execute_result"
    }
   ],
   "source": [
    "# посмотрим когда проходил тест\n",
    "visitors['date'].min(), visitors['date'].max()"
   ]
  },
  {
   "cell_type": "markdown",
   "id": "8a2bce4d",
   "metadata": {},
   "source": [
    "# Приоритизация гипотез."
   ]
  },
  {
   "cell_type": "markdown",
   "id": "974e4907",
   "metadata": {},
   "source": [
    "## Применим фреймворк ICE  и  RICE для приоритизации гипотез."
   ]
  },
  {
   "cell_type": "code",
   "execution_count": 10,
   "id": "ab840d46",
   "metadata": {},
   "outputs": [
    {
     "data": {
      "text/html": [
       "<div>\n",
       "<style scoped>\n",
       "    .dataframe tbody tr th:only-of-type {\n",
       "        vertical-align: middle;\n",
       "    }\n",
       "\n",
       "    .dataframe tbody tr th {\n",
       "        vertical-align: top;\n",
       "    }\n",
       "\n",
       "    .dataframe thead th {\n",
       "        text-align: right;\n",
       "    }\n",
       "</style>\n",
       "<table border=\"1\" class=\"dataframe\">\n",
       "  <thead>\n",
       "    <tr style=\"text-align: right;\">\n",
       "      <th></th>\n",
       "      <th>hypothesis</th>\n",
       "      <th>ICE</th>\n",
       "    </tr>\n",
       "  </thead>\n",
       "  <tbody>\n",
       "    <tr>\n",
       "      <th>8</th>\n",
       "      <td>Запустить акцию, дающую скидку на товар в день рождения</td>\n",
       "      <td>16.0</td>\n",
       "    </tr>\n",
       "    <tr>\n",
       "      <th>0</th>\n",
       "      <td>Добавить два новых канала привлечения трафика, что позволит привлекать на 30% больше пользователей</td>\n",
       "      <td>13.0</td>\n",
       "    </tr>\n",
       "    <tr>\n",
       "      <th>7</th>\n",
       "      <td>Добавить форму подписки на все основные страницы, чтобы собрать базу клиентов для email-рассылок</td>\n",
       "      <td>11.0</td>\n",
       "    </tr>\n",
       "    <tr>\n",
       "      <th>6</th>\n",
       "      <td>Показать на главной странице баннеры с актуальными акциями и распродажами, чтобы увеличить конверсию</td>\n",
       "      <td>8.0</td>\n",
       "    </tr>\n",
       "    <tr>\n",
       "      <th>2</th>\n",
       "      <td>Добавить блоки рекомендаций товаров на сайт интернет магазина, чтобы повысить конверсию и средний чек заказа</td>\n",
       "      <td>7.0</td>\n",
       "    </tr>\n",
       "    <tr>\n",
       "      <th>1</th>\n",
       "      <td>Запустить собственную службу доставки, что сократит срок доставки заказов</td>\n",
       "      <td>2.0</td>\n",
       "    </tr>\n",
       "    <tr>\n",
       "      <th>3</th>\n",
       "      <td>Изменить структура категорий, что увеличит конверсию, т.к. пользователи быстрее найдут нужный товар</td>\n",
       "      <td>1.0</td>\n",
       "    </tr>\n",
       "    <tr>\n",
       "      <th>4</th>\n",
       "      <td>Изменить цвет фона главной страницы, чтобы увеличить вовлеченность пользователей</td>\n",
       "      <td>1.0</td>\n",
       "    </tr>\n",
       "    <tr>\n",
       "      <th>5</th>\n",
       "      <td>Добавить страницу отзывов клиентов о магазине, что позволит увеличить количество заказов</td>\n",
       "      <td>1.0</td>\n",
       "    </tr>\n",
       "  </tbody>\n",
       "</table>\n",
       "</div>"
      ],
      "text/plain": [
       "                                                                                                     hypothesis  \\\n",
       "8                                                       Запустить акцию, дающую скидку на товар в день рождения   \n",
       "0            Добавить два новых канала привлечения трафика, что позволит привлекать на 30% больше пользователей   \n",
       "7              Добавить форму подписки на все основные страницы, чтобы собрать базу клиентов для email-рассылок   \n",
       "6          Показать на главной странице баннеры с актуальными акциями и распродажами, чтобы увеличить конверсию   \n",
       "2  Добавить блоки рекомендаций товаров на сайт интернет магазина, чтобы повысить конверсию и средний чек заказа   \n",
       "1                                     Запустить собственную службу доставки, что сократит срок доставки заказов   \n",
       "3           Изменить структура категорий, что увеличит конверсию, т.к. пользователи быстрее найдут нужный товар   \n",
       "4                              Изменить цвет фона главной страницы, чтобы увеличить вовлеченность пользователей   \n",
       "5                      Добавить страницу отзывов клиентов о магазине, что позволит увеличить количество заказов   \n",
       "\n",
       "    ICE  \n",
       "8  16.0  \n",
       "0  13.0  \n",
       "7  11.0  \n",
       "6   8.0  \n",
       "2   7.0  \n",
       "1   2.0  \n",
       "3   1.0  \n",
       "4   1.0  \n",
       "5   1.0  "
      ]
     },
     "metadata": {},
     "output_type": "display_data"
    }
   ],
   "source": [
    "# Применим фреймворк ICE\n",
    "hypothesis['ICE'] = (hypothesis['impact'] * hypothesis['confidence'] / hypothesis['efforts']).round() \n",
    "display(hypothesis[['hypothesis', 'ICE']].sort_values(by='ICE', ascending=False))"
   ]
  },
  {
   "cell_type": "code",
   "execution_count": 11,
   "id": "4f88089a",
   "metadata": {},
   "outputs": [
    {
     "data": {
      "text/html": [
       "<div>\n",
       "<style scoped>\n",
       "    .dataframe tbody tr th:only-of-type {\n",
       "        vertical-align: middle;\n",
       "    }\n",
       "\n",
       "    .dataframe tbody tr th {\n",
       "        vertical-align: top;\n",
       "    }\n",
       "\n",
       "    .dataframe thead th {\n",
       "        text-align: right;\n",
       "    }\n",
       "</style>\n",
       "<table border=\"1\" class=\"dataframe\">\n",
       "  <thead>\n",
       "    <tr style=\"text-align: right;\">\n",
       "      <th></th>\n",
       "      <th>hypothesis</th>\n",
       "      <th>ICE</th>\n",
       "      <th>RICE</th>\n",
       "    </tr>\n",
       "  </thead>\n",
       "  <tbody>\n",
       "    <tr>\n",
       "      <th>7</th>\n",
       "      <td>Добавить форму подписки на все основные страницы, чтобы собрать базу клиентов для email-рассылок</td>\n",
       "      <td>11.0</td>\n",
       "      <td>112.0</td>\n",
       "    </tr>\n",
       "    <tr>\n",
       "      <th>2</th>\n",
       "      <td>Добавить блоки рекомендаций товаров на сайт интернет магазина, чтобы повысить конверсию и средний чек заказа</td>\n",
       "      <td>7.0</td>\n",
       "      <td>56.0</td>\n",
       "    </tr>\n",
       "    <tr>\n",
       "      <th>0</th>\n",
       "      <td>Добавить два новых канала привлечения трафика, что позволит привлекать на 30% больше пользователей</td>\n",
       "      <td>13.0</td>\n",
       "      <td>40.0</td>\n",
       "    </tr>\n",
       "    <tr>\n",
       "      <th>6</th>\n",
       "      <td>Показать на главной странице баннеры с актуальными акциями и распродажами, чтобы увеличить конверсию</td>\n",
       "      <td>8.0</td>\n",
       "      <td>40.0</td>\n",
       "    </tr>\n",
       "    <tr>\n",
       "      <th>8</th>\n",
       "      <td>Запустить акцию, дающую скидку на товар в день рождения</td>\n",
       "      <td>16.0</td>\n",
       "      <td>16.2</td>\n",
       "    </tr>\n",
       "    <tr>\n",
       "      <th>3</th>\n",
       "      <td>Изменить структура категорий, что увеличит конверсию, т.к. пользователи быстрее найдут нужный товар</td>\n",
       "      <td>1.0</td>\n",
       "      <td>9.0</td>\n",
       "    </tr>\n",
       "    <tr>\n",
       "      <th>1</th>\n",
       "      <td>Запустить собственную службу доставки, что сократит срок доставки заказов</td>\n",
       "      <td>2.0</td>\n",
       "      <td>4.0</td>\n",
       "    </tr>\n",
       "    <tr>\n",
       "      <th>5</th>\n",
       "      <td>Добавить страницу отзывов клиентов о магазине, что позволит увеличить количество заказов</td>\n",
       "      <td>1.0</td>\n",
       "      <td>4.0</td>\n",
       "    </tr>\n",
       "    <tr>\n",
       "      <th>4</th>\n",
       "      <td>Изменить цвет фона главной страницы, чтобы увеличить вовлеченность пользователей</td>\n",
       "      <td>1.0</td>\n",
       "      <td>3.0</td>\n",
       "    </tr>\n",
       "  </tbody>\n",
       "</table>\n",
       "</div>"
      ],
      "text/plain": [
       "                                                                                                     hypothesis  \\\n",
       "7              Добавить форму подписки на все основные страницы, чтобы собрать базу клиентов для email-рассылок   \n",
       "2  Добавить блоки рекомендаций товаров на сайт интернет магазина, чтобы повысить конверсию и средний чек заказа   \n",
       "0            Добавить два новых канала привлечения трафика, что позволит привлекать на 30% больше пользователей   \n",
       "6          Показать на главной странице баннеры с актуальными акциями и распродажами, чтобы увеличить конверсию   \n",
       "8                                                       Запустить акцию, дающую скидку на товар в день рождения   \n",
       "3           Изменить структура категорий, что увеличит конверсию, т.к. пользователи быстрее найдут нужный товар   \n",
       "1                                     Запустить собственную службу доставки, что сократит срок доставки заказов   \n",
       "5                      Добавить страницу отзывов клиентов о магазине, что позволит увеличить количество заказов   \n",
       "4                              Изменить цвет фона главной страницы, чтобы увеличить вовлеченность пользователей   \n",
       "\n",
       "    ICE   RICE  \n",
       "7  11.0  112.0  \n",
       "2   7.0   56.0  \n",
       "0  13.0   40.0  \n",
       "6   8.0   40.0  \n",
       "8  16.0   16.2  \n",
       "3   1.0    9.0  \n",
       "1   2.0    4.0  \n",
       "5   1.0    4.0  \n",
       "4   1.0    3.0  "
      ]
     },
     "metadata": {},
     "output_type": "display_data"
    }
   ],
   "source": [
    "# Применим фреймворк RICE\n",
    "hypothesis['RICE'] = hypothesis['reach'] * hypothesis['impact'] * hypothesis['confidence'] / hypothesis['efforts'] \n",
    "display(hypothesis[['hypothesis', 'ICE', 'RICE']].sort_values(by='RICE', ascending=False))"
   ]
  },
  {
   "cell_type": "markdown",
   "id": "32fcc349",
   "metadata": {},
   "source": [
    "***Вывод по приотизации гипотез с применением фреймворков ICE и RICE***\n",
    "\n",
    "Применив фреймворк ICE для приоритизации гипотез видим, что в приоритете у нас гипотезы \"Запустить акцию, дающую скидку на товар в день рождения\"(8), \"Добавить два новых канала привлечения трафика, что позволит привлекать на 30% больше пользователей\" (0), \"Добавить форму подписки на все основные страницы, чтобы собрать базу клиентов для email-рассылок\" (7) и \"Показать на главной странице баннеры с актуальными акциями и распродажами, чтобы увеличить конверсию\" (6). \n",
    "\n",
    "После применения фреймворка RICE лидером становится гипотиза \"Добавить форму подписки на все основные страницы, чтобы собрать базу клиентов для email-рассылок\" (7), т.к. она затронет всех пользователей (охват = 10, это самый высокий показатель среди всех гипотез). Так же среди сильных гипотез Добавить блоки рекомендаций товаров на сайт интернет магазина, чтобы повысить конверсию и средний чек заказа (2), \"Добавить два новых канала привлечения трафика, что позволит привлекать на 30% больше пользователей\" (0) и \"Показать на главной странице баннеры с актуальными акциями и распродажами, чтобы увеличить конверсию\" (6).\n",
    "\n",
    "Гипотеза \"Запустить акцию, дающую скидку на товар в день рождения\" ушла из лидеров, т.к. для неё значение охват = 1 и она затронет лишь малую часть пользователей, а её место среди сильных заняла \"Добавить блоки рекомендаций товаров на сайт интернет магазина, чтобы повысить конверсию и средний чек заказа\" (2) с охватом равным 8."
   ]
  },
  {
   "cell_type": "markdown",
   "id": "acf4b3b3",
   "metadata": {},
   "source": [
    "# Анализ А/В-теста."
   ]
  },
  {
   "cell_type": "code",
   "execution_count": 12,
   "id": "426bb54d",
   "metadata": {},
   "outputs": [
    {
     "name": "stdout",
     "output_type": "stream",
     "text": [
      "Групп пользователей в тесте 2 ['A' 'B']\n"
     ]
    }
   ],
   "source": [
    "# сколько у нас групп в АВ-тесте\n",
    "print('Групп пользователей в тесте', visitors['group'].nunique(), visitors['group'].unique())"
   ]
  },
  {
   "cell_type": "code",
   "execution_count": 13,
   "id": "d0b6f2b5",
   "metadata": {},
   "outputs": [
    {
     "name": "stdout",
     "output_type": "stream",
     "text": [
      "Пользователей из группы А совершивших заказ 503\n",
      "Пользователей из группы B совершивших заказ 586\n"
     ]
    }
   ],
   "source": [
    "# сколько пользователей в каждой группе - по таблице с заказами до проверки на верность распределения пользователей\n",
    "usersA = orders.query('group == \"A\"')['visitorId'].unique().tolist()\n",
    "print('Пользователей из группы А совершивших заказ', len(usersA))\n",
    "usersB = orders.query('group == \"B\"')['visitorId'].unique().tolist()\n",
    "print('Пользователей из группы B совершивших заказ', len(usersB))"
   ]
  },
  {
   "cell_type": "code",
   "execution_count": 14,
   "id": "3e813211",
   "metadata": {},
   "outputs": [
    {
     "data": {
      "text/plain": [
       "visitorId\n",
       "5114589       1\n",
       "6958315       1\n",
       "8300375       2\n",
       "11685486      1\n",
       "39475350      1\n",
       "             ..\n",
       "4266935830    2\n",
       "4278982564    1\n",
       "4279090005    1\n",
       "4281247801    1\n",
       "4283872382    1\n",
       "Name: group, Length: 1031, dtype: int64"
      ]
     },
     "execution_count": 14,
     "metadata": {},
     "output_type": "execute_result"
    }
   ],
   "source": [
    "users_dou = orders.groupby('visitorId')['group'].nunique() # посчитаем во скольких группах учавствует каждый пользователь\n",
    "users_dou"
   ]
  },
  {
   "cell_type": "code",
   "execution_count": 15,
   "id": "6d0d6599",
   "metadata": {},
   "outputs": [
    {
     "data": {
      "text/html": [
       "<div>\n",
       "<style scoped>\n",
       "    .dataframe tbody tr th:only-of-type {\n",
       "        vertical-align: middle;\n",
       "    }\n",
       "\n",
       "    .dataframe tbody tr th {\n",
       "        vertical-align: top;\n",
       "    }\n",
       "\n",
       "    .dataframe thead th {\n",
       "        text-align: right;\n",
       "    }\n",
       "</style>\n",
       "<table border=\"1\" class=\"dataframe\">\n",
       "  <thead>\n",
       "    <tr style=\"text-align: right;\">\n",
       "      <th></th>\n",
       "      <th>transactionId</th>\n",
       "      <th>visitorId</th>\n",
       "      <th>date</th>\n",
       "      <th>revenue</th>\n",
       "      <th>group</th>\n",
       "    </tr>\n",
       "  </thead>\n",
       "  <tbody>\n",
       "    <tr>\n",
       "      <th>506</th>\n",
       "      <td>590470918</td>\n",
       "      <td>1920142716</td>\n",
       "      <td>2019-08-19</td>\n",
       "      <td>1294500</td>\n",
       "      <td>B</td>\n",
       "    </tr>\n",
       "    <tr>\n",
       "      <th>1196</th>\n",
       "      <td>3936777065</td>\n",
       "      <td>2108080724</td>\n",
       "      <td>2019-08-15</td>\n",
       "      <td>202740</td>\n",
       "      <td>B</td>\n",
       "    </tr>\n",
       "    <tr>\n",
       "      <th>1150</th>\n",
       "      <td>666610489</td>\n",
       "      <td>1307669133</td>\n",
       "      <td>2019-08-13</td>\n",
       "      <td>92550</td>\n",
       "      <td>A</td>\n",
       "    </tr>\n",
       "    <tr>\n",
       "      <th>803</th>\n",
       "      <td>3668308183</td>\n",
       "      <td>888512513</td>\n",
       "      <td>2019-08-27</td>\n",
       "      <td>86620</td>\n",
       "      <td>B</td>\n",
       "    </tr>\n",
       "    <tr>\n",
       "      <th>802</th>\n",
       "      <td>3603576309</td>\n",
       "      <td>4133034833</td>\n",
       "      <td>2019-08-09</td>\n",
       "      <td>67990</td>\n",
       "      <td>A</td>\n",
       "    </tr>\n",
       "    <tr>\n",
       "      <th>...</th>\n",
       "      <td>...</td>\n",
       "      <td>...</td>\n",
       "      <td>...</td>\n",
       "      <td>...</td>\n",
       "      <td>...</td>\n",
       "    </tr>\n",
       "    <tr>\n",
       "      <th>479</th>\n",
       "      <td>2052514069</td>\n",
       "      <td>1995481842</td>\n",
       "      <td>2019-08-28</td>\n",
       "      <td>70</td>\n",
       "      <td>B</td>\n",
       "    </tr>\n",
       "    <tr>\n",
       "      <th>976</th>\n",
       "      <td>3760662696</td>\n",
       "      <td>3577713868</td>\n",
       "      <td>2019-08-27</td>\n",
       "      <td>60</td>\n",
       "      <td>B</td>\n",
       "    </tr>\n",
       "    <tr>\n",
       "      <th>815</th>\n",
       "      <td>125335873</td>\n",
       "      <td>3423937755</td>\n",
       "      <td>2019-08-30</td>\n",
       "      <td>50</td>\n",
       "      <td>B</td>\n",
       "    </tr>\n",
       "    <tr>\n",
       "      <th>536</th>\n",
       "      <td>863448794</td>\n",
       "      <td>2738601405</td>\n",
       "      <td>2019-08-19</td>\n",
       "      <td>50</td>\n",
       "      <td>B</td>\n",
       "    </tr>\n",
       "    <tr>\n",
       "      <th>657</th>\n",
       "      <td>1126146019</td>\n",
       "      <td>2705308997</td>\n",
       "      <td>2019-08-20</td>\n",
       "      <td>50</td>\n",
       "      <td>A</td>\n",
       "    </tr>\n",
       "  </tbody>\n",
       "</table>\n",
       "<p>1016 rows × 5 columns</p>\n",
       "</div>"
      ],
      "text/plain": [
       "      transactionId   visitorId       date  revenue group\n",
       "506       590470918  1920142716 2019-08-19  1294500     B\n",
       "1196     3936777065  2108080724 2019-08-15   202740     B\n",
       "1150      666610489  1307669133 2019-08-13    92550     A\n",
       "803      3668308183   888512513 2019-08-27    86620     B\n",
       "802      3603576309  4133034833 2019-08-09    67990     A\n",
       "...             ...         ...        ...      ...   ...\n",
       "479      2052514069  1995481842 2019-08-28       70     B\n",
       "976      3760662696  3577713868 2019-08-27       60     B\n",
       "815       125335873  3423937755 2019-08-30       50     B\n",
       "536       863448794  2738601405 2019-08-19       50     B\n",
       "657      1126146019  2705308997 2019-08-20       50     A\n",
       "\n",
       "[1016 rows x 5 columns]"
      ]
     },
     "execution_count": 15,
     "metadata": {},
     "output_type": "execute_result"
    }
   ],
   "source": [
    "# удалим пользователей, оказавшихся в обоих группах\n",
    "orders_dou = orders.merge(users_dou, on=[\"visitorId\", \"visitorId\"]).rename(columns={'group_x': 'group'})\n",
    "orders = orders_dou.query('group_y == 1')\n",
    "orders = orders[['transactionId', 'visitorId', 'date', 'revenue', 'group']]\n",
    "orders.sort_values(by=\"revenue\", ascending=False)"
   ]
  },
  {
   "cell_type": "code",
   "execution_count": 16,
   "id": "601196e6",
   "metadata": {},
   "outputs": [
    {
     "name": "stdout",
     "output_type": "stream",
     "text": [
      "В обе группы попало 58 пользователей\n"
     ]
    }
   ],
   "source": [
    "orders_dop = orders_dou.query('group_y == 2')\n",
    "orders_dop.head(10)\n",
    "print('В обе группы попало', orders_dop['visitorId'].nunique(), 'пользователей')"
   ]
  },
  {
   "cell_type": "code",
   "execution_count": 17,
   "id": "efef2343",
   "metadata": {},
   "outputs": [
    {
     "name": "stdout",
     "output_type": "stream",
     "text": [
      "Пользователей из группы А совершивших заказ 445\n",
      "Пользователей из группы B совершивших заказ 528\n"
     ]
    }
   ],
   "source": [
    "# сколько пользователей в каждой группе - по таблице с заказами после удаления неверно распределённых пользователей\n",
    "print('Пользователей из группы А совершивших заказ', len(orders.query('group == \"A\"')['visitorId'].unique()))\n",
    "print('Пользователей из группы B совершивших заказ', len(orders.query('group == \"B\"')['visitorId'].unique()))"
   ]
  },
  {
   "cell_type": "markdown",
   "id": "f46ba50b",
   "metadata": {},
   "source": [
    "При проверке 58 пользователей оказалось в обоих группах. Исключим их из анализа, т.к. их показатели нельзя учитывать."
   ]
  },
  {
   "cell_type": "markdown",
   "id": "2c045171",
   "metadata": {},
   "source": [
    "## Построим графики кумулятивной выручки по группам."
   ]
  },
  {
   "cell_type": "code",
   "execution_count": 18,
   "id": "9f9478a0",
   "metadata": {},
   "outputs": [
    {
     "data": {
      "image/png": "[encoded data removed]",
      "text/plain": [
       "<Figure size 432x288 with 1 Axes>"
      ]
     },
     "metadata": {
      "needs_background": "light"
     },
     "output_type": "display_data"
    }
   ],
   "source": [
    "# создаем массив уникальных пар значений дат и групп теста\n",
    "datesGroups = orders[['date','group']].drop_duplicates() \n",
    "# cоберём агрегированные кумулятивные по дням данные о заказах\n",
    "ordersAggregated = datesGroups.apply(lambda x: orders[np.logical_and(orders['date'] <= x['date'], orders['group'] == x['group'])]\\\n",
    "    .agg({\n",
    "        'date' : 'max', \n",
    "        'group' : 'max', \n",
    "        'transactionId' : 'nunique', \n",
    "        'visitorId' : 'nunique', \n",
    "        'revenue' : 'sum'\n",
    "    }), axis=1).sort_values(by=['date','group'])\n",
    "# соберём агрегированные кумулятивные по дням данные о посетителях\n",
    "visitorsAggregated = datesGroups.apply(lambda x: visitors[np.logical_and(visitors['date'] <= x['date'], visitors['group'] == x['group'])]\n",
    "    .agg({\n",
    "        'date' : 'max', \n",
    "        'group' : 'max', \n",
    "        'visitors' : 'sum'}), axis=1).sort_values(by=['date','group'])\n",
    "# объединяем кумулятивные данные в одной таблице\n",
    "cumulativeData = ordersAggregated.merge(visitorsAggregated, left_on=['date','group'], right_on=['date', 'group'])\n",
    "cumulativeData.columns = ['date', 'group', 'orders', 'buyers', 'revenue', 'visitors']\n",
    "# датафрейм с кумулятивным количеством заказов и кумулятивной выручкой по дням в группе А\n",
    "cumulativeRevenueA = cumulativeData[cumulativeData['group'] == 'A'][['date', 'revenue', 'orders']]\n",
    "# датафрейм с кумулятивным количеством заказов и кумулятивной выручкой по дням в группе B\n",
    "cumulativeRevenueB = cumulativeData[cumulativeData['group'] == 'B'][['date', 'revenue', 'orders']]\n",
    "# Строим график выручки группы А\n",
    "plt.plot(cumulativeRevenueA['date'], cumulativeRevenueA['revenue'], label='A')\n",
    "\n",
    "# Строим график выручки группы B\n",
    "plt.plot(cumulativeRevenueB['date'], cumulativeRevenueB['revenue'], label='B')\n",
    "plt.legend()\n",
    "plt.title('Графики кумулятивной выручки по группам')\n",
    "plt.xticks(rotation = 45);"
   ]
  },
  {
   "cell_type": "markdown",
   "id": "26ae7d87",
   "metadata": {},
   "source": [
    "В начале теста показатели групп равны. Потом группа В начинает показывать лучшие результаты, а в середине теста происходит резкий скачёк и она вырывается далеко от показателей группы А. Вероятно в это время было совершено какое-то количество дорогих покупкок или всплеск количества заказов именно в этой группе. Стоит избавиться от выбросов и посмотреть на очищенный результат."
   ]
  },
  {
   "cell_type": "markdown",
   "id": "99b1ce82",
   "metadata": {},
   "source": [
    "## Построим график кумулятивного среднего чека по группам."
   ]
  },
  {
   "cell_type": "code",
   "execution_count": 19,
   "id": "f8445003",
   "metadata": {},
   "outputs": [
    {
     "data": {
      "image/png": "[encoded data removed]",
      "text/plain": [
       "<Figure size 432x288 with 1 Axes>"
      ]
     },
     "metadata": {
      "needs_background": "light"
     },
     "output_type": "display_data"
    }
   ],
   "source": [
    "plt.plot(cumulativeRevenueA['date'], cumulativeRevenueA['revenue']/cumulativeRevenueA['orders'], label='A')\n",
    "plt.plot(cumulativeRevenueB['date'], cumulativeRevenueB['revenue']/cumulativeRevenueB['orders'], label='B')\n",
    "plt.legend() \n",
    "plt.title('График кумулятивного среднего чека по группам')\n",
    "plt.xticks(rotation = 45);"
   ]
  },
  {
   "cell_type": "markdown",
   "id": "79c79647",
   "metadata": {},
   "source": [
    "Кумулятивное значение среднего чека для группы А сильно колебалось до середины теста, потом выровнялось и даже потихоньку растёт. Для группы В есть сильный скачёк в середине теста и дальнейшее плавное снижение кумулятивного значения среднего чека. Вероятно были дорогие покупки, что привели к такому скачку. Этот график ещё раз подтвердил, что нужно поискать выбросы."
   ]
  },
  {
   "cell_type": "markdown",
   "id": "d23bf84f",
   "metadata": {},
   "source": [
    "## Построим график относительного изменения кумулятивного среднего чека группы B к группе A."
   ]
  },
  {
   "cell_type": "code",
   "execution_count": 20,
   "id": "06ac917b",
   "metadata": {},
   "outputs": [
    {
     "data": {
      "image/png": "[encoded data removed]",
      "text/plain": [
       "<Figure size 432x288 with 1 Axes>"
      ]
     },
     "metadata": {
      "needs_background": "light"
     },
     "output_type": "display_data"
    }
   ],
   "source": [
    "# собираем данные в одном датафрейме\n",
    "mergedCumulativeRevenue = cumulativeRevenueA.merge(cumulativeRevenueB, left_on='date', right_on='date', how='left', suffixes=['A', 'B'])\n",
    "\n",
    "# cтроим отношение средних чеков\n",
    "plt.plot(mergedCumulativeRevenue['date'], (mergedCumulativeRevenue['revenueB']/mergedCumulativeRevenue['ordersB'])/(mergedCumulativeRevenue['revenueA']/mergedCumulativeRevenue['ordersA'])-1)\n",
    "\n",
    "# добавляем ось X\n",
    "plt.axhline(y=0, color='black', linestyle='--')  \n",
    "plt.title('График относительного изменения кумулятивного среднего чека группы B к группе A')\n",
    "plt.xticks(rotation = 45);"
   ]
  },
  {
   "cell_type": "markdown",
   "id": "a0110e9b",
   "metadata": {},
   "source": [
    "График имеет несколько скачков, что говорит об аномалиях в стоимости или количестве заказов. Нужно их найти."
   ]
  },
  {
   "cell_type": "markdown",
   "id": "bca77c97",
   "metadata": {},
   "source": [
    "## Построим график кумулятивной конверсии по группам."
   ]
  },
  {
   "cell_type": "code",
   "execution_count": 21,
   "id": "85e2d032",
   "metadata": {},
   "outputs": [
    {
     "data": {
      "image/png": "[encoded data removed]",
      "text/plain": [
       "<Figure size 432x288 with 1 Axes>"
      ]
     },
     "metadata": {
      "needs_background": "light"
     },
     "output_type": "display_data"
    }
   ],
   "source": [
    "# считаем кумулятивную конверсию\n",
    "cumulativeData['conversion'] = cumulativeData['orders']/cumulativeData['visitors']\n",
    "\n",
    "# отделяем данные по группе A\n",
    "cumulativeDataA = cumulativeData[cumulativeData['group']=='A']\n",
    "\n",
    "# отделяем данные по группе B\n",
    "cumulativeDataB = cumulativeData[cumulativeData['group']=='B']\n",
    "\n",
    "# строим графики\n",
    "plt.plot(cumulativeDataA['date'], cumulativeDataA['conversion'], label='A')\n",
    "plt.plot(cumulativeDataB['date'], cumulativeDataB['conversion'], label='B')\n",
    "plt.legend()\n",
    "plt.xticks(rotation = 45);"
   ]
  },
  {
   "cell_type": "markdown",
   "id": "e1b43a03",
   "metadata": {},
   "source": [
    "В начале теста конверсия колебалась примерно одинаковое время, потом группа В вырвалась вперед немного снизилась и зафиксировалась, а группа А просела и зафиксировалась тоже.  "
   ]
  },
  {
   "cell_type": "markdown",
   "id": "8f2c512d",
   "metadata": {},
   "source": [
    "## Построим график относительного изменения кумулятивной конверсии группы B к группе A."
   ]
  },
  {
   "cell_type": "code",
   "execution_count": 22,
   "id": "270f19cb",
   "metadata": {},
   "outputs": [
    {
     "data": {
      "image/png": "[encoded data removed]",
      "text/plain": [
       "<Figure size 432x288 with 1 Axes>"
      ]
     },
     "metadata": {
      "needs_background": "light"
     },
     "output_type": "display_data"
    }
   ],
   "source": [
    "# собираем данные по конверсии в одном датафрейме\n",
    "mergedCumulativeConversions = cumulativeDataA[['date','conversion']].merge(cumulativeDataB[['date','conversion']], left_on='date', right_on='date', how='left', suffixes=['A', 'B'])\n",
    "\n",
    "plt.plot(mergedCumulativeConversions['date'], mergedCumulativeConversions['conversionB']/mergedCumulativeConversions['conversionA']-1, label=\"-\")\n",
    "plt.legend()\n",
    "plt.title('Относительный прирост конверсии группы B относительно группы A')\n",
    "plt.axhline(y=0, color='black', linestyle='--')\n",
    "plt.axhline(y=0.1, color='grey', linestyle='--')\n",
    "plt.xticks(rotation = 45);"
   ]
  },
  {
   "cell_type": "markdown",
   "id": "0fb5fba6",
   "metadata": {},
   "source": [
    "В самом начале на графике видно колебание, но очень скоро группа В по конверсии обогнала группу А. Затем просела в пределах и выровнялась."
   ]
  },
  {
   "cell_type": "markdown",
   "id": "3c38e373",
   "metadata": {},
   "source": [
    "## Построим точечный график количества заказов по пользователям."
   ]
  },
  {
   "cell_type": "code",
   "execution_count": 23,
   "id": "ecee1e7e",
   "metadata": {},
   "outputs": [
    {
     "data": {
      "text/html": [
       "<div>\n",
       "<style scoped>\n",
       "    .dataframe tbody tr th:only-of-type {\n",
       "        vertical-align: middle;\n",
       "    }\n",
       "\n",
       "    .dataframe tbody tr th {\n",
       "        vertical-align: top;\n",
       "    }\n",
       "\n",
       "    .dataframe thead th {\n",
       "        text-align: right;\n",
       "    }\n",
       "</style>\n",
       "<table border=\"1\" class=\"dataframe\">\n",
       "  <thead>\n",
       "    <tr style=\"text-align: right;\">\n",
       "      <th></th>\n",
       "      <th>userId</th>\n",
       "      <th>orders</th>\n",
       "    </tr>\n",
       "  </thead>\n",
       "  <tbody>\n",
       "    <tr>\n",
       "      <th>908</th>\n",
       "      <td>3967698036</td>\n",
       "      <td>3</td>\n",
       "    </tr>\n",
       "    <tr>\n",
       "      <th>55</th>\n",
       "      <td>249864742</td>\n",
       "      <td>3</td>\n",
       "    </tr>\n",
       "    <tr>\n",
       "      <th>478</th>\n",
       "      <td>2108163459</td>\n",
       "      <td>3</td>\n",
       "    </tr>\n",
       "    <tr>\n",
       "      <th>687</th>\n",
       "      <td>2988190573</td>\n",
       "      <td>3</td>\n",
       "    </tr>\n",
       "    <tr>\n",
       "      <th>890</th>\n",
       "      <td>3908431265</td>\n",
       "      <td>3</td>\n",
       "    </tr>\n",
       "    <tr>\n",
       "      <th>138</th>\n",
       "      <td>611059232</td>\n",
       "      <td>3</td>\n",
       "    </tr>\n",
       "    <tr>\n",
       "      <th>632</th>\n",
       "      <td>2742574263</td>\n",
       "      <td>3</td>\n",
       "    </tr>\n",
       "    <tr>\n",
       "      <th>157</th>\n",
       "      <td>678354126</td>\n",
       "      <td>2</td>\n",
       "    </tr>\n",
       "    <tr>\n",
       "      <th>323</th>\n",
       "      <td>1404560065</td>\n",
       "      <td>2</td>\n",
       "    </tr>\n",
       "    <tr>\n",
       "      <th>452</th>\n",
       "      <td>1985475298</td>\n",
       "      <td>2</td>\n",
       "    </tr>\n",
       "  </tbody>\n",
       "</table>\n",
       "</div>"
      ],
      "text/plain": [
       "         userId  orders\n",
       "908  3967698036       3\n",
       "55    249864742       3\n",
       "478  2108163459       3\n",
       "687  2988190573       3\n",
       "890  3908431265       3\n",
       "138   611059232       3\n",
       "632  2742574263       3\n",
       "157   678354126       2\n",
       "323  1404560065       2\n",
       "452  1985475298       2"
      ]
     },
     "metadata": {},
     "output_type": "display_data"
    }
   ],
   "source": [
    "# подсчитаем количество заказов по пользователям\n",
    "ordersByUsers = (\n",
    "    orders.groupby('visitorId', as_index=False)\n",
    "    .agg({'transactionId': 'nunique'})\n",
    ")\n",
    "\n",
    "ordersByUsers.columns = ['userId', 'orders']\n",
    "\n",
    "display(ordersByUsers.sort_values(by='orders', ascending=False).head(10)) "
   ]
  },
  {
   "cell_type": "code",
   "execution_count": 24,
   "id": "b13d04a3",
   "metadata": {},
   "outputs": [
    {
     "data": {
      "image/png": "[encoded data removed]",
      "text/plain": [
       "<Figure size 432x288 with 1 Axes>"
      ]
     },
     "metadata": {
      "needs_background": "light"
     },
     "output_type": "display_data"
    }
   ],
   "source": [
    "# построим точечную диаграмму числа заказов на одного пользователя\n",
    "x_values = pd.Series(range(0,len(ordersByUsers)))\n",
    "\n",
    "plt.scatter(x_values, ordersByUsers['orders']); "
   ]
  },
  {
   "cell_type": "markdown",
   "id": "9b77d492",
   "metadata": {},
   "source": [
    "На графике предположение подтвержается: большинство пользователей совершило одну покупку, меньше - две, а три уже гораздо меньше. \n",
    "\n",
    "Большинство пользователей интернет-магазина за месяц совершило 1-2 покупки."
   ]
  },
  {
   "cell_type": "markdown",
   "id": "bf9f48a5",
   "metadata": {},
   "source": [
    "## Посчитаем 95-й и 99-й перцентили количества заказов на пользователя."
   ]
  },
  {
   "cell_type": "code",
   "execution_count": 25,
   "id": "1d6a8e66",
   "metadata": {},
   "outputs": [
    {
     "data": {
      "text/plain": [
       "array([1., 2.])"
      ]
     },
     "execution_count": 25,
     "metadata": {},
     "output_type": "execute_result"
    }
   ],
   "source": [
    "np.percentile(ordersByUsers['orders'], [95, 99])"
   ]
  },
  {
   "cell_type": "markdown",
   "id": "dacd7e70",
   "metadata": {},
   "source": [
    "Не более 1% пользователей оформило больше двух заказов. Исходя из этого можно нижнюю границу выборки взять 2 заказа на одного пользователя, что составит менее 1% данных."
   ]
  },
  {
   "cell_type": "markdown",
   "id": "fc194841",
   "metadata": {},
   "source": [
    "## Построим точечный график стоимостей заказов."
   ]
  },
  {
   "cell_type": "code",
   "execution_count": 28,
   "id": "727fc684",
   "metadata": {},
   "outputs": [
    {
     "data": {
      "text/html": [
       "<div>\n",
       "<style scoped>\n",
       "    .dataframe tbody tr th:only-of-type {\n",
       "        vertical-align: middle;\n",
       "    }\n",
       "\n",
       "    .dataframe tbody tr th {\n",
       "        vertical-align: top;\n",
       "    }\n",
       "\n",
       "    .dataframe thead th {\n",
       "        text-align: right;\n",
       "    }\n",
       "</style>\n",
       "<table border=\"1\" class=\"dataframe\">\n",
       "  <thead>\n",
       "    <tr style=\"text-align: right;\">\n",
       "      <th></th>\n",
       "      <th>transactionId</th>\n",
       "      <th>visitorId</th>\n",
       "      <th>date</th>\n",
       "      <th>revenue</th>\n",
       "      <th>group</th>\n",
       "    </tr>\n",
       "  </thead>\n",
       "  <tbody>\n",
       "    <tr>\n",
       "      <th>506</th>\n",
       "      <td>590470918</td>\n",
       "      <td>1920142716</td>\n",
       "      <td>2019-08-19</td>\n",
       "      <td>1294500</td>\n",
       "      <td>B</td>\n",
       "    </tr>\n",
       "    <tr>\n",
       "      <th>1196</th>\n",
       "      <td>3936777065</td>\n",
       "      <td>2108080724</td>\n",
       "      <td>2019-08-15</td>\n",
       "      <td>202740</td>\n",
       "      <td>B</td>\n",
       "    </tr>\n",
       "    <tr>\n",
       "      <th>1150</th>\n",
       "      <td>666610489</td>\n",
       "      <td>1307669133</td>\n",
       "      <td>2019-08-13</td>\n",
       "      <td>92550</td>\n",
       "      <td>A</td>\n",
       "    </tr>\n",
       "    <tr>\n",
       "      <th>803</th>\n",
       "      <td>3668308183</td>\n",
       "      <td>888512513</td>\n",
       "      <td>2019-08-27</td>\n",
       "      <td>86620</td>\n",
       "      <td>B</td>\n",
       "    </tr>\n",
       "    <tr>\n",
       "      <th>802</th>\n",
       "      <td>3603576309</td>\n",
       "      <td>4133034833</td>\n",
       "      <td>2019-08-09</td>\n",
       "      <td>67990</td>\n",
       "      <td>A</td>\n",
       "    </tr>\n",
       "    <tr>\n",
       "      <th>...</th>\n",
       "      <td>...</td>\n",
       "      <td>...</td>\n",
       "      <td>...</td>\n",
       "      <td>...</td>\n",
       "      <td>...</td>\n",
       "    </tr>\n",
       "    <tr>\n",
       "      <th>479</th>\n",
       "      <td>2052514069</td>\n",
       "      <td>1995481842</td>\n",
       "      <td>2019-08-28</td>\n",
       "      <td>70</td>\n",
       "      <td>B</td>\n",
       "    </tr>\n",
       "    <tr>\n",
       "      <th>976</th>\n",
       "      <td>3760662696</td>\n",
       "      <td>3577713868</td>\n",
       "      <td>2019-08-27</td>\n",
       "      <td>60</td>\n",
       "      <td>B</td>\n",
       "    </tr>\n",
       "    <tr>\n",
       "      <th>815</th>\n",
       "      <td>125335873</td>\n",
       "      <td>3423937755</td>\n",
       "      <td>2019-08-30</td>\n",
       "      <td>50</td>\n",
       "      <td>B</td>\n",
       "    </tr>\n",
       "    <tr>\n",
       "      <th>536</th>\n",
       "      <td>863448794</td>\n",
       "      <td>2738601405</td>\n",
       "      <td>2019-08-19</td>\n",
       "      <td>50</td>\n",
       "      <td>B</td>\n",
       "    </tr>\n",
       "    <tr>\n",
       "      <th>657</th>\n",
       "      <td>1126146019</td>\n",
       "      <td>2705308997</td>\n",
       "      <td>2019-08-20</td>\n",
       "      <td>50</td>\n",
       "      <td>A</td>\n",
       "    </tr>\n",
       "  </tbody>\n",
       "</table>\n",
       "<p>1016 rows × 5 columns</p>\n",
       "</div>"
      ],
      "text/plain": [
       "      transactionId   visitorId       date  revenue group\n",
       "506       590470918  1920142716 2019-08-19  1294500     B\n",
       "1196     3936777065  2108080724 2019-08-15   202740     B\n",
       "1150      666610489  1307669133 2019-08-13    92550     A\n",
       "803      3668308183   888512513 2019-08-27    86620     B\n",
       "802      3603576309  4133034833 2019-08-09    67990     A\n",
       "...             ...         ...        ...      ...   ...\n",
       "479      2052514069  1995481842 2019-08-28       70     B\n",
       "976      3760662696  3577713868 2019-08-27       60     B\n",
       "815       125335873  3423937755 2019-08-30       50     B\n",
       "536       863448794  2738601405 2019-08-19       50     B\n",
       "657      1126146019  2705308997 2019-08-20       50     A\n",
       "\n",
       "[1016 rows x 5 columns]"
      ]
     },
     "execution_count": 28,
     "metadata": {},
     "output_type": "execute_result"
    }
   ],
   "source": [
    "# посмотрим стоимость заказов по пользователям\n",
    "orders.sort_values(by='revenue', ascending=False)"
   ]
  },
  {
   "cell_type": "code",
   "execution_count": 29,
   "id": "da32436d",
   "metadata": {},
   "outputs": [
    {
     "data": {
      "image/png": "[encoded data removed]",
      "text/plain": [
       "<Figure size 432x288 with 1 Axes>"
      ]
     },
     "metadata": {
      "needs_background": "light"
     },
     "output_type": "display_data"
    }
   ],
   "source": [
    "# построим точечную диаграмму стоимости заказов\n",
    "x_values = pd.Series(range(0,len(orders['revenue'])))\n",
    "plt.scatter(x_values, orders['revenue']);"
   ]
  },
  {
   "cell_type": "markdown",
   "id": "a003131e",
   "metadata": {},
   "source": [
    "Большая часть заказов пользователей составляет сумму менее 20000, но есть и выдающиеся. Стоит их убрать из выборки, как выброс."
   ]
  },
  {
   "cell_type": "markdown",
   "id": "aa270ee9",
   "metadata": {},
   "source": [
    "## Посчитайте 95-й и 99-й перцентили стоимости заказов."
   ]
  },
  {
   "cell_type": "code",
   "execution_count": 31,
   "id": "0751ba8e",
   "metadata": {},
   "outputs": [
    {
     "data": {
      "text/plain": [
       "array([26785., 53904.])"
      ]
     },
     "execution_count": 31,
     "metadata": {},
     "output_type": "execute_result"
    }
   ],
   "source": [
    "np.percentile(orders['revenue'], [95, 99])"
   ]
  },
  {
   "cell_type": "markdown",
   "id": "2f52b30f",
   "metadata": {},
   "source": [
    "Посчитав процентили получили ещё более интересные цифры. 95% заказов не превысили 26 785, а заказов дороже 53 904 вообще меньше 1%. Поэтому нижнюю границу по стоимость заказов можно взять по 99 перцентилю."
   ]
  },
  {
   "cell_type": "markdown",
   "id": "64695893",
   "metadata": {},
   "source": [
    "## Посчитаем статистическую значимость различий в конверсии между группами по «сырым» данным."
   ]
  },
  {
   "cell_type": "code",
   "execution_count": 32,
   "id": "751bcfd3",
   "metadata": {},
   "outputs": [
    {
     "data": {
      "text/html": [
       "<div>\n",
       "<style scoped>\n",
       "    .dataframe tbody tr th:only-of-type {\n",
       "        vertical-align: middle;\n",
       "    }\n",
       "\n",
       "    .dataframe tbody tr th {\n",
       "        vertical-align: top;\n",
       "    }\n",
       "\n",
       "    .dataframe thead th {\n",
       "        text-align: right;\n",
       "    }\n",
       "</style>\n",
       "<table border=\"1\" class=\"dataframe\">\n",
       "  <thead>\n",
       "    <tr style=\"text-align: right;\">\n",
       "      <th></th>\n",
       "      <th>date</th>\n",
       "      <th>transactionId</th>\n",
       "      <th>revenue</th>\n",
       "    </tr>\n",
       "  </thead>\n",
       "  <tbody>\n",
       "    <tr>\n",
       "      <th>0</th>\n",
       "      <td>2019-08-01</td>\n",
       "      <td>23</td>\n",
       "      <td>142779</td>\n",
       "    </tr>\n",
       "    <tr>\n",
       "      <th>1</th>\n",
       "      <td>2019-08-02</td>\n",
       "      <td>19</td>\n",
       "      <td>91602</td>\n",
       "    </tr>\n",
       "    <tr>\n",
       "      <th>2</th>\n",
       "      <td>2019-08-03</td>\n",
       "      <td>24</td>\n",
       "      <td>112473</td>\n",
       "    </tr>\n",
       "    <tr>\n",
       "      <th>3</th>\n",
       "      <td>2019-08-04</td>\n",
       "      <td>11</td>\n",
       "      <td>41176</td>\n",
       "    </tr>\n",
       "    <tr>\n",
       "      <th>4</th>\n",
       "      <td>2019-08-05</td>\n",
       "      <td>22</td>\n",
       "      <td>86383</td>\n",
       "    </tr>\n",
       "  </tbody>\n",
       "</table>\n",
       "</div>"
      ],
      "text/plain": [
       "        date  transactionId  revenue\n",
       "0 2019-08-01             23   142779\n",
       "1 2019-08-02             19    91602\n",
       "2 2019-08-03             24   112473\n",
       "3 2019-08-04             11    41176\n",
       "4 2019-08-05             22    86383"
      ]
     },
     "metadata": {},
     "output_type": "display_data"
    },
    {
     "data": {
      "text/html": [
       "<div>\n",
       "<style scoped>\n",
       "    .dataframe tbody tr th:only-of-type {\n",
       "        vertical-align: middle;\n",
       "    }\n",
       "\n",
       "    .dataframe tbody tr th {\n",
       "        vertical-align: top;\n",
       "    }\n",
       "\n",
       "    .dataframe thead th {\n",
       "        text-align: right;\n",
       "    }\n",
       "</style>\n",
       "<table border=\"1\" class=\"dataframe\">\n",
       "  <thead>\n",
       "    <tr style=\"text-align: right;\">\n",
       "      <th></th>\n",
       "      <th>date</th>\n",
       "      <th>transactionId</th>\n",
       "      <th>revenue</th>\n",
       "    </tr>\n",
       "  </thead>\n",
       "  <tbody>\n",
       "    <tr>\n",
       "      <th>0</th>\n",
       "      <td>2019-08-01</td>\n",
       "      <td>17</td>\n",
       "      <td>59758</td>\n",
       "    </tr>\n",
       "    <tr>\n",
       "      <th>1</th>\n",
       "      <td>2019-08-02</td>\n",
       "      <td>23</td>\n",
       "      <td>162043</td>\n",
       "    </tr>\n",
       "    <tr>\n",
       "      <th>2</th>\n",
       "      <td>2019-08-03</td>\n",
       "      <td>14</td>\n",
       "      <td>67049</td>\n",
       "    </tr>\n",
       "    <tr>\n",
       "      <th>3</th>\n",
       "      <td>2019-08-04</td>\n",
       "      <td>14</td>\n",
       "      <td>96890</td>\n",
       "    </tr>\n",
       "    <tr>\n",
       "      <th>4</th>\n",
       "      <td>2019-08-05</td>\n",
       "      <td>21</td>\n",
       "      <td>89908</td>\n",
       "    </tr>\n",
       "  </tbody>\n",
       "</table>\n",
       "</div>"
      ],
      "text/plain": [
       "        date  transactionId  revenue\n",
       "0 2019-08-01             17    59758\n",
       "1 2019-08-02             23   162043\n",
       "2 2019-08-03             14    67049\n",
       "3 2019-08-04             14    96890\n",
       "4 2019-08-05             21    89908"
      ]
     },
     "metadata": {},
     "output_type": "display_data"
    }
   ],
   "source": [
    "# посчитаем заказы и выручку по датам в группе A\n",
    "ordersADaily = (\n",
    "    orders[orders['group'] == \"A\"][['date', 'transactionId', 'revenue']]\n",
    "    .groupby('date', as_index=False)\n",
    "    .agg({'transactionId': pd.Series.nunique, 'revenue': 'sum'})\n",
    "    \n",
    ")\n",
    "# посчитаем заказы и выручку по датам в группе B\n",
    "ordersBDaily = (\n",
    "    orders[orders['group'] == \"B\"][['date', 'transactionId', 'revenue']]\n",
    "    .groupby('date', as_index=False)\n",
    "    .agg({'transactionId': pd.Series.nunique, 'revenue': 'sum'})\n",
    "    \n",
    ")\n",
    "display(ordersADaily.head(), ordersBDaily.head())"
   ]
  },
  {
   "cell_type": "code",
   "execution_count": 33,
   "id": "57d8a481",
   "metadata": {},
   "outputs": [
    {
     "data": {
      "text/html": [
       "<div>\n",
       "<style scoped>\n",
       "    .dataframe tbody tr th:only-of-type {\n",
       "        vertical-align: middle;\n",
       "    }\n",
       "\n",
       "    .dataframe tbody tr th {\n",
       "        vertical-align: top;\n",
       "    }\n",
       "\n",
       "    .dataframe thead th {\n",
       "        text-align: right;\n",
       "    }\n",
       "</style>\n",
       "<table border=\"1\" class=\"dataframe\">\n",
       "  <thead>\n",
       "    <tr style=\"text-align: right;\">\n",
       "      <th></th>\n",
       "      <th>userId</th>\n",
       "      <th>orders</th>\n",
       "    </tr>\n",
       "  </thead>\n",
       "  <tbody>\n",
       "    <tr>\n",
       "      <th>347</th>\n",
       "      <td>2742574263</td>\n",
       "      <td>3</td>\n",
       "    </tr>\n",
       "    <tr>\n",
       "      <th>33</th>\n",
       "      <td>249864742</td>\n",
       "      <td>3</td>\n",
       "    </tr>\n",
       "    <tr>\n",
       "      <th>486</th>\n",
       "      <td>3935952912</td>\n",
       "      <td>2</td>\n",
       "    </tr>\n",
       "    <tr>\n",
       "      <th>256</th>\n",
       "      <td>2025197455</td>\n",
       "      <td>2</td>\n",
       "    </tr>\n",
       "    <tr>\n",
       "      <th>418</th>\n",
       "      <td>3332057097</td>\n",
       "      <td>2</td>\n",
       "    </tr>\n",
       "  </tbody>\n",
       "</table>\n",
       "</div>"
      ],
      "text/plain": [
       "         userId  orders\n",
       "347  2742574263       3\n",
       "33    249864742       3\n",
       "486  3935952912       2\n",
       "256  2025197455       2\n",
       "418  3332057097       2"
      ]
     },
     "execution_count": 33,
     "metadata": {},
     "output_type": "execute_result"
    }
   ],
   "source": [
    "# для каждого пользователя найдём число заказов\n",
    "ordersByUsersA = (\n",
    "    orders[orders['group'] == 'A']\n",
    "    .groupby('visitorId', as_index=False)\n",
    "    .agg({'transactionId': pd.Series.nunique})\n",
    ")\n",
    "ordersByUsersA.columns = ['userId', 'orders']\n",
    "\n",
    "ordersByUsersB = (\n",
    "    orders[orders['group'] == 'B']\n",
    "    .groupby('visitorId', as_index=False)\n",
    "    .agg({'transactionId': pd.Series.nunique})\n",
    ")\n",
    "ordersByUsersB.columns = ['userId', 'orders'] \n",
    "ordersByUsersB.sort_values(by='orders', ascending=False).head()"
   ]
  },
  {
   "cell_type": "code",
   "execution_count": 34,
   "id": "3e3d30ff",
   "metadata": {},
   "outputs": [],
   "source": [
    "# разделим на группы пользователей\n",
    "visitorsA = visitors.query('group == \"A\"').rename(columns={'visitors': 'visitorsPerDateA'})\n",
    "visitorsB = visitors.query('group == \"B\"').rename(columns={'visitors': 'visitorsPerDateB'})  "
   ]
  },
  {
   "cell_type": "code",
   "execution_count": 35,
   "id": "3952e635",
   "metadata": {},
   "outputs": [],
   "source": [
    "# добавим пользователей, которые не заказывали\n",
    "sampleA = (pd.concat([ordersByUsersA['orders'],\n",
    "                      pd.Series(0, index=np.arange(visitorsA['visitorsPerDateA'].sum() - len(ordersByUsersA['orders'])), \n",
    "                                name='orders')],axis=0))\n",
    "sampleB = (pd.concat([ordersByUsersB['orders'],\n",
    "                      pd.Series(0, index=np.arange(visitorsB['visitorsPerDateB'].sum() - len(ordersByUsersB['orders'])), \n",
    "                                name='orders')],axis=0)) "
   ]
  },
  {
   "cell_type": "code",
   "execution_count": 36,
   "id": "0e441544",
   "metadata": {},
   "outputs": [
    {
     "name": "stdout",
     "output_type": "stream",
     "text": [
      "p-value 0.011\n",
      "Прирост конверсии группы B 0.160\n"
     ]
    }
   ],
   "source": [
    "# выведем p-value\n",
    "print(\"p-value {0:.3f}\".format(stats.mannwhitneyu(sampleA, sampleB)[1]))\n",
    "# прирост конверсии группы В к конверсии группы А\n",
    "print(\"Прирост конверсии группы B {0:.3f}\".format(sampleB.mean() / sampleA.mean() - 1))"
   ]
  },
  {
   "cell_type": "markdown",
   "id": "8b1a1467",
   "metadata": {},
   "source": [
    "Сформулируем гипотезы: \n",
    "\n",
    "- Нулевая: различий в конверсии между группами нет. \n",
    "- Альтернативная: различия в конверсии между группами есть.\n",
    "\n",
    "Полочив p-value = 0.011, что меньше 0.05, можно отвергнуть нулевую гипотезу. Значит различия в конверсии между группами есть, но будем иметь ввуду, что это \"сырые\" данные. Относительный прирост конверсии группы В к конверсии группы А составляет 16%. Выше мы видели наличие выбросов, поэтому нужно посчитать метрики после их удаления и сравнить полученные результаты."
   ]
  },
  {
   "cell_type": "markdown",
   "id": "c810158f",
   "metadata": {},
   "source": [
    "## Посчитаем статистическую значимость различий в среднем чеке заказа между группами по «сырым» данным."
   ]
  },
  {
   "cell_type": "code",
   "execution_count": 37,
   "id": "0a76aba7",
   "metadata": {},
   "outputs": [
    {
     "name": "stdout",
     "output_type": "stream",
     "text": [
      "p-value 0.829\n",
      "Прирост среднего чека группы B 0.287\n"
     ]
    }
   ],
   "source": [
    "print('p-value {0:.3f}'.format(stats.mannwhitneyu(orders[orders['group']=='A']['revenue'], orders[orders['group']=='B']['revenue'])[1]))\n",
    "print('Прирост среднего чека группы B {0:.3f}'.format(orders[orders['group']=='B']['revenue'].mean()/orders[orders['group']=='A']['revenue'].mean()-1))"
   ]
  },
  {
   "cell_type": "markdown",
   "id": "d787376d",
   "metadata": {},
   "source": [
    "Сформулируем гипотезы:\n",
    "\n",
    "- Нулевая гипотеза: различий в среднем чеке между группами нет. \n",
    "- Альтернативная гипотеза: различия в среднем чеке между группами есть.\n",
    "\n",
    "P-value = 0.829 - значительно больше 0.05. Повода отвергнуть нулевую гипотезу нет, значит различий в среднем чеке между группами нет. Прирост среднего чека в группе В относительно значения среднего чека группы А составил почти 29%. Анализируя стоимость заказов в группах мы видели несколько очень дорогих, нужно убрать их и снова посчитать метрики, чтобы убедиться в правильности выводов."
   ]
  },
  {
   "cell_type": "markdown",
   "id": "417c24d6",
   "metadata": {},
   "source": [
    "## Посчитаем статистическую значимость различий в конверсии между группами по «очищенным» данным."
   ]
  },
  {
   "cell_type": "code",
   "execution_count": 38,
   "id": "93ea9fe0",
   "metadata": {},
   "outputs": [
    {
     "name": "stdout",
     "output_type": "stream",
     "text": [
      "1114    148427295\n",
      "33      249864742\n",
      "58      611059232\n",
      "989     887908475\n",
      "803     888512513\n",
      "dtype: int64\n",
      "16\n"
     ]
    }
   ],
   "source": [
    "# выберем пользователей с числом заказов больше 99 перцентиля\n",
    "usersWithManyOrders = pd.concat(\n",
    "    [\n",
    "        ordersByUsersA[ordersByUsersA['orders'] > np.percentile(ordersByUsers['orders'], [ 99])[0]]['userId'],\n",
    "        ordersByUsersB[ordersByUsersB['orders'] > np.percentile(ordersByUsers['orders'], [ 99])[0]]['userId'],\n",
    "    ],\n",
    "    axis=0,\n",
    ")\n",
    "# выберем пользователей с заказами дороже 99 перцентиля\n",
    "usersWithExpensiveOrders = orders[orders['revenue'] > np.percentile(orders['revenue'], [99])[0]]['visitorId']\n",
    "\n",
    "# объединим их\n",
    "abnormalUsers = (\n",
    "    pd.concat([usersWithManyOrders, usersWithExpensiveOrders], axis=0)\n",
    "    .drop_duplicates()\n",
    "    .sort_values()\n",
    ")\n",
    "print(abnormalUsers.head(5))\n",
    "print(abnormalUsers.shape[0])"
   ]
  },
  {
   "cell_type": "code",
   "execution_count": 39,
   "id": "38c1d69f",
   "metadata": {},
   "outputs": [
    {
     "name": "stdout",
     "output_type": "stream",
     "text": [
      "973\n"
     ]
    }
   ],
   "source": [
    "print(orders['visitorId'].nunique()) # всего за месяц было покупателей"
   ]
  },
  {
   "cell_type": "markdown",
   "id": "55d36064",
   "metadata": {},
   "source": [
    "Выбрав нижней границей 99 перцентиль заказов и 99 перцентиль, получили выброс - 16 покупателей, что составило примерно 1.6%. Такая цифра вполне приемлема. "
   ]
  },
  {
   "cell_type": "code",
   "execution_count": 40,
   "id": "ddf9f3f9",
   "metadata": {},
   "outputs": [],
   "source": [
    "# сделаем срезы количества заказов по пользователям по группам\n",
    "sampleAFiltered = pd.concat([ordersByUsersA[np.logical_not(ordersByUsersA['userId'].isin(abnormalUsers))]['orders'],\n",
    "        pd.Series(0, index=np.arange(visitorsA['visitorsPerDateA'].sum() - len(ordersByUsersA['orders'])),\n",
    "            name='orders')], axis=0)\n",
    "\n",
    "sampleBFiltered = pd.concat([ordersByUsersB[np.logical_not(ordersByUsersB['userId'].isin(abnormalUsers))]['orders'],\n",
    "        pd.Series(0, index=np.arange(visitorsB['visitorsPerDateB'].sum() - len(ordersByUsersB['orders'])),\n",
    "            name='orders')], axis=0) "
   ]
  },
  {
   "cell_type": "code",
   "execution_count": 41,
   "id": "2c00eaff",
   "metadata": {},
   "outputs": [
    {
     "name": "stdout",
     "output_type": "stream",
     "text": [
      "p_value 0.007\n",
      "Прирост конверсии группы B 0.189\n"
     ]
    }
   ],
   "source": [
    "# применим статистический критерий Манна-Уитни к полученным выборкам\n",
    "print('p_value {0:.3f}'.format(stats.mannwhitneyu(sampleAFiltered, sampleBFiltered)[1]))\n",
    "print('Прирост конверсии группы B {0:.3f}'.format(sampleBFiltered.mean()/sampleAFiltered.mean()-1)) "
   ]
  },
  {
   "cell_type": "markdown",
   "id": "51c83140",
   "metadata": {},
   "source": [
    "Результаты по конверсии не сильно изменились. p-value на сырых данных был 0.011, на очищенных p_value = 0.007. Можно отвергнуть нулевую гипотезу об отсутствии различий конверсий. Различия в конверсии между группами всё же есть. Пользователи группы В конверсируются лучше, прирост на очищенных данных составил 19% - что на 3% лучше, чем на сырых."
   ]
  },
  {
   "cell_type": "markdown",
   "id": "69d961cc",
   "metadata": {},
   "source": [
    "## Посчитаем статистическую значимость различий в среднем чеке заказа между группами по «очищенным» данным."
   ]
  },
  {
   "cell_type": "code",
   "execution_count": 42,
   "id": "04860cf1",
   "metadata": {},
   "outputs": [
    {
     "name": "stdout",
     "output_type": "stream",
     "text": [
      "p_value 0.788\n",
      "Прирост среднего чека группы B -0.032\n"
     ]
    }
   ],
   "source": [
    "print('p_value {0:.3f}'.format(stats.mannwhitneyu(orders[np.logical_and(orders['group'] == 'A',\n",
    "                    np.logical_not(orders['visitorId'].isin(abnormalUsers)))]['revenue'],\n",
    "                    orders[np.logical_and(orders['group'] == 'B',\n",
    "                    np.logical_not(orders['visitorId'].isin(abnormalUsers)))]['revenue'])[1]))\n",
    "\n",
    "print('Прирост среднего чека группы B {0:.3f}'.format(orders[np.logical_and(orders['group'] == 'B',\n",
    "                np.logical_not(orders['visitorId'].isin(abnormalUsers)))]['revenue'].mean()\n",
    "                / orders[np.logical_and(orders['group'] == 'A',\n",
    "                np.logical_not(orders['visitorId'].isin(abnormalUsers)))]['revenue'].mean()- 1))"
   ]
  },
  {
   "cell_type": "markdown",
   "id": "612bf8a4",
   "metadata": {},
   "source": [
    " P-value стал чуть ниже, всё так же значительно больше 0.05. Повода отвергнуть нулевую гипотезу нет, значит различий в среднем чеке между группами нет. \n",
    "\n",
    "Прирост среднего чека в группе В относительно значения среднего чека группы А составил -3%. Если сравнить показатель относительно прироста на сырых данных в +29%, то можно сказать, что все самые дорогие покупки совершили пользователи группы В и это очень сильно повлияло на результаты теста, а без них средний чек группы В ниже среднего чека контрольной группы.\n",
    "\n",
    "После удаления выбросов, общие результаты теста не поменялись. Статистическая значимость кардинально не изменилась. "
   ]
  },
  {
   "cell_type": "markdown",
   "id": "cbef4126",
   "metadata": {},
   "source": [
    "## Построим графики кумулятивной выручки по группам по \"очищенным\" данным."
   ]
  },
  {
   "cell_type": "code",
   "execution_count": 43,
   "id": "db52ff85",
   "metadata": {},
   "outputs": [],
   "source": [
    "abnormalUsers = abnormalUsers.tolist() # создадим список аномальных пользователей"
   ]
  },
  {
   "cell_type": "code",
   "execution_count": 44,
   "id": "7cae8587",
   "metadata": {},
   "outputs": [],
   "source": [
    "orders = orders[np.logical_not(orders['visitorId'].isin(abnormalUsers))]"
   ]
  },
  {
   "cell_type": "code",
   "execution_count": 45,
   "id": "e8ff92d0",
   "metadata": {},
   "outputs": [
    {
     "data": {
      "text/plain": [
       "986"
      ]
     },
     "execution_count": 45,
     "metadata": {},
     "output_type": "execute_result"
    }
   ],
   "source": [
    "len(orders)"
   ]
  },
  {
   "cell_type": "code",
   "execution_count": 46,
   "id": "cb1036bd",
   "metadata": {},
   "outputs": [],
   "source": [
    "# cоберём агрегированные кумулятивные по дням данные о заказах без выбросов\n",
    "ordersAggregated = datesGroups.apply(lambda x: orders[np.logical_and(orders['date'] <= x['date'], orders['group'] == x['group'])]\\\n",
    "    .agg({\n",
    "        'date' : 'max', \n",
    "        'group' : 'max', \n",
    "        'transactionId' : 'nunique', \n",
    "        'visitorId' : 'nunique', \n",
    "        'revenue' : 'sum'\n",
    "    }), axis=1).sort_values(by=['date','group'])\n",
    "\n",
    "# объединяем кумулятивные данные в одной таблице\n",
    "cumulativeData = ordersAggregated.merge(visitorsAggregated, left_on=['date','group'], right_on=['date', 'group'])\n",
    "cumulativeData.columns = ['date', 'group', 'orders', 'buyers', 'revenue', 'visitors']\n",
    "\n",
    "# датафрейм с кумулятивным количеством заказов и кумулятивной выручкой по дням в группе А\n",
    "cumulativeRevenueA = cumulativeData[cumulativeData['group'] == 'A'][['date', 'revenue', 'orders']]\n",
    "\n",
    "# датафрейм с кумулятивным количеством заказов и кумулятивной выручкой по дням в группе B\n",
    "cumulativeRevenueB = cumulativeData[cumulativeData['group'] == 'B'][['date', 'revenue', 'orders']]"
   ]
  },
  {
   "cell_type": "code",
   "execution_count": 47,
   "id": "984b906e",
   "metadata": {},
   "outputs": [
    {
     "data": {
      "image/png": "[encoded data removed]",
      "text/plain": [
       "<Figure size 432x288 with 1 Axes>"
      ]
     },
     "metadata": {
      "needs_background": "light"
     },
     "output_type": "display_data"
    }
   ],
   "source": [
    "# Строим график выручки группы А\n",
    "plt.plot(cumulativeRevenueA['date'], cumulativeRevenueA['revenue'], label='A')\n",
    "\n",
    "# Строим график выручки группы B\n",
    "plt.plot(cumulativeRevenueB['date'], cumulativeRevenueB['revenue'], label='B')\n",
    "plt.legend()\n",
    "plt.title('Графики кумулятивной выручки по группам без выбросов')\n",
    "plt.xticks(rotation = 45);"
   ]
  },
  {
   "cell_type": "markdown",
   "id": "cb918232",
   "metadata": {},
   "source": [
    "Куммулятивная выручка группы В без выбросов близка к значению группы А, но всё же лучше."
   ]
  },
  {
   "cell_type": "markdown",
   "id": "f9cbe879",
   "metadata": {},
   "source": [
    "## Построим график кумулятивного среднего чека по группам по \"очищенным\" данным."
   ]
  },
  {
   "cell_type": "code",
   "execution_count": 48,
   "id": "b120523d",
   "metadata": {},
   "outputs": [
    {
     "data": {
      "image/png": "[encoded data removed]",
      "text/plain": [
       "<Figure size 432x288 with 1 Axes>"
      ]
     },
     "metadata": {
      "needs_background": "light"
     },
     "output_type": "display_data"
    }
   ],
   "source": [
    "plt.plot(cumulativeRevenueA['date'], cumulativeRevenueA['revenue']/cumulativeRevenueA['orders'], label='A')\n",
    "plt.plot(cumulativeRevenueB['date'], cumulativeRevenueB['revenue']/cumulativeRevenueB['orders'], label='B')\n",
    "plt.legend() \n",
    "plt.title('График кумулятивного среднего чека по группам')\n",
    "plt.xticks(rotation = 45);"
   ]
  },
  {
   "cell_type": "markdown",
   "id": "cf5cb0a5",
   "metadata": {},
   "source": [
    "На \"чистых\" данных кумулятивный средний чек группы В в начале теста проигрывал группе А, а затем вырос и сильно приблизился к значению группы А."
   ]
  },
  {
   "cell_type": "markdown",
   "id": "906fb7b4",
   "metadata": {},
   "source": [
    "## Построим график относительного изменения кумулятивного среднего чека группы B к группе A по \"очищенным\" данным."
   ]
  },
  {
   "cell_type": "code",
   "execution_count": 49,
   "id": "591bdf3f",
   "metadata": {
    "scrolled": true
   },
   "outputs": [
    {
     "data": {
      "image/png": "[encoded data removed]",
      "text/plain": [
       "<Figure size 432x288 with 1 Axes>"
      ]
     },
     "metadata": {
      "needs_background": "light"
     },
     "output_type": "display_data"
    }
   ],
   "source": [
    "# собираем данные в одном датафрейме\n",
    "mergedCumulativeRevenue = cumulativeRevenueA.merge(cumulativeRevenueB, left_on='date', right_on='date', how='left', suffixes=['A', 'B'])\n",
    "\n",
    "# cтроим отношение средних чеков без выбросов\n",
    "plt.plot(mergedCumulativeRevenue['date'], (mergedCumulativeRevenue['revenueB']/mergedCumulativeRevenue['ordersB'])/(mergedCumulativeRevenue['revenueA']/mergedCumulativeRevenue['ordersA'])-1)\n",
    "\n",
    "# добавляем ось X\n",
    "plt.axhline(y=0, color='black', linestyle='--')\n",
    "plt.axhline(y=-0.1, color='grey', linestyle='--')\n",
    "plt.title('График относительного изменения кумулятивного среднего чека группы B к группе A без выбросов')\n",
    "plt.xticks(rotation = 45);"
   ]
  },
  {
   "cell_type": "markdown",
   "id": "e7bb13ee",
   "metadata": {},
   "source": [
    "Убрав выбивающиеся значения по сумме и количеству заказов, мы получили совсем другой график относительного изменения кумулятивного среднего чека группы В к группе А. Что подтверждает прирост среднего чека в группе В относительно значения среднего чека группы А -3%, который мы получили в результате применения статистического критерия Манна-Уитни. "
   ]
  },
  {
   "cell_type": "markdown",
   "id": "059fbc27",
   "metadata": {},
   "source": [
    "***Вывод***\n",
    "\n",
    "- Присутствует статистическая значимость различия по конверсии между группами и по «сырым», и по данным после фильтрации аномалий.\n",
    "- Нет статистически значимого различия по среднему чеку между группами ни по «сырым», ни по данным после фильтрации аномалий.\n",
    "- График различия конверсии между группами сообщает, что результаты группы B лучше группы A примрно на 10% и есть незначительная тенденция к улучшению.\n",
    "- График различия среднего чека, после удаления выбросов, говорит о том, что результаты группы B несколько хуже группы A.\n",
    "- График кумулятивной выручки по группам и по «сырым», и по данным после фильтрации аномалий показывает лучшие показатели группы В. \n",
    "\n",
    "Исходя из выше изложенного, тест следует остановить и признать его успешным. Победила группа В. Конверсия группы В больше, что в итоге даёт увеличение выручки."
   ]
  }
 ],
 "metadata": {
  "ExecuteTimeLog": [
   {
    "duration": 1119,
    "start_time": "2022-05-01T18:09:59.668Z"
   },
   {
    "duration": 55,
    "start_time": "2022-05-01T18:10:00.790Z"
   },
   {
    "duration": 40,
    "start_time": "2022-05-01T18:10:00.850Z"
   },
   {
    "duration": 22,
    "start_time": "2022-05-01T18:10:00.892Z"
   },
   {
    "duration": 60,
    "start_time": "2022-05-01T18:10:00.915Z"
   },
   {
    "duration": 9,
    "start_time": "2022-05-01T18:10:00.977Z"
   },
   {
    "duration": 40,
    "start_time": "2022-05-01T18:10:00.988Z"
   },
   {
    "duration": 44,
    "start_time": "2022-05-01T18:10:01.030Z"
   },
   {
    "duration": 9,
    "start_time": "2022-05-01T18:10:01.076Z"
   },
   {
    "duration": 15,
    "start_time": "2022-05-01T18:10:01.089Z"
   },
   {
    "duration": 19,
    "start_time": "2022-05-01T18:10:01.107Z"
   },
   {
    "duration": 681,
    "start_time": "2022-05-01T18:10:01.129Z"
   },
   {
    "duration": 227,
    "start_time": "2022-05-01T18:10:01.813Z"
   },
   {
    "duration": 308,
    "start_time": "2022-05-01T18:10:02.041Z"
   },
   {
    "duration": 229,
    "start_time": "2022-05-01T18:10:02.355Z"
   },
   {
    "duration": 275,
    "start_time": "2022-05-01T18:10:02.586Z"
   },
   {
    "duration": 16,
    "start_time": "2022-05-01T18:10:02.864Z"
   },
   {
    "duration": 203,
    "start_time": "2022-05-01T18:10:02.882Z"
   },
   {
    "duration": 5,
    "start_time": "2022-05-01T18:10:03.087Z"
   },
   {
    "duration": 71,
    "start_time": "2022-05-01T18:10:03.094Z"
   },
   {
    "duration": 308,
    "start_time": "2022-05-01T18:10:03.167Z"
   },
   {
    "duration": 5,
    "start_time": "2022-05-01T18:10:03.477Z"
   },
   {
    "duration": 93,
    "start_time": "2022-05-01T18:10:03.483Z"
   },
   {
    "duration": 485,
    "start_time": "2022-05-01T18:10:03.578Z"
   },
   {
    "duration": 14,
    "start_time": "2022-05-01T18:10:04.065Z"
   },
   {
    "duration": 16,
    "start_time": "2022-05-01T18:10:04.081Z"
   },
   {
    "duration": 81,
    "start_time": "2022-05-01T18:10:04.100Z"
   },
   {
    "duration": 75,
    "start_time": "2022-05-01T18:10:04.184Z"
   },
   {
    "duration": 50,
    "start_time": "2022-05-01T18:10:04.262Z"
   },
   {
    "duration": 8,
    "start_time": "2022-05-01T18:10:04.314Z"
   },
   {
    "duration": 29,
    "start_time": "2022-05-01T18:10:04.324Z"
   },
   {
    "duration": 38,
    "start_time": "2022-05-01T18:10:04.355Z"
   },
   {
    "duration": 19,
    "start_time": "2022-05-01T18:10:04.447Z"
   },
   {
    "duration": 13,
    "start_time": "2022-05-01T18:10:04.470Z"
   },
   {
    "duration": 6,
    "start_time": "2022-05-01T18:10:04.485Z"
   },
   {
    "duration": 7,
    "start_time": "2022-05-01T18:10:04.493Z"
   },
   {
    "duration": 409,
    "start_time": "2022-05-01T18:10:04.501Z"
   },
   {
    "duration": 258,
    "start_time": "2022-05-01T18:10:04.912Z"
   },
   {
    "duration": 239,
    "start_time": "2022-05-01T18:10:05.173Z"
   },
   {
    "duration": 483,
    "start_time": "2022-05-01T18:10:05.414Z"
   },
   {
    "duration": 22,
    "start_time": "2022-05-01T18:10:53.992Z"
   },
   {
    "duration": 22,
    "start_time": "2022-05-01T18:11:00.888Z"
   },
   {
    "duration": 511,
    "start_time": "2022-05-01T18:39:35.219Z"
   },
   {
    "duration": 670,
    "start_time": "2022-05-01T18:39:51.033Z"
   },
   {
    "duration": 680,
    "start_time": "2022-05-01T18:40:01.563Z"
   },
   {
    "duration": 4,
    "start_time": "2022-05-01T18:40:15.080Z"
   },
   {
    "duration": 43,
    "start_time": "2022-05-01T18:40:15.086Z"
   },
   {
    "duration": 24,
    "start_time": "2022-05-01T18:40:15.131Z"
   },
   {
    "duration": 26,
    "start_time": "2022-05-01T18:40:15.158Z"
   },
   {
    "duration": 21,
    "start_time": "2022-05-01T18:40:15.186Z"
   },
   {
    "duration": 9,
    "start_time": "2022-05-01T18:40:15.209Z"
   },
   {
    "duration": 20,
    "start_time": "2022-05-01T18:40:15.247Z"
   },
   {
    "duration": 14,
    "start_time": "2022-05-01T18:40:15.269Z"
   },
   {
    "duration": 9,
    "start_time": "2022-05-01T18:40:15.285Z"
   },
   {
    "duration": 12,
    "start_time": "2022-05-01T18:40:15.296Z"
   },
   {
    "duration": 42,
    "start_time": "2022-05-01T18:40:15.310Z"
   },
   {
    "duration": 409,
    "start_time": "2022-05-01T18:40:22.890Z"
   },
   {
    "duration": 3,
    "start_time": "2022-05-01T18:49:14.720Z"
   },
   {
    "duration": 43,
    "start_time": "2022-05-01T18:49:14.725Z"
   },
   {
    "duration": 20,
    "start_time": "2022-05-01T18:49:14.770Z"
   },
   {
    "duration": 22,
    "start_time": "2022-05-01T18:49:18.273Z"
   },
   {
    "duration": 10,
    "start_time": "2022-05-01T18:49:34.023Z"
   },
   {
    "duration": 1324,
    "start_time": "2022-05-01T20:13:38.451Z"
   },
   {
    "duration": 60,
    "start_time": "2022-05-01T20:13:39.777Z"
   },
   {
    "duration": 29,
    "start_time": "2022-05-01T20:13:39.839Z"
   },
   {
    "duration": 21,
    "start_time": "2022-05-01T20:13:39.870Z"
   },
   {
    "duration": 19,
    "start_time": "2022-05-01T20:13:39.892Z"
   },
   {
    "duration": 11,
    "start_time": "2022-05-01T20:13:39.912Z"
   },
   {
    "duration": 27,
    "start_time": "2022-05-01T20:13:39.924Z"
   },
   {
    "duration": 33,
    "start_time": "2022-05-01T20:13:39.953Z"
   },
   {
    "duration": 20,
    "start_time": "2022-05-01T20:13:39.987Z"
   },
   {
    "duration": 15,
    "start_time": "2022-05-01T20:13:40.010Z"
   },
   {
    "duration": 17,
    "start_time": "2022-05-01T20:13:40.026Z"
   },
   {
    "duration": 558,
    "start_time": "2022-05-01T20:13:40.045Z"
   },
   {
    "duration": 185,
    "start_time": "2022-05-01T20:13:40.608Z"
   },
   {
    "duration": 353,
    "start_time": "2022-05-01T20:13:40.795Z"
   },
   {
    "duration": 206,
    "start_time": "2022-05-01T20:13:41.149Z"
   },
   {
    "duration": 289,
    "start_time": "2022-05-01T20:13:41.357Z"
   },
   {
    "duration": 12,
    "start_time": "2022-05-01T20:13:41.647Z"
   },
   {
    "duration": 130,
    "start_time": "2022-05-01T20:13:41.661Z"
   },
   {
    "duration": 5,
    "start_time": "2022-05-01T20:13:41.793Z"
   },
   {
    "duration": 11,
    "start_time": "2022-05-01T20:13:41.808Z"
   },
   {
    "duration": 139,
    "start_time": "2022-05-01T20:13:41.820Z"
   },
   {
    "duration": 5,
    "start_time": "2022-05-01T20:13:41.961Z"
   },
   {
    "duration": 56,
    "start_time": "2022-05-01T20:13:41.968Z"
   },
   {
    "duration": 212,
    "start_time": "2022-05-01T20:13:42.026Z"
   },
   {
    "duration": 9,
    "start_time": "2022-05-01T20:13:42.240Z"
   },
   {
    "duration": 9,
    "start_time": "2022-05-01T20:13:42.250Z"
   },
   {
    "duration": 26,
    "start_time": "2022-05-01T20:13:42.260Z"
   },
   {
    "duration": 11,
    "start_time": "2022-05-01T20:13:42.311Z"
   },
   {
    "duration": 9,
    "start_time": "2022-05-01T20:13:42.324Z"
   },
   {
    "duration": 6,
    "start_time": "2022-05-01T20:13:42.336Z"
   },
   {
    "duration": 9,
    "start_time": "2022-05-01T20:13:42.344Z"
   },
   {
    "duration": 61,
    "start_time": "2022-05-01T20:13:42.355Z"
   },
   {
    "duration": 16,
    "start_time": "2022-05-01T20:13:42.418Z"
   },
   {
    "duration": 2,
    "start_time": "2022-05-01T20:13:42.436Z"
   },
   {
    "duration": 5,
    "start_time": "2022-05-01T20:13:42.440Z"
   },
   {
    "duration": 4,
    "start_time": "2022-05-01T20:13:42.447Z"
   },
   {
    "duration": 208,
    "start_time": "2022-05-01T20:13:42.453Z"
   },
   {
    "duration": 199,
    "start_time": "2022-05-01T20:13:42.663Z"
   },
   {
    "duration": 193,
    "start_time": "2022-05-01T20:13:42.864Z"
   },
   {
    "duration": 353,
    "start_time": "2022-05-01T20:13:43.059Z"
   },
   {
    "duration": 13,
    "start_time": "2022-05-01T20:14:28.099Z"
   },
   {
    "duration": 11,
    "start_time": "2022-05-01T20:14:35.788Z"
   },
   {
    "duration": 5,
    "start_time": "2022-05-01T20:15:03.934Z"
   },
   {
    "duration": 12,
    "start_time": "2022-05-01T20:15:59.958Z"
   },
   {
    "duration": 5,
    "start_time": "2022-05-01T20:23:37.385Z"
   },
   {
    "duration": 6,
    "start_time": "2022-05-01T20:24:02.615Z"
   },
   {
    "duration": 8,
    "start_time": "2022-05-01T20:24:11.514Z"
   },
   {
    "duration": 6,
    "start_time": "2022-05-01T20:25:17.011Z"
   },
   {
    "duration": 5,
    "start_time": "2022-05-01T20:25:48.668Z"
   },
   {
    "duration": 89,
    "start_time": "2022-05-01T20:26:33.792Z"
   },
   {
    "duration": 1214,
    "start_time": "2022-05-01T20:26:47.213Z"
   },
   {
    "duration": 50,
    "start_time": "2022-05-01T20:26:48.430Z"
   },
   {
    "duration": 42,
    "start_time": "2022-05-01T20:26:48.482Z"
   },
   {
    "duration": 29,
    "start_time": "2022-05-01T20:26:48.527Z"
   },
   {
    "duration": 19,
    "start_time": "2022-05-01T20:26:48.558Z"
   },
   {
    "duration": 20,
    "start_time": "2022-05-01T20:26:48.612Z"
   },
   {
    "duration": 24,
    "start_time": "2022-05-01T20:26:48.635Z"
   },
   {
    "duration": 12,
    "start_time": "2022-05-01T20:26:48.661Z"
   },
   {
    "duration": 37,
    "start_time": "2022-05-01T20:26:48.675Z"
   },
   {
    "duration": 17,
    "start_time": "2022-05-01T20:26:48.717Z"
   },
   {
    "duration": 14,
    "start_time": "2022-05-01T20:26:48.737Z"
   },
   {
    "duration": 106,
    "start_time": "2022-05-01T20:26:48.753Z"
   },
   {
    "duration": 0,
    "start_time": "2022-05-01T20:26:48.862Z"
   },
   {
    "duration": 0,
    "start_time": "2022-05-01T20:26:48.864Z"
   },
   {
    "duration": 0,
    "start_time": "2022-05-01T20:26:48.865Z"
   },
   {
    "duration": 0,
    "start_time": "2022-05-01T20:26:48.867Z"
   },
   {
    "duration": 0,
    "start_time": "2022-05-01T20:26:48.868Z"
   },
   {
    "duration": 0,
    "start_time": "2022-05-01T20:26:48.869Z"
   },
   {
    "duration": 0,
    "start_time": "2022-05-01T20:26:48.870Z"
   },
   {
    "duration": 0,
    "start_time": "2022-05-01T20:26:48.871Z"
   },
   {
    "duration": 0,
    "start_time": "2022-05-01T20:26:48.872Z"
   },
   {
    "duration": 0,
    "start_time": "2022-05-01T20:26:48.874Z"
   },
   {
    "duration": 0,
    "start_time": "2022-05-01T20:26:48.875Z"
   },
   {
    "duration": 0,
    "start_time": "2022-05-01T20:26:48.876Z"
   },
   {
    "duration": 0,
    "start_time": "2022-05-01T20:26:48.877Z"
   },
   {
    "duration": 0,
    "start_time": "2022-05-01T20:26:48.878Z"
   },
   {
    "duration": 0,
    "start_time": "2022-05-01T20:26:48.879Z"
   },
   {
    "duration": 0,
    "start_time": "2022-05-01T20:26:48.880Z"
   },
   {
    "duration": 0,
    "start_time": "2022-05-01T20:26:48.881Z"
   },
   {
    "duration": 0,
    "start_time": "2022-05-01T20:26:48.882Z"
   },
   {
    "duration": 0,
    "start_time": "2022-05-01T20:26:48.883Z"
   },
   {
    "duration": 0,
    "start_time": "2022-05-01T20:26:48.884Z"
   },
   {
    "duration": 0,
    "start_time": "2022-05-01T20:26:48.885Z"
   },
   {
    "duration": 0,
    "start_time": "2022-05-01T20:26:48.886Z"
   },
   {
    "duration": 0,
    "start_time": "2022-05-01T20:26:48.887Z"
   },
   {
    "duration": 0,
    "start_time": "2022-05-01T20:26:48.888Z"
   },
   {
    "duration": 0,
    "start_time": "2022-05-01T20:26:48.889Z"
   },
   {
    "duration": 0,
    "start_time": "2022-05-01T20:26:48.890Z"
   },
   {
    "duration": 0,
    "start_time": "2022-05-01T20:26:48.892Z"
   },
   {
    "duration": 0,
    "start_time": "2022-05-01T20:26:48.893Z"
   },
   {
    "duration": 0,
    "start_time": "2022-05-01T20:26:48.894Z"
   },
   {
    "duration": 149,
    "start_time": "2022-05-01T20:27:00.759Z"
   },
   {
    "duration": 88,
    "start_time": "2022-05-01T20:27:04.883Z"
   },
   {
    "duration": 4,
    "start_time": "2022-05-01T20:27:11.651Z"
   },
   {
    "duration": 5,
    "start_time": "2022-05-01T20:27:39.075Z"
   },
   {
    "duration": 4,
    "start_time": "2022-05-01T20:29:17.534Z"
   },
   {
    "duration": 107,
    "start_time": "2022-05-01T20:32:55.479Z"
   },
   {
    "duration": 1142,
    "start_time": "2022-05-01T20:33:06.068Z"
   },
   {
    "duration": 40,
    "start_time": "2022-05-01T20:33:07.212Z"
   },
   {
    "duration": 30,
    "start_time": "2022-05-01T20:33:07.254Z"
   },
   {
    "duration": 26,
    "start_time": "2022-05-01T20:33:07.286Z"
   },
   {
    "duration": 22,
    "start_time": "2022-05-01T20:33:07.313Z"
   },
   {
    "duration": 9,
    "start_time": "2022-05-01T20:33:07.337Z"
   },
   {
    "duration": 23,
    "start_time": "2022-05-01T20:33:07.348Z"
   },
   {
    "duration": 45,
    "start_time": "2022-05-01T20:33:07.372Z"
   },
   {
    "duration": 8,
    "start_time": "2022-05-01T20:33:07.419Z"
   },
   {
    "duration": 11,
    "start_time": "2022-05-01T20:33:07.430Z"
   },
   {
    "duration": 18,
    "start_time": "2022-05-01T20:33:07.443Z"
   },
   {
    "duration": 5,
    "start_time": "2022-05-01T20:33:07.463Z"
   },
   {
    "duration": 138,
    "start_time": "2022-05-01T20:33:07.470Z"
   },
   {
    "duration": 0,
    "start_time": "2022-05-01T20:33:07.611Z"
   },
   {
    "duration": 0,
    "start_time": "2022-05-01T20:33:07.612Z"
   },
   {
    "duration": 0,
    "start_time": "2022-05-01T20:33:07.614Z"
   },
   {
    "duration": 0,
    "start_time": "2022-05-01T20:33:07.615Z"
   },
   {
    "duration": 0,
    "start_time": "2022-05-01T20:33:07.617Z"
   },
   {
    "duration": 0,
    "start_time": "2022-05-01T20:33:07.619Z"
   },
   {
    "duration": 0,
    "start_time": "2022-05-01T20:33:07.620Z"
   },
   {
    "duration": 0,
    "start_time": "2022-05-01T20:33:07.622Z"
   },
   {
    "duration": 0,
    "start_time": "2022-05-01T20:33:07.623Z"
   },
   {
    "duration": 0,
    "start_time": "2022-05-01T20:33:07.624Z"
   },
   {
    "duration": 0,
    "start_time": "2022-05-01T20:33:07.626Z"
   },
   {
    "duration": 0,
    "start_time": "2022-05-01T20:33:07.628Z"
   },
   {
    "duration": 0,
    "start_time": "2022-05-01T20:33:07.630Z"
   },
   {
    "duration": 0,
    "start_time": "2022-05-01T20:33:07.632Z"
   },
   {
    "duration": 0,
    "start_time": "2022-05-01T20:33:07.633Z"
   },
   {
    "duration": 0,
    "start_time": "2022-05-01T20:33:07.635Z"
   },
   {
    "duration": 0,
    "start_time": "2022-05-01T20:33:07.636Z"
   },
   {
    "duration": 0,
    "start_time": "2022-05-01T20:33:07.638Z"
   },
   {
    "duration": 0,
    "start_time": "2022-05-01T20:33:07.639Z"
   },
   {
    "duration": 0,
    "start_time": "2022-05-01T20:33:07.641Z"
   },
   {
    "duration": 0,
    "start_time": "2022-05-01T20:33:07.642Z"
   },
   {
    "duration": 0,
    "start_time": "2022-05-01T20:33:07.644Z"
   },
   {
    "duration": 0,
    "start_time": "2022-05-01T20:33:07.646Z"
   },
   {
    "duration": 0,
    "start_time": "2022-05-01T20:33:07.647Z"
   },
   {
    "duration": 0,
    "start_time": "2022-05-01T20:33:07.649Z"
   },
   {
    "duration": 0,
    "start_time": "2022-05-01T20:33:07.707Z"
   },
   {
    "duration": 0,
    "start_time": "2022-05-01T20:33:07.709Z"
   },
   {
    "duration": 0,
    "start_time": "2022-05-01T20:33:07.710Z"
   },
   {
    "duration": 0,
    "start_time": "2022-05-01T20:33:07.711Z"
   },
   {
    "duration": 7,
    "start_time": "2022-05-01T20:33:17.098Z"
   },
   {
    "duration": 6,
    "start_time": "2022-05-01T20:34:52.547Z"
   },
   {
    "duration": 9,
    "start_time": "2022-05-01T20:35:20.143Z"
   },
   {
    "duration": 1379,
    "start_time": "2022-05-01T20:35:56.053Z"
   },
   {
    "duration": 74,
    "start_time": "2022-05-01T20:35:57.434Z"
   },
   {
    "duration": 29,
    "start_time": "2022-05-01T20:35:57.510Z"
   },
   {
    "duration": 77,
    "start_time": "2022-05-01T20:35:57.541Z"
   },
   {
    "duration": 21,
    "start_time": "2022-05-01T20:35:57.620Z"
   },
   {
    "duration": 64,
    "start_time": "2022-05-01T20:35:57.643Z"
   },
   {
    "duration": 22,
    "start_time": "2022-05-01T20:35:57.709Z"
   },
   {
    "duration": 12,
    "start_time": "2022-05-01T20:35:57.733Z"
   },
   {
    "duration": 62,
    "start_time": "2022-05-01T20:35:57.747Z"
   },
   {
    "duration": 16,
    "start_time": "2022-05-01T20:35:57.813Z"
   },
   {
    "duration": 17,
    "start_time": "2022-05-01T20:35:57.831Z"
   },
   {
    "duration": 6,
    "start_time": "2022-05-01T20:35:57.907Z"
   },
   {
    "duration": 12,
    "start_time": "2022-05-01T20:35:57.915Z"
   },
   {
    "duration": 961,
    "start_time": "2022-05-01T20:35:57.929Z"
   },
   {
    "duration": 195,
    "start_time": "2022-05-01T20:35:58.892Z"
   },
   {
    "duration": 340,
    "start_time": "2022-05-01T20:35:59.089Z"
   },
   {
    "duration": 185,
    "start_time": "2022-05-01T20:35:59.431Z"
   },
   {
    "duration": 323,
    "start_time": "2022-05-01T20:35:59.617Z"
   },
   {
    "duration": 12,
    "start_time": "2022-05-01T20:35:59.942Z"
   },
   {
    "duration": 132,
    "start_time": "2022-05-01T20:35:59.955Z"
   },
   {
    "duration": 5,
    "start_time": "2022-05-01T20:36:00.089Z"
   },
   {
    "duration": 23,
    "start_time": "2022-05-01T20:36:00.096Z"
   },
   {
    "duration": 139,
    "start_time": "2022-05-01T20:36:00.121Z"
   },
   {
    "duration": 6,
    "start_time": "2022-05-01T20:36:00.261Z"
   },
   {
    "duration": 44,
    "start_time": "2022-05-01T20:36:00.269Z"
   },
   {
    "duration": 152,
    "start_time": "2022-05-01T20:36:00.315Z"
   },
   {
    "duration": 7,
    "start_time": "2022-05-01T20:36:00.469Z"
   },
   {
    "duration": 15,
    "start_time": "2022-05-01T20:36:00.479Z"
   },
   {
    "duration": 31,
    "start_time": "2022-05-01T20:36:00.495Z"
   },
   {
    "duration": 11,
    "start_time": "2022-05-01T20:36:00.528Z"
   },
   {
    "duration": 11,
    "start_time": "2022-05-01T20:36:00.541Z"
   },
   {
    "duration": 6,
    "start_time": "2022-05-01T20:36:00.554Z"
   },
   {
    "duration": 16,
    "start_time": "2022-05-01T20:36:00.561Z"
   },
   {
    "duration": 48,
    "start_time": "2022-05-01T20:36:00.579Z"
   },
   {
    "duration": 14,
    "start_time": "2022-05-01T20:36:00.629Z"
   },
   {
    "duration": 4,
    "start_time": "2022-05-01T20:36:00.644Z"
   },
   {
    "duration": 6,
    "start_time": "2022-05-01T20:36:00.650Z"
   },
   {
    "duration": 9,
    "start_time": "2022-05-01T20:36:00.658Z"
   },
   {
    "duration": 199,
    "start_time": "2022-05-01T20:36:00.669Z"
   },
   {
    "duration": 211,
    "start_time": "2022-05-01T20:36:00.870Z"
   },
   {
    "duration": 206,
    "start_time": "2022-05-01T20:36:01.084Z"
   },
   {
    "duration": 404,
    "start_time": "2022-05-01T20:36:01.291Z"
   },
   {
    "duration": 17,
    "start_time": "2022-05-01T20:37:12.927Z"
   },
   {
    "duration": 15,
    "start_time": "2022-05-01T20:37:31.679Z"
   },
   {
    "duration": 11,
    "start_time": "2022-05-01T20:37:35.361Z"
   },
   {
    "duration": 14,
    "start_time": "2022-05-01T20:37:52.128Z"
   },
   {
    "duration": 1116,
    "start_time": "2022-05-01T20:38:05.259Z"
   },
   {
    "duration": 38,
    "start_time": "2022-05-01T20:38:06.377Z"
   },
   {
    "duration": 33,
    "start_time": "2022-05-01T20:38:06.417Z"
   },
   {
    "duration": 26,
    "start_time": "2022-05-01T20:38:06.453Z"
   },
   {
    "duration": 24,
    "start_time": "2022-05-01T20:38:06.508Z"
   },
   {
    "duration": 10,
    "start_time": "2022-05-01T20:38:06.535Z"
   },
   {
    "duration": 24,
    "start_time": "2022-05-01T20:38:06.546Z"
   },
   {
    "duration": 47,
    "start_time": "2022-05-01T20:38:06.572Z"
   },
   {
    "duration": 7,
    "start_time": "2022-05-01T20:38:06.621Z"
   },
   {
    "duration": 17,
    "start_time": "2022-05-01T20:38:06.632Z"
   },
   {
    "duration": 15,
    "start_time": "2022-05-01T20:38:06.652Z"
   },
   {
    "duration": 39,
    "start_time": "2022-05-01T20:38:06.669Z"
   },
   {
    "duration": 13,
    "start_time": "2022-05-01T20:38:06.710Z"
   },
   {
    "duration": 653,
    "start_time": "2022-05-01T20:38:06.725Z"
   },
   {
    "duration": 213,
    "start_time": "2022-05-01T20:38:07.380Z"
   },
   {
    "duration": 434,
    "start_time": "2022-05-01T20:38:07.595Z"
   },
   {
    "duration": 379,
    "start_time": "2022-05-01T20:38:08.031Z"
   },
   {
    "duration": 443,
    "start_time": "2022-05-01T20:38:08.412Z"
   },
   {
    "duration": 13,
    "start_time": "2022-05-01T20:38:08.908Z"
   },
   {
    "duration": 224,
    "start_time": "2022-05-01T20:38:08.923Z"
   },
   {
    "duration": 59,
    "start_time": "2022-05-01T20:38:09.149Z"
   },
   {
    "duration": 19,
    "start_time": "2022-05-01T20:38:09.210Z"
   },
   {
    "duration": 296,
    "start_time": "2022-05-01T20:38:09.231Z"
   },
   {
    "duration": 6,
    "start_time": "2022-05-01T20:38:09.529Z"
   },
   {
    "duration": 90,
    "start_time": "2022-05-01T20:38:09.537Z"
   },
   {
    "duration": 178,
    "start_time": "2022-05-01T20:38:09.629Z"
   },
   {
    "duration": 9,
    "start_time": "2022-05-01T20:38:09.809Z"
   },
   {
    "duration": 7,
    "start_time": "2022-05-01T20:38:09.821Z"
   },
   {
    "duration": 39,
    "start_time": "2022-05-01T20:38:09.831Z"
   },
   {
    "duration": 43,
    "start_time": "2022-05-01T20:38:09.872Z"
   },
   {
    "duration": 10,
    "start_time": "2022-05-01T20:38:09.917Z"
   },
   {
    "duration": 11,
    "start_time": "2022-05-01T20:38:09.929Z"
   },
   {
    "duration": 9,
    "start_time": "2022-05-01T20:38:09.942Z"
   },
   {
    "duration": 59,
    "start_time": "2022-05-01T20:38:09.953Z"
   },
   {
    "duration": 17,
    "start_time": "2022-05-01T20:38:10.013Z"
   },
   {
    "duration": 3,
    "start_time": "2022-05-01T20:38:10.032Z"
   },
   {
    "duration": 6,
    "start_time": "2022-05-01T20:38:10.037Z"
   },
   {
    "duration": 6,
    "start_time": "2022-05-01T20:38:10.045Z"
   },
   {
    "duration": 218,
    "start_time": "2022-05-01T20:38:10.053Z"
   },
   {
    "duration": 214,
    "start_time": "2022-05-01T20:38:10.273Z"
   },
   {
    "duration": 213,
    "start_time": "2022-05-01T20:38:10.489Z"
   },
   {
    "duration": 429,
    "start_time": "2022-05-01T20:38:10.708Z"
   },
   {
    "duration": 115,
    "start_time": "2022-05-01T20:38:50.009Z"
   },
   {
    "duration": 12,
    "start_time": "2022-05-01T20:39:07.339Z"
   },
   {
    "duration": 1195,
    "start_time": "2022-05-01T20:39:39.548Z"
   },
   {
    "duration": 36,
    "start_time": "2022-05-01T20:39:40.745Z"
   },
   {
    "duration": 37,
    "start_time": "2022-05-01T20:39:40.783Z"
   },
   {
    "duration": 24,
    "start_time": "2022-05-01T20:39:40.824Z"
   },
   {
    "duration": 28,
    "start_time": "2022-05-01T20:39:40.850Z"
   },
   {
    "duration": 17,
    "start_time": "2022-05-01T20:39:40.908Z"
   },
   {
    "duration": 25,
    "start_time": "2022-05-01T20:39:40.928Z"
   },
   {
    "duration": 41,
    "start_time": "2022-05-01T20:39:40.954Z"
   },
   {
    "duration": 16,
    "start_time": "2022-05-01T20:39:40.997Z"
   },
   {
    "duration": 18,
    "start_time": "2022-05-01T20:39:41.018Z"
   },
   {
    "duration": 13,
    "start_time": "2022-05-01T20:39:41.038Z"
   },
   {
    "duration": 9,
    "start_time": "2022-05-01T20:39:41.053Z"
   },
   {
    "duration": 15,
    "start_time": "2022-05-01T20:39:41.063Z"
   },
   {
    "duration": 644,
    "start_time": "2022-05-01T20:39:41.081Z"
   },
   {
    "duration": 206,
    "start_time": "2022-05-01T20:39:41.727Z"
   },
   {
    "duration": 307,
    "start_time": "2022-05-01T20:39:41.935Z"
   },
   {
    "duration": 189,
    "start_time": "2022-05-01T20:39:42.244Z"
   },
   {
    "duration": 477,
    "start_time": "2022-05-01T20:39:42.435Z"
   },
   {
    "duration": 15,
    "start_time": "2022-05-01T20:39:42.915Z"
   },
   {
    "duration": 296,
    "start_time": "2022-05-01T20:39:42.932Z"
   },
   {
    "duration": 6,
    "start_time": "2022-05-01T20:39:43.231Z"
   },
   {
    "duration": 19,
    "start_time": "2022-05-01T20:39:43.238Z"
   },
   {
    "duration": 356,
    "start_time": "2022-05-01T20:39:43.258Z"
   },
   {
    "duration": 10,
    "start_time": "2022-05-01T20:39:43.617Z"
   },
   {
    "duration": 84,
    "start_time": "2022-05-01T20:39:43.628Z"
   },
   {
    "duration": 333,
    "start_time": "2022-05-01T20:39:43.715Z"
   },
   {
    "duration": 6,
    "start_time": "2022-05-01T20:39:44.050Z"
   },
   {
    "duration": 13,
    "start_time": "2022-05-01T20:39:44.110Z"
   },
   {
    "duration": 90,
    "start_time": "2022-05-01T20:39:44.125Z"
   },
   {
    "duration": 13,
    "start_time": "2022-05-01T20:39:44.217Z"
   },
   {
    "duration": 9,
    "start_time": "2022-05-01T20:39:44.232Z"
   },
   {
    "duration": 5,
    "start_time": "2022-05-01T20:39:44.242Z"
   },
   {
    "duration": 67,
    "start_time": "2022-05-01T20:39:44.248Z"
   },
   {
    "duration": 26,
    "start_time": "2022-05-01T20:39:44.317Z"
   },
   {
    "duration": 74,
    "start_time": "2022-05-01T20:39:44.345Z"
   },
   {
    "duration": 4,
    "start_time": "2022-05-01T20:39:44.421Z"
   },
   {
    "duration": 4,
    "start_time": "2022-05-01T20:39:44.427Z"
   },
   {
    "duration": 5,
    "start_time": "2022-05-01T20:39:44.433Z"
   },
   {
    "duration": 395,
    "start_time": "2022-05-01T20:39:44.440Z"
   },
   {
    "duration": 214,
    "start_time": "2022-05-01T20:39:44.837Z"
   },
   {
    "duration": 217,
    "start_time": "2022-05-01T20:39:45.053Z"
   },
   {
    "duration": 370,
    "start_time": "2022-05-01T20:39:45.272Z"
   },
   {
    "duration": 12,
    "start_time": "2022-05-01T20:40:15.012Z"
   },
   {
    "duration": 10,
    "start_time": "2022-05-01T20:40:36.945Z"
   },
   {
    "duration": 6,
    "start_time": "2022-05-01T20:40:48.484Z"
   },
   {
    "duration": 11,
    "start_time": "2022-05-01T20:41:34.256Z"
   },
   {
    "duration": 4,
    "start_time": "2022-05-01T20:42:13.597Z"
   },
   {
    "duration": 14,
    "start_time": "2022-05-01T20:42:23.115Z"
   },
   {
    "duration": 7,
    "start_time": "2022-05-01T20:42:45.714Z"
   },
   {
    "duration": 14,
    "start_time": "2022-05-01T20:43:07.886Z"
   },
   {
    "duration": 14,
    "start_time": "2022-05-01T20:43:19.778Z"
   },
   {
    "duration": 9,
    "start_time": "2022-05-01T20:43:23.218Z"
   },
   {
    "duration": 13,
    "start_time": "2022-05-01T20:43:27.902Z"
   },
   {
    "duration": 100,
    "start_time": "2022-05-01T20:49:54.981Z"
   },
   {
    "duration": 9,
    "start_time": "2022-05-01T20:50:07.418Z"
   },
   {
    "duration": 8,
    "start_time": "2022-05-01T20:50:53.283Z"
   },
   {
    "duration": 10,
    "start_time": "2022-05-01T20:56:53.716Z"
   },
   {
    "duration": 9,
    "start_time": "2022-05-01T20:57:02.801Z"
   },
   {
    "duration": 8,
    "start_time": "2022-05-01T20:57:19.655Z"
   },
   {
    "duration": 4,
    "start_time": "2022-05-01T20:57:38.025Z"
   },
   {
    "duration": 14,
    "start_time": "2022-05-01T20:58:18.473Z"
   },
   {
    "duration": 9,
    "start_time": "2022-05-01T20:58:39.749Z"
   },
   {
    "duration": 4,
    "start_time": "2022-05-01T20:58:46.349Z"
   },
   {
    "duration": 7,
    "start_time": "2022-05-01T21:03:07.178Z"
   },
   {
    "duration": 90,
    "start_time": "2022-05-01T21:04:13.750Z"
   },
   {
    "duration": 14,
    "start_time": "2022-05-01T21:06:08.645Z"
   },
   {
    "duration": 105,
    "start_time": "2022-05-01T21:06:34.764Z"
   },
   {
    "duration": 5,
    "start_time": "2022-05-01T21:06:44.109Z"
   },
   {
    "duration": 7,
    "start_time": "2022-05-01T21:06:53.549Z"
   },
   {
    "duration": 3,
    "start_time": "2022-05-01T21:09:45.662Z"
   },
   {
    "duration": 5,
    "start_time": "2022-05-01T21:09:49.570Z"
   },
   {
    "duration": 90,
    "start_time": "2022-05-01T21:13:52.309Z"
   },
   {
    "duration": 107,
    "start_time": "2022-05-01T21:14:04.391Z"
   },
   {
    "duration": 9,
    "start_time": "2022-05-01T21:14:28.154Z"
   },
   {
    "duration": 8,
    "start_time": "2022-05-01T21:15:20.212Z"
   },
   {
    "duration": 7,
    "start_time": "2022-05-01T21:15:45.322Z"
   },
   {
    "duration": 11,
    "start_time": "2022-05-01T21:16:35.926Z"
   },
   {
    "duration": 5,
    "start_time": "2022-05-01T21:17:37.794Z"
   },
   {
    "duration": 8,
    "start_time": "2022-05-01T21:17:48.395Z"
   },
   {
    "duration": 8,
    "start_time": "2022-05-01T21:17:57.860Z"
   },
   {
    "duration": 8,
    "start_time": "2022-05-01T21:18:06.313Z"
   },
   {
    "duration": 5,
    "start_time": "2022-05-01T21:19:29.880Z"
   },
   {
    "duration": 6,
    "start_time": "2022-05-01T21:19:37.145Z"
   },
   {
    "duration": 7,
    "start_time": "2022-05-01T21:20:27.759Z"
   },
   {
    "duration": 86,
    "start_time": "2022-05-01T21:20:59.919Z"
   },
   {
    "duration": 7,
    "start_time": "2022-05-01T21:21:06.022Z"
   },
   {
    "duration": 9,
    "start_time": "2022-05-01T21:22:15.934Z"
   },
   {
    "duration": 18,
    "start_time": "2022-05-01T21:24:06.596Z"
   },
   {
    "duration": 12,
    "start_time": "2022-05-01T21:24:45.072Z"
   },
   {
    "duration": 11,
    "start_time": "2022-05-01T21:25:01.249Z"
   },
   {
    "duration": 1159,
    "start_time": "2022-05-01T21:26:31.488Z"
   },
   {
    "duration": 43,
    "start_time": "2022-05-01T21:26:32.649Z"
   },
   {
    "duration": 27,
    "start_time": "2022-05-01T21:26:32.693Z"
   },
   {
    "duration": 26,
    "start_time": "2022-05-01T21:26:32.723Z"
   },
   {
    "duration": 21,
    "start_time": "2022-05-01T21:26:32.751Z"
   },
   {
    "duration": 40,
    "start_time": "2022-05-01T21:26:32.774Z"
   },
   {
    "duration": 26,
    "start_time": "2022-05-01T21:26:32.816Z"
   },
   {
    "duration": 12,
    "start_time": "2022-05-01T21:26:32.844Z"
   },
   {
    "duration": 11,
    "start_time": "2022-05-01T21:26:32.857Z"
   },
   {
    "duration": 37,
    "start_time": "2022-05-01T21:26:32.871Z"
   },
   {
    "duration": 12,
    "start_time": "2022-05-01T21:26:32.910Z"
   },
   {
    "duration": 7,
    "start_time": "2022-05-01T21:26:32.924Z"
   },
   {
    "duration": 11,
    "start_time": "2022-05-01T21:26:32.932Z"
   },
   {
    "duration": 19,
    "start_time": "2022-05-01T21:26:32.944Z"
   },
   {
    "duration": 9,
    "start_time": "2022-05-01T21:26:32.965Z"
   },
   {
    "duration": 6,
    "start_time": "2022-05-01T21:26:33.007Z"
   },
   {
    "duration": 591,
    "start_time": "2022-05-01T21:26:33.014Z"
   },
   {
    "duration": 191,
    "start_time": "2022-05-01T21:26:33.607Z"
   },
   {
    "duration": 300,
    "start_time": "2022-05-01T21:26:33.800Z"
   },
   {
    "duration": 174,
    "start_time": "2022-05-01T21:26:34.107Z"
   },
   {
    "duration": 318,
    "start_time": "2022-05-01T21:26:34.283Z"
   },
   {
    "duration": 12,
    "start_time": "2022-05-01T21:26:34.607Z"
   },
   {
    "duration": 131,
    "start_time": "2022-05-01T21:26:34.620Z"
   },
   {
    "duration": 5,
    "start_time": "2022-05-01T21:26:34.752Z"
   },
   {
    "duration": 12,
    "start_time": "2022-05-01T21:26:34.759Z"
   },
   {
    "duration": 153,
    "start_time": "2022-05-01T21:26:34.772Z"
   },
   {
    "duration": 5,
    "start_time": "2022-05-01T21:26:34.926Z"
   },
   {
    "duration": 32,
    "start_time": "2022-05-01T21:26:34.934Z"
   },
   {
    "duration": 167,
    "start_time": "2022-05-01T21:26:34.967Z"
   },
   {
    "duration": 7,
    "start_time": "2022-05-01T21:26:35.136Z"
   },
   {
    "duration": 11,
    "start_time": "2022-05-01T21:26:35.145Z"
   },
   {
    "duration": 25,
    "start_time": "2022-05-01T21:26:35.158Z"
   },
   {
    "duration": 32,
    "start_time": "2022-05-01T21:26:35.185Z"
   },
   {
    "duration": 11,
    "start_time": "2022-05-01T21:26:35.219Z"
   },
   {
    "duration": 6,
    "start_time": "2022-05-01T21:26:35.231Z"
   },
   {
    "duration": 6,
    "start_time": "2022-05-01T21:26:35.239Z"
   },
   {
    "duration": 27,
    "start_time": "2022-05-01T21:26:35.247Z"
   },
   {
    "duration": 43,
    "start_time": "2022-05-01T21:26:35.275Z"
   },
   {
    "duration": 3,
    "start_time": "2022-05-01T21:26:35.319Z"
   },
   {
    "duration": 6,
    "start_time": "2022-05-01T21:26:35.323Z"
   },
   {
    "duration": 5,
    "start_time": "2022-05-01T21:26:35.330Z"
   },
   {
    "duration": 206,
    "start_time": "2022-05-01T21:26:35.337Z"
   },
   {
    "duration": 194,
    "start_time": "2022-05-01T21:26:35.545Z"
   },
   {
    "duration": 261,
    "start_time": "2022-05-01T21:26:35.741Z"
   },
   {
    "duration": 307,
    "start_time": "2022-05-01T21:26:36.003Z"
   },
   {
    "duration": 11,
    "start_time": "2022-05-01T21:28:26.238Z"
   },
   {
    "duration": 20,
    "start_time": "2022-05-01T21:28:58.768Z"
   },
   {
    "duration": 20,
    "start_time": "2022-05-01T21:29:27.384Z"
   },
   {
    "duration": 119,
    "start_time": "2022-05-01T21:29:41.289Z"
   },
   {
    "duration": 20,
    "start_time": "2022-05-01T21:30:02.763Z"
   },
   {
    "duration": 22,
    "start_time": "2022-05-01T21:30:59.757Z"
   },
   {
    "duration": 10,
    "start_time": "2022-05-01T21:32:07.106Z"
   },
   {
    "duration": 17,
    "start_time": "2022-05-01T21:32:09.562Z"
   },
   {
    "duration": 4,
    "start_time": "2022-05-01T21:33:07.299Z"
   },
   {
    "duration": 7,
    "start_time": "2022-05-01T21:33:14.576Z"
   },
   {
    "duration": 7,
    "start_time": "2022-05-01T21:33:53.779Z"
   },
   {
    "duration": 14,
    "start_time": "2022-05-01T21:34:24.226Z"
   },
   {
    "duration": 10,
    "start_time": "2022-05-01T21:35:34.595Z"
   },
   {
    "duration": 22,
    "start_time": "2022-05-01T21:35:42.701Z"
   },
   {
    "duration": 1176,
    "start_time": "2022-05-01T21:35:52.286Z"
   },
   {
    "duration": 39,
    "start_time": "2022-05-01T21:35:53.464Z"
   },
   {
    "duration": 29,
    "start_time": "2022-05-01T21:35:53.508Z"
   },
   {
    "duration": 23,
    "start_time": "2022-05-01T21:35:53.539Z"
   },
   {
    "duration": 50,
    "start_time": "2022-05-01T21:35:53.563Z"
   },
   {
    "duration": 9,
    "start_time": "2022-05-01T21:35:53.615Z"
   },
   {
    "duration": 22,
    "start_time": "2022-05-01T21:35:53.626Z"
   },
   {
    "duration": 12,
    "start_time": "2022-05-01T21:35:53.649Z"
   },
   {
    "duration": 6,
    "start_time": "2022-05-01T21:35:53.664Z"
   },
   {
    "duration": 46,
    "start_time": "2022-05-01T21:35:53.672Z"
   },
   {
    "duration": 12,
    "start_time": "2022-05-01T21:35:53.720Z"
   },
   {
    "duration": 7,
    "start_time": "2022-05-01T21:35:53.734Z"
   },
   {
    "duration": 10,
    "start_time": "2022-05-01T21:35:53.743Z"
   },
   {
    "duration": 6,
    "start_time": "2022-05-01T21:35:53.754Z"
   },
   {
    "duration": 139,
    "start_time": "2022-05-01T21:35:53.762Z"
   },
   {
    "duration": 0,
    "start_time": "2022-05-01T21:35:53.907Z"
   },
   {
    "duration": 0,
    "start_time": "2022-05-01T21:35:53.908Z"
   },
   {
    "duration": 0,
    "start_time": "2022-05-01T21:35:53.910Z"
   },
   {
    "duration": 0,
    "start_time": "2022-05-01T21:35:53.911Z"
   },
   {
    "duration": 0,
    "start_time": "2022-05-01T21:35:53.911Z"
   },
   {
    "duration": 0,
    "start_time": "2022-05-01T21:35:53.912Z"
   },
   {
    "duration": 0,
    "start_time": "2022-05-01T21:35:53.913Z"
   },
   {
    "duration": 0,
    "start_time": "2022-05-01T21:35:53.914Z"
   },
   {
    "duration": 0,
    "start_time": "2022-05-01T21:35:53.915Z"
   },
   {
    "duration": 0,
    "start_time": "2022-05-01T21:35:53.916Z"
   },
   {
    "duration": 0,
    "start_time": "2022-05-01T21:35:53.917Z"
   },
   {
    "duration": 0,
    "start_time": "2022-05-01T21:35:53.918Z"
   },
   {
    "duration": 0,
    "start_time": "2022-05-01T21:35:53.919Z"
   },
   {
    "duration": 0,
    "start_time": "2022-05-01T21:35:53.921Z"
   },
   {
    "duration": 0,
    "start_time": "2022-05-01T21:35:53.921Z"
   },
   {
    "duration": 0,
    "start_time": "2022-05-01T21:35:53.923Z"
   },
   {
    "duration": 0,
    "start_time": "2022-05-01T21:35:53.924Z"
   },
   {
    "duration": 0,
    "start_time": "2022-05-01T21:35:53.925Z"
   },
   {
    "duration": 0,
    "start_time": "2022-05-01T21:35:53.925Z"
   },
   {
    "duration": 0,
    "start_time": "2022-05-01T21:35:53.926Z"
   },
   {
    "duration": 0,
    "start_time": "2022-05-01T21:35:53.927Z"
   },
   {
    "duration": 0,
    "start_time": "2022-05-01T21:35:53.928Z"
   },
   {
    "duration": 0,
    "start_time": "2022-05-01T21:35:53.929Z"
   },
   {
    "duration": 0,
    "start_time": "2022-05-01T21:35:53.930Z"
   },
   {
    "duration": 0,
    "start_time": "2022-05-01T21:35:53.931Z"
   },
   {
    "duration": 0,
    "start_time": "2022-05-01T21:35:53.932Z"
   },
   {
    "duration": 0,
    "start_time": "2022-05-01T21:35:53.933Z"
   },
   {
    "duration": 0,
    "start_time": "2022-05-01T21:35:53.934Z"
   },
   {
    "duration": 0,
    "start_time": "2022-05-01T21:35:53.935Z"
   },
   {
    "duration": 0,
    "start_time": "2022-05-01T21:35:53.936Z"
   },
   {
    "duration": 0,
    "start_time": "2022-05-01T21:35:53.937Z"
   },
   {
    "duration": 8,
    "start_time": "2022-05-01T21:36:23.325Z"
   },
   {
    "duration": 20,
    "start_time": "2022-05-01T21:36:31.035Z"
   },
   {
    "duration": 15,
    "start_time": "2022-05-01T21:39:35.076Z"
   },
   {
    "duration": 1134,
    "start_time": "2022-05-01T21:40:08.542Z"
   },
   {
    "duration": 41,
    "start_time": "2022-05-01T21:40:09.678Z"
   },
   {
    "duration": 27,
    "start_time": "2022-05-01T21:40:09.721Z"
   },
   {
    "duration": 23,
    "start_time": "2022-05-01T21:40:09.750Z"
   },
   {
    "duration": 46,
    "start_time": "2022-05-01T21:40:09.774Z"
   },
   {
    "duration": 14,
    "start_time": "2022-05-01T21:40:09.822Z"
   },
   {
    "duration": 36,
    "start_time": "2022-05-01T21:40:09.838Z"
   },
   {
    "duration": 31,
    "start_time": "2022-05-01T21:40:09.876Z"
   },
   {
    "duration": 13,
    "start_time": "2022-05-01T21:40:09.909Z"
   },
   {
    "duration": 12,
    "start_time": "2022-05-01T21:40:09.925Z"
   },
   {
    "duration": 18,
    "start_time": "2022-05-01T21:40:09.938Z"
   },
   {
    "duration": 4,
    "start_time": "2022-05-01T21:40:09.958Z"
   },
   {
    "duration": 14,
    "start_time": "2022-05-01T21:40:09.964Z"
   },
   {
    "duration": 33,
    "start_time": "2022-05-01T21:40:09.980Z"
   },
   {
    "duration": 131,
    "start_time": "2022-05-01T21:40:10.015Z"
   },
   {
    "duration": 0,
    "start_time": "2022-05-01T21:40:10.148Z"
   },
   {
    "duration": 0,
    "start_time": "2022-05-01T21:40:10.150Z"
   },
   {
    "duration": 0,
    "start_time": "2022-05-01T21:40:10.151Z"
   },
   {
    "duration": 0,
    "start_time": "2022-05-01T21:40:10.152Z"
   },
   {
    "duration": 0,
    "start_time": "2022-05-01T21:40:10.153Z"
   },
   {
    "duration": 0,
    "start_time": "2022-05-01T21:40:10.154Z"
   },
   {
    "duration": 0,
    "start_time": "2022-05-01T21:40:10.155Z"
   },
   {
    "duration": 0,
    "start_time": "2022-05-01T21:40:10.156Z"
   },
   {
    "duration": 0,
    "start_time": "2022-05-01T21:40:10.157Z"
   },
   {
    "duration": 0,
    "start_time": "2022-05-01T21:40:10.158Z"
   },
   {
    "duration": 0,
    "start_time": "2022-05-01T21:40:10.159Z"
   },
   {
    "duration": 0,
    "start_time": "2022-05-01T21:40:10.160Z"
   },
   {
    "duration": 0,
    "start_time": "2022-05-01T21:40:10.161Z"
   },
   {
    "duration": 0,
    "start_time": "2022-05-01T21:40:10.162Z"
   },
   {
    "duration": 0,
    "start_time": "2022-05-01T21:40:10.163Z"
   },
   {
    "duration": 0,
    "start_time": "2022-05-01T21:40:10.164Z"
   },
   {
    "duration": 0,
    "start_time": "2022-05-01T21:40:10.165Z"
   },
   {
    "duration": 0,
    "start_time": "2022-05-01T21:40:10.166Z"
   },
   {
    "duration": 0,
    "start_time": "2022-05-01T21:40:10.167Z"
   },
   {
    "duration": 0,
    "start_time": "2022-05-01T21:40:10.168Z"
   },
   {
    "duration": 0,
    "start_time": "2022-05-01T21:40:10.169Z"
   },
   {
    "duration": 0,
    "start_time": "2022-05-01T21:40:10.170Z"
   },
   {
    "duration": 0,
    "start_time": "2022-05-01T21:40:10.207Z"
   },
   {
    "duration": 0,
    "start_time": "2022-05-01T21:40:10.208Z"
   },
   {
    "duration": 0,
    "start_time": "2022-05-01T21:40:10.209Z"
   },
   {
    "duration": 0,
    "start_time": "2022-05-01T21:40:10.211Z"
   },
   {
    "duration": 0,
    "start_time": "2022-05-01T21:40:10.212Z"
   },
   {
    "duration": 0,
    "start_time": "2022-05-01T21:40:10.213Z"
   },
   {
    "duration": 0,
    "start_time": "2022-05-01T21:40:10.214Z"
   },
   {
    "duration": 0,
    "start_time": "2022-05-01T21:40:10.215Z"
   },
   {
    "duration": 0,
    "start_time": "2022-05-01T21:40:10.216Z"
   },
   {
    "duration": 20,
    "start_time": "2022-05-01T21:41:20.999Z"
   },
   {
    "duration": 1105,
    "start_time": "2022-05-01T21:41:30.069Z"
   },
   {
    "duration": 36,
    "start_time": "2022-05-01T21:41:31.176Z"
   },
   {
    "duration": 26,
    "start_time": "2022-05-01T21:41:31.214Z"
   },
   {
    "duration": 22,
    "start_time": "2022-05-01T21:41:31.242Z"
   },
   {
    "duration": 50,
    "start_time": "2022-05-01T21:41:31.265Z"
   },
   {
    "duration": 9,
    "start_time": "2022-05-01T21:41:31.317Z"
   },
   {
    "duration": 21,
    "start_time": "2022-05-01T21:41:31.328Z"
   },
   {
    "duration": 16,
    "start_time": "2022-05-01T21:41:31.351Z"
   },
   {
    "duration": 40,
    "start_time": "2022-05-01T21:41:31.369Z"
   },
   {
    "duration": 11,
    "start_time": "2022-05-01T21:41:31.412Z"
   },
   {
    "duration": 15,
    "start_time": "2022-05-01T21:41:31.425Z"
   },
   {
    "duration": 6,
    "start_time": "2022-05-01T21:41:31.442Z"
   },
   {
    "duration": 14,
    "start_time": "2022-05-01T21:41:31.449Z"
   },
   {
    "duration": 6,
    "start_time": "2022-05-01T21:41:31.465Z"
   },
   {
    "duration": 22,
    "start_time": "2022-05-01T21:41:31.508Z"
   },
   {
    "duration": 114,
    "start_time": "2022-05-01T21:41:31.532Z"
   },
   {
    "duration": 0,
    "start_time": "2022-05-01T21:41:31.649Z"
   },
   {
    "duration": 0,
    "start_time": "2022-05-01T21:41:31.650Z"
   },
   {
    "duration": 0,
    "start_time": "2022-05-01T21:41:31.652Z"
   },
   {
    "duration": 0,
    "start_time": "2022-05-01T21:41:31.653Z"
   },
   {
    "duration": 0,
    "start_time": "2022-05-01T21:41:31.655Z"
   },
   {
    "duration": 0,
    "start_time": "2022-05-01T21:41:31.656Z"
   },
   {
    "duration": 0,
    "start_time": "2022-05-01T21:41:31.658Z"
   },
   {
    "duration": 0,
    "start_time": "2022-05-01T21:41:31.659Z"
   },
   {
    "duration": 0,
    "start_time": "2022-05-01T21:41:31.661Z"
   },
   {
    "duration": 0,
    "start_time": "2022-05-01T21:41:31.662Z"
   },
   {
    "duration": 0,
    "start_time": "2022-05-01T21:41:31.663Z"
   },
   {
    "duration": 0,
    "start_time": "2022-05-01T21:41:31.665Z"
   },
   {
    "duration": 0,
    "start_time": "2022-05-01T21:41:31.667Z"
   },
   {
    "duration": 0,
    "start_time": "2022-05-01T21:41:31.668Z"
   },
   {
    "duration": 0,
    "start_time": "2022-05-01T21:41:31.670Z"
   },
   {
    "duration": 0,
    "start_time": "2022-05-01T21:41:31.708Z"
   },
   {
    "duration": 0,
    "start_time": "2022-05-01T21:41:31.710Z"
   },
   {
    "duration": 0,
    "start_time": "2022-05-01T21:41:31.711Z"
   },
   {
    "duration": 0,
    "start_time": "2022-05-01T21:41:31.713Z"
   },
   {
    "duration": 0,
    "start_time": "2022-05-01T21:41:31.714Z"
   },
   {
    "duration": 0,
    "start_time": "2022-05-01T21:41:31.716Z"
   },
   {
    "duration": 0,
    "start_time": "2022-05-01T21:41:31.717Z"
   },
   {
    "duration": 0,
    "start_time": "2022-05-01T21:41:31.719Z"
   },
   {
    "duration": 0,
    "start_time": "2022-05-01T21:41:31.720Z"
   },
   {
    "duration": 0,
    "start_time": "2022-05-01T21:41:31.722Z"
   },
   {
    "duration": 0,
    "start_time": "2022-05-01T21:41:31.723Z"
   },
   {
    "duration": 0,
    "start_time": "2022-05-01T21:41:31.725Z"
   },
   {
    "duration": 0,
    "start_time": "2022-05-01T21:41:31.726Z"
   },
   {
    "duration": 0,
    "start_time": "2022-05-01T21:41:31.728Z"
   },
   {
    "duration": 0,
    "start_time": "2022-05-01T21:41:31.729Z"
   },
   {
    "duration": 24,
    "start_time": "2022-05-01T21:42:22.874Z"
   },
   {
    "duration": 7,
    "start_time": "2022-05-01T21:42:24.320Z"
   },
   {
    "duration": 1129,
    "start_time": "2022-05-01T21:42:33.728Z"
   },
   {
    "duration": 41,
    "start_time": "2022-05-01T21:42:34.859Z"
   },
   {
    "duration": 28,
    "start_time": "2022-05-01T21:42:34.903Z"
   },
   {
    "duration": 23,
    "start_time": "2022-05-01T21:42:34.933Z"
   },
   {
    "duration": 54,
    "start_time": "2022-05-01T21:42:34.958Z"
   },
   {
    "duration": 12,
    "start_time": "2022-05-01T21:42:35.014Z"
   },
   {
    "duration": 25,
    "start_time": "2022-05-01T21:42:35.028Z"
   },
   {
    "duration": 13,
    "start_time": "2022-05-01T21:42:35.055Z"
   },
   {
    "duration": 39,
    "start_time": "2022-05-01T21:42:35.070Z"
   },
   {
    "duration": 15,
    "start_time": "2022-05-01T21:42:35.112Z"
   },
   {
    "duration": 20,
    "start_time": "2022-05-01T21:42:35.129Z"
   },
   {
    "duration": 7,
    "start_time": "2022-05-01T21:42:35.150Z"
   },
   {
    "duration": 12,
    "start_time": "2022-05-01T21:42:35.159Z"
   },
   {
    "duration": 36,
    "start_time": "2022-05-01T21:42:35.173Z"
   },
   {
    "duration": 25,
    "start_time": "2022-05-01T21:42:35.211Z"
   },
   {
    "duration": 8,
    "start_time": "2022-05-01T21:42:35.238Z"
   },
   {
    "duration": 11,
    "start_time": "2022-05-01T21:42:35.248Z"
   },
   {
    "duration": 136,
    "start_time": "2022-05-01T21:42:35.261Z"
   },
   {
    "duration": 0,
    "start_time": "2022-05-01T21:42:35.399Z"
   },
   {
    "duration": 0,
    "start_time": "2022-05-01T21:42:35.400Z"
   },
   {
    "duration": 0,
    "start_time": "2022-05-01T21:42:35.401Z"
   },
   {
    "duration": 0,
    "start_time": "2022-05-01T21:42:35.407Z"
   },
   {
    "duration": 0,
    "start_time": "2022-05-01T21:42:35.408Z"
   },
   {
    "duration": 0,
    "start_time": "2022-05-01T21:42:35.409Z"
   },
   {
    "duration": 0,
    "start_time": "2022-05-01T21:42:35.410Z"
   },
   {
    "duration": 0,
    "start_time": "2022-05-01T21:42:35.411Z"
   },
   {
    "duration": 0,
    "start_time": "2022-05-01T21:42:35.412Z"
   },
   {
    "duration": 0,
    "start_time": "2022-05-01T21:42:35.413Z"
   },
   {
    "duration": 0,
    "start_time": "2022-05-01T21:42:35.414Z"
   },
   {
    "duration": 0,
    "start_time": "2022-05-01T21:42:35.415Z"
   },
   {
    "duration": 0,
    "start_time": "2022-05-01T21:42:35.417Z"
   },
   {
    "duration": 0,
    "start_time": "2022-05-01T21:42:35.418Z"
   },
   {
    "duration": 0,
    "start_time": "2022-05-01T21:42:35.419Z"
   },
   {
    "duration": 0,
    "start_time": "2022-05-01T21:42:35.420Z"
   },
   {
    "duration": 0,
    "start_time": "2022-05-01T21:42:35.421Z"
   },
   {
    "duration": 0,
    "start_time": "2022-05-01T21:42:35.422Z"
   },
   {
    "duration": 0,
    "start_time": "2022-05-01T21:42:35.423Z"
   },
   {
    "duration": 0,
    "start_time": "2022-05-01T21:42:35.424Z"
   },
   {
    "duration": 0,
    "start_time": "2022-05-01T21:42:35.425Z"
   },
   {
    "duration": 0,
    "start_time": "2022-05-01T21:42:35.426Z"
   },
   {
    "duration": 0,
    "start_time": "2022-05-01T21:42:35.428Z"
   },
   {
    "duration": 0,
    "start_time": "2022-05-01T21:42:35.430Z"
   },
   {
    "duration": 0,
    "start_time": "2022-05-01T21:42:35.431Z"
   },
   {
    "duration": 0,
    "start_time": "2022-05-01T21:42:35.433Z"
   },
   {
    "duration": 0,
    "start_time": "2022-05-01T21:42:35.434Z"
   },
   {
    "duration": 0,
    "start_time": "2022-05-01T21:42:35.436Z"
   },
   {
    "duration": 11,
    "start_time": "2022-05-01T21:43:14.836Z"
   },
   {
    "duration": 21,
    "start_time": "2022-05-01T21:43:30.442Z"
   },
   {
    "duration": 1159,
    "start_time": "2022-05-01T21:43:46.805Z"
   },
   {
    "duration": 38,
    "start_time": "2022-05-01T21:43:47.966Z"
   },
   {
    "duration": 26,
    "start_time": "2022-05-01T21:43:48.005Z"
   },
   {
    "duration": 22,
    "start_time": "2022-05-01T21:43:48.033Z"
   },
   {
    "duration": 53,
    "start_time": "2022-05-01T21:43:48.056Z"
   },
   {
    "duration": 13,
    "start_time": "2022-05-01T21:43:48.111Z"
   },
   {
    "duration": 30,
    "start_time": "2022-05-01T21:43:48.126Z"
   },
   {
    "duration": 14,
    "start_time": "2022-05-01T21:43:48.158Z"
   },
   {
    "duration": 4,
    "start_time": "2022-05-01T21:43:48.174Z"
   },
   {
    "duration": 12,
    "start_time": "2022-05-01T21:43:48.209Z"
   },
   {
    "duration": 12,
    "start_time": "2022-05-01T21:43:48.223Z"
   },
   {
    "duration": 5,
    "start_time": "2022-05-01T21:43:48.237Z"
   },
   {
    "duration": 12,
    "start_time": "2022-05-01T21:43:48.243Z"
   },
   {
    "duration": 6,
    "start_time": "2022-05-01T21:43:48.256Z"
   },
   {
    "duration": 60,
    "start_time": "2022-05-01T21:43:48.264Z"
   },
   {
    "duration": 15,
    "start_time": "2022-05-01T21:43:48.326Z"
   },
   {
    "duration": 8,
    "start_time": "2022-05-01T21:43:48.343Z"
   },
   {
    "duration": 132,
    "start_time": "2022-05-01T21:43:48.353Z"
   },
   {
    "duration": 0,
    "start_time": "2022-05-01T21:43:48.487Z"
   },
   {
    "duration": 0,
    "start_time": "2022-05-01T21:43:48.488Z"
   },
   {
    "duration": 0,
    "start_time": "2022-05-01T21:43:48.489Z"
   },
   {
    "duration": 1,
    "start_time": "2022-05-01T21:43:48.490Z"
   },
   {
    "duration": 0,
    "start_time": "2022-05-01T21:43:48.491Z"
   },
   {
    "duration": 0,
    "start_time": "2022-05-01T21:43:48.493Z"
   },
   {
    "duration": 0,
    "start_time": "2022-05-01T21:43:48.507Z"
   },
   {
    "duration": 0,
    "start_time": "2022-05-01T21:43:48.508Z"
   },
   {
    "duration": 0,
    "start_time": "2022-05-01T21:43:48.509Z"
   },
   {
    "duration": 0,
    "start_time": "2022-05-01T21:43:48.510Z"
   },
   {
    "duration": 0,
    "start_time": "2022-05-01T21:43:48.511Z"
   },
   {
    "duration": 0,
    "start_time": "2022-05-01T21:43:48.512Z"
   },
   {
    "duration": 0,
    "start_time": "2022-05-01T21:43:48.514Z"
   },
   {
    "duration": 0,
    "start_time": "2022-05-01T21:43:48.515Z"
   },
   {
    "duration": 0,
    "start_time": "2022-05-01T21:43:48.517Z"
   },
   {
    "duration": 0,
    "start_time": "2022-05-01T21:43:48.518Z"
   },
   {
    "duration": 0,
    "start_time": "2022-05-01T21:43:48.519Z"
   },
   {
    "duration": 0,
    "start_time": "2022-05-01T21:43:48.521Z"
   },
   {
    "duration": 0,
    "start_time": "2022-05-01T21:43:48.522Z"
   },
   {
    "duration": 0,
    "start_time": "2022-05-01T21:43:48.523Z"
   },
   {
    "duration": 0,
    "start_time": "2022-05-01T21:43:48.524Z"
   },
   {
    "duration": 0,
    "start_time": "2022-05-01T21:43:48.526Z"
   },
   {
    "duration": 0,
    "start_time": "2022-05-01T21:43:48.527Z"
   },
   {
    "duration": 0,
    "start_time": "2022-05-01T21:43:48.528Z"
   },
   {
    "duration": 0,
    "start_time": "2022-05-01T21:43:48.529Z"
   },
   {
    "duration": 0,
    "start_time": "2022-05-01T21:43:48.531Z"
   },
   {
    "duration": 0,
    "start_time": "2022-05-01T21:43:48.532Z"
   },
   {
    "duration": 0,
    "start_time": "2022-05-01T21:43:48.533Z"
   },
   {
    "duration": 12,
    "start_time": "2022-05-01T21:45:15.121Z"
   },
   {
    "duration": 13,
    "start_time": "2022-05-01T21:45:58.722Z"
   },
   {
    "duration": 97,
    "start_time": "2022-05-01T21:47:22.658Z"
   },
   {
    "duration": 120,
    "start_time": "2022-05-01T21:47:43.932Z"
   },
   {
    "duration": 6,
    "start_time": "2022-05-01T21:48:15.923Z"
   },
   {
    "duration": 6,
    "start_time": "2022-05-01T21:48:23.479Z"
   },
   {
    "duration": 31,
    "start_time": "2022-05-01T21:48:48.871Z"
   },
   {
    "duration": 1175,
    "start_time": "2022-05-01T21:48:56.179Z"
   },
   {
    "duration": 36,
    "start_time": "2022-05-01T21:48:57.356Z"
   },
   {
    "duration": 26,
    "start_time": "2022-05-01T21:48:57.394Z"
   },
   {
    "duration": 21,
    "start_time": "2022-05-01T21:48:57.422Z"
   },
   {
    "duration": 20,
    "start_time": "2022-05-01T21:48:57.445Z"
   },
   {
    "duration": 9,
    "start_time": "2022-05-01T21:48:57.466Z"
   },
   {
    "duration": 21,
    "start_time": "2022-05-01T21:48:57.507Z"
   },
   {
    "duration": 13,
    "start_time": "2022-05-01T21:48:57.529Z"
   },
   {
    "duration": 5,
    "start_time": "2022-05-01T21:48:57.544Z"
   },
   {
    "duration": 11,
    "start_time": "2022-05-01T21:48:57.552Z"
   },
   {
    "duration": 51,
    "start_time": "2022-05-01T21:48:57.564Z"
   },
   {
    "duration": 7,
    "start_time": "2022-05-01T21:48:57.618Z"
   },
   {
    "duration": 15,
    "start_time": "2022-05-01T21:48:57.626Z"
   },
   {
    "duration": 6,
    "start_time": "2022-05-01T21:48:57.643Z"
   },
   {
    "duration": 19,
    "start_time": "2022-05-01T21:48:57.651Z"
   },
   {
    "duration": 6,
    "start_time": "2022-05-01T21:48:57.671Z"
   },
   {
    "duration": 128,
    "start_time": "2022-05-01T21:48:57.708Z"
   },
   {
    "duration": 0,
    "start_time": "2022-05-01T21:48:57.839Z"
   },
   {
    "duration": 0,
    "start_time": "2022-05-01T21:48:57.841Z"
   },
   {
    "duration": 0,
    "start_time": "2022-05-01T21:48:57.842Z"
   },
   {
    "duration": 0,
    "start_time": "2022-05-01T21:48:57.843Z"
   },
   {
    "duration": 0,
    "start_time": "2022-05-01T21:48:57.844Z"
   },
   {
    "duration": 0,
    "start_time": "2022-05-01T21:48:57.845Z"
   },
   {
    "duration": 0,
    "start_time": "2022-05-01T21:48:57.846Z"
   },
   {
    "duration": 0,
    "start_time": "2022-05-01T21:48:57.847Z"
   },
   {
    "duration": 0,
    "start_time": "2022-05-01T21:48:57.848Z"
   },
   {
    "duration": 0,
    "start_time": "2022-05-01T21:48:57.849Z"
   },
   {
    "duration": 0,
    "start_time": "2022-05-01T21:48:57.850Z"
   },
   {
    "duration": 0,
    "start_time": "2022-05-01T21:48:57.851Z"
   },
   {
    "duration": 0,
    "start_time": "2022-05-01T21:48:57.852Z"
   },
   {
    "duration": 0,
    "start_time": "2022-05-01T21:48:57.853Z"
   },
   {
    "duration": 0,
    "start_time": "2022-05-01T21:48:57.854Z"
   },
   {
    "duration": 0,
    "start_time": "2022-05-01T21:48:57.855Z"
   },
   {
    "duration": 0,
    "start_time": "2022-05-01T21:48:57.856Z"
   },
   {
    "duration": 0,
    "start_time": "2022-05-01T21:48:57.857Z"
   },
   {
    "duration": 0,
    "start_time": "2022-05-01T21:48:57.858Z"
   },
   {
    "duration": 0,
    "start_time": "2022-05-01T21:48:57.859Z"
   },
   {
    "duration": 0,
    "start_time": "2022-05-01T21:48:57.860Z"
   },
   {
    "duration": 0,
    "start_time": "2022-05-01T21:48:57.861Z"
   },
   {
    "duration": 0,
    "start_time": "2022-05-01T21:48:57.862Z"
   },
   {
    "duration": 0,
    "start_time": "2022-05-01T21:48:57.863Z"
   },
   {
    "duration": 0,
    "start_time": "2022-05-01T21:48:57.908Z"
   },
   {
    "duration": 0,
    "start_time": "2022-05-01T21:48:57.909Z"
   },
   {
    "duration": 0,
    "start_time": "2022-05-01T21:48:57.910Z"
   },
   {
    "duration": 0,
    "start_time": "2022-05-01T21:48:57.911Z"
   },
   {
    "duration": 0,
    "start_time": "2022-05-01T21:48:57.912Z"
   },
   {
    "duration": 1184,
    "start_time": "2022-05-01T21:50:09.096Z"
   },
   {
    "duration": 36,
    "start_time": "2022-05-01T21:50:10.282Z"
   },
   {
    "duration": 29,
    "start_time": "2022-05-01T21:50:10.320Z"
   },
   {
    "duration": 23,
    "start_time": "2022-05-01T21:50:10.352Z"
   },
   {
    "duration": 42,
    "start_time": "2022-05-01T21:50:10.376Z"
   },
   {
    "duration": 9,
    "start_time": "2022-05-01T21:50:10.419Z"
   },
   {
    "duration": 21,
    "start_time": "2022-05-01T21:50:10.430Z"
   },
   {
    "duration": 12,
    "start_time": "2022-05-01T21:50:10.452Z"
   },
   {
    "duration": 8,
    "start_time": "2022-05-01T21:50:10.466Z"
   },
   {
    "duration": 12,
    "start_time": "2022-05-01T21:50:10.509Z"
   },
   {
    "duration": 14,
    "start_time": "2022-05-01T21:50:10.522Z"
   },
   {
    "duration": 5,
    "start_time": "2022-05-01T21:50:10.538Z"
   },
   {
    "duration": 12,
    "start_time": "2022-05-01T21:50:10.544Z"
   },
   {
    "duration": 7,
    "start_time": "2022-05-01T21:50:10.557Z"
   },
   {
    "duration": 59,
    "start_time": "2022-05-01T21:50:10.566Z"
   },
   {
    "duration": 7,
    "start_time": "2022-05-01T21:50:10.627Z"
   },
   {
    "duration": 145,
    "start_time": "2022-05-01T21:50:10.635Z"
   },
   {
    "duration": 0,
    "start_time": "2022-05-01T21:50:10.782Z"
   },
   {
    "duration": 0,
    "start_time": "2022-05-01T21:50:10.784Z"
   },
   {
    "duration": 0,
    "start_time": "2022-05-01T21:50:10.785Z"
   },
   {
    "duration": 0,
    "start_time": "2022-05-01T21:50:10.786Z"
   },
   {
    "duration": 0,
    "start_time": "2022-05-01T21:50:10.788Z"
   },
   {
    "duration": 0,
    "start_time": "2022-05-01T21:50:10.789Z"
   },
   {
    "duration": 0,
    "start_time": "2022-05-01T21:50:10.808Z"
   },
   {
    "duration": 0,
    "start_time": "2022-05-01T21:50:10.809Z"
   },
   {
    "duration": 0,
    "start_time": "2022-05-01T21:50:10.810Z"
   },
   {
    "duration": 0,
    "start_time": "2022-05-01T21:50:10.811Z"
   },
   {
    "duration": 0,
    "start_time": "2022-05-01T21:50:10.812Z"
   },
   {
    "duration": 0,
    "start_time": "2022-05-01T21:50:10.813Z"
   },
   {
    "duration": 0,
    "start_time": "2022-05-01T21:50:10.814Z"
   },
   {
    "duration": 0,
    "start_time": "2022-05-01T21:50:10.815Z"
   },
   {
    "duration": 0,
    "start_time": "2022-05-01T21:50:10.816Z"
   },
   {
    "duration": 0,
    "start_time": "2022-05-01T21:50:10.817Z"
   },
   {
    "duration": 0,
    "start_time": "2022-05-01T21:50:10.819Z"
   },
   {
    "duration": 0,
    "start_time": "2022-05-01T21:50:10.820Z"
   },
   {
    "duration": 0,
    "start_time": "2022-05-01T21:50:10.821Z"
   },
   {
    "duration": 0,
    "start_time": "2022-05-01T21:50:10.822Z"
   },
   {
    "duration": 0,
    "start_time": "2022-05-01T21:50:10.822Z"
   },
   {
    "duration": 0,
    "start_time": "2022-05-01T21:50:10.824Z"
   },
   {
    "duration": 0,
    "start_time": "2022-05-01T21:50:10.825Z"
   },
   {
    "duration": 0,
    "start_time": "2022-05-01T21:50:10.826Z"
   },
   {
    "duration": 0,
    "start_time": "2022-05-01T21:50:10.827Z"
   },
   {
    "duration": 0,
    "start_time": "2022-05-01T21:50:10.828Z"
   },
   {
    "duration": 0,
    "start_time": "2022-05-01T21:50:10.829Z"
   },
   {
    "duration": 0,
    "start_time": "2022-05-01T21:50:10.830Z"
   },
   {
    "duration": 0,
    "start_time": "2022-05-01T21:50:10.831Z"
   },
   {
    "duration": 20,
    "start_time": "2022-05-01T21:50:58.594Z"
   },
   {
    "duration": 1219,
    "start_time": "2022-05-01T21:51:09.389Z"
   },
   {
    "duration": 38,
    "start_time": "2022-05-01T21:51:10.610Z"
   },
   {
    "duration": 29,
    "start_time": "2022-05-01T21:51:10.650Z"
   },
   {
    "duration": 28,
    "start_time": "2022-05-01T21:51:10.682Z"
   },
   {
    "duration": 22,
    "start_time": "2022-05-01T21:51:10.711Z"
   },
   {
    "duration": 10,
    "start_time": "2022-05-01T21:51:10.734Z"
   },
   {
    "duration": 22,
    "start_time": "2022-05-01T21:51:10.746Z"
   },
   {
    "duration": 46,
    "start_time": "2022-05-01T21:51:10.769Z"
   },
   {
    "duration": 5,
    "start_time": "2022-05-01T21:51:10.817Z"
   },
   {
    "duration": 13,
    "start_time": "2022-05-01T21:51:10.824Z"
   },
   {
    "duration": 14,
    "start_time": "2022-05-01T21:51:10.838Z"
   },
   {
    "duration": 5,
    "start_time": "2022-05-01T21:51:10.853Z"
   },
   {
    "duration": 52,
    "start_time": "2022-05-01T21:51:10.860Z"
   },
   {
    "duration": 7,
    "start_time": "2022-05-01T21:51:10.914Z"
   },
   {
    "duration": 20,
    "start_time": "2022-05-01T21:51:10.923Z"
   },
   {
    "duration": 7,
    "start_time": "2022-05-01T21:51:10.945Z"
   },
   {
    "duration": 9,
    "start_time": "2022-05-01T21:51:10.954Z"
   },
   {
    "duration": 630,
    "start_time": "2022-05-01T21:51:10.965Z"
   },
   {
    "duration": 205,
    "start_time": "2022-05-01T21:51:11.597Z"
   },
   {
    "duration": 319,
    "start_time": "2022-05-01T21:51:11.807Z"
   },
   {
    "duration": 180,
    "start_time": "2022-05-01T21:51:12.128Z"
   },
   {
    "duration": 326,
    "start_time": "2022-05-01T21:51:12.310Z"
   },
   {
    "duration": 12,
    "start_time": "2022-05-01T21:51:12.638Z"
   },
   {
    "duration": 153,
    "start_time": "2022-05-01T21:51:12.651Z"
   },
   {
    "duration": 5,
    "start_time": "2022-05-01T21:51:12.806Z"
   },
   {
    "duration": 12,
    "start_time": "2022-05-01T21:51:12.813Z"
   },
   {
    "duration": 156,
    "start_time": "2022-05-01T21:51:12.827Z"
   },
   {
    "duration": 5,
    "start_time": "2022-05-01T21:51:12.988Z"
   },
   {
    "duration": 42,
    "start_time": "2022-05-01T21:51:12.995Z"
   },
   {
    "duration": 149,
    "start_time": "2022-05-01T21:51:13.039Z"
   },
   {
    "duration": 7,
    "start_time": "2022-05-01T21:51:13.190Z"
   },
   {
    "duration": 7,
    "start_time": "2022-05-01T21:51:13.208Z"
   },
   {
    "duration": 27,
    "start_time": "2022-05-01T21:51:13.216Z"
   },
   {
    "duration": 11,
    "start_time": "2022-05-01T21:51:13.245Z"
   },
   {
    "duration": 9,
    "start_time": "2022-05-01T21:51:13.258Z"
   },
   {
    "duration": 39,
    "start_time": "2022-05-01T21:51:13.269Z"
   },
   {
    "duration": 9,
    "start_time": "2022-05-01T21:51:13.310Z"
   },
   {
    "duration": 26,
    "start_time": "2022-05-01T21:51:13.320Z"
   },
   {
    "duration": 15,
    "start_time": "2022-05-01T21:51:13.347Z"
   },
   {
    "duration": 3,
    "start_time": "2022-05-01T21:51:13.364Z"
   },
   {
    "duration": 40,
    "start_time": "2022-05-01T21:51:13.369Z"
   },
   {
    "duration": 4,
    "start_time": "2022-05-01T21:51:13.410Z"
   },
   {
    "duration": 194,
    "start_time": "2022-05-01T21:51:13.416Z"
   },
   {
    "duration": 207,
    "start_time": "2022-05-01T21:51:13.612Z"
   },
   {
    "duration": 209,
    "start_time": "2022-05-01T21:51:13.820Z"
   },
   {
    "duration": 389,
    "start_time": "2022-05-01T21:51:14.031Z"
   },
   {
    "duration": 28,
    "start_time": "2022-05-01T21:52:41.268Z"
   },
   {
    "duration": 8,
    "start_time": "2022-05-01T21:52:45.063Z"
   },
   {
    "duration": 1173,
    "start_time": "2022-05-01T21:53:02.189Z"
   },
   {
    "duration": 38,
    "start_time": "2022-05-01T21:53:03.364Z"
   },
   {
    "duration": 29,
    "start_time": "2022-05-01T21:53:03.403Z"
   },
   {
    "duration": 22,
    "start_time": "2022-05-01T21:53:03.434Z"
   },
   {
    "duration": 49,
    "start_time": "2022-05-01T21:53:03.458Z"
   },
   {
    "duration": 9,
    "start_time": "2022-05-01T21:53:03.509Z"
   },
   {
    "duration": 21,
    "start_time": "2022-05-01T21:53:03.520Z"
   },
   {
    "duration": 12,
    "start_time": "2022-05-01T21:53:03.543Z"
   },
   {
    "duration": 15,
    "start_time": "2022-05-01T21:53:03.557Z"
   },
   {
    "duration": 35,
    "start_time": "2022-05-01T21:53:03.575Z"
   },
   {
    "duration": 14,
    "start_time": "2022-05-01T21:53:03.612Z"
   },
   {
    "duration": 6,
    "start_time": "2022-05-01T21:53:03.627Z"
   },
   {
    "duration": 21,
    "start_time": "2022-05-01T21:53:03.635Z"
   },
   {
    "duration": 7,
    "start_time": "2022-05-01T21:53:03.658Z"
   },
   {
    "duration": 54,
    "start_time": "2022-05-01T21:53:03.667Z"
   },
   {
    "duration": 6,
    "start_time": "2022-05-01T21:53:03.723Z"
   },
   {
    "duration": 9,
    "start_time": "2022-05-01T21:53:03.731Z"
   },
   {
    "duration": 599,
    "start_time": "2022-05-01T21:53:03.742Z"
   },
   {
    "duration": 201,
    "start_time": "2022-05-01T21:53:04.342Z"
   },
   {
    "duration": 279,
    "start_time": "2022-05-01T21:53:04.545Z"
   },
   {
    "duration": 175,
    "start_time": "2022-05-01T21:53:04.826Z"
   },
   {
    "duration": 309,
    "start_time": "2022-05-01T21:53:05.006Z"
   },
   {
    "duration": 12,
    "start_time": "2022-05-01T21:53:05.317Z"
   },
   {
    "duration": 153,
    "start_time": "2022-05-01T21:53:05.331Z"
   },
   {
    "duration": 5,
    "start_time": "2022-05-01T21:53:05.486Z"
   },
   {
    "duration": 24,
    "start_time": "2022-05-01T21:53:05.492Z"
   },
   {
    "duration": 136,
    "start_time": "2022-05-01T21:53:05.517Z"
   },
   {
    "duration": 4,
    "start_time": "2022-05-01T21:53:05.657Z"
   },
   {
    "duration": 50,
    "start_time": "2022-05-01T21:53:05.663Z"
   },
   {
    "duration": 150,
    "start_time": "2022-05-01T21:53:05.715Z"
   },
   {
    "duration": 8,
    "start_time": "2022-05-01T21:53:05.866Z"
   },
   {
    "duration": 9,
    "start_time": "2022-05-01T21:53:05.876Z"
   },
   {
    "duration": 42,
    "start_time": "2022-05-01T21:53:05.886Z"
   },
   {
    "duration": 10,
    "start_time": "2022-05-01T21:53:05.930Z"
   },
   {
    "duration": 9,
    "start_time": "2022-05-01T21:53:05.942Z"
   },
   {
    "duration": 7,
    "start_time": "2022-05-01T21:53:05.952Z"
   },
   {
    "duration": 8,
    "start_time": "2022-05-01T21:53:05.960Z"
   },
   {
    "duration": 57,
    "start_time": "2022-05-01T21:53:05.969Z"
   },
   {
    "duration": 13,
    "start_time": "2022-05-01T21:53:06.028Z"
   },
   {
    "duration": 4,
    "start_time": "2022-05-01T21:53:06.043Z"
   },
   {
    "duration": 5,
    "start_time": "2022-05-01T21:53:06.049Z"
   },
   {
    "duration": 5,
    "start_time": "2022-05-01T21:53:06.056Z"
   },
   {
    "duration": 205,
    "start_time": "2022-05-01T21:53:06.063Z"
   },
   {
    "duration": 200,
    "start_time": "2022-05-01T21:53:06.270Z"
   },
   {
    "duration": 212,
    "start_time": "2022-05-01T21:53:06.472Z"
   },
   {
    "duration": 413,
    "start_time": "2022-05-01T21:53:06.686Z"
   },
   {
    "duration": 1171,
    "start_time": "2022-05-01T21:58:04.437Z"
   },
   {
    "duration": 41,
    "start_time": "2022-05-01T21:58:05.610Z"
   },
   {
    "duration": 32,
    "start_time": "2022-05-01T21:58:05.656Z"
   },
   {
    "duration": 28,
    "start_time": "2022-05-01T21:58:05.690Z"
   },
   {
    "duration": 23,
    "start_time": "2022-05-01T21:58:05.719Z"
   },
   {
    "duration": 10,
    "start_time": "2022-05-01T21:58:05.743Z"
   },
   {
    "duration": 53,
    "start_time": "2022-05-01T21:58:05.755Z"
   },
   {
    "duration": 13,
    "start_time": "2022-05-01T21:58:05.810Z"
   },
   {
    "duration": 5,
    "start_time": "2022-05-01T21:58:05.827Z"
   },
   {
    "duration": 15,
    "start_time": "2022-05-01T21:58:05.834Z"
   },
   {
    "duration": 18,
    "start_time": "2022-05-01T21:58:05.851Z"
   },
   {
    "duration": 5,
    "start_time": "2022-05-01T21:58:05.908Z"
   },
   {
    "duration": 12,
    "start_time": "2022-05-01T21:58:05.915Z"
   },
   {
    "duration": 8,
    "start_time": "2022-05-01T21:58:05.929Z"
   },
   {
    "duration": 27,
    "start_time": "2022-05-01T21:58:05.939Z"
   },
   {
    "duration": 41,
    "start_time": "2022-05-01T21:58:05.968Z"
   },
   {
    "duration": 12,
    "start_time": "2022-05-01T21:58:06.012Z"
   },
   {
    "duration": 588,
    "start_time": "2022-05-01T21:58:06.026Z"
   },
   {
    "duration": 204,
    "start_time": "2022-05-01T21:58:06.616Z"
   },
   {
    "duration": 430,
    "start_time": "2022-05-01T21:58:06.821Z"
   },
   {
    "duration": 376,
    "start_time": "2022-05-01T21:58:07.253Z"
   },
   {
    "duration": 515,
    "start_time": "2022-05-01T21:58:07.631Z"
   },
   {
    "duration": 65,
    "start_time": "2022-05-01T21:58:08.147Z"
   },
   {
    "duration": 235,
    "start_time": "2022-05-01T21:58:08.214Z"
   },
   {
    "duration": 58,
    "start_time": "2022-05-01T21:58:08.451Z"
   },
   {
    "duration": 13,
    "start_time": "2022-05-01T21:58:08.510Z"
   },
   {
    "duration": 288,
    "start_time": "2022-05-01T21:58:08.527Z"
   },
   {
    "duration": 6,
    "start_time": "2022-05-01T21:58:08.816Z"
   },
   {
    "duration": 33,
    "start_time": "2022-05-01T21:58:08.823Z"
   },
   {
    "duration": 171,
    "start_time": "2022-05-01T21:58:08.858Z"
   },
   {
    "duration": 7,
    "start_time": "2022-05-01T21:58:09.031Z"
   },
   {
    "duration": 8,
    "start_time": "2022-05-01T21:58:09.040Z"
   },
   {
    "duration": 27,
    "start_time": "2022-05-01T21:58:09.050Z"
   },
   {
    "duration": 36,
    "start_time": "2022-05-01T21:58:09.080Z"
   },
   {
    "duration": 10,
    "start_time": "2022-05-01T21:58:09.118Z"
   },
   {
    "duration": 5,
    "start_time": "2022-05-01T21:58:09.130Z"
   },
   {
    "duration": 8,
    "start_time": "2022-05-01T21:58:09.137Z"
   },
   {
    "duration": 24,
    "start_time": "2022-05-01T21:58:09.147Z"
   },
   {
    "duration": 47,
    "start_time": "2022-05-01T21:58:09.173Z"
   },
   {
    "duration": 4,
    "start_time": "2022-05-01T21:58:09.222Z"
   },
   {
    "duration": 7,
    "start_time": "2022-05-01T21:58:09.227Z"
   },
   {
    "duration": 5,
    "start_time": "2022-05-01T21:58:09.235Z"
   },
   {
    "duration": 206,
    "start_time": "2022-05-01T21:58:09.242Z"
   },
   {
    "duration": 214,
    "start_time": "2022-05-01T21:58:09.449Z"
   },
   {
    "duration": 207,
    "start_time": "2022-05-01T21:58:09.665Z"
   },
   {
    "duration": 377,
    "start_time": "2022-05-01T21:58:09.874Z"
   },
   {
    "duration": 496,
    "start_time": "2022-05-01T22:00:21.316Z"
   },
   {
    "duration": 490,
    "start_time": "2022-05-01T22:00:35.929Z"
   },
   {
    "duration": 464,
    "start_time": "2022-05-01T22:00:45.528Z"
   },
   {
    "duration": 489,
    "start_time": "2022-05-01T22:00:55.737Z"
   },
   {
    "duration": 482,
    "start_time": "2022-05-01T22:01:28.479Z"
   },
   {
    "duration": 485,
    "start_time": "2022-05-01T22:01:51.577Z"
   },
   {
    "duration": 494,
    "start_time": "2022-05-01T22:02:02.787Z"
   },
   {
    "duration": 481,
    "start_time": "2022-05-01T22:02:08.841Z"
   },
   {
    "duration": 501,
    "start_time": "2022-05-01T22:02:18.337Z"
   },
   {
    "duration": 453,
    "start_time": "2022-05-01T22:02:44.708Z"
   },
   {
    "duration": 437,
    "start_time": "2022-05-01T22:02:55.960Z"
   },
   {
    "duration": 477,
    "start_time": "2022-05-01T22:03:06.375Z"
   },
   {
    "duration": 477,
    "start_time": "2022-05-01T22:03:13.558Z"
   },
   {
    "duration": 447,
    "start_time": "2022-05-01T22:03:41.538Z"
   },
   {
    "duration": 320,
    "start_time": "2022-05-01T22:04:19.387Z"
   },
   {
    "duration": 403,
    "start_time": "2022-05-01T22:05:12.410Z"
   },
   {
    "duration": 265,
    "start_time": "2022-05-01T22:05:32.456Z"
   },
   {
    "duration": 316,
    "start_time": "2022-05-01T22:06:12.501Z"
   },
   {
    "duration": 304,
    "start_time": "2022-05-01T22:06:30.206Z"
   },
   {
    "duration": 6,
    "start_time": "2022-05-01T22:07:05.920Z"
   },
   {
    "duration": 49,
    "start_time": "2022-05-02T06:57:58.540Z"
   },
   {
    "duration": 1246,
    "start_time": "2022-05-02T06:58:04.340Z"
   },
   {
    "duration": 37,
    "start_time": "2022-05-02T06:58:05.588Z"
   },
   {
    "duration": 30,
    "start_time": "2022-05-02T06:58:05.626Z"
   },
   {
    "duration": 29,
    "start_time": "2022-05-02T06:58:05.658Z"
   },
   {
    "duration": 39,
    "start_time": "2022-05-02T06:58:05.689Z"
   },
   {
    "duration": 10,
    "start_time": "2022-05-02T06:58:05.729Z"
   },
   {
    "duration": 23,
    "start_time": "2022-05-02T06:58:05.740Z"
   },
   {
    "duration": 13,
    "start_time": "2022-05-02T06:58:05.765Z"
   },
   {
    "duration": 6,
    "start_time": "2022-05-02T06:58:05.808Z"
   },
   {
    "duration": 18,
    "start_time": "2022-05-02T06:58:05.816Z"
   },
   {
    "duration": 19,
    "start_time": "2022-05-02T06:58:05.836Z"
   },
   {
    "duration": 12,
    "start_time": "2022-05-02T06:58:05.856Z"
   },
   {
    "duration": 10,
    "start_time": "2022-05-02T06:58:05.870Z"
   },
   {
    "duration": 27,
    "start_time": "2022-05-02T06:58:05.882Z"
   },
   {
    "duration": 33,
    "start_time": "2022-05-02T06:58:05.910Z"
   },
   {
    "duration": 6,
    "start_time": "2022-05-02T06:58:05.945Z"
   },
   {
    "duration": 14,
    "start_time": "2022-05-02T06:58:05.953Z"
   },
   {
    "duration": 569,
    "start_time": "2022-05-02T06:58:05.969Z"
   },
   {
    "duration": 201,
    "start_time": "2022-05-02T06:58:06.540Z"
   },
   {
    "duration": 301,
    "start_time": "2022-05-02T06:58:06.743Z"
   },
   {
    "duration": 177,
    "start_time": "2022-05-02T06:58:07.046Z"
   },
   {
    "duration": 310,
    "start_time": "2022-05-02T06:58:07.224Z"
   },
   {
    "duration": 12,
    "start_time": "2022-05-02T06:58:07.536Z"
   },
   {
    "duration": 152,
    "start_time": "2022-05-02T06:58:07.550Z"
   },
   {
    "duration": 6,
    "start_time": "2022-05-02T06:58:07.704Z"
   },
   {
    "duration": 25,
    "start_time": "2022-05-02T06:58:07.712Z"
   },
   {
    "duration": 136,
    "start_time": "2022-05-02T06:58:07.739Z"
   },
   {
    "duration": 5,
    "start_time": "2022-05-02T06:58:07.878Z"
   },
   {
    "duration": 46,
    "start_time": "2022-05-02T06:58:07.885Z"
   },
   {
    "duration": 147,
    "start_time": "2022-05-02T06:58:07.933Z"
   },
   {
    "duration": 8,
    "start_time": "2022-05-02T06:58:08.081Z"
   },
   {
    "duration": 20,
    "start_time": "2022-05-02T06:58:08.090Z"
   },
   {
    "duration": 25,
    "start_time": "2022-05-02T06:58:08.111Z"
   },
   {
    "duration": 10,
    "start_time": "2022-05-02T06:58:08.138Z"
   },
   {
    "duration": 9,
    "start_time": "2022-05-02T06:58:08.150Z"
   },
   {
    "duration": 5,
    "start_time": "2022-05-02T06:58:08.161Z"
   },
   {
    "duration": 41,
    "start_time": "2022-05-02T06:58:08.168Z"
   },
   {
    "duration": 24,
    "start_time": "2022-05-02T06:58:08.211Z"
   },
   {
    "duration": 13,
    "start_time": "2022-05-02T06:58:08.237Z"
   },
   {
    "duration": 2,
    "start_time": "2022-05-02T06:58:08.252Z"
   },
   {
    "duration": 6,
    "start_time": "2022-05-02T06:58:08.256Z"
   },
   {
    "duration": 6,
    "start_time": "2022-05-02T06:58:08.263Z"
   },
   {
    "duration": 201,
    "start_time": "2022-05-02T06:58:08.270Z"
   },
   {
    "duration": 206,
    "start_time": "2022-05-02T06:58:08.473Z"
   },
   {
    "duration": 193,
    "start_time": "2022-05-02T06:58:08.680Z"
   },
   {
    "duration": 367,
    "start_time": "2022-05-02T06:58:08.875Z"
   },
   {
    "duration": 28,
    "start_time": "2022-05-02T06:58:24.274Z"
   },
   {
    "duration": 23,
    "start_time": "2022-05-02T06:58:36.755Z"
   },
   {
    "duration": 9,
    "start_time": "2022-05-02T07:03:20.799Z"
   },
   {
    "duration": 98,
    "start_time": "2022-05-02T07:04:45.635Z"
   },
   {
    "duration": 1115,
    "start_time": "2022-05-02T07:04:58.546Z"
   },
   {
    "duration": 36,
    "start_time": "2022-05-02T07:04:59.662Z"
   },
   {
    "duration": 29,
    "start_time": "2022-05-02T07:04:59.700Z"
   },
   {
    "duration": 23,
    "start_time": "2022-05-02T07:04:59.732Z"
   },
   {
    "duration": 51,
    "start_time": "2022-05-02T07:04:59.757Z"
   },
   {
    "duration": 10,
    "start_time": "2022-05-02T07:04:59.810Z"
   },
   {
    "duration": 22,
    "start_time": "2022-05-02T07:04:59.822Z"
   },
   {
    "duration": 13,
    "start_time": "2022-05-02T07:04:59.846Z"
   },
   {
    "duration": 6,
    "start_time": "2022-05-02T07:04:59.861Z"
   },
   {
    "duration": 12,
    "start_time": "2022-05-02T07:04:59.907Z"
   },
   {
    "duration": 15,
    "start_time": "2022-05-02T07:04:59.921Z"
   },
   {
    "duration": 8,
    "start_time": "2022-05-02T07:04:59.938Z"
   },
   {
    "duration": 12,
    "start_time": "2022-05-02T07:04:59.948Z"
   },
   {
    "duration": 8,
    "start_time": "2022-05-02T07:04:59.962Z"
   },
   {
    "duration": 23,
    "start_time": "2022-05-02T07:05:00.009Z"
   },
   {
    "duration": 7,
    "start_time": "2022-05-02T07:05:00.033Z"
   },
   {
    "duration": 16,
    "start_time": "2022-05-02T07:05:00.041Z"
   },
   {
    "duration": 121,
    "start_time": "2022-05-02T07:05:00.059Z"
   },
   {
    "duration": 0,
    "start_time": "2022-05-02T07:05:00.182Z"
   },
   {
    "duration": 0,
    "start_time": "2022-05-02T07:05:00.184Z"
   },
   {
    "duration": 0,
    "start_time": "2022-05-02T07:05:00.186Z"
   },
   {
    "duration": 0,
    "start_time": "2022-05-02T07:05:00.187Z"
   },
   {
    "duration": 0,
    "start_time": "2022-05-02T07:05:00.188Z"
   },
   {
    "duration": 0,
    "start_time": "2022-05-02T07:05:00.189Z"
   },
   {
    "duration": 0,
    "start_time": "2022-05-02T07:05:00.207Z"
   },
   {
    "duration": 0,
    "start_time": "2022-05-02T07:05:00.209Z"
   },
   {
    "duration": 0,
    "start_time": "2022-05-02T07:05:00.210Z"
   },
   {
    "duration": 0,
    "start_time": "2022-05-02T07:05:00.211Z"
   },
   {
    "duration": 0,
    "start_time": "2022-05-02T07:05:00.212Z"
   },
   {
    "duration": 0,
    "start_time": "2022-05-02T07:05:00.213Z"
   },
   {
    "duration": 0,
    "start_time": "2022-05-02T07:05:00.214Z"
   },
   {
    "duration": 0,
    "start_time": "2022-05-02T07:05:00.216Z"
   },
   {
    "duration": 0,
    "start_time": "2022-05-02T07:05:00.217Z"
   },
   {
    "duration": 0,
    "start_time": "2022-05-02T07:05:00.218Z"
   },
   {
    "duration": 0,
    "start_time": "2022-05-02T07:05:00.219Z"
   },
   {
    "duration": 0,
    "start_time": "2022-05-02T07:05:00.220Z"
   },
   {
    "duration": 0,
    "start_time": "2022-05-02T07:05:00.221Z"
   },
   {
    "duration": 0,
    "start_time": "2022-05-02T07:05:00.222Z"
   },
   {
    "duration": 0,
    "start_time": "2022-05-02T07:05:00.223Z"
   },
   {
    "duration": 0,
    "start_time": "2022-05-02T07:05:00.224Z"
   },
   {
    "duration": 0,
    "start_time": "2022-05-02T07:05:00.225Z"
   },
   {
    "duration": 0,
    "start_time": "2022-05-02T07:05:00.227Z"
   },
   {
    "duration": 0,
    "start_time": "2022-05-02T07:05:00.228Z"
   },
   {
    "duration": 0,
    "start_time": "2022-05-02T07:05:00.229Z"
   },
   {
    "duration": 0,
    "start_time": "2022-05-02T07:05:00.230Z"
   },
   {
    "duration": 0,
    "start_time": "2022-05-02T07:05:00.231Z"
   },
   {
    "duration": 0,
    "start_time": "2022-05-02T07:05:00.232Z"
   },
   {
    "duration": 9,
    "start_time": "2022-05-02T07:05:25.983Z"
   },
   {
    "duration": 9,
    "start_time": "2022-05-02T07:05:49.478Z"
   },
   {
    "duration": 9,
    "start_time": "2022-05-02T07:05:56.991Z"
   },
   {
    "duration": 12,
    "start_time": "2022-05-02T07:06:15.861Z"
   },
   {
    "duration": 8,
    "start_time": "2022-05-02T07:06:39.813Z"
   },
   {
    "duration": 1149,
    "start_time": "2022-05-02T07:07:07.108Z"
   },
   {
    "duration": 41,
    "start_time": "2022-05-02T07:07:08.259Z"
   },
   {
    "duration": 30,
    "start_time": "2022-05-02T07:07:08.301Z"
   },
   {
    "duration": 23,
    "start_time": "2022-05-02T07:07:08.333Z"
   },
   {
    "duration": 53,
    "start_time": "2022-05-02T07:07:08.358Z"
   },
   {
    "duration": 8,
    "start_time": "2022-05-02T07:07:08.413Z"
   },
   {
    "duration": 21,
    "start_time": "2022-05-02T07:07:08.423Z"
   },
   {
    "duration": 12,
    "start_time": "2022-05-02T07:07:08.446Z"
   },
   {
    "duration": 6,
    "start_time": "2022-05-02T07:07:08.460Z"
   },
   {
    "duration": 40,
    "start_time": "2022-05-02T07:07:08.469Z"
   },
   {
    "duration": 13,
    "start_time": "2022-05-02T07:07:08.510Z"
   },
   {
    "duration": 4,
    "start_time": "2022-05-02T07:07:08.525Z"
   },
   {
    "duration": 11,
    "start_time": "2022-05-02T07:07:08.530Z"
   },
   {
    "duration": 6,
    "start_time": "2022-05-02T07:07:08.543Z"
   },
   {
    "duration": 57,
    "start_time": "2022-05-02T07:07:08.551Z"
   },
   {
    "duration": 6,
    "start_time": "2022-05-02T07:07:08.610Z"
   },
   {
    "duration": 9,
    "start_time": "2022-05-02T07:07:08.618Z"
   },
   {
    "duration": 581,
    "start_time": "2022-05-02T07:07:08.629Z"
   },
   {
    "duration": 207,
    "start_time": "2022-05-02T07:07:09.211Z"
   },
   {
    "duration": 301,
    "start_time": "2022-05-02T07:07:09.420Z"
   },
   {
    "duration": 178,
    "start_time": "2022-05-02T07:07:09.723Z"
   },
   {
    "duration": 309,
    "start_time": "2022-05-02T07:07:09.907Z"
   },
   {
    "duration": 11,
    "start_time": "2022-05-02T07:07:10.218Z"
   },
   {
    "duration": 146,
    "start_time": "2022-05-02T07:07:10.230Z"
   },
   {
    "duration": 5,
    "start_time": "2022-05-02T07:07:10.378Z"
   },
   {
    "duration": 24,
    "start_time": "2022-05-02T07:07:10.384Z"
   },
   {
    "duration": 131,
    "start_time": "2022-05-02T07:07:10.409Z"
   },
   {
    "duration": 4,
    "start_time": "2022-05-02T07:07:10.544Z"
   },
   {
    "duration": 33,
    "start_time": "2022-05-02T07:07:10.550Z"
   },
   {
    "duration": 165,
    "start_time": "2022-05-02T07:07:10.586Z"
   },
   {
    "duration": 8,
    "start_time": "2022-05-02T07:07:10.753Z"
   },
   {
    "duration": 8,
    "start_time": "2022-05-02T07:07:10.763Z"
   },
   {
    "duration": 48,
    "start_time": "2022-05-02T07:07:10.772Z"
   },
   {
    "duration": 10,
    "start_time": "2022-05-02T07:07:10.822Z"
   },
   {
    "duration": 9,
    "start_time": "2022-05-02T07:07:10.834Z"
   },
   {
    "duration": 6,
    "start_time": "2022-05-02T07:07:10.844Z"
   },
   {
    "duration": 11,
    "start_time": "2022-05-02T07:07:10.852Z"
   },
   {
    "duration": 53,
    "start_time": "2022-05-02T07:07:10.865Z"
   },
   {
    "duration": 13,
    "start_time": "2022-05-02T07:07:10.920Z"
   },
   {
    "duration": 2,
    "start_time": "2022-05-02T07:07:10.935Z"
   },
   {
    "duration": 5,
    "start_time": "2022-05-02T07:07:10.939Z"
   },
   {
    "duration": 5,
    "start_time": "2022-05-02T07:07:10.946Z"
   },
   {
    "duration": 203,
    "start_time": "2022-05-02T07:07:10.953Z"
   },
   {
    "duration": 204,
    "start_time": "2022-05-02T07:07:11.158Z"
   },
   {
    "duration": 210,
    "start_time": "2022-05-02T07:07:11.364Z"
   },
   {
    "duration": 365,
    "start_time": "2022-05-02T07:07:11.577Z"
   },
   {
    "duration": 455,
    "start_time": "2022-05-02T07:07:35.125Z"
   },
   {
    "duration": 442,
    "start_time": "2022-05-02T07:07:52.845Z"
   },
   {
    "duration": 648,
    "start_time": "2022-05-02T07:09:18.629Z"
   },
   {
    "duration": 1190,
    "start_time": "2022-05-02T07:09:38.669Z"
   },
   {
    "duration": 35,
    "start_time": "2022-05-02T07:09:39.862Z"
   },
   {
    "duration": 27,
    "start_time": "2022-05-02T07:09:39.899Z"
   },
   {
    "duration": 22,
    "start_time": "2022-05-02T07:09:39.929Z"
   },
   {
    "duration": 20,
    "start_time": "2022-05-02T07:09:39.953Z"
   },
   {
    "duration": 38,
    "start_time": "2022-05-02T07:09:39.975Z"
   },
   {
    "duration": 21,
    "start_time": "2022-05-02T07:09:40.015Z"
   },
   {
    "duration": 10,
    "start_time": "2022-05-02T07:09:40.038Z"
   },
   {
    "duration": 6,
    "start_time": "2022-05-02T07:09:40.050Z"
   },
   {
    "duration": 11,
    "start_time": "2022-05-02T07:09:40.059Z"
   },
   {
    "duration": 42,
    "start_time": "2022-05-02T07:09:40.071Z"
   },
   {
    "duration": 9,
    "start_time": "2022-05-02T07:09:40.115Z"
   },
   {
    "duration": 12,
    "start_time": "2022-05-02T07:09:40.125Z"
   },
   {
    "duration": 9,
    "start_time": "2022-05-02T07:09:40.139Z"
   },
   {
    "duration": 18,
    "start_time": "2022-05-02T07:09:40.150Z"
   },
   {
    "duration": 6,
    "start_time": "2022-05-02T07:09:40.169Z"
   },
   {
    "duration": 42,
    "start_time": "2022-05-02T07:09:40.176Z"
   },
   {
    "duration": 705,
    "start_time": "2022-05-02T07:09:40.220Z"
   },
   {
    "duration": 201,
    "start_time": "2022-05-02T07:09:40.926Z"
   },
   {
    "duration": 272,
    "start_time": "2022-05-02T07:09:41.129Z"
   },
   {
    "duration": 171,
    "start_time": "2022-05-02T07:09:41.407Z"
   },
   {
    "duration": 329,
    "start_time": "2022-05-02T07:09:41.580Z"
   },
   {
    "duration": 11,
    "start_time": "2022-05-02T07:09:41.911Z"
   },
   {
    "duration": 135,
    "start_time": "2022-05-02T07:09:41.923Z"
   },
   {
    "duration": 5,
    "start_time": "2022-05-02T07:09:42.060Z"
   },
   {
    "duration": 13,
    "start_time": "2022-05-02T07:09:42.066Z"
   },
   {
    "duration": 137,
    "start_time": "2022-05-02T07:09:42.080Z"
   },
   {
    "duration": 4,
    "start_time": "2022-05-02T07:09:42.221Z"
   },
   {
    "duration": 30,
    "start_time": "2022-05-02T07:09:42.227Z"
   },
   {
    "duration": 157,
    "start_time": "2022-05-02T07:09:42.259Z"
   },
   {
    "duration": 7,
    "start_time": "2022-05-02T07:09:42.417Z"
   },
   {
    "duration": 7,
    "start_time": "2022-05-02T07:09:42.426Z"
   },
   {
    "duration": 23,
    "start_time": "2022-05-02T07:09:42.434Z"
   },
   {
    "duration": 9,
    "start_time": "2022-05-02T07:09:42.459Z"
   },
   {
    "duration": 7,
    "start_time": "2022-05-02T07:09:42.470Z"
   },
   {
    "duration": 4,
    "start_time": "2022-05-02T07:09:42.507Z"
   },
   {
    "duration": 10,
    "start_time": "2022-05-02T07:09:42.513Z"
   },
   {
    "duration": 24,
    "start_time": "2022-05-02T07:09:42.525Z"
   },
   {
    "duration": 13,
    "start_time": "2022-05-02T07:09:42.551Z"
   },
   {
    "duration": 2,
    "start_time": "2022-05-02T07:09:42.566Z"
   },
   {
    "duration": 5,
    "start_time": "2022-05-02T07:09:42.570Z"
   },
   {
    "duration": 4,
    "start_time": "2022-05-02T07:09:42.608Z"
   },
   {
    "duration": 181,
    "start_time": "2022-05-02T07:09:42.614Z"
   },
   {
    "duration": 194,
    "start_time": "2022-05-02T07:09:42.797Z"
   },
   {
    "duration": 260,
    "start_time": "2022-05-02T07:09:42.993Z"
   },
   {
    "duration": 277,
    "start_time": "2022-05-02T07:09:43.255Z"
   },
   {
    "duration": 454,
    "start_time": "2022-05-02T07:09:56.378Z"
   },
   {
    "duration": 448,
    "start_time": "2022-05-02T07:10:29.822Z"
   },
   {
    "duration": 1164,
    "start_time": "2022-05-02T07:11:23.107Z"
   },
   {
    "duration": 37,
    "start_time": "2022-05-02T07:11:24.273Z"
   },
   {
    "duration": 30,
    "start_time": "2022-05-02T07:11:24.311Z"
   },
   {
    "duration": 24,
    "start_time": "2022-05-02T07:11:24.344Z"
   },
   {
    "duration": 51,
    "start_time": "2022-05-02T07:11:24.369Z"
   },
   {
    "duration": 9,
    "start_time": "2022-05-02T07:11:24.422Z"
   },
   {
    "duration": 22,
    "start_time": "2022-05-02T07:11:24.433Z"
   },
   {
    "duration": 51,
    "start_time": "2022-05-02T07:11:24.457Z"
   },
   {
    "duration": 5,
    "start_time": "2022-05-02T07:11:24.511Z"
   },
   {
    "duration": 20,
    "start_time": "2022-05-02T07:11:24.518Z"
   },
   {
    "duration": 18,
    "start_time": "2022-05-02T07:11:24.539Z"
   },
   {
    "duration": 10,
    "start_time": "2022-05-02T07:11:24.559Z"
   },
   {
    "duration": 12,
    "start_time": "2022-05-02T07:11:24.570Z"
   },
   {
    "duration": 29,
    "start_time": "2022-05-02T07:11:24.584Z"
   },
   {
    "duration": 21,
    "start_time": "2022-05-02T07:11:24.615Z"
   },
   {
    "duration": 8,
    "start_time": "2022-05-02T07:11:24.638Z"
   },
   {
    "duration": 13,
    "start_time": "2022-05-02T07:11:24.648Z"
   },
   {
    "duration": 576,
    "start_time": "2022-05-02T07:11:24.663Z"
   },
   {
    "duration": 191,
    "start_time": "2022-05-02T07:11:25.241Z"
   },
   {
    "duration": 267,
    "start_time": "2022-05-02T07:11:25.433Z"
   },
   {
    "duration": 173,
    "start_time": "2022-05-02T07:11:25.707Z"
   },
   {
    "duration": 318,
    "start_time": "2022-05-02T07:11:25.882Z"
   },
   {
    "duration": 12,
    "start_time": "2022-05-02T07:11:26.208Z"
   },
   {
    "duration": 143,
    "start_time": "2022-05-02T07:11:26.222Z"
   },
   {
    "duration": 6,
    "start_time": "2022-05-02T07:11:26.368Z"
   },
   {
    "duration": 32,
    "start_time": "2022-05-02T07:11:26.376Z"
   },
   {
    "duration": 133,
    "start_time": "2022-05-02T07:11:26.410Z"
   },
   {
    "duration": 5,
    "start_time": "2022-05-02T07:11:26.546Z"
   },
   {
    "duration": 33,
    "start_time": "2022-05-02T07:11:26.553Z"
   },
   {
    "duration": 172,
    "start_time": "2022-05-02T07:11:26.587Z"
   },
   {
    "duration": 7,
    "start_time": "2022-05-02T07:11:26.761Z"
   },
   {
    "duration": 7,
    "start_time": "2022-05-02T07:11:26.770Z"
   },
   {
    "duration": 47,
    "start_time": "2022-05-02T07:11:26.778Z"
   },
   {
    "duration": 11,
    "start_time": "2022-05-02T07:11:26.827Z"
   },
   {
    "duration": 9,
    "start_time": "2022-05-02T07:11:26.840Z"
   },
   {
    "duration": 7,
    "start_time": "2022-05-02T07:11:26.851Z"
   },
   {
    "duration": 9,
    "start_time": "2022-05-02T07:11:26.860Z"
   },
   {
    "duration": 57,
    "start_time": "2022-05-02T07:11:26.870Z"
   },
   {
    "duration": 15,
    "start_time": "2022-05-02T07:11:26.929Z"
   },
   {
    "duration": 3,
    "start_time": "2022-05-02T07:11:26.945Z"
   },
   {
    "duration": 6,
    "start_time": "2022-05-02T07:11:26.950Z"
   },
   {
    "duration": 4,
    "start_time": "2022-05-02T07:11:26.958Z"
   },
   {
    "duration": 204,
    "start_time": "2022-05-02T07:11:26.964Z"
   },
   {
    "duration": 197,
    "start_time": "2022-05-02T07:11:27.170Z"
   },
   {
    "duration": 272,
    "start_time": "2022-05-02T07:11:27.369Z"
   },
   {
    "duration": 285,
    "start_time": "2022-05-02T07:11:27.643Z"
   },
   {
    "duration": 196,
    "start_time": "2022-05-02T07:12:13.551Z"
   },
   {
    "duration": 175,
    "start_time": "2022-05-02T07:13:10.826Z"
   },
   {
    "duration": 179,
    "start_time": "2022-05-02T07:13:20.687Z"
   },
   {
    "duration": 334,
    "start_time": "2022-05-02T07:14:15.201Z"
   },
   {
    "duration": 739,
    "start_time": "2022-05-02T07:21:20.189Z"
   },
   {
    "duration": 3,
    "start_time": "2022-05-02T07:23:38.673Z"
   },
   {
    "duration": 194,
    "start_time": "2022-05-02T07:23:53.753Z"
   },
   {
    "duration": 118,
    "start_time": "2022-05-02T07:24:43.432Z"
   },
   {
    "duration": 105,
    "start_time": "2022-05-02T07:25:35.180Z"
   },
   {
    "duration": 127,
    "start_time": "2022-05-02T07:26:06.398Z"
   },
   {
    "duration": 126,
    "start_time": "2022-05-02T07:26:29.927Z"
   },
   {
    "duration": 15,
    "start_time": "2022-05-02T07:28:47.806Z"
   },
   {
    "duration": 96,
    "start_time": "2022-05-02T07:32:11.390Z"
   },
   {
    "duration": 19,
    "start_time": "2022-05-02T07:36:31.698Z"
   },
   {
    "duration": 1122,
    "start_time": "2022-05-02T07:36:56.139Z"
   },
   {
    "duration": 37,
    "start_time": "2022-05-02T07:36:57.263Z"
   },
   {
    "duration": 27,
    "start_time": "2022-05-02T07:36:57.302Z"
   },
   {
    "duration": 21,
    "start_time": "2022-05-02T07:36:57.332Z"
   },
   {
    "duration": 24,
    "start_time": "2022-05-02T07:36:57.355Z"
   },
   {
    "duration": 9,
    "start_time": "2022-05-02T07:36:57.408Z"
   },
   {
    "duration": 38,
    "start_time": "2022-05-02T07:36:57.419Z"
   },
   {
    "duration": 34,
    "start_time": "2022-05-02T07:36:57.459Z"
   },
   {
    "duration": 27,
    "start_time": "2022-05-02T07:36:57.495Z"
   },
   {
    "duration": 21,
    "start_time": "2022-05-02T07:36:57.525Z"
   },
   {
    "duration": 36,
    "start_time": "2022-05-02T07:36:57.547Z"
   },
   {
    "duration": 22,
    "start_time": "2022-05-02T07:36:57.584Z"
   },
   {
    "duration": 21,
    "start_time": "2022-05-02T07:36:57.608Z"
   },
   {
    "duration": 23,
    "start_time": "2022-05-02T07:36:57.631Z"
   },
   {
    "duration": 21,
    "start_time": "2022-05-02T07:36:57.656Z"
   },
   {
    "duration": 6,
    "start_time": "2022-05-02T07:36:57.679Z"
   },
   {
    "duration": 11,
    "start_time": "2022-05-02T07:36:57.687Z"
   },
   {
    "duration": 559,
    "start_time": "2022-05-02T07:36:57.708Z"
   },
   {
    "duration": 196,
    "start_time": "2022-05-02T07:36:58.269Z"
   },
   {
    "duration": 308,
    "start_time": "2022-05-02T07:36:58.467Z"
   },
   {
    "duration": 204,
    "start_time": "2022-05-02T07:36:58.776Z"
   },
   {
    "duration": 320,
    "start_time": "2022-05-02T07:36:58.981Z"
   },
   {
    "duration": 12,
    "start_time": "2022-05-02T07:36:59.308Z"
   },
   {
    "duration": 150,
    "start_time": "2022-05-02T07:36:59.321Z"
   },
   {
    "duration": 9,
    "start_time": "2022-05-02T07:36:59.473Z"
   },
   {
    "duration": 12,
    "start_time": "2022-05-02T07:36:59.483Z"
   },
   {
    "duration": 11,
    "start_time": "2022-05-02T07:36:59.497Z"
   },
   {
    "duration": 20,
    "start_time": "2022-05-02T07:36:59.512Z"
   },
   {
    "duration": 137,
    "start_time": "2022-05-02T07:36:59.533Z"
   },
   {
    "duration": 109,
    "start_time": "2022-05-02T07:36:59.672Z"
   },
   {
    "duration": 0,
    "start_time": "2022-05-02T07:36:59.782Z"
   },
   {
    "duration": 0,
    "start_time": "2022-05-02T07:36:59.784Z"
   },
   {
    "duration": 0,
    "start_time": "2022-05-02T07:36:59.785Z"
   },
   {
    "duration": 0,
    "start_time": "2022-05-02T07:36:59.786Z"
   },
   {
    "duration": 0,
    "start_time": "2022-05-02T07:36:59.787Z"
   },
   {
    "duration": 0,
    "start_time": "2022-05-02T07:36:59.788Z"
   },
   {
    "duration": 0,
    "start_time": "2022-05-02T07:36:59.789Z"
   },
   {
    "duration": 0,
    "start_time": "2022-05-02T07:36:59.807Z"
   },
   {
    "duration": 0,
    "start_time": "2022-05-02T07:36:59.808Z"
   },
   {
    "duration": 0,
    "start_time": "2022-05-02T07:36:59.809Z"
   },
   {
    "duration": 0,
    "start_time": "2022-05-02T07:36:59.811Z"
   },
   {
    "duration": 0,
    "start_time": "2022-05-02T07:36:59.812Z"
   },
   {
    "duration": 0,
    "start_time": "2022-05-02T07:36:59.814Z"
   },
   {
    "duration": 0,
    "start_time": "2022-05-02T07:36:59.814Z"
   },
   {
    "duration": 0,
    "start_time": "2022-05-02T07:36:59.816Z"
   },
   {
    "duration": 0,
    "start_time": "2022-05-02T07:36:59.817Z"
   },
   {
    "duration": 0,
    "start_time": "2022-05-02T07:36:59.818Z"
   },
   {
    "duration": 0,
    "start_time": "2022-05-02T07:36:59.819Z"
   },
   {
    "duration": 5,
    "start_time": "2022-05-02T07:37:56.858Z"
   },
   {
    "duration": 5,
    "start_time": "2022-05-02T07:38:47.027Z"
   },
   {
    "duration": 4,
    "start_time": "2022-05-02T07:39:29.244Z"
   },
   {
    "duration": 11,
    "start_time": "2022-05-02T07:40:38.112Z"
   },
   {
    "duration": 1141,
    "start_time": "2022-05-02T07:41:01.667Z"
   },
   {
    "duration": 36,
    "start_time": "2022-05-02T07:41:02.810Z"
   },
   {
    "duration": 30,
    "start_time": "2022-05-02T07:41:02.852Z"
   },
   {
    "duration": 34,
    "start_time": "2022-05-02T07:41:02.884Z"
   },
   {
    "duration": 22,
    "start_time": "2022-05-02T07:41:02.920Z"
   },
   {
    "duration": 15,
    "start_time": "2022-05-02T07:41:02.943Z"
   },
   {
    "duration": 50,
    "start_time": "2022-05-02T07:41:02.960Z"
   },
   {
    "duration": 18,
    "start_time": "2022-05-02T07:41:03.012Z"
   },
   {
    "duration": 31,
    "start_time": "2022-05-02T07:41:03.033Z"
   },
   {
    "duration": 29,
    "start_time": "2022-05-02T07:41:03.066Z"
   },
   {
    "duration": 26,
    "start_time": "2022-05-02T07:41:03.097Z"
   },
   {
    "duration": 18,
    "start_time": "2022-05-02T07:41:03.125Z"
   },
   {
    "duration": 21,
    "start_time": "2022-05-02T07:41:03.144Z"
   },
   {
    "duration": 27,
    "start_time": "2022-05-02T07:41:03.167Z"
   },
   {
    "duration": 30,
    "start_time": "2022-05-02T07:41:03.196Z"
   },
   {
    "duration": 8,
    "start_time": "2022-05-02T07:41:03.228Z"
   },
   {
    "duration": 32,
    "start_time": "2022-05-02T07:41:03.238Z"
   },
   {
    "duration": 581,
    "start_time": "2022-05-02T07:41:03.272Z"
   },
   {
    "duration": 216,
    "start_time": "2022-05-02T07:41:03.855Z"
   },
   {
    "duration": 315,
    "start_time": "2022-05-02T07:41:04.073Z"
   },
   {
    "duration": 209,
    "start_time": "2022-05-02T07:41:04.390Z"
   },
   {
    "duration": 320,
    "start_time": "2022-05-02T07:41:04.602Z"
   },
   {
    "duration": 11,
    "start_time": "2022-05-02T07:41:04.924Z"
   },
   {
    "duration": 150,
    "start_time": "2022-05-02T07:41:04.937Z"
   },
   {
    "duration": 5,
    "start_time": "2022-05-02T07:41:05.089Z"
   },
   {
    "duration": 2,
    "start_time": "2022-05-02T07:41:05.108Z"
   },
   {
    "duration": 3,
    "start_time": "2022-05-02T07:41:05.114Z"
   },
   {
    "duration": 16,
    "start_time": "2022-05-02T07:41:05.118Z"
   },
   {
    "duration": 156,
    "start_time": "2022-05-02T07:41:05.136Z"
   },
   {
    "duration": 3,
    "start_time": "2022-05-02T07:41:05.293Z"
   },
   {
    "duration": 5,
    "start_time": "2022-05-02T07:41:05.307Z"
   },
   {
    "duration": 34,
    "start_time": "2022-05-02T07:41:05.314Z"
   },
   {
    "duration": 181,
    "start_time": "2022-05-02T07:41:05.350Z"
   },
   {
    "duration": 7,
    "start_time": "2022-05-02T07:41:05.533Z"
   },
   {
    "duration": 8,
    "start_time": "2022-05-02T07:41:05.542Z"
   },
   {
    "duration": 29,
    "start_time": "2022-05-02T07:41:05.551Z"
   },
   {
    "duration": 29,
    "start_time": "2022-05-02T07:41:05.582Z"
   },
   {
    "duration": 119,
    "start_time": "2022-05-02T07:41:05.613Z"
   },
   {
    "duration": 0,
    "start_time": "2022-05-02T07:41:05.734Z"
   },
   {
    "duration": 0,
    "start_time": "2022-05-02T07:41:05.735Z"
   },
   {
    "duration": 0,
    "start_time": "2022-05-02T07:41:05.737Z"
   },
   {
    "duration": 0,
    "start_time": "2022-05-02T07:41:05.738Z"
   },
   {
    "duration": 0,
    "start_time": "2022-05-02T07:41:05.740Z"
   },
   {
    "duration": 0,
    "start_time": "2022-05-02T07:41:05.741Z"
   },
   {
    "duration": 0,
    "start_time": "2022-05-02T07:41:05.742Z"
   },
   {
    "duration": 0,
    "start_time": "2022-05-02T07:41:05.743Z"
   },
   {
    "duration": 0,
    "start_time": "2022-05-02T07:41:05.744Z"
   },
   {
    "duration": 0,
    "start_time": "2022-05-02T07:41:05.745Z"
   },
   {
    "duration": 0,
    "start_time": "2022-05-02T07:41:05.747Z"
   },
   {
    "duration": 11,
    "start_time": "2022-05-02T07:41:43.353Z"
   },
   {
    "duration": 10,
    "start_time": "2022-05-02T07:43:57.527Z"
   },
   {
    "duration": 10,
    "start_time": "2022-05-02T07:44:53.034Z"
   },
   {
    "duration": 15,
    "start_time": "2022-05-02T07:45:03.780Z"
   },
   {
    "duration": 10,
    "start_time": "2022-05-02T07:45:46.585Z"
   },
   {
    "duration": 6,
    "start_time": "2022-05-02T07:46:03.688Z"
   },
   {
    "duration": 3,
    "start_time": "2022-05-02T07:46:15.353Z"
   },
   {
    "duration": 5,
    "start_time": "2022-05-02T07:46:18.930Z"
   },
   {
    "duration": 8,
    "start_time": "2022-05-02T07:47:17.442Z"
   },
   {
    "duration": 5,
    "start_time": "2022-05-02T07:48:37.868Z"
   },
   {
    "duration": 13,
    "start_time": "2022-05-02T07:48:56.534Z"
   },
   {
    "duration": 5,
    "start_time": "2022-05-02T07:50:02.152Z"
   },
   {
    "duration": 14,
    "start_time": "2022-05-02T07:50:04.978Z"
   },
   {
    "duration": 4,
    "start_time": "2022-05-02T07:50:17.984Z"
   },
   {
    "duration": 11,
    "start_time": "2022-05-02T07:50:21.274Z"
   },
   {
    "duration": 4,
    "start_time": "2022-05-02T07:50:32.727Z"
   },
   {
    "duration": 11,
    "start_time": "2022-05-02T07:51:01.161Z"
   },
   {
    "duration": 1130,
    "start_time": "2022-05-02T07:51:12.847Z"
   },
   {
    "duration": 37,
    "start_time": "2022-05-02T07:51:13.979Z"
   },
   {
    "duration": 29,
    "start_time": "2022-05-02T07:51:14.018Z"
   },
   {
    "duration": 23,
    "start_time": "2022-05-02T07:51:14.049Z"
   },
   {
    "duration": 48,
    "start_time": "2022-05-02T07:51:14.073Z"
   },
   {
    "duration": 10,
    "start_time": "2022-05-02T07:51:14.123Z"
   },
   {
    "duration": 21,
    "start_time": "2022-05-02T07:51:14.135Z"
   },
   {
    "duration": 13,
    "start_time": "2022-05-02T07:51:14.158Z"
   },
   {
    "duration": 42,
    "start_time": "2022-05-02T07:51:14.172Z"
   },
   {
    "duration": 12,
    "start_time": "2022-05-02T07:51:14.216Z"
   },
   {
    "duration": 12,
    "start_time": "2022-05-02T07:51:14.230Z"
   },
   {
    "duration": 6,
    "start_time": "2022-05-02T07:51:14.244Z"
   },
   {
    "duration": 11,
    "start_time": "2022-05-02T07:51:14.251Z"
   },
   {
    "duration": 7,
    "start_time": "2022-05-02T07:51:14.264Z"
   },
   {
    "duration": 54,
    "start_time": "2022-05-02T07:51:14.273Z"
   },
   {
    "duration": 7,
    "start_time": "2022-05-02T07:51:14.328Z"
   },
   {
    "duration": 12,
    "start_time": "2022-05-02T07:51:14.336Z"
   },
   {
    "duration": 583,
    "start_time": "2022-05-02T07:51:14.350Z"
   },
   {
    "duration": 205,
    "start_time": "2022-05-02T07:51:14.934Z"
   },
   {
    "duration": 284,
    "start_time": "2022-05-02T07:51:15.140Z"
   },
   {
    "duration": 199,
    "start_time": "2022-05-02T07:51:15.425Z"
   },
   {
    "duration": 299,
    "start_time": "2022-05-02T07:51:15.626Z"
   },
   {
    "duration": 12,
    "start_time": "2022-05-02T07:51:15.926Z"
   },
   {
    "duration": 148,
    "start_time": "2022-05-02T07:51:15.939Z"
   },
   {
    "duration": 5,
    "start_time": "2022-05-02T07:51:16.089Z"
   },
   {
    "duration": 2,
    "start_time": "2022-05-02T07:51:16.108Z"
   },
   {
    "duration": 4,
    "start_time": "2022-05-02T07:51:16.112Z"
   },
   {
    "duration": 13,
    "start_time": "2022-05-02T07:51:16.120Z"
   },
   {
    "duration": 153,
    "start_time": "2022-05-02T07:51:16.135Z"
   },
   {
    "duration": 3,
    "start_time": "2022-05-02T07:51:16.289Z"
   },
   {
    "duration": 18,
    "start_time": "2022-05-02T07:51:16.293Z"
   },
   {
    "duration": 32,
    "start_time": "2022-05-02T07:51:16.312Z"
   },
   {
    "duration": 167,
    "start_time": "2022-05-02T07:51:16.346Z"
   },
   {
    "duration": 8,
    "start_time": "2022-05-02T07:51:16.514Z"
   },
   {
    "duration": 7,
    "start_time": "2022-05-02T07:51:16.523Z"
   },
   {
    "duration": 27,
    "start_time": "2022-05-02T07:51:16.532Z"
   },
   {
    "duration": 11,
    "start_time": "2022-05-02T07:51:16.561Z"
   },
   {
    "duration": 39,
    "start_time": "2022-05-02T07:51:16.573Z"
   },
   {
    "duration": 7,
    "start_time": "2022-05-02T07:51:16.614Z"
   },
   {
    "duration": 12,
    "start_time": "2022-05-02T07:51:16.623Z"
   },
   {
    "duration": 25,
    "start_time": "2022-05-02T07:51:16.636Z"
   },
   {
    "duration": 14,
    "start_time": "2022-05-02T07:51:16.662Z"
   },
   {
    "duration": 3,
    "start_time": "2022-05-02T07:51:16.707Z"
   },
   {
    "duration": 9,
    "start_time": "2022-05-02T07:51:16.711Z"
   },
   {
    "duration": 9,
    "start_time": "2022-05-02T07:51:16.722Z"
   },
   {
    "duration": 185,
    "start_time": "2022-05-02T07:51:16.733Z"
   },
   {
    "duration": 205,
    "start_time": "2022-05-02T07:51:16.919Z"
   },
   {
    "duration": 277,
    "start_time": "2022-05-02T07:51:17.125Z"
   },
   {
    "duration": 306,
    "start_time": "2022-05-02T07:51:17.407Z"
   },
   {
    "duration": 11,
    "start_time": "2022-05-02T07:52:09.486Z"
   },
   {
    "duration": 200,
    "start_time": "2022-05-02T08:00:20.528Z"
   },
   {
    "duration": 199,
    "start_time": "2022-05-02T08:01:06.467Z"
   },
   {
    "duration": 271,
    "start_time": "2022-05-02T08:02:35.045Z"
   },
   {
    "duration": 1130,
    "start_time": "2022-05-02T08:14:16.644Z"
   },
   {
    "duration": 37,
    "start_time": "2022-05-02T08:14:17.777Z"
   },
   {
    "duration": 33,
    "start_time": "2022-05-02T08:14:17.816Z"
   },
   {
    "duration": 26,
    "start_time": "2022-05-02T08:14:17.852Z"
   },
   {
    "duration": 24,
    "start_time": "2022-05-02T08:14:17.908Z"
   },
   {
    "duration": 10,
    "start_time": "2022-05-02T08:14:17.934Z"
   },
   {
    "duration": 21,
    "start_time": "2022-05-02T08:14:17.946Z"
   },
   {
    "duration": 46,
    "start_time": "2022-05-02T08:14:17.968Z"
   },
   {
    "duration": 5,
    "start_time": "2022-05-02T08:14:18.016Z"
   },
   {
    "duration": 12,
    "start_time": "2022-05-02T08:14:18.024Z"
   },
   {
    "duration": 13,
    "start_time": "2022-05-02T08:14:18.038Z"
   },
   {
    "duration": 4,
    "start_time": "2022-05-02T08:14:18.053Z"
   },
   {
    "duration": 54,
    "start_time": "2022-05-02T08:14:18.059Z"
   },
   {
    "duration": 6,
    "start_time": "2022-05-02T08:14:18.115Z"
   },
   {
    "duration": 20,
    "start_time": "2022-05-02T08:14:18.123Z"
   },
   {
    "duration": 7,
    "start_time": "2022-05-02T08:14:18.145Z"
   },
   {
    "duration": 25,
    "start_time": "2022-05-02T08:14:18.154Z"
   },
   {
    "duration": 584,
    "start_time": "2022-05-02T08:14:18.181Z"
   },
   {
    "duration": 209,
    "start_time": "2022-05-02T08:14:18.767Z"
   },
   {
    "duration": 317,
    "start_time": "2022-05-02T08:14:18.979Z"
   },
   {
    "duration": 210,
    "start_time": "2022-05-02T08:14:19.298Z"
   },
   {
    "duration": 311,
    "start_time": "2022-05-02T08:14:19.509Z"
   },
   {
    "duration": 11,
    "start_time": "2022-05-02T08:14:19.822Z"
   },
   {
    "duration": 146,
    "start_time": "2022-05-02T08:14:19.835Z"
   },
   {
    "duration": 6,
    "start_time": "2022-05-02T08:14:19.983Z"
   },
   {
    "duration": 4,
    "start_time": "2022-05-02T08:14:19.990Z"
   },
   {
    "duration": 2,
    "start_time": "2022-05-02T08:14:20.008Z"
   },
   {
    "duration": 15,
    "start_time": "2022-05-02T08:14:20.014Z"
   },
   {
    "duration": 156,
    "start_time": "2022-05-02T08:14:20.031Z"
   },
   {
    "duration": 3,
    "start_time": "2022-05-02T08:14:20.189Z"
   },
   {
    "duration": 14,
    "start_time": "2022-05-02T08:14:20.194Z"
   },
   {
    "duration": 38,
    "start_time": "2022-05-02T08:14:20.210Z"
   },
   {
    "duration": 144,
    "start_time": "2022-05-02T08:14:20.250Z"
   },
   {
    "duration": 17,
    "start_time": "2022-05-02T08:14:20.396Z"
   },
   {
    "duration": 7,
    "start_time": "2022-05-02T08:14:20.415Z"
   },
   {
    "duration": 27,
    "start_time": "2022-05-02T08:14:20.424Z"
   },
   {
    "duration": 11,
    "start_time": "2022-05-02T08:14:20.453Z"
   },
   {
    "duration": 42,
    "start_time": "2022-05-02T08:14:20.466Z"
   },
   {
    "duration": 5,
    "start_time": "2022-05-02T08:14:20.510Z"
   },
   {
    "duration": 9,
    "start_time": "2022-05-02T08:14:20.516Z"
   },
   {
    "duration": 24,
    "start_time": "2022-05-02T08:14:20.527Z"
   },
   {
    "duration": 14,
    "start_time": "2022-05-02T08:14:20.553Z"
   },
   {
    "duration": 16,
    "start_time": "2022-05-02T08:14:20.568Z"
   },
   {
    "duration": 6,
    "start_time": "2022-05-02T08:14:20.606Z"
   },
   {
    "duration": 11,
    "start_time": "2022-05-02T08:14:20.614Z"
   },
   {
    "duration": 188,
    "start_time": "2022-05-02T08:14:20.627Z"
   },
   {
    "duration": 209,
    "start_time": "2022-05-02T08:14:20.817Z"
   },
   {
    "duration": 270,
    "start_time": "2022-05-02T08:14:21.028Z"
   },
   {
    "duration": 317,
    "start_time": "2022-05-02T08:14:21.299Z"
   },
   {
    "duration": 119,
    "start_time": "2022-05-02T08:15:47.207Z"
   },
   {
    "duration": 1176,
    "start_time": "2022-05-02T08:16:00.595Z"
   },
   {
    "duration": 39,
    "start_time": "2022-05-02T08:16:01.773Z"
   },
   {
    "duration": 30,
    "start_time": "2022-05-02T08:16:01.816Z"
   },
   {
    "duration": 25,
    "start_time": "2022-05-02T08:16:01.848Z"
   },
   {
    "duration": 50,
    "start_time": "2022-05-02T08:16:01.874Z"
   },
   {
    "duration": 9,
    "start_time": "2022-05-02T08:16:01.926Z"
   },
   {
    "duration": 22,
    "start_time": "2022-05-02T08:16:01.937Z"
   },
   {
    "duration": 15,
    "start_time": "2022-05-02T08:16:01.961Z"
   },
   {
    "duration": 31,
    "start_time": "2022-05-02T08:16:01.979Z"
   },
   {
    "duration": 17,
    "start_time": "2022-05-02T08:16:02.012Z"
   },
   {
    "duration": 13,
    "start_time": "2022-05-02T08:16:02.031Z"
   },
   {
    "duration": 8,
    "start_time": "2022-05-02T08:16:02.046Z"
   },
   {
    "duration": 12,
    "start_time": "2022-05-02T08:16:02.056Z"
   },
   {
    "duration": 9,
    "start_time": "2022-05-02T08:16:02.070Z"
   },
   {
    "duration": 21,
    "start_time": "2022-05-02T08:16:02.106Z"
   },
   {
    "duration": 6,
    "start_time": "2022-05-02T08:16:02.129Z"
   },
   {
    "duration": 14,
    "start_time": "2022-05-02T08:16:02.137Z"
   },
   {
    "duration": 566,
    "start_time": "2022-05-02T08:16:02.153Z"
   },
   {
    "duration": 199,
    "start_time": "2022-05-02T08:16:02.721Z"
   },
   {
    "duration": 285,
    "start_time": "2022-05-02T08:16:02.922Z"
   },
   {
    "duration": 201,
    "start_time": "2022-05-02T08:16:03.209Z"
   },
   {
    "duration": 307,
    "start_time": "2022-05-02T08:16:03.412Z"
   },
   {
    "duration": 13,
    "start_time": "2022-05-02T08:16:03.721Z"
   },
   {
    "duration": 147,
    "start_time": "2022-05-02T08:16:03.736Z"
   },
   {
    "duration": 6,
    "start_time": "2022-05-02T08:16:03.886Z"
   },
   {
    "duration": 15,
    "start_time": "2022-05-02T08:16:03.893Z"
   },
   {
    "duration": 2,
    "start_time": "2022-05-02T08:16:03.914Z"
   },
   {
    "duration": 15,
    "start_time": "2022-05-02T08:16:03.918Z"
   },
   {
    "duration": 147,
    "start_time": "2022-05-02T08:16:03.935Z"
   },
   {
    "duration": 3,
    "start_time": "2022-05-02T08:16:04.083Z"
   },
   {
    "duration": 20,
    "start_time": "2022-05-02T08:16:04.087Z"
   },
   {
    "duration": 35,
    "start_time": "2022-05-02T08:16:04.109Z"
   },
   {
    "duration": 172,
    "start_time": "2022-05-02T08:16:04.145Z"
   },
   {
    "duration": 7,
    "start_time": "2022-05-02T08:16:04.319Z"
   },
   {
    "duration": 8,
    "start_time": "2022-05-02T08:16:04.328Z"
   },
   {
    "duration": 28,
    "start_time": "2022-05-02T08:16:04.337Z"
   },
   {
    "duration": 11,
    "start_time": "2022-05-02T08:16:04.367Z"
   },
   {
    "duration": 11,
    "start_time": "2022-05-02T08:16:04.408Z"
   },
   {
    "duration": 4,
    "start_time": "2022-05-02T08:16:04.421Z"
   },
   {
    "duration": 9,
    "start_time": "2022-05-02T08:16:04.426Z"
   },
   {
    "duration": 24,
    "start_time": "2022-05-02T08:16:04.437Z"
   },
   {
    "duration": 49,
    "start_time": "2022-05-02T08:16:04.463Z"
   },
   {
    "duration": 3,
    "start_time": "2022-05-02T08:16:04.514Z"
   },
   {
    "duration": 6,
    "start_time": "2022-05-02T08:16:04.519Z"
   },
   {
    "duration": 9,
    "start_time": "2022-05-02T08:16:04.527Z"
   },
   {
    "duration": 194,
    "start_time": "2022-05-02T08:16:04.538Z"
   },
   {
    "duration": 211,
    "start_time": "2022-05-02T08:16:04.733Z"
   },
   {
    "duration": 284,
    "start_time": "2022-05-02T08:16:04.947Z"
   },
   {
    "duration": 478,
    "start_time": "2022-05-02T08:16:05.232Z"
   },
   {
    "duration": 14,
    "start_time": "2022-05-02T08:16:37.153Z"
   },
   {
    "duration": 126,
    "start_time": "2022-05-02T08:16:38.908Z"
   }
  ],
  "kernelspec": {
   "display_name": "Python 3 (ipykernel)",
   "language": "python",
   "name": "python3"
  },
  "language_info": {
   "codemirror_mode": {
    "name": "ipython",
    "version": 3
   },
   "file_extension": ".py",
   "mimetype": "text/x-python",
   "name": "python",
   "nbconvert_exporter": "python",
   "pygments_lexer": "ipython3",
   "version": "3.9.7"
  },
  "toc": {
   "base_numbering": 1,
   "nav_menu": {},
   "number_sections": true,
   "sideBar": true,
   "skip_h1_title": false,
   "title_cell": "Table of Contents",
   "title_sidebar": "Contents",
   "toc_cell": false,
   "toc_position": {},
   "toc_section_display": true,
   "toc_window_display": true
  }
 },
 "nbformat": 4,
 "nbformat_minor": 5
}

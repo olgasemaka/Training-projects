{
 "cells": [
  {
   "cell_type": "markdown",
   "id": "0106af69",
   "metadata": {},
   "source": [
    "# Исследование надежности заемщиков."
   ]
  },
  {
   "cell_type": "markdown",
   "id": "3d4ad5d2",
   "metadata": {},
   "source": [
    "***Нужно разобраться, влияет ли семейное положение и количество детей клиента на факт погашения кредита в срок.***\n",
    "\n",
    "Заказчик — кредитный отдел банка. Входные данные от банка — статистика о платёжеспособности клиентов.\n",
    "Результаты исследования будут учтены при построении модели кредитного скоринга — специальной системы, которая оценивает способность потенциального заёмщика вернуть кредит банку."
   ]
  },
  {
   "cell_type": "markdown",
   "id": "a0b76de4",
   "metadata": {},
   "source": [
    "### Шаг 1. Обзор данных"
   ]
  },
  {
   "cell_type": "code",
   "execution_count": 1,
   "id": "136b4628",
   "metadata": {
    "scrolled": false
   },
   "outputs": [
    {
     "data": {
      "text/html": [
       "<div>\n",
       "<style scoped>\n",
       "    .dataframe tbody tr th:only-of-type {\n",
       "        vertical-align: middle;\n",
       "    }\n",
       "\n",
       "    .dataframe tbody tr th {\n",
       "        vertical-align: top;\n",
       "    }\n",
       "\n",
       "    .dataframe thead th {\n",
       "        text-align: right;\n",
       "    }\n",
       "</style>\n",
       "<table border=\"1\" class=\"dataframe\">\n",
       "  <thead>\n",
       "    <tr style=\"text-align: right;\">\n",
       "      <th></th>\n",
       "      <th>children</th>\n",
       "      <th>days_employed</th>\n",
       "      <th>dob_years</th>\n",
       "      <th>education</th>\n",
       "      <th>education_id</th>\n",
       "      <th>family_status</th>\n",
       "      <th>family_status_id</th>\n",
       "      <th>gender</th>\n",
       "      <th>income_type</th>\n",
       "      <th>debt</th>\n",
       "      <th>total_income</th>\n",
       "      <th>purpose</th>\n",
       "    </tr>\n",
       "  </thead>\n",
       "  <tbody>\n",
       "    <tr>\n",
       "      <th>0</th>\n",
       "      <td>1</td>\n",
       "      <td>-8437.673028</td>\n",
       "      <td>42</td>\n",
       "      <td>высшее</td>\n",
       "      <td>0</td>\n",
       "      <td>женат / замужем</td>\n",
       "      <td>0</td>\n",
       "      <td>F</td>\n",
       "      <td>сотрудник</td>\n",
       "      <td>0</td>\n",
       "      <td>253875.639453</td>\n",
       "      <td>покупка жилья</td>\n",
       "    </tr>\n",
       "    <tr>\n",
       "      <th>1</th>\n",
       "      <td>1</td>\n",
       "      <td>-4024.803754</td>\n",
       "      <td>36</td>\n",
       "      <td>среднее</td>\n",
       "      <td>1</td>\n",
       "      <td>женат / замужем</td>\n",
       "      <td>0</td>\n",
       "      <td>F</td>\n",
       "      <td>сотрудник</td>\n",
       "      <td>0</td>\n",
       "      <td>112080.014102</td>\n",
       "      <td>приобретение автомобиля</td>\n",
       "    </tr>\n",
       "    <tr>\n",
       "      <th>2</th>\n",
       "      <td>0</td>\n",
       "      <td>-5623.422610</td>\n",
       "      <td>33</td>\n",
       "      <td>Среднее</td>\n",
       "      <td>1</td>\n",
       "      <td>женат / замужем</td>\n",
       "      <td>0</td>\n",
       "      <td>M</td>\n",
       "      <td>сотрудник</td>\n",
       "      <td>0</td>\n",
       "      <td>145885.952297</td>\n",
       "      <td>покупка жилья</td>\n",
       "    </tr>\n",
       "    <tr>\n",
       "      <th>3</th>\n",
       "      <td>3</td>\n",
       "      <td>-4124.747207</td>\n",
       "      <td>32</td>\n",
       "      <td>среднее</td>\n",
       "      <td>1</td>\n",
       "      <td>женат / замужем</td>\n",
       "      <td>0</td>\n",
       "      <td>M</td>\n",
       "      <td>сотрудник</td>\n",
       "      <td>0</td>\n",
       "      <td>267628.550329</td>\n",
       "      <td>дополнительное образование</td>\n",
       "    </tr>\n",
       "    <tr>\n",
       "      <th>4</th>\n",
       "      <td>0</td>\n",
       "      <td>340266.072047</td>\n",
       "      <td>53</td>\n",
       "      <td>среднее</td>\n",
       "      <td>1</td>\n",
       "      <td>гражданский брак</td>\n",
       "      <td>1</td>\n",
       "      <td>F</td>\n",
       "      <td>пенсионер</td>\n",
       "      <td>0</td>\n",
       "      <td>158616.077870</td>\n",
       "      <td>сыграть свадьбу</td>\n",
       "    </tr>\n",
       "  </tbody>\n",
       "</table>\n",
       "</div>"
      ],
      "text/plain": [
       "   children  days_employed  dob_years education  education_id  \\\n",
       "0         1   -8437.673028         42    высшее             0   \n",
       "1         1   -4024.803754         36   среднее             1   \n",
       "2         0   -5623.422610         33   Среднее             1   \n",
       "3         3   -4124.747207         32   среднее             1   \n",
       "4         0  340266.072047         53   среднее             1   \n",
       "\n",
       "      family_status  family_status_id gender income_type  debt   total_income  \\\n",
       "0   женат / замужем                 0      F   сотрудник     0  253875.639453   \n",
       "1   женат / замужем                 0      F   сотрудник     0  112080.014102   \n",
       "2   женат / замужем                 0      M   сотрудник     0  145885.952297   \n",
       "3   женат / замужем                 0      M   сотрудник     0  267628.550329   \n",
       "4  гражданский брак                 1      F   пенсионер     0  158616.077870   \n",
       "\n",
       "                      purpose  \n",
       "0               покупка жилья  \n",
       "1     приобретение автомобиля  \n",
       "2               покупка жилья  \n",
       "3  дополнительное образование  \n",
       "4             сыграть свадьбу  "
      ]
     },
     "execution_count": 1,
     "metadata": {},
     "output_type": "execute_result"
    }
   ],
   "source": [
    "import pandas as pd\n",
    "import seaborn as sns\n",
    "import os\n",
    "\n",
    "if os.path.exists('/datasets/data.csv'):\n",
    "    df = pd.read_csv('/datasets/games.csv')\n",
    "else:\n",
    "    df = pd.read_csv('C:/Users/user/Documents/Проекты ЯП/Анализ платёжеспособности/data.csv')\n",
    "#df = pd.read_csv('/datasets/data.csv') \n",
    "\n",
    "df.head() # Выводим на экран первые 15 строк таблицы:"
   ]
  },
  {
   "cell_type": "code",
   "execution_count": 2,
   "id": "6d3635ee",
   "metadata": {},
   "outputs": [
    {
     "name": "stdout",
     "output_type": "stream",
     "text": [
      "<class 'pandas.core.frame.DataFrame'>\n",
      "RangeIndex: 21525 entries, 0 to 21524\n",
      "Data columns (total 12 columns):\n",
      " #   Column            Non-Null Count  Dtype  \n",
      "---  ------            --------------  -----  \n",
      " 0   children          21525 non-null  int64  \n",
      " 1   days_employed     19351 non-null  float64\n",
      " 2   dob_years         21525 non-null  int64  \n",
      " 3   education         21525 non-null  object \n",
      " 4   education_id      21525 non-null  int64  \n",
      " 5   family_status     21525 non-null  object \n",
      " 6   family_status_id  21525 non-null  int64  \n",
      " 7   gender            21525 non-null  object \n",
      " 8   income_type       21525 non-null  object \n",
      " 9   debt              21525 non-null  int64  \n",
      " 10  total_income      19351 non-null  float64\n",
      " 11  purpose           21525 non-null  object \n",
      "dtypes: float64(2), int64(5), object(5)\n",
      "memory usage: 2.0+ MB\n"
     ]
    }
   ],
   "source": [
    "df.info() # Получаем общую информацию о таблице:"
   ]
  },
  {
   "cell_type": "markdown",
   "id": "a6c10696",
   "metadata": {},
   "source": [
    "***Описание данных***\n",
    "\n",
    "  В таблице 12 столбцов\n",
    "  \n",
    "- children — количество детей в семье\n",
    "- days_employed — общий трудовой стаж в днях\n",
    "- dob_years — возраст клиента в годах\n",
    "- education — уровень образования клиента\n",
    "- education_id — идентификатор уровня образования\n",
    "- family_status — семейное положение\n",
    "- family_status_id — идентификатор семейного положения\n",
    "- gender — пол клиента\n",
    "- income_type — тип занятости\n",
    "- debt — имел ли задолженность по возврату кредитов\n",
    "- total_income — ежемесячный доход\n",
    "- purpose — цель получения кредита\n",
    "\n",
    "Количество значений в столбцах различается. Столбцы days_employed и total_income имею пропуски значений."
   ]
  },
  {
   "cell_type": "markdown",
   "id": "6ff24e33",
   "metadata": {},
   "source": [
    "### Шаг 2.1 Заполнение пропусков"
   ]
  },
  {
   "cell_type": "code",
   "execution_count": 3,
   "id": "b6b1784e",
   "metadata": {},
   "outputs": [
    {
     "data": {
      "text/plain": [
       "children               0\n",
       "days_employed       2174\n",
       "dob_years              0\n",
       "education              0\n",
       "education_id           0\n",
       "family_status          0\n",
       "family_status_id       0\n",
       "gender                 0\n",
       "income_type            0\n",
       "debt                   0\n",
       "total_income        2174\n",
       "purpose                0\n",
       "dtype: int64"
      ]
     },
     "execution_count": 3,
     "metadata": {},
     "output_type": "execute_result"
    }
   ],
   "source": [
    "df.isna().sum() #сколько в таблице пропущенных значений."
   ]
  },
  {
   "cell_type": "markdown",
   "id": "0e05fecd",
   "metadata": {},
   "source": [
    "Количество пропусков в столбцах days_employed и total_income одинаковое. 2174 пропуска из 21525 строк это почти 10%. Удаление такого количества строк может привести к икажению результатов анализа.\n",
    "\n",
    "Цель анализа ответить на вопрос: влияет ли семейное положение и количество детей клиента на факт погашения кредита в срок?\n",
    "Из это следует, что наиболее важными для исследования данными являются данные столбцов: children, family_status, family_status_id и debt. Поэтому пропуски можно заменить.\n",
    "\n",
    "Так как общий трудовой стаж в днях и ежемесячный доход это количественные переменные, то заменять пропуски стоит медианным значением. Среднее значение некорректно характеризует данные, когда некоторые значения сильно выделяются среди большинства. \n",
    "\n",
    "Возможно, что пропуски связаны с тем, что в статистику попали клиенты которым было отказно в выдаче кредита.\n"
   ]
  },
  {
   "cell_type": "code",
   "execution_count": 4,
   "id": "0f6b5337",
   "metadata": {},
   "outputs": [
    {
     "data": {
      "text/html": [
       "<div>\n",
       "<style scoped>\n",
       "    .dataframe tbody tr th:only-of-type {\n",
       "        vertical-align: middle;\n",
       "    }\n",
       "\n",
       "    .dataframe tbody tr th {\n",
       "        vertical-align: top;\n",
       "    }\n",
       "\n",
       "    .dataframe thead th {\n",
       "        text-align: right;\n",
       "    }\n",
       "</style>\n",
       "<table border=\"1\" class=\"dataframe\">\n",
       "  <thead>\n",
       "    <tr style=\"text-align: right;\">\n",
       "      <th></th>\n",
       "      <th>children</th>\n",
       "      <th>days_employed</th>\n",
       "      <th>dob_years</th>\n",
       "      <th>education</th>\n",
       "      <th>education_id</th>\n",
       "      <th>family_status</th>\n",
       "      <th>family_status_id</th>\n",
       "      <th>gender</th>\n",
       "      <th>income_type</th>\n",
       "      <th>debt</th>\n",
       "      <th>total_income</th>\n",
       "      <th>purpose</th>\n",
       "    </tr>\n",
       "  </thead>\n",
       "  <tbody>\n",
       "    <tr>\n",
       "      <th>0</th>\n",
       "      <td>1</td>\n",
       "      <td>8437.673028</td>\n",
       "      <td>42</td>\n",
       "      <td>высшее</td>\n",
       "      <td>0</td>\n",
       "      <td>женат / замужем</td>\n",
       "      <td>0</td>\n",
       "      <td>F</td>\n",
       "      <td>сотрудник</td>\n",
       "      <td>0</td>\n",
       "      <td>253875.639453</td>\n",
       "      <td>покупка жилья</td>\n",
       "    </tr>\n",
       "    <tr>\n",
       "      <th>1</th>\n",
       "      <td>1</td>\n",
       "      <td>4024.803754</td>\n",
       "      <td>36</td>\n",
       "      <td>среднее</td>\n",
       "      <td>1</td>\n",
       "      <td>женат / замужем</td>\n",
       "      <td>0</td>\n",
       "      <td>F</td>\n",
       "      <td>сотрудник</td>\n",
       "      <td>0</td>\n",
       "      <td>112080.014102</td>\n",
       "      <td>приобретение автомобиля</td>\n",
       "    </tr>\n",
       "    <tr>\n",
       "      <th>2</th>\n",
       "      <td>0</td>\n",
       "      <td>5623.422610</td>\n",
       "      <td>33</td>\n",
       "      <td>Среднее</td>\n",
       "      <td>1</td>\n",
       "      <td>женат / замужем</td>\n",
       "      <td>0</td>\n",
       "      <td>M</td>\n",
       "      <td>сотрудник</td>\n",
       "      <td>0</td>\n",
       "      <td>145885.952297</td>\n",
       "      <td>покупка жилья</td>\n",
       "    </tr>\n",
       "    <tr>\n",
       "      <th>3</th>\n",
       "      <td>3</td>\n",
       "      <td>4124.747207</td>\n",
       "      <td>32</td>\n",
       "      <td>среднее</td>\n",
       "      <td>1</td>\n",
       "      <td>женат / замужем</td>\n",
       "      <td>0</td>\n",
       "      <td>M</td>\n",
       "      <td>сотрудник</td>\n",
       "      <td>0</td>\n",
       "      <td>267628.550329</td>\n",
       "      <td>дополнительное образование</td>\n",
       "    </tr>\n",
       "    <tr>\n",
       "      <th>4</th>\n",
       "      <td>0</td>\n",
       "      <td>14177.753002</td>\n",
       "      <td>53</td>\n",
       "      <td>среднее</td>\n",
       "      <td>1</td>\n",
       "      <td>гражданский брак</td>\n",
       "      <td>1</td>\n",
       "      <td>F</td>\n",
       "      <td>пенсионер</td>\n",
       "      <td>0</td>\n",
       "      <td>158616.077870</td>\n",
       "      <td>сыграть свадьбу</td>\n",
       "    </tr>\n",
       "  </tbody>\n",
       "</table>\n",
       "</div>"
      ],
      "text/plain": [
       "   children  days_employed  dob_years education  education_id  \\\n",
       "0         1    8437.673028         42    высшее             0   \n",
       "1         1    4024.803754         36   среднее             1   \n",
       "2         0    5623.422610         33   Среднее             1   \n",
       "3         3    4124.747207         32   среднее             1   \n",
       "4         0   14177.753002         53   среднее             1   \n",
       "\n",
       "      family_status  family_status_id gender income_type  debt   total_income  \\\n",
       "0   женат / замужем                 0      F   сотрудник     0  253875.639453   \n",
       "1   женат / замужем                 0      F   сотрудник     0  112080.014102   \n",
       "2   женат / замужем                 0      M   сотрудник     0  145885.952297   \n",
       "3   женат / замужем                 0      M   сотрудник     0  267628.550329   \n",
       "4  гражданский брак                 1      F   пенсионер     0  158616.077870   \n",
       "\n",
       "                      purpose  \n",
       "0               покупка жилья  \n",
       "1     приобретение автомобиля  \n",
       "2               покупка жилья  \n",
       "3  дополнительное образование  \n",
       "4             сыграть свадьбу  "
      ]
     },
     "execution_count": 4,
     "metadata": {},
     "output_type": "execute_result"
    }
   ],
   "source": [
    "# в столбце days_employed делаем положительные значения; \n",
    "# аномально высокие значения, предположив, что это часы переводим в дни с помощью цикла; \n",
    "# пропуски заменяем на медианные значения стажа для пенсионеров\n",
    "df['days_employed'] = abs(df['days_employed'])\n",
    "days_employed = df['days_employed']\n",
    "days_employed_new = []\n",
    "for value in days_employed:\n",
    "        \n",
    "        if value > 300000:\n",
    "            days_employed_new.append(value / 24)\n",
    "        else:\n",
    "            days_employed_new.append(value)\n",
    "\n",
    "df['days_employed'] = days_employed_new \n",
    "df['days_employed'] = df['days_employed'].fillna(value=df[df['income_type'] == 'пенсионер']['days_employed'].median())              \n",
    "df.head()"
   ]
  },
  {
   "cell_type": "code",
   "execution_count": 5,
   "id": "5daa0974",
   "metadata": {
    "scrolled": false
   },
   "outputs": [
    {
     "data": {
      "text/plain": [
       "children            0\n",
       "days_employed       0\n",
       "dob_years           0\n",
       "education           0\n",
       "education_id        0\n",
       "family_status       0\n",
       "family_status_id    0\n",
       "gender              0\n",
       "income_type         0\n",
       "debt                0\n",
       "total_income        0\n",
       "purpose             0\n",
       "dtype: int64"
      ]
     },
     "execution_count": 5,
     "metadata": {},
     "output_type": "execute_result"
    }
   ],
   "source": [
    "# пропуски в столбце total_income заменим медианными значениями для отдельно для каждой группы\n",
    "\n",
    "df['total_income'] = df.apply(\n",
    "    lambda x:\n",
    "    df[df['income_type'] == x['income_type']]['total_income'].median()\n",
    "    if pd.isnull(x['total_income']) else x['total_income'], \n",
    "    axis=1)\n",
    "\n",
    "df.isna().sum()"
   ]
  },
  {
   "cell_type": "markdown",
   "id": "645d976e",
   "metadata": {},
   "source": [
    "### Шаг 2.2 Проверка данных на аномалии и исправления."
   ]
  },
  {
   "cell_type": "markdown",
   "id": "456c15b5",
   "metadata": {},
   "source": [
    "Проведём проверку данных на типы и наличие явных и скрытых дубликатов.\n",
    "Для поиска явных дубликатов используем метод .duplicated() с подсчётом общего их числа .sum()\n",
    "Не явные дубликаты ищем с помощью метода unique(). При изменение регистра применяем метод .str.lower()"
   ]
  },
  {
   "cell_type": "code",
   "execution_count": 6,
   "id": "769a793c",
   "metadata": {},
   "outputs": [
    {
     "name": "stdout",
     "output_type": "stream",
     "text": [
      "<class 'pandas.core.frame.DataFrame'>\n",
      "RangeIndex: 21525 entries, 0 to 21524\n",
      "Data columns (total 12 columns):\n",
      " #   Column            Non-Null Count  Dtype  \n",
      "---  ------            --------------  -----  \n",
      " 0   children          21525 non-null  int64  \n",
      " 1   days_employed     21525 non-null  float64\n",
      " 2   dob_years         21525 non-null  int64  \n",
      " 3   education         21525 non-null  object \n",
      " 4   education_id      21525 non-null  int64  \n",
      " 5   family_status     21525 non-null  object \n",
      " 6   family_status_id  21525 non-null  int64  \n",
      " 7   gender            21525 non-null  object \n",
      " 8   income_type       21525 non-null  object \n",
      " 9   debt              21525 non-null  int64  \n",
      " 10  total_income      21525 non-null  float64\n",
      " 11  purpose           21525 non-null  object \n",
      "dtypes: float64(2), int64(5), object(5)\n",
      "memory usage: 2.0+ MB\n"
     ]
    }
   ],
   "source": [
    "df.info() # проверим данные по типу"
   ]
  },
  {
   "cell_type": "code",
   "execution_count": 7,
   "id": "9fddfe03",
   "metadata": {},
   "outputs": [
    {
     "data": {
      "text/plain": [
       "54"
      ]
     },
     "execution_count": 7,
     "metadata": {},
     "output_type": "execute_result"
    }
   ],
   "source": [
    "df.duplicated().sum() # количество явных дубликатов"
   ]
  },
  {
   "cell_type": "markdown",
   "id": "4887b8b5",
   "metadata": {},
   "source": [
    "Проверим на аномалии столбец **children**\n",
    "\n",
    "В столбце обнаружились отрицательные значения. Возможно это человеческий фактор. Применим метод abs().\n",
    "Ещё есть значение 20, что тоже похоже на ошибку ввода данных."
   ]
  },
  {
   "cell_type": "code",
   "execution_count": 8,
   "id": "072cc89a",
   "metadata": {},
   "outputs": [
    {
     "data": {
      "text/plain": [
       "array([-1,  0,  1,  2,  3,  4,  5, 20], dtype=int64)"
      ]
     },
     "execution_count": 8,
     "metadata": {},
     "output_type": "execute_result"
    }
   ],
   "source": [
    "df['children'].sort_values().unique() # выявление не явных дубликато в столбце children"
   ]
  },
  {
   "cell_type": "code",
   "execution_count": 9,
   "id": "5fea9af2",
   "metadata": {},
   "outputs": [],
   "source": [
    "df['children'] = abs(df['children']) # приведение всех значений к положительному значению"
   ]
  },
  {
   "cell_type": "code",
   "execution_count": 10,
   "id": "0866e80d",
   "metadata": {},
   "outputs": [],
   "source": [
    "df['children'] = df['children'].replace(20, 2) # меняем количество 20 на 2"
   ]
  },
  {
   "cell_type": "code",
   "execution_count": 11,
   "id": "eb2acc85",
   "metadata": {},
   "outputs": [
    {
     "data": {
      "text/plain": [
       "array([0, 1, 2, 3, 4, 5], dtype=int64)"
      ]
     },
     "execution_count": 11,
     "metadata": {},
     "output_type": "execute_result"
    }
   ],
   "source": [
    "df['children'].sort_values().unique() # проверяем, что получилось"
   ]
  },
  {
   "cell_type": "markdown",
   "id": "f4721194",
   "metadata": {},
   "source": [
    "*Проверим содержимое всех остальных столбцов*\n",
    "\n",
    "- dob_years - не требует корректировки\n",
    "- education - значения записаны прописными с строчными буквами, нужно привести все записи к одному регистру. Так мы избавимся от дубликатов. Для этого применим метод str.lower(). \n",
    "- education_id - 5 значений соответствует количеству уникальных записей в столбце education\n",
    "- family_status - не требует корректировки\n",
    "- family_status_id - 5 значений соответствует количеству уникальных записей в столбце family_status\n",
    "- gender - в результате выявилось значение 'XNA', что никак не может быть интерпритированно как пол клиента. Количество таких записей 1. Заменим его на 'F'.\n",
    "- income_type - не требует корректировки\n",
    "- debt - не требует корректировки\n",
    "- total_income - ежемесячный доход - значения записаны в виде вещественного числа. Для большей наглядности переведём их в целочисленный вид. Используем метод abs(). \n",
    "- purpose - не содержит явных дубликатов, записи в одном регистре, но в дальнейшем можно создать категории и разбить значения по ним.\n"
   ]
  },
  {
   "cell_type": "code",
   "execution_count": 12,
   "id": "2abeeaa7",
   "metadata": {},
   "outputs": [
    {
     "data": {
      "text/plain": [
       "array([ 0, 19, 20, 21, 22, 23, 24, 25, 26, 27, 28, 29, 30, 31, 32, 33, 34,\n",
       "       35, 36, 37, 38, 39, 40, 41, 42, 43, 44, 45, 46, 47, 48, 49, 50, 51,\n",
       "       52, 53, 54, 55, 56, 57, 58, 59, 60, 61, 62, 63, 64, 65, 66, 67, 68,\n",
       "       69, 70, 71, 72, 73, 74, 75], dtype=int64)"
      ]
     },
     "execution_count": 12,
     "metadata": {},
     "output_type": "execute_result"
    }
   ],
   "source": [
    "df['dob_years'].sort_values().unique() # выявление не явных дубликато в столбце dob_years"
   ]
  },
  {
   "cell_type": "code",
   "execution_count": 13,
   "id": "8bfa505d",
   "metadata": {
    "scrolled": false
   },
   "outputs": [
    {
     "data": {
      "text/plain": [
       "array(['ВЫСШЕЕ', 'Высшее', 'НАЧАЛЬНОЕ', 'НЕОКОНЧЕННОЕ ВЫСШЕЕ',\n",
       "       'Начальное', 'Неоконченное высшее', 'СРЕДНЕЕ', 'Среднее',\n",
       "       'УЧЕНАЯ СТЕПЕНЬ', 'Ученая степень', 'высшее', 'начальное',\n",
       "       'неоконченное высшее', 'среднее', 'ученая степень'], dtype=object)"
      ]
     },
     "execution_count": 13,
     "metadata": {},
     "output_type": "execute_result"
    }
   ],
   "source": [
    "df['education'].sort_values().unique() # выявление не явных дубликато в столбце education"
   ]
  },
  {
   "cell_type": "code",
   "execution_count": 14,
   "id": "ff070a11",
   "metadata": {},
   "outputs": [
    {
     "data": {
      "text/plain": [
       "array(['высшее', 'начальное', 'неоконченное высшее', 'среднее',\n",
       "       'ученая степень'], dtype=object)"
      ]
     },
     "execution_count": 14,
     "metadata": {},
     "output_type": "execute_result"
    }
   ],
   "source": [
    "df['education'] = df['education'].str.lower() # приведение значений столбца education к одному регистру\n",
    "df['education'].sort_values().unique() # проверим"
   ]
  },
  {
   "cell_type": "code",
   "execution_count": 15,
   "id": "f6e23a19",
   "metadata": {},
   "outputs": [
    {
     "data": {
      "text/plain": [
       "array([0, 1, 2, 3, 4], dtype=int64)"
      ]
     },
     "execution_count": 15,
     "metadata": {},
     "output_type": "execute_result"
    }
   ],
   "source": [
    "df['education_id'].sort_values().unique() # выявление не явных дубликато в столбце education_id"
   ]
  },
  {
   "cell_type": "code",
   "execution_count": 16,
   "id": "b02a83ed",
   "metadata": {},
   "outputs": [
    {
     "data": {
      "text/plain": [
       "array(['Не женат / не замужем', 'в разводе', 'вдовец / вдова',\n",
       "       'гражданский брак', 'женат / замужем'], dtype=object)"
      ]
     },
     "execution_count": 16,
     "metadata": {},
     "output_type": "execute_result"
    }
   ],
   "source": [
    "df['family_status'].sort_values().unique() # выявление не явных дубликато в столбце family_status"
   ]
  },
  {
   "cell_type": "code",
   "execution_count": 17,
   "id": "85ce2434",
   "metadata": {},
   "outputs": [
    {
     "data": {
      "text/plain": [
       "array([0, 1, 2, 3, 4], dtype=int64)"
      ]
     },
     "execution_count": 17,
     "metadata": {},
     "output_type": "execute_result"
    }
   ],
   "source": [
    "df['family_status_id'].sort_values().unique() # выявление не явных дубликато в столбце family_status_id"
   ]
  },
  {
   "cell_type": "code",
   "execution_count": 18,
   "id": "5e87b1c3",
   "metadata": {},
   "outputs": [
    {
     "data": {
      "text/plain": [
       "array(['F', 'M', 'XNA'], dtype=object)"
      ]
     },
     "execution_count": 18,
     "metadata": {},
     "output_type": "execute_result"
    }
   ],
   "source": [
    "df['gender'].sort_values().unique() # выявление не явных дубликато в столбце gender"
   ]
  },
  {
   "cell_type": "code",
   "execution_count": 19,
   "id": "51382f70",
   "metadata": {},
   "outputs": [
    {
     "data": {
      "text/plain": [
       "array(['безработный', 'в декрете', 'госслужащий', 'компаньон',\n",
       "       'пенсионер', 'предприниматель', 'сотрудник', 'студент'],\n",
       "      dtype=object)"
      ]
     },
     "execution_count": 19,
     "metadata": {},
     "output_type": "execute_result"
    }
   ],
   "source": [
    "df['income_type'].sort_values().unique() # выявление не явных дубликато в столбце income_type"
   ]
  },
  {
   "cell_type": "code",
   "execution_count": 20,
   "id": "34442c44",
   "metadata": {},
   "outputs": [
    {
     "data": {
      "text/plain": [
       "array([0, 1], dtype=int64)"
      ]
     },
     "execution_count": 20,
     "metadata": {},
     "output_type": "execute_result"
    }
   ],
   "source": [
    "df['debt'].sort_values().unique() # выявление не явных дубликато в столбце debt"
   ]
  },
  {
   "cell_type": "code",
   "execution_count": 21,
   "id": "e1dd59fb",
   "metadata": {},
   "outputs": [
    {
     "data": {
      "text/plain": [
       "array([  20667.26379327,   21205.28056622,   21367.64835649, ...,\n",
       "       1726276.01433167, 2200852.2102589 , 2265604.02872274])"
      ]
     },
     "execution_count": 21,
     "metadata": {},
     "output_type": "execute_result"
    }
   ],
   "source": [
    "df['total_income'].sort_values().unique() # выявление не явных дубликато в столбце total_income"
   ]
  },
  {
   "cell_type": "code",
   "execution_count": 22,
   "id": "b10e30d1",
   "metadata": {},
   "outputs": [
    {
     "data": {
      "text/plain": [
       "array(['автомобили', 'автомобиль', 'высшее образование',\n",
       "       'дополнительное образование', 'жилье',\n",
       "       'заняться высшим образованием', 'заняться образованием',\n",
       "       'на покупку автомобиля', 'на покупку подержанного автомобиля',\n",
       "       'на покупку своего автомобиля', 'на проведение свадьбы',\n",
       "       'недвижимость', 'образование', 'операции с жильем',\n",
       "       'операции с коммерческой недвижимостью',\n",
       "       'операции с недвижимостью', 'операции со своей недвижимостью',\n",
       "       'покупка жилой недвижимости', 'покупка жилья',\n",
       "       'покупка жилья для сдачи', 'покупка жилья для семьи',\n",
       "       'покупка коммерческой недвижимости', 'покупка недвижимости',\n",
       "       'покупка своего жилья', 'получение высшего образования',\n",
       "       'получение дополнительного образования', 'получение образования',\n",
       "       'приобретение автомобиля', 'профильное образование',\n",
       "       'ремонт жилью', 'свадьба', 'свой автомобиль',\n",
       "       'сделка с автомобилем', 'сделка с подержанным автомобилем',\n",
       "       'строительство жилой недвижимости', 'строительство недвижимости',\n",
       "       'строительство собственной недвижимости', 'сыграть свадьбу'],\n",
       "      dtype=object)"
      ]
     },
     "execution_count": 22,
     "metadata": {},
     "output_type": "execute_result"
    }
   ],
   "source": [
    "df['purpose'].sort_values().unique() # выявление не явных дубликато в столбце purpose"
   ]
  },
  {
   "cell_type": "markdown",
   "id": "6ffa4a0d",
   "metadata": {},
   "source": [
    "### Шаг 2.3. Изменение типов данных."
   ]
  },
  {
   "cell_type": "markdown",
   "id": "d05d5883",
   "metadata": {},
   "source": [
    "Данные столбца total_income имеют тип float. Предположим, что это рубли, тогда логично будет перевести значения в целочисленный вид. Вероятно, что в банке данные о доходах хранятся в вещественном виде."
   ]
  },
  {
   "cell_type": "code",
   "execution_count": 23,
   "id": "5ea647a0",
   "metadata": {
    "scrolled": false
   },
   "outputs": [
    {
     "data": {
      "text/html": [
       "<div>\n",
       "<style scoped>\n",
       "    .dataframe tbody tr th:only-of-type {\n",
       "        vertical-align: middle;\n",
       "    }\n",
       "\n",
       "    .dataframe tbody tr th {\n",
       "        vertical-align: top;\n",
       "    }\n",
       "\n",
       "    .dataframe thead th {\n",
       "        text-align: right;\n",
       "    }\n",
       "</style>\n",
       "<table border=\"1\" class=\"dataframe\">\n",
       "  <thead>\n",
       "    <tr style=\"text-align: right;\">\n",
       "      <th></th>\n",
       "      <th>children</th>\n",
       "      <th>days_employed</th>\n",
       "      <th>dob_years</th>\n",
       "      <th>education</th>\n",
       "      <th>education_id</th>\n",
       "      <th>family_status</th>\n",
       "      <th>family_status_id</th>\n",
       "      <th>gender</th>\n",
       "      <th>income_type</th>\n",
       "      <th>debt</th>\n",
       "      <th>total_income</th>\n",
       "      <th>purpose</th>\n",
       "    </tr>\n",
       "  </thead>\n",
       "  <tbody>\n",
       "    <tr>\n",
       "      <th>0</th>\n",
       "      <td>1</td>\n",
       "      <td>8437.673028</td>\n",
       "      <td>42</td>\n",
       "      <td>высшее</td>\n",
       "      <td>0</td>\n",
       "      <td>женат / замужем</td>\n",
       "      <td>0</td>\n",
       "      <td>F</td>\n",
       "      <td>сотрудник</td>\n",
       "      <td>0</td>\n",
       "      <td>253875</td>\n",
       "      <td>покупка жилья</td>\n",
       "    </tr>\n",
       "    <tr>\n",
       "      <th>1</th>\n",
       "      <td>1</td>\n",
       "      <td>4024.803754</td>\n",
       "      <td>36</td>\n",
       "      <td>среднее</td>\n",
       "      <td>1</td>\n",
       "      <td>женат / замужем</td>\n",
       "      <td>0</td>\n",
       "      <td>F</td>\n",
       "      <td>сотрудник</td>\n",
       "      <td>0</td>\n",
       "      <td>112080</td>\n",
       "      <td>приобретение автомобиля</td>\n",
       "    </tr>\n",
       "    <tr>\n",
       "      <th>2</th>\n",
       "      <td>0</td>\n",
       "      <td>5623.422610</td>\n",
       "      <td>33</td>\n",
       "      <td>среднее</td>\n",
       "      <td>1</td>\n",
       "      <td>женат / замужем</td>\n",
       "      <td>0</td>\n",
       "      <td>M</td>\n",
       "      <td>сотрудник</td>\n",
       "      <td>0</td>\n",
       "      <td>145885</td>\n",
       "      <td>покупка жилья</td>\n",
       "    </tr>\n",
       "    <tr>\n",
       "      <th>3</th>\n",
       "      <td>3</td>\n",
       "      <td>4124.747207</td>\n",
       "      <td>32</td>\n",
       "      <td>среднее</td>\n",
       "      <td>1</td>\n",
       "      <td>женат / замужем</td>\n",
       "      <td>0</td>\n",
       "      <td>M</td>\n",
       "      <td>сотрудник</td>\n",
       "      <td>0</td>\n",
       "      <td>267628</td>\n",
       "      <td>дополнительное образование</td>\n",
       "    </tr>\n",
       "    <tr>\n",
       "      <th>4</th>\n",
       "      <td>0</td>\n",
       "      <td>14177.753002</td>\n",
       "      <td>53</td>\n",
       "      <td>среднее</td>\n",
       "      <td>1</td>\n",
       "      <td>гражданский брак</td>\n",
       "      <td>1</td>\n",
       "      <td>F</td>\n",
       "      <td>пенсионер</td>\n",
       "      <td>0</td>\n",
       "      <td>158616</td>\n",
       "      <td>сыграть свадьбу</td>\n",
       "    </tr>\n",
       "    <tr>\n",
       "      <th>5</th>\n",
       "      <td>0</td>\n",
       "      <td>926.185831</td>\n",
       "      <td>27</td>\n",
       "      <td>высшее</td>\n",
       "      <td>0</td>\n",
       "      <td>гражданский брак</td>\n",
       "      <td>1</td>\n",
       "      <td>M</td>\n",
       "      <td>компаньон</td>\n",
       "      <td>0</td>\n",
       "      <td>255763</td>\n",
       "      <td>покупка жилья</td>\n",
       "    </tr>\n",
       "    <tr>\n",
       "      <th>6</th>\n",
       "      <td>0</td>\n",
       "      <td>2879.202052</td>\n",
       "      <td>43</td>\n",
       "      <td>высшее</td>\n",
       "      <td>0</td>\n",
       "      <td>женат / замужем</td>\n",
       "      <td>0</td>\n",
       "      <td>F</td>\n",
       "      <td>компаньон</td>\n",
       "      <td>0</td>\n",
       "      <td>240525</td>\n",
       "      <td>операции с жильем</td>\n",
       "    </tr>\n",
       "    <tr>\n",
       "      <th>7</th>\n",
       "      <td>0</td>\n",
       "      <td>152.779569</td>\n",
       "      <td>50</td>\n",
       "      <td>среднее</td>\n",
       "      <td>1</td>\n",
       "      <td>женат / замужем</td>\n",
       "      <td>0</td>\n",
       "      <td>M</td>\n",
       "      <td>сотрудник</td>\n",
       "      <td>0</td>\n",
       "      <td>135823</td>\n",
       "      <td>образование</td>\n",
       "    </tr>\n",
       "    <tr>\n",
       "      <th>8</th>\n",
       "      <td>2</td>\n",
       "      <td>6929.865299</td>\n",
       "      <td>35</td>\n",
       "      <td>высшее</td>\n",
       "      <td>0</td>\n",
       "      <td>гражданский брак</td>\n",
       "      <td>1</td>\n",
       "      <td>F</td>\n",
       "      <td>сотрудник</td>\n",
       "      <td>0</td>\n",
       "      <td>95856</td>\n",
       "      <td>на проведение свадьбы</td>\n",
       "    </tr>\n",
       "    <tr>\n",
       "      <th>9</th>\n",
       "      <td>0</td>\n",
       "      <td>2188.756445</td>\n",
       "      <td>41</td>\n",
       "      <td>среднее</td>\n",
       "      <td>1</td>\n",
       "      <td>женат / замужем</td>\n",
       "      <td>0</td>\n",
       "      <td>M</td>\n",
       "      <td>сотрудник</td>\n",
       "      <td>0</td>\n",
       "      <td>144425</td>\n",
       "      <td>покупка жилья для семьи</td>\n",
       "    </tr>\n",
       "  </tbody>\n",
       "</table>\n",
       "</div>"
      ],
      "text/plain": [
       "   children  days_employed  dob_years education  education_id  \\\n",
       "0         1    8437.673028         42    высшее             0   \n",
       "1         1    4024.803754         36   среднее             1   \n",
       "2         0    5623.422610         33   среднее             1   \n",
       "3         3    4124.747207         32   среднее             1   \n",
       "4         0   14177.753002         53   среднее             1   \n",
       "5         0     926.185831         27    высшее             0   \n",
       "6         0    2879.202052         43    высшее             0   \n",
       "7         0     152.779569         50   среднее             1   \n",
       "8         2    6929.865299         35    высшее             0   \n",
       "9         0    2188.756445         41   среднее             1   \n",
       "\n",
       "      family_status  family_status_id gender income_type  debt  total_income  \\\n",
       "0   женат / замужем                 0      F   сотрудник     0        253875   \n",
       "1   женат / замужем                 0      F   сотрудник     0        112080   \n",
       "2   женат / замужем                 0      M   сотрудник     0        145885   \n",
       "3   женат / замужем                 0      M   сотрудник     0        267628   \n",
       "4  гражданский брак                 1      F   пенсионер     0        158616   \n",
       "5  гражданский брак                 1      M   компаньон     0        255763   \n",
       "6   женат / замужем                 0      F   компаньон     0        240525   \n",
       "7   женат / замужем                 0      M   сотрудник     0        135823   \n",
       "8  гражданский брак                 1      F   сотрудник     0         95856   \n",
       "9   женат / замужем                 0      M   сотрудник     0        144425   \n",
       "\n",
       "                      purpose  \n",
       "0               покупка жилья  \n",
       "1     приобретение автомобиля  \n",
       "2               покупка жилья  \n",
       "3  дополнительное образование  \n",
       "4             сыграть свадьбу  \n",
       "5               покупка жилья  \n",
       "6           операции с жильем  \n",
       "7                 образование  \n",
       "8       на проведение свадьбы  \n",
       "9     покупка жилья для семьи  "
      ]
     },
     "execution_count": 23,
     "metadata": {},
     "output_type": "execute_result"
    }
   ],
   "source": [
    "df['total_income'] = df['total_income'].astype('int') # приведим данные total_income к целому значению.\n",
    "df.head(10) # проверим, что получилось"
   ]
  },
  {
   "cell_type": "markdown",
   "id": "06a3c352",
   "metadata": {},
   "source": [
    "### Шаг 2.4. Удаление дубликатов."
   ]
  },
  {
   "cell_type": "markdown",
   "id": "2f7a5690",
   "metadata": {},
   "source": [
    "Для удаления явных дубликатов используем метод drop_duplicates(), а чтобы не было пропусков используем reset_index()."
   ]
  },
  {
   "cell_type": "code",
   "execution_count": 24,
   "id": "6b3862cf",
   "metadata": {},
   "outputs": [],
   "source": [
    "df = df.drop_duplicates().reset_index(drop=True) # удаление явных дубликатов (с удалением старых индексов и формированием новых)"
   ]
  },
  {
   "cell_type": "code",
   "execution_count": 25,
   "id": "0002a650",
   "metadata": {},
   "outputs": [
    {
     "data": {
      "text/plain": [
       "0"
      ]
     },
     "execution_count": 25,
     "metadata": {},
     "output_type": "execute_result"
    }
   ],
   "source": [
    "df.duplicated().sum() # проверка на отсутствие дубликатов"
   ]
  },
  {
   "cell_type": "markdown",
   "id": "037c609b",
   "metadata": {},
   "source": [
    "### Шаг 2.5. Формирование дополнительных датафреймов словарей, декомпозиция исходного датафрейма."
   ]
  },
  {
   "cell_type": "markdown",
   "id": "dc082234",
   "metadata": {},
   "source": [
    "Создадим два новых датафрейма со столбцами:\n",
    "\n",
    "- education_id и education — в первом;\n",
    "- family_status_id и family_status — во втором."
   ]
  },
  {
   "cell_type": "code",
   "execution_count": 26,
   "id": "3a7a20d0",
   "metadata": {},
   "outputs": [
    {
     "name": "stdout",
     "output_type": "stream",
     "text": [
      "['education_id' 'education']\n",
      "['family_status_id' 'family_status']\n"
     ]
    }
   ],
   "source": [
    "df_education = df[['education_id', 'education']] # новый датафрейм  - уровень образования \n",
    "df_family_status = df[['family_status_id', 'family_status']] # новый датафрейм  - семейное положение\n",
    "print(df_education.columns.values)\n",
    "print(df_family_status.columns.values) # проверим какие столбцы у нас в новых датафреймах"
   ]
  },
  {
   "cell_type": "code",
   "execution_count": 27,
   "id": "fd8cf1a5",
   "metadata": {},
   "outputs": [
    {
     "name": "stdout",
     "output_type": "stream",
     "text": [
      "['children' 'days_employed' 'dob_years' 'education_id' 'family_status_id'\n",
      " 'gender' 'income_type' 'debt' 'total_income' 'purpose']\n"
     ]
    }
   ],
   "source": [
    "df = df.drop(['education', 'family_status'], axis=1) #Теперь из исходного датафрейма удалим столбцы 'education' и 'family_status'. \n",
    "print(df.columns.values) # проверим."
   ]
  },
  {
   "cell_type": "markdown",
   "id": "1ee36892",
   "metadata": {},
   "source": [
    "### Шаг 2.6. Категоризация дохода."
   ]
  },
  {
   "cell_type": "markdown",
   "id": "7bbec5d3",
   "metadata": {},
   "source": [
    "Клиентов на основании их доходов можно разбить на категории:\n",
    "\n",
    "- 0–30000 — 'E';\n",
    "- 30001–50000 — 'D';\n",
    "- 50001–200000 — 'C';\n",
    "- 200001–1000000 — 'B';\n",
    "- 1000001 и выше — 'A'.\n",
    "\n",
    "Напишем функцию, которая перебирёт значения столбца 'total_income' и присвоит категорию каждому клиенту исходя из условий."
   ]
  },
  {
   "cell_type": "code",
   "execution_count": 28,
   "id": "cfae13d3",
   "metadata": {},
   "outputs": [],
   "source": [
    "def income_category(income):\n",
    "    \n",
    "    if income <= 30000:\n",
    "        return 'E'\n",
    "    if income > 30000 and income <= 50000:\n",
    "        return 'D'\n",
    "    if income > 50000 and income <= 200000:\n",
    "        return 'C'\n",
    "    if income > 200000 and income <= 1000000:\n",
    "        return 'B'\n",
    "    return 'A'"
   ]
  },
  {
   "cell_type": "code",
   "execution_count": 29,
   "id": "75a28ab4",
   "metadata": {},
   "outputs": [
    {
     "data": {
      "text/html": [
       "<div>\n",
       "<style scoped>\n",
       "    .dataframe tbody tr th:only-of-type {\n",
       "        vertical-align: middle;\n",
       "    }\n",
       "\n",
       "    .dataframe tbody tr th {\n",
       "        vertical-align: top;\n",
       "    }\n",
       "\n",
       "    .dataframe thead th {\n",
       "        text-align: right;\n",
       "    }\n",
       "</style>\n",
       "<table border=\"1\" class=\"dataframe\">\n",
       "  <thead>\n",
       "    <tr style=\"text-align: right;\">\n",
       "      <th></th>\n",
       "      <th>children</th>\n",
       "      <th>days_employed</th>\n",
       "      <th>dob_years</th>\n",
       "      <th>education_id</th>\n",
       "      <th>family_status_id</th>\n",
       "      <th>gender</th>\n",
       "      <th>income_type</th>\n",
       "      <th>debt</th>\n",
       "      <th>total_income</th>\n",
       "      <th>purpose</th>\n",
       "      <th>total_income_category</th>\n",
       "    </tr>\n",
       "  </thead>\n",
       "  <tbody>\n",
       "    <tr>\n",
       "      <th>0</th>\n",
       "      <td>1</td>\n",
       "      <td>8437.673028</td>\n",
       "      <td>42</td>\n",
       "      <td>0</td>\n",
       "      <td>0</td>\n",
       "      <td>F</td>\n",
       "      <td>сотрудник</td>\n",
       "      <td>0</td>\n",
       "      <td>253875</td>\n",
       "      <td>покупка жилья</td>\n",
       "      <td>B</td>\n",
       "    </tr>\n",
       "    <tr>\n",
       "      <th>1</th>\n",
       "      <td>1</td>\n",
       "      <td>4024.803754</td>\n",
       "      <td>36</td>\n",
       "      <td>1</td>\n",
       "      <td>0</td>\n",
       "      <td>F</td>\n",
       "      <td>сотрудник</td>\n",
       "      <td>0</td>\n",
       "      <td>112080</td>\n",
       "      <td>приобретение автомобиля</td>\n",
       "      <td>C</td>\n",
       "    </tr>\n",
       "    <tr>\n",
       "      <th>2</th>\n",
       "      <td>0</td>\n",
       "      <td>5623.422610</td>\n",
       "      <td>33</td>\n",
       "      <td>1</td>\n",
       "      <td>0</td>\n",
       "      <td>M</td>\n",
       "      <td>сотрудник</td>\n",
       "      <td>0</td>\n",
       "      <td>145885</td>\n",
       "      <td>покупка жилья</td>\n",
       "      <td>C</td>\n",
       "    </tr>\n",
       "    <tr>\n",
       "      <th>3</th>\n",
       "      <td>3</td>\n",
       "      <td>4124.747207</td>\n",
       "      <td>32</td>\n",
       "      <td>1</td>\n",
       "      <td>0</td>\n",
       "      <td>M</td>\n",
       "      <td>сотрудник</td>\n",
       "      <td>0</td>\n",
       "      <td>267628</td>\n",
       "      <td>дополнительное образование</td>\n",
       "      <td>B</td>\n",
       "    </tr>\n",
       "    <tr>\n",
       "      <th>4</th>\n",
       "      <td>0</td>\n",
       "      <td>14177.753002</td>\n",
       "      <td>53</td>\n",
       "      <td>1</td>\n",
       "      <td>1</td>\n",
       "      <td>F</td>\n",
       "      <td>пенсионер</td>\n",
       "      <td>0</td>\n",
       "      <td>158616</td>\n",
       "      <td>сыграть свадьбу</td>\n",
       "      <td>C</td>\n",
       "    </tr>\n",
       "  </tbody>\n",
       "</table>\n",
       "</div>"
      ],
      "text/plain": [
       "   children  days_employed  dob_years  education_id  family_status_id gender  \\\n",
       "0         1    8437.673028         42             0                 0      F   \n",
       "1         1    4024.803754         36             1                 0      F   \n",
       "2         0    5623.422610         33             1                 0      M   \n",
       "3         3    4124.747207         32             1                 0      M   \n",
       "4         0   14177.753002         53             1                 1      F   \n",
       "\n",
       "  income_type  debt  total_income                     purpose  \\\n",
       "0   сотрудник     0        253875               покупка жилья   \n",
       "1   сотрудник     0        112080     приобретение автомобиля   \n",
       "2   сотрудник     0        145885               покупка жилья   \n",
       "3   сотрудник     0        267628  дополнительное образование   \n",
       "4   пенсионер     0        158616             сыграть свадьбу   \n",
       "\n",
       "  total_income_category  \n",
       "0                     B  \n",
       "1                     C  \n",
       "2                     C  \n",
       "3                     B  \n",
       "4                     C  "
      ]
     },
     "execution_count": 29,
     "metadata": {},
     "output_type": "execute_result"
    }
   ],
   "source": [
    "df['total_income_category'] = df['total_income'].apply(income_category)\n",
    "df.head()"
   ]
  },
  {
   "cell_type": "markdown",
   "id": "f7b81341",
   "metadata": {},
   "source": [
    "### Шаг 2.7. Категоризация целей кредита."
   ]
  },
  {
   "cell_type": "markdown",
   "id": "492ae202",
   "metadata": {},
   "source": [
    "На основании данных столбца **purpose** создадим категории для целей кредитования.\n",
    "\n",
    "- 'операции с автомобилем',\n",
    "- 'операции с недвижимостью',\n",
    "- 'проведение свадьбы',\n",
    "- 'получение образования'\n",
    "\n"
   ]
  },
  {
   "cell_type": "code",
   "execution_count": 30,
   "id": "1f491207",
   "metadata": {},
   "outputs": [],
   "source": [
    "def purpose_credit(purpose):\n",
    "    \n",
    "    if 'свадьб' in purpose:\n",
    "        return'проведение свадьбы'\n",
    "            \n",
    "    if 'автомобил' in purpose:\n",
    "        return'операции с автомобилем'\n",
    "            \n",
    "    if 'образовани' in purpose:\n",
    "        return'получение образования'\n",
    "        \n",
    "    return'операции с недвижимостью'"
   ]
  },
  {
   "cell_type": "code",
   "execution_count": 31,
   "id": "dccb15df",
   "metadata": {},
   "outputs": [
    {
     "data": {
      "text/html": [
       "<div>\n",
       "<style scoped>\n",
       "    .dataframe tbody tr th:only-of-type {\n",
       "        vertical-align: middle;\n",
       "    }\n",
       "\n",
       "    .dataframe tbody tr th {\n",
       "        vertical-align: top;\n",
       "    }\n",
       "\n",
       "    .dataframe thead th {\n",
       "        text-align: right;\n",
       "    }\n",
       "</style>\n",
       "<table border=\"1\" class=\"dataframe\">\n",
       "  <thead>\n",
       "    <tr style=\"text-align: right;\">\n",
       "      <th></th>\n",
       "      <th>children</th>\n",
       "      <th>days_employed</th>\n",
       "      <th>dob_years</th>\n",
       "      <th>education_id</th>\n",
       "      <th>family_status_id</th>\n",
       "      <th>gender</th>\n",
       "      <th>income_type</th>\n",
       "      <th>debt</th>\n",
       "      <th>total_income</th>\n",
       "      <th>purpose</th>\n",
       "      <th>total_income_category</th>\n",
       "      <th>purpose_category</th>\n",
       "    </tr>\n",
       "  </thead>\n",
       "  <tbody>\n",
       "    <tr>\n",
       "      <th>0</th>\n",
       "      <td>1</td>\n",
       "      <td>8437.673028</td>\n",
       "      <td>42</td>\n",
       "      <td>0</td>\n",
       "      <td>0</td>\n",
       "      <td>F</td>\n",
       "      <td>сотрудник</td>\n",
       "      <td>0</td>\n",
       "      <td>253875</td>\n",
       "      <td>покупка жилья</td>\n",
       "      <td>B</td>\n",
       "      <td>операции с недвижимостью</td>\n",
       "    </tr>\n",
       "    <tr>\n",
       "      <th>1</th>\n",
       "      <td>1</td>\n",
       "      <td>4024.803754</td>\n",
       "      <td>36</td>\n",
       "      <td>1</td>\n",
       "      <td>0</td>\n",
       "      <td>F</td>\n",
       "      <td>сотрудник</td>\n",
       "      <td>0</td>\n",
       "      <td>112080</td>\n",
       "      <td>приобретение автомобиля</td>\n",
       "      <td>C</td>\n",
       "      <td>операции с автомобилем</td>\n",
       "    </tr>\n",
       "    <tr>\n",
       "      <th>2</th>\n",
       "      <td>0</td>\n",
       "      <td>5623.422610</td>\n",
       "      <td>33</td>\n",
       "      <td>1</td>\n",
       "      <td>0</td>\n",
       "      <td>M</td>\n",
       "      <td>сотрудник</td>\n",
       "      <td>0</td>\n",
       "      <td>145885</td>\n",
       "      <td>покупка жилья</td>\n",
       "      <td>C</td>\n",
       "      <td>операции с недвижимостью</td>\n",
       "    </tr>\n",
       "    <tr>\n",
       "      <th>3</th>\n",
       "      <td>3</td>\n",
       "      <td>4124.747207</td>\n",
       "      <td>32</td>\n",
       "      <td>1</td>\n",
       "      <td>0</td>\n",
       "      <td>M</td>\n",
       "      <td>сотрудник</td>\n",
       "      <td>0</td>\n",
       "      <td>267628</td>\n",
       "      <td>дополнительное образование</td>\n",
       "      <td>B</td>\n",
       "      <td>получение образования</td>\n",
       "    </tr>\n",
       "    <tr>\n",
       "      <th>4</th>\n",
       "      <td>0</td>\n",
       "      <td>14177.753002</td>\n",
       "      <td>53</td>\n",
       "      <td>1</td>\n",
       "      <td>1</td>\n",
       "      <td>F</td>\n",
       "      <td>пенсионер</td>\n",
       "      <td>0</td>\n",
       "      <td>158616</td>\n",
       "      <td>сыграть свадьбу</td>\n",
       "      <td>C</td>\n",
       "      <td>проведение свадьбы</td>\n",
       "    </tr>\n",
       "  </tbody>\n",
       "</table>\n",
       "</div>"
      ],
      "text/plain": [
       "   children  days_employed  dob_years  education_id  family_status_id gender  \\\n",
       "0         1    8437.673028         42             0                 0      F   \n",
       "1         1    4024.803754         36             1                 0      F   \n",
       "2         0    5623.422610         33             1                 0      M   \n",
       "3         3    4124.747207         32             1                 0      M   \n",
       "4         0   14177.753002         53             1                 1      F   \n",
       "\n",
       "  income_type  debt  total_income                     purpose  \\\n",
       "0   сотрудник     0        253875               покупка жилья   \n",
       "1   сотрудник     0        112080     приобретение автомобиля   \n",
       "2   сотрудник     0        145885               покупка жилья   \n",
       "3   сотрудник     0        267628  дополнительное образование   \n",
       "4   пенсионер     0        158616             сыграть свадьбу   \n",
       "\n",
       "  total_income_category          purpose_category  \n",
       "0                     B  операции с недвижимостью  \n",
       "1                     C    операции с автомобилем  \n",
       "2                     C  операции с недвижимостью  \n",
       "3                     B     получение образования  \n",
       "4                     C        проведение свадьбы  "
      ]
     },
     "execution_count": 31,
     "metadata": {},
     "output_type": "execute_result"
    }
   ],
   "source": [
    "df['purpose_category'] = df['purpose'].apply(purpose_credit)\n",
    "df.head()\n"
   ]
  },
  {
   "cell_type": "markdown",
   "id": "2038b0b2",
   "metadata": {},
   "source": [
    "### Ответы на вопросы."
   ]
  },
  {
   "cell_type": "markdown",
   "id": "fc16f391",
   "metadata": {},
   "source": [
    "##### Вопрос 1:\n",
    "Есть ли зависимость между количеством детей и возвратом кредита в срок?"
   ]
  },
  {
   "cell_type": "code",
   "execution_count": 32,
   "id": "7dcab412",
   "metadata": {},
   "outputs": [
    {
     "data": {
      "text/html": [
       "<div>\n",
       "<style scoped>\n",
       "    .dataframe tbody tr th:only-of-type {\n",
       "        vertical-align: middle;\n",
       "    }\n",
       "\n",
       "    .dataframe tbody tr th {\n",
       "        vertical-align: top;\n",
       "    }\n",
       "\n",
       "    .dataframe thead th {\n",
       "        text-align: right;\n",
       "    }\n",
       "</style>\n",
       "<table border=\"1\" class=\"dataframe\">\n",
       "  <thead>\n",
       "    <tr style=\"text-align: right;\">\n",
       "      <th>debt</th>\n",
       "      <th>children</th>\n",
       "      <th>without_debt</th>\n",
       "      <th>with_debt</th>\n",
       "      <th>percent</th>\n",
       "    </tr>\n",
       "  </thead>\n",
       "  <tbody>\n",
       "    <tr>\n",
       "      <th>0</th>\n",
       "      <td>0</td>\n",
       "      <td>13028.0</td>\n",
       "      <td>1063.0</td>\n",
       "      <td>7.54</td>\n",
       "    </tr>\n",
       "    <tr>\n",
       "      <th>1</th>\n",
       "      <td>1</td>\n",
       "      <td>4410.0</td>\n",
       "      <td>445.0</td>\n",
       "      <td>9.17</td>\n",
       "    </tr>\n",
       "    <tr>\n",
       "      <th>2</th>\n",
       "      <td>2</td>\n",
       "      <td>1926.0</td>\n",
       "      <td>202.0</td>\n",
       "      <td>9.49</td>\n",
       "    </tr>\n",
       "    <tr>\n",
       "      <th>3</th>\n",
       "      <td>3</td>\n",
       "      <td>303.0</td>\n",
       "      <td>27.0</td>\n",
       "      <td>8.18</td>\n",
       "    </tr>\n",
       "    <tr>\n",
       "      <th>4</th>\n",
       "      <td>4</td>\n",
       "      <td>37.0</td>\n",
       "      <td>4.0</td>\n",
       "      <td>9.76</td>\n",
       "    </tr>\n",
       "    <tr>\n",
       "      <th>5</th>\n",
       "      <td>5</td>\n",
       "      <td>9.0</td>\n",
       "      <td>0.0</td>\n",
       "      <td>0.00</td>\n",
       "    </tr>\n",
       "  </tbody>\n",
       "</table>\n",
       "</div>"
      ],
      "text/plain": [
       "debt  children  without_debt  with_debt  percent\n",
       "0            0       13028.0     1063.0     7.54\n",
       "1            1        4410.0      445.0     9.17\n",
       "2            2        1926.0      202.0     9.49\n",
       "3            3         303.0       27.0     8.18\n",
       "4            4          37.0        4.0     9.76\n",
       "5            5           9.0        0.0     0.00"
      ]
     },
     "execution_count": 32,
     "metadata": {},
     "output_type": "execute_result"
    }
   ],
   "source": [
    "df_children = df.pivot_table(index=['children'], columns='debt', values='total_income', aggfunc='count').reset_index() # создадим сводную таблицу\n",
    " \n",
    "df_children = df_children.rename(columns=\n",
    "{\n",
    "    df_children.columns[1]: 'without_debt',\n",
    "    df_children.columns[2]: 'with_debt'\n",
    "}) # переименуем столбцы\n",
    "df_children['with_debt'] =df_children['with_debt'].fillna(value=0) # для наглядности заменим NaN на 0\n",
    "df_children['percent'] = ((df_children['with_debt'] / (df_children['without_debt'] + df_children['with_debt'])) * 100).round(2) # считаем % клиентов, которые имели задолженности по возврату кредита.\n",
    "df_children "
   ]
  },
  {
   "cell_type": "code",
   "execution_count": 33,
   "id": "73634621",
   "metadata": {},
   "outputs": [
    {
     "data": {
      "text/plain": [
       "<AxesSubplot:xlabel='children', ylabel='percent'>"
      ]
     },
     "execution_count": 33,
     "metadata": {},
     "output_type": "execute_result"
    },
    {
     "data": {
      "image/png": "[encoded data removed]",
      "text/plain": [
       "<Figure size 432x288 with 1 Axes>"
      ]
     },
     "metadata": {
      "needs_background": "light"
     },
     "output_type": "display_data"
    }
   ],
   "source": [
    "sns.barplot(x=df_children['children'], y=df_children['percent'])"
   ]
  },
  {
   "cell_type": "markdown",
   "id": "f06b933f",
   "metadata": {},
   "source": [
    "##### Вывод 1:"
   ]
  },
  {
   "cell_type": "markdown",
   "id": "788e8dac",
   "metadata": {},
   "source": [
    "Данные показывают: прямой зависимости от количества детей и процентом клиентов, которые имели задолженность по возврату кредитов нет. \n",
    "На графике это наглядно видно: от бездетных до имеющих 2 детей идёт рост, для 3 детей процент падает, для 4 снова рост (больше 1.5%) , а для 5 детей 0. \n",
    " \n",
    "Значит, данные не подтверждают первую гипотизу о зависимости между количеством детей и возвратом кредита в срок."
   ]
  },
  {
   "cell_type": "markdown",
   "id": "b26e95aa",
   "metadata": {},
   "source": [
    "##### Вопрос 2:\n",
    "Есть ли зависимость между семейным положением и возвратом кредита в срок?"
   ]
  },
  {
   "cell_type": "code",
   "execution_count": 34,
   "id": "d1993ddc",
   "metadata": {},
   "outputs": [
    {
     "data": {
      "text/html": [
       "<div>\n",
       "<style scoped>\n",
       "    .dataframe tbody tr th:only-of-type {\n",
       "        vertical-align: middle;\n",
       "    }\n",
       "\n",
       "    .dataframe tbody tr th {\n",
       "        vertical-align: top;\n",
       "    }\n",
       "\n",
       "    .dataframe thead th {\n",
       "        text-align: right;\n",
       "    }\n",
       "</style>\n",
       "<table border=\"1\" class=\"dataframe\">\n",
       "  <thead>\n",
       "    <tr style=\"text-align: right;\">\n",
       "      <th>debt</th>\n",
       "      <th>family_status_id</th>\n",
       "      <th>without_debt</th>\n",
       "      <th>with_debt</th>\n",
       "      <th>percent</th>\n",
       "    </tr>\n",
       "  </thead>\n",
       "  <tbody>\n",
       "    <tr>\n",
       "      <th>0</th>\n",
       "      <td>0</td>\n",
       "      <td>11408</td>\n",
       "      <td>931</td>\n",
       "      <td>7.55</td>\n",
       "    </tr>\n",
       "    <tr>\n",
       "      <th>1</th>\n",
       "      <td>1</td>\n",
       "      <td>3763</td>\n",
       "      <td>388</td>\n",
       "      <td>9.35</td>\n",
       "    </tr>\n",
       "    <tr>\n",
       "      <th>2</th>\n",
       "      <td>2</td>\n",
       "      <td>896</td>\n",
       "      <td>63</td>\n",
       "      <td>6.57</td>\n",
       "    </tr>\n",
       "    <tr>\n",
       "      <th>3</th>\n",
       "      <td>3</td>\n",
       "      <td>1110</td>\n",
       "      <td>85</td>\n",
       "      <td>7.11</td>\n",
       "    </tr>\n",
       "    <tr>\n",
       "      <th>4</th>\n",
       "      <td>4</td>\n",
       "      <td>2536</td>\n",
       "      <td>274</td>\n",
       "      <td>9.75</td>\n",
       "    </tr>\n",
       "  </tbody>\n",
       "</table>\n",
       "</div>"
      ],
      "text/plain": [
       "debt  family_status_id  without_debt  with_debt  percent\n",
       "0                    0         11408        931     7.55\n",
       "1                    1          3763        388     9.35\n",
       "2                    2           896         63     6.57\n",
       "3                    3          1110         85     7.11\n",
       "4                    4          2536        274     9.75"
      ]
     },
     "execution_count": 34,
     "metadata": {},
     "output_type": "execute_result"
    }
   ],
   "source": [
    "df_family_status_debt = df.pivot_table(index=['family_status_id'], columns='debt', values='total_income', aggfunc='count').reset_index() # создадим сводную таблицу\n",
    "df_family_status_debt = df_family_status_debt.rename(columns=\n",
    "{\n",
    "    df_family_status_debt.columns[1]: 'without_debt',\n",
    "    df_family_status_debt.columns[2]: 'with_debt'\n",
    "}) # переименуем столбцы\n",
    "df_family_status_debt['percent'] = ((df_family_status_debt['with_debt'] / (df_family_status_debt['without_debt'] + df_family_status_debt['with_debt'])) * 100).round(2) \n",
    "# считаем % клиентов, которые имели задолженности по возврату кредита.\n",
    "df_family_status_debt"
   ]
  },
  {
   "cell_type": "code",
   "execution_count": 35,
   "id": "58ed4d47",
   "metadata": {},
   "outputs": [
    {
     "data": {
      "text/plain": [
       "<AxesSubplot:xlabel='percent', ylabel='family_status'>"
      ]
     },
     "execution_count": 35,
     "metadata": {},
     "output_type": "execute_result"
    },
    {
     "data": {
      "image/png": "[encoded data removed]",
      "text/plain": [
       "<Figure size 432x288 with 1 Axes>"
      ]
     },
     "metadata": {
      "needs_background": "light"
     },
     "output_type": "display_data"
    }
   ],
   "source": [
    "df_family_status_debt = df_family_status_debt.merge(df_family_status, on='family_status_id', how='left')\n",
    "sns.barplot(x=df_family_status_debt['percent'], y=df_family_status_debt['family_status'])"
   ]
  },
  {
   "cell_type": "markdown",
   "id": "af929abb",
   "metadata": {},
   "source": [
    "Зависимость между семейным положением и возвратом кредита в срок существует.\n",
    "На графике видно, что процент имевших задолженность по кредитам среди клиентов категории \"Не женат/не замужем\"  и \"гражданский брак\" сильно выше остальных категорий (по таблице это 9.75 и 9.35 соответственно), а категория \"вдовец/вдова\" имеет наименьший процент задолженников, при этом категории \"женат/замужем\" и \"в разводе\" близки по значению. Наимение обязательными в выполнении обязательст перед банком являются клиенты статуса \"не женат/не замужем\" и \"гражданский брак\".   \n",
    "\n",
    "Значит, данные говорят в пользу зависимости между семейным положением и возвратом кредита в срок. "
   ]
  },
  {
   "cell_type": "markdown",
   "id": "89a97691",
   "metadata": {},
   "source": [
    "##### Вопрос 3:\n",
    "Есть ли зависимость между уровнем дохода и возвратом кредита в срок?"
   ]
  },
  {
   "cell_type": "code",
   "execution_count": 36,
   "id": "ee871645",
   "metadata": {},
   "outputs": [
    {
     "data": {
      "text/html": [
       "<div>\n",
       "<style scoped>\n",
       "    .dataframe tbody tr th:only-of-type {\n",
       "        vertical-align: middle;\n",
       "    }\n",
       "\n",
       "    .dataframe tbody tr th {\n",
       "        vertical-align: top;\n",
       "    }\n",
       "\n",
       "    .dataframe thead th {\n",
       "        text-align: right;\n",
       "    }\n",
       "</style>\n",
       "<table border=\"1\" class=\"dataframe\">\n",
       "  <thead>\n",
       "    <tr style=\"text-align: right;\">\n",
       "      <th>debt</th>\n",
       "      <th>total_income_category</th>\n",
       "      <th>without_debt</th>\n",
       "      <th>with_debt</th>\n",
       "      <th>percent</th>\n",
       "    </tr>\n",
       "  </thead>\n",
       "  <tbody>\n",
       "    <tr>\n",
       "      <th>0</th>\n",
       "      <td>A</td>\n",
       "      <td>23</td>\n",
       "      <td>2</td>\n",
       "      <td>8.00</td>\n",
       "    </tr>\n",
       "    <tr>\n",
       "      <th>1</th>\n",
       "      <td>B</td>\n",
       "      <td>4686</td>\n",
       "      <td>356</td>\n",
       "      <td>7.06</td>\n",
       "    </tr>\n",
       "    <tr>\n",
       "      <th>2</th>\n",
       "      <td>C</td>\n",
       "      <td>14655</td>\n",
       "      <td>1360</td>\n",
       "      <td>8.49</td>\n",
       "    </tr>\n",
       "    <tr>\n",
       "      <th>3</th>\n",
       "      <td>D</td>\n",
       "      <td>329</td>\n",
       "      <td>21</td>\n",
       "      <td>6.00</td>\n",
       "    </tr>\n",
       "    <tr>\n",
       "      <th>4</th>\n",
       "      <td>E</td>\n",
       "      <td>20</td>\n",
       "      <td>2</td>\n",
       "      <td>9.09</td>\n",
       "    </tr>\n",
       "  </tbody>\n",
       "</table>\n",
       "</div>"
      ],
      "text/plain": [
       "debt total_income_category  without_debt  with_debt  percent\n",
       "0                        A            23          2     8.00\n",
       "1                        B          4686        356     7.06\n",
       "2                        C         14655       1360     8.49\n",
       "3                        D           329         21     6.00\n",
       "4                        E            20          2     9.09"
      ]
     },
     "execution_count": 36,
     "metadata": {},
     "output_type": "execute_result"
    }
   ],
   "source": [
    "df_total_income = df.pivot_table(index=['total_income_category'], columns='debt', values='purpose', aggfunc='count').reset_index() # создадим сводную таблицу\n",
    "df_total_income = df_total_income.rename(columns=\n",
    "{\n",
    "    df_total_income.columns[1]: 'without_debt',\n",
    "    df_total_income.columns[2]: 'with_debt'\n",
    "}) # переименуем столбцы\n",
    "df_total_income['percent'] = ((df_total_income['with_debt'] / (df_total_income['without_debt'] + df_total_income['with_debt'])) * 100).round(2) \n",
    "# считаем % клиентов, которые имели задолженности по возврату кредита.\n",
    "df_total_income"
   ]
  },
  {
   "cell_type": "code",
   "execution_count": 37,
   "id": "03a96258",
   "metadata": {},
   "outputs": [
    {
     "data": {
      "text/plain": [
       "<AxesSubplot:xlabel='percent', ylabel='mean_category'>"
      ]
     },
     "execution_count": 37,
     "metadata": {},
     "output_type": "execute_result"
    },
    {
     "data": {
      "image/png": "[encoded data removed]",
      "text/plain": [
       "<Figure size 432x288 with 1 Axes>"
      ]
     },
     "metadata": {
      "needs_background": "light"
     },
     "output_type": "display_data"
    }
   ],
   "source": [
    "category = {                # для наглядности сделаем столбец с расшифровкой значений категорий A,B,C,D,E.\n",
    "    'A': '1000001 и выше',\n",
    "    'B': '200001–1000000',\n",
    "    'C': '50001–200000',\n",
    "    'D': '30001–50000',\n",
    "    'E': 'до 30000'}\n",
    "df_category = pd.DataFrame(list(category.items()),columns=['total_income_category', 'mean_category'])\n",
    "df_total_income = df_total_income.merge(df_category, on='total_income_category', how='left')\n",
    "sns.barplot(x=df_total_income['percent'], y=df_total_income['mean_category']) # построим столбчатую диаграмму."
   ]
  },
  {
   "cell_type": "markdown",
   "id": "6e9a134e",
   "metadata": {},
   "source": [
    "Прямой зависимости между уровнем дохода и возвратом кредита в срок не прослеживается.\n",
    "При этом можно утверждать, что при доходе меньше 30000 количество просрочек максимальное.\n",
    "Меньше всего процент клиентов имевших задолженности по кредитам среди тех, чей доход в диапазоне 30001 до 50000.\n",
    "\n",
    "Значит, зависимость между уровнем дохода и возвратом кредита в срок подтвердилась частично."
   ]
  },
  {
   "cell_type": "markdown",
   "id": "b5df9324",
   "metadata": {},
   "source": [
    "##### Вопрос 4:\n",
    "Как разные цели кредита влияют на его возврат в срок?"
   ]
  },
  {
   "cell_type": "code",
   "execution_count": 38,
   "id": "cdf4ab21",
   "metadata": {},
   "outputs": [
    {
     "data": {
      "text/html": [
       "<div>\n",
       "<style scoped>\n",
       "    .dataframe tbody tr th:only-of-type {\n",
       "        vertical-align: middle;\n",
       "    }\n",
       "\n",
       "    .dataframe tbody tr th {\n",
       "        vertical-align: top;\n",
       "    }\n",
       "\n",
       "    .dataframe thead th {\n",
       "        text-align: right;\n",
       "    }\n",
       "</style>\n",
       "<table border=\"1\" class=\"dataframe\">\n",
       "  <thead>\n",
       "    <tr style=\"text-align: right;\">\n",
       "      <th>debt</th>\n",
       "      <th>purpose_category</th>\n",
       "      <th>without_debt</th>\n",
       "      <th>with_debt</th>\n",
       "      <th>percent</th>\n",
       "    </tr>\n",
       "  </thead>\n",
       "  <tbody>\n",
       "    <tr>\n",
       "      <th>0</th>\n",
       "      <td>операции с автомобилем</td>\n",
       "      <td>3903</td>\n",
       "      <td>403</td>\n",
       "      <td>9.36</td>\n",
       "    </tr>\n",
       "    <tr>\n",
       "      <th>1</th>\n",
       "      <td>операции с недвижимостью</td>\n",
       "      <td>10029</td>\n",
       "      <td>782</td>\n",
       "      <td>7.23</td>\n",
       "    </tr>\n",
       "    <tr>\n",
       "      <th>2</th>\n",
       "      <td>получение образования</td>\n",
       "      <td>3643</td>\n",
       "      <td>370</td>\n",
       "      <td>9.22</td>\n",
       "    </tr>\n",
       "    <tr>\n",
       "      <th>3</th>\n",
       "      <td>проведение свадьбы</td>\n",
       "      <td>2138</td>\n",
       "      <td>186</td>\n",
       "      <td>8.00</td>\n",
       "    </tr>\n",
       "  </tbody>\n",
       "</table>\n",
       "</div>"
      ],
      "text/plain": [
       "debt          purpose_category  without_debt  with_debt  percent\n",
       "0       операции с автомобилем          3903        403     9.36\n",
       "1     операции с недвижимостью         10029        782     7.23\n",
       "2        получение образования          3643        370     9.22\n",
       "3           проведение свадьбы          2138        186     8.00"
      ]
     },
     "execution_count": 38,
     "metadata": {},
     "output_type": "execute_result"
    }
   ],
   "source": [
    "df_purpose = df.pivot_table(index=['purpose_category'], columns='debt', values='purpose', aggfunc='count').reset_index() # создадим сводную таблицу\n",
    "df_purpose = df_purpose.rename(columns=\n",
    "{\n",
    "    df_purpose.columns[1]: 'without_debt',\n",
    "    df_purpose.columns[2]: 'with_debt'\n",
    "}) # переименуем столбцы\n",
    "df_purpose['percent'] = ((df_purpose['with_debt'] / (df_purpose['without_debt'] + df_purpose['with_debt'])) * 100).round(2) \n",
    "# считаем % клиентов, которые имели задолженности по возврату кредита.\n",
    "df_purpose"
   ]
  },
  {
   "cell_type": "code",
   "execution_count": 39,
   "id": "9ad37f9a",
   "metadata": {},
   "outputs": [
    {
     "data": {
      "text/plain": [
       "<AxesSubplot:xlabel='percent', ylabel='purpose_category'>"
      ]
     },
     "execution_count": 39,
     "metadata": {},
     "output_type": "execute_result"
    },
    {
     "data": {
      "image/png": "[encoded data removed]",
      "text/plain": [
       "<Figure size 432x288 with 1 Axes>"
      ]
     },
     "metadata": {
      "needs_background": "light"
     },
     "output_type": "display_data"
    }
   ],
   "source": [
    "sns.barplot(x=df_purpose['percent'], y=df_purpose['purpose_category'])"
   ]
  },
  {
   "cell_type": "markdown",
   "id": "701dadf1",
   "metadata": {},
   "source": [
    "Самые дисциплинированные в погашении кредита оказались заёмщики, целью которых были операции с недвижимостью - 7.23%, при этом количество таковых в выборке максимальное, что говорит о надёжности результата. \n",
    "Проведение свадьбы оказалось на втором месте - 8.0%.\n",
    "В равной степени большой процент имевших задолженность это те, целью кредита которых были операции с автомобилем - 9.36% и полученние образования - 9.22%.\n",
    "Значит, разные цели кредита влияют на его возврат в срок.    "
   ]
  },
  {
   "cell_type": "markdown",
   "id": "dcb0558f",
   "metadata": {},
   "source": [
    "## Общий вывод:"
   ]
  },
  {
   "cell_type": "markdown",
   "id": "b8bff462",
   "metadata": {},
   "source": [
    "В данном исследовании на надёжность клиентов мы ответили на 4 вопроса.\n",
    "\n",
    "*Есть ли зависимость между количеством детей и возвратом кредита в срок?*\n",
    "Проанализировав данные можно сказать, что такой зависимости нет\n",
    "\n",
    "*Есть ли зависимость между семейным положением и возвратом кредита в срок?*\n",
    "Данные говорят в пользу зависимости между семейным положением и возвратом кредита в срок.\n",
    "Список по убыванию надежности будет такой:\n",
    "- вдовец/вдова,\n",
    "- в разводе,\n",
    "- женат/замужем,\n",
    "- гражданский брак,\n",
    "- Не женат/не замужем\n",
    "\n",
    "*Есть ли зависимость между уровнем дохода и возвратом кредита в срок?*\n",
    "Прямой зависимости между уровнем дохода и возвратом кредита в срок не прослеживается. Но можно сказать, что при доходе меньше 30000 количество задержек в погашении кредита будет максимальное, а для клиентов с доходом от 30001 до 50000 характерна высокая способность погасить кредит вовремя.\n",
    "\n",
    "*Как разные цели кредита влияют на его возврат в срок*\n",
    "Зависимость от целей кредитования и способность заёмщиков погашать его в срок по убыванию выглядит так:\n",
    "- операции с недвижимостью,\n",
    "- проведение свадьбы,\n",
    "- полученние образования,\n",
    "- операции с автомобилем.\n",
    "\n",
    "Исходя из всего вышеизложенного, можно сделать вывод, что характеристики потенциального заёмщика наиболее способного вернуть кредит банку: \n",
    "- Семейное положение - вдовец/вдова \n",
    "- Доход - 30001-50000\n",
    "- Цель кредита - операции с недвижимостью\n",
    "\n",
    "А характеристики потенциального заёмщика наименее способного вернуть вовремя кредит:\n",
    "\n",
    "- Семейное положение - не женат/не замужем \n",
    "- Доход -  до 30000\n",
    "- Цель кредита - операции с автомобилем"
   ]
  }
 ],
 "metadata": {
  "ExecuteTimeLog": [
   {
    "duration": 3784,
    "start_time": "2022-02-13T14:10:35.220Z"
   },
   {
    "duration": -1497,
    "start_time": "2022-02-13T14:10:40.508Z"
   },
   {
    "duration": -1505,
    "start_time": "2022-02-13T14:10:40.518Z"
   },
   {
    "duration": -1509,
    "start_time": "2022-02-13T14:10:40.524Z"
   },
   {
    "duration": -1516,
    "start_time": "2022-02-13T14:10:40.533Z"
   },
   {
    "duration": -1515,
    "start_time": "2022-02-13T14:10:40.535Z"
   },
   {
    "duration": -1515,
    "start_time": "2022-02-13T14:10:40.537Z"
   },
   {
    "duration": -1515,
    "start_time": "2022-02-13T14:10:40.539Z"
   },
   {
    "duration": -1525,
    "start_time": "2022-02-13T14:10:40.551Z"
   },
   {
    "duration": -1525,
    "start_time": "2022-02-13T14:10:40.553Z"
   },
   {
    "duration": -1525,
    "start_time": "2022-02-13T14:10:40.555Z"
   },
   {
    "duration": -1527,
    "start_time": "2022-02-13T14:10:40.559Z"
   },
   {
    "duration": -1536,
    "start_time": "2022-02-13T14:10:40.570Z"
   },
   {
    "duration": -1536,
    "start_time": "2022-02-13T14:10:40.572Z"
   },
   {
    "duration": -1545,
    "start_time": "2022-02-13T14:10:40.583Z"
   },
   {
    "duration": -1545,
    "start_time": "2022-02-13T14:10:40.585Z"
   },
   {
    "duration": -1544,
    "start_time": "2022-02-13T14:10:40.587Z"
   },
   {
    "duration": -1544,
    "start_time": "2022-02-13T14:10:40.589Z"
   },
   {
    "duration": -1544,
    "start_time": "2022-02-13T14:10:40.591Z"
   },
   {
    "duration": -1551,
    "start_time": "2022-02-13T14:10:40.600Z"
   },
   {
    "duration": -1551,
    "start_time": "2022-02-13T14:10:40.602Z"
   },
   {
    "duration": -1550,
    "start_time": "2022-02-13T14:10:40.604Z"
   },
   {
    "duration": -1551,
    "start_time": "2022-02-13T14:10:40.607Z"
   },
   {
    "duration": -1559,
    "start_time": "2022-02-13T14:10:40.617Z"
   },
   {
    "duration": -1559,
    "start_time": "2022-02-13T14:10:40.620Z"
   },
   {
    "duration": -1556,
    "start_time": "2022-02-13T14:10:40.621Z"
   },
   {
    "duration": -1557,
    "start_time": "2022-02-13T14:10:40.624Z"
   },
   {
    "duration": -1564,
    "start_time": "2022-02-13T14:10:40.633Z"
   },
   {
    "duration": -1564,
    "start_time": "2022-02-13T14:10:40.636Z"
   },
   {
    "duration": -1564,
    "start_time": "2022-02-13T14:10:40.638Z"
   },
   {
    "duration": -1564,
    "start_time": "2022-02-13T14:10:40.640Z"
   },
   {
    "duration": -1573,
    "start_time": "2022-02-13T14:10:40.651Z"
   },
   {
    "duration": -1573,
    "start_time": "2022-02-13T14:10:40.653Z"
   },
   {
    "duration": -1573,
    "start_time": "2022-02-13T14:10:40.655Z"
   },
   {
    "duration": -1573,
    "start_time": "2022-02-13T14:10:40.657Z"
   },
   {
    "duration": -1572,
    "start_time": "2022-02-13T14:10:40.659Z"
   },
   {
    "duration": -1580,
    "start_time": "2022-02-13T14:10:40.668Z"
   },
   {
    "duration": -1581,
    "start_time": "2022-02-13T14:10:40.670Z"
   },
   {
    "duration": -1581,
    "start_time": "2022-02-13T14:10:40.672Z"
   },
   {
    "duration": -1526,
    "start_time": "2022-02-13T14:10:40.675Z"
   },
   {
    "duration": -1527,
    "start_time": "2022-02-13T14:10:40.677Z"
   },
   {
    "duration": -1527,
    "start_time": "2022-02-13T14:10:40.679Z"
   },
   {
    "duration": -1527,
    "start_time": "2022-02-13T14:10:40.681Z"
   },
   {
    "duration": 4347,
    "start_time": "2022-02-13T14:11:13.105Z"
   },
   {
    "duration": -1435,
    "start_time": "2022-02-13T14:11:18.892Z"
   },
   {
    "duration": -1435,
    "start_time": "2022-02-13T14:11:18.894Z"
   },
   {
    "duration": -1436,
    "start_time": "2022-02-13T14:11:18.896Z"
   },
   {
    "duration": -1436,
    "start_time": "2022-02-13T14:11:18.898Z"
   },
   {
    "duration": -1437,
    "start_time": "2022-02-13T14:11:18.900Z"
   },
   {
    "duration": -1439,
    "start_time": "2022-02-13T14:11:18.903Z"
   },
   {
    "duration": -1439,
    "start_time": "2022-02-13T14:11:18.905Z"
   },
   {
    "duration": -1440,
    "start_time": "2022-02-13T14:11:18.907Z"
   },
   {
    "duration": -1440,
    "start_time": "2022-02-13T14:11:18.908Z"
   },
   {
    "duration": -1440,
    "start_time": "2022-02-13T14:11:18.910Z"
   },
   {
    "duration": -1440,
    "start_time": "2022-02-13T14:11:18.912Z"
   },
   {
    "duration": -1441,
    "start_time": "2022-02-13T14:11:18.914Z"
   },
   {
    "duration": -1442,
    "start_time": "2022-02-13T14:11:18.916Z"
   },
   {
    "duration": -1441,
    "start_time": "2022-02-13T14:11:18.917Z"
   },
   {
    "duration": -1442,
    "start_time": "2022-02-13T14:11:18.920Z"
   },
   {
    "duration": -1441,
    "start_time": "2022-02-13T14:11:18.921Z"
   },
   {
    "duration": -1455,
    "start_time": "2022-02-13T14:11:18.936Z"
   },
   {
    "duration": -1460,
    "start_time": "2022-02-13T14:11:18.942Z"
   },
   {
    "duration": -1461,
    "start_time": "2022-02-13T14:11:18.945Z"
   },
   {
    "duration": -1467,
    "start_time": "2022-02-13T14:11:18.952Z"
   },
   {
    "duration": -1468,
    "start_time": "2022-02-13T14:11:18.954Z"
   },
   {
    "duration": -1469,
    "start_time": "2022-02-13T14:11:18.956Z"
   },
   {
    "duration": -1470,
    "start_time": "2022-02-13T14:11:18.959Z"
   },
   {
    "duration": -1471,
    "start_time": "2022-02-13T14:11:18.961Z"
   },
   {
    "duration": -1415,
    "start_time": "2022-02-13T14:11:18.963Z"
   },
   {
    "duration": -1418,
    "start_time": "2022-02-13T14:11:18.969Z"
   },
   {
    "duration": -1418,
    "start_time": "2022-02-13T14:11:18.971Z"
   },
   {
    "duration": -1419,
    "start_time": "2022-02-13T14:11:18.973Z"
   },
   {
    "duration": -1419,
    "start_time": "2022-02-13T14:11:18.975Z"
   },
   {
    "duration": -1419,
    "start_time": "2022-02-13T14:11:18.977Z"
   },
   {
    "duration": -1422,
    "start_time": "2022-02-13T14:11:18.982Z"
   },
   {
    "duration": -1423,
    "start_time": "2022-02-13T14:11:18.984Z"
   },
   {
    "duration": -1422,
    "start_time": "2022-02-13T14:11:18.986Z"
   },
   {
    "duration": -1422,
    "start_time": "2022-02-13T14:11:18.988Z"
   },
   {
    "duration": -1480,
    "start_time": "2022-02-13T14:11:19.047Z"
   },
   {
    "duration": -1480,
    "start_time": "2022-02-13T14:11:19.049Z"
   },
   {
    "duration": -1481,
    "start_time": "2022-02-13T14:11:19.051Z"
   },
   {
    "duration": -1483,
    "start_time": "2022-02-13T14:11:19.054Z"
   },
   {
    "duration": -1483,
    "start_time": "2022-02-13T14:11:19.056Z"
   },
   {
    "duration": -1484,
    "start_time": "2022-02-13T14:11:19.058Z"
   },
   {
    "duration": -1490,
    "start_time": "2022-02-13T14:11:19.066Z"
   },
   {
    "duration": -1491,
    "start_time": "2022-02-13T14:11:19.068Z"
   },
   {
    "duration": 76,
    "start_time": "2022-02-13T14:12:22.928Z"
   },
   {
    "duration": 237,
    "start_time": "2022-02-13T14:12:31.531Z"
   },
   {
    "duration": 76,
    "start_time": "2022-02-13T14:12:46.366Z"
   },
   {
    "duration": 1474,
    "start_time": "2022-02-13T14:12:54.694Z"
   },
   {
    "duration": 16,
    "start_time": "2022-02-13T14:12:56.172Z"
   },
   {
    "duration": 13,
    "start_time": "2022-02-13T14:12:56.193Z"
   },
   {
    "duration": 4,
    "start_time": "2022-02-13T14:12:56.209Z"
   },
   {
    "duration": 70,
    "start_time": "2022-02-13T14:12:56.216Z"
   },
   {
    "duration": 8823,
    "start_time": "2022-02-13T14:12:56.289Z"
   },
   {
    "duration": 14,
    "start_time": "2022-02-13T14:13:05.114Z"
   },
   {
    "duration": 26,
    "start_time": "2022-02-13T14:13:05.149Z"
   },
   {
    "duration": 8,
    "start_time": "2022-02-13T14:13:05.178Z"
   },
   {
    "duration": 6,
    "start_time": "2022-02-13T14:13:05.189Z"
   },
   {
    "duration": 8,
    "start_time": "2022-02-13T14:13:05.197Z"
   },
   {
    "duration": 49,
    "start_time": "2022-02-13T14:13:05.207Z"
   },
   {
    "duration": 2,
    "start_time": "2022-02-13T14:13:05.259Z"
   },
   {
    "duration": 14,
    "start_time": "2022-02-13T14:13:05.264Z"
   },
   {
    "duration": 22,
    "start_time": "2022-02-13T14:13:05.281Z"
   },
   {
    "duration": 100,
    "start_time": "2022-02-13T14:13:05.305Z"
   },
   {
    "duration": 11,
    "start_time": "2022-02-13T14:13:05.408Z"
   },
   {
    "duration": 46,
    "start_time": "2022-02-13T14:13:05.422Z"
   },
   {
    "duration": 9,
    "start_time": "2022-02-13T14:13:05.471Z"
   },
   {
    "duration": 28,
    "start_time": "2022-02-13T14:13:05.482Z"
   },
   {
    "duration": 4,
    "start_time": "2022-02-13T14:13:05.513Z"
   },
   {
    "duration": 4,
    "start_time": "2022-02-13T14:13:05.549Z"
   },
   {
    "duration": 34,
    "start_time": "2022-02-13T14:13:05.558Z"
   },
   {
    "duration": 8,
    "start_time": "2022-02-13T14:13:05.595Z"
   },
   {
    "duration": 10,
    "start_time": "2022-02-13T14:13:05.604Z"
   },
   {
    "duration": 52,
    "start_time": "2022-02-13T14:13:05.617Z"
   },
   {
    "duration": 21,
    "start_time": "2022-02-13T14:13:05.672Z"
   },
   {
    "duration": 52,
    "start_time": "2022-02-13T14:13:05.696Z"
   },
   {
    "duration": 24,
    "start_time": "2022-02-13T14:13:05.751Z"
   },
   {
    "duration": 11,
    "start_time": "2022-02-13T14:13:05.777Z"
   },
   {
    "duration": 14,
    "start_time": "2022-02-13T14:13:05.791Z"
   },
   {
    "duration": 9,
    "start_time": "2022-02-13T14:13:05.807Z"
   },
   {
    "duration": 26,
    "start_time": "2022-02-13T14:13:05.848Z"
   },
   {
    "duration": 4,
    "start_time": "2022-02-13T14:13:05.877Z"
   },
   {
    "duration": 31,
    "start_time": "2022-02-13T14:13:05.883Z"
   },
   {
    "duration": 67,
    "start_time": "2022-02-13T14:13:05.916Z"
   },
   {
    "duration": 269,
    "start_time": "2022-02-13T14:13:05.985Z"
   },
   {
    "duration": 32,
    "start_time": "2022-02-13T14:13:06.257Z"
   },
   {
    "duration": 1373,
    "start_time": "2022-02-13T14:13:06.291Z"
   },
   {
    "duration": 62,
    "start_time": "2022-02-13T14:13:07.669Z"
   },
   {
    "duration": 296,
    "start_time": "2022-02-13T14:13:07.734Z"
   },
   {
    "duration": 45,
    "start_time": "2022-02-13T14:13:08.033Z"
   },
   {
    "duration": 254,
    "start_time": "2022-02-13T14:13:08.080Z"
   },
   {
    "duration": 1339,
    "start_time": "2022-02-14T15:24:33.587Z"
   },
   {
    "duration": 12,
    "start_time": "2022-02-14T15:24:34.928Z"
   },
   {
    "duration": 14,
    "start_time": "2022-02-14T15:24:34.942Z"
   },
   {
    "duration": 2,
    "start_time": "2022-02-14T15:24:34.958Z"
   },
   {
    "duration": 33,
    "start_time": "2022-02-14T15:24:34.962Z"
   },
   {
    "duration": 6663,
    "start_time": "2022-02-14T15:24:34.997Z"
   },
   {
    "duration": 14,
    "start_time": "2022-02-14T15:24:41.662Z"
   },
   {
    "duration": 27,
    "start_time": "2022-02-14T15:24:41.679Z"
   },
   {
    "duration": 22,
    "start_time": "2022-02-14T15:24:41.718Z"
   },
   {
    "duration": 8,
    "start_time": "2022-02-14T15:24:41.742Z"
   },
   {
    "duration": 5,
    "start_time": "2022-02-14T15:24:41.752Z"
   },
   {
    "duration": 12,
    "start_time": "2022-02-14T15:24:41.759Z"
   },
   {
    "duration": 7,
    "start_time": "2022-02-14T15:24:41.773Z"
   },
   {
    "duration": 6,
    "start_time": "2022-02-14T15:24:41.782Z"
   },
   {
    "duration": 36,
    "start_time": "2022-02-14T15:24:41.790Z"
   },
   {
    "duration": 16,
    "start_time": "2022-02-14T15:24:41.828Z"
   },
   {
    "duration": 34,
    "start_time": "2022-02-14T15:24:41.846Z"
   },
   {
    "duration": 6,
    "start_time": "2022-02-14T15:24:41.882Z"
   },
   {
    "duration": 18,
    "start_time": "2022-02-14T15:24:41.919Z"
   },
   {
    "duration": 5,
    "start_time": "2022-02-14T15:24:41.939Z"
   },
   {
    "duration": 17,
    "start_time": "2022-02-14T15:24:41.946Z"
   },
   {
    "duration": 3,
    "start_time": "2022-02-14T15:24:41.964Z"
   },
   {
    "duration": 4,
    "start_time": "2022-02-14T15:24:41.971Z"
   },
   {
    "duration": 50,
    "start_time": "2022-02-14T15:24:41.977Z"
   },
   {
    "duration": 21,
    "start_time": "2022-02-14T15:24:42.028Z"
   },
   {
    "duration": 22,
    "start_time": "2022-02-14T15:24:42.051Z"
   },
   {
    "duration": 25,
    "start_time": "2022-02-14T15:24:42.075Z"
   },
   {
    "duration": 28,
    "start_time": "2022-02-14T15:24:42.102Z"
   },
   {
    "duration": 24,
    "start_time": "2022-02-14T15:24:42.132Z"
   },
   {
    "duration": 22,
    "start_time": "2022-02-14T15:24:42.157Z"
   },
   {
    "duration": 7,
    "start_time": "2022-02-14T15:24:42.180Z"
   },
   {
    "duration": 16,
    "start_time": "2022-02-14T15:24:42.189Z"
   },
   {
    "duration": 3,
    "start_time": "2022-02-14T15:24:42.218Z"
   },
   {
    "duration": 29,
    "start_time": "2022-02-14T15:24:42.223Z"
   },
   {
    "duration": 49,
    "start_time": "2022-02-14T15:24:42.254Z"
   },
   {
    "duration": 48,
    "start_time": "2022-02-14T15:24:42.304Z"
   },
   {
    "duration": 43,
    "start_time": "2022-02-14T15:24:42.354Z"
   },
   {
    "duration": 203,
    "start_time": "2022-02-14T15:24:42.399Z"
   },
   {
    "duration": 27,
    "start_time": "2022-02-14T15:24:42.604Z"
   },
   {
    "duration": 760,
    "start_time": "2022-02-14T15:24:42.633Z"
   },
   {
    "duration": 35,
    "start_time": "2022-02-14T15:24:43.396Z"
   },
   {
    "duration": 184,
    "start_time": "2022-02-14T15:24:43.433Z"
   },
   {
    "duration": 27,
    "start_time": "2022-02-14T15:24:43.619Z"
   },
   {
    "duration": 179,
    "start_time": "2022-02-14T15:24:43.647Z"
   }
  ],
  "kernelspec": {
   "display_name": "Python 3 (ipykernel)",
   "language": "python",
   "name": "python3"
  },
  "language_info": {
   "codemirror_mode": {
    "name": "ipython",
    "version": 3
   },
   "file_extension": ".py",
   "mimetype": "text/x-python",
   "name": "python",
   "nbconvert_exporter": "python",
   "pygments_lexer": "ipython3",
   "version": "3.9.7"
  },
  "toc": {
   "base_numbering": 1,
   "nav_menu": {},
   "number_sections": true,
   "sideBar": true,
   "skip_h1_title": true,
   "title_cell": "Table of Contents",
   "title_sidebar": "Contents",
   "toc_cell": false,
   "toc_position": {},
   "toc_section_display": true,
   "toc_window_display": true
  }
 },
 "nbformat": 4,
 "nbformat_minor": 5
}

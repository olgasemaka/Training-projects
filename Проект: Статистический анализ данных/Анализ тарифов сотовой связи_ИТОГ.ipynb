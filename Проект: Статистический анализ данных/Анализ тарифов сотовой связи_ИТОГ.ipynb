{
 "cells": [
  {
   "cell_type": "markdown",
   "id": "45d6ada7",
   "metadata": {},
   "source": [
    "# Исследование тарифов сотовой связи"
   ]
  },
  {
   "cell_type": "markdown",
   "id": "0d2e65e1",
   "metadata": {},
   "source": [
    "Компания «Мегалайн» — федеральный оператор сотовой связи. Клиентам предлагают два тарифных плана: «Смарт» и «Ультра». Чтобы скорректировать рекламный бюджет, коммерческий департамент хочет понять, какой тариф приносит больше денег.\n",
    "Нам предстоит сделать предварительный анализ тарифов на небольшой выборке клиентов. В нашем распоряжении данные 500 пользователей «Мегалайна»: кто они, откуда, каким тарифом пользуются, сколько звонков и сообщений каждый отправил за 2018 год. Нужно проанализировать поведение клиентов и сделать вывод — какой тариф лучше."
   ]
  },
  {
   "cell_type": "code",
   "execution_count": 1,
   "id": "0c845a23",
   "metadata": {},
   "outputs": [],
   "source": [
    "import pandas as pd\n",
    "import matplotlib.pyplot as plt\n",
    "import numpy as np\n",
    "from scipy import stats as st\n",
    "import math\n",
    "\n",
    "try:\n",
    "    data_calls = pd.read_csv('C:/Users/user/Documents/Проекты ЯП/Анализ тарифов сотовой связи/calls.csv')\n",
    "    data_internet = pd.read_csv('C:/Users/user/Documents/Проекты ЯП/Анализ тарифов сотовой связи/internet.csv')\n",
    "    data_messages = pd.read_csv('C:/Users/user/Documents/Проекты ЯП/Анализ тарифов сотовой связи/messages.csv')\n",
    "    data_tariffs = pd.read_csv('C:/Users/user/Documents/Проекты ЯП/Анализ тарифов сотовой связи/tariffs.csv')\n",
    "    data_users = pd.read_csv('C:/Users/user/Documents/Проекты ЯП/Анализ тарифов сотовой связи/users.csv')\n",
    "    \n",
    "except:\n",
    "    data_calls = pd.read_csv('/datasets/calls.csv')\n",
    "    data_internet = pd.read_csv('/datasets/internet.csv')\n",
    "    data_messages = pd.read_csv('/datasets/messages.csv')\n",
    "    data_tariffs = pd.read_csv('/datasets/tariffs.csv')\n",
    "    data_users = pd.read_csv('/datasets/users.csv')    \n",
    "    \n",
    "pd.set_option('display.max_columns', None) \n",
    "pd.set_option('display.max_rows', None)"
   ]
  },
  {
   "cell_type": "markdown",
   "id": "b55aded5",
   "metadata": {},
   "source": [
    "### Шаг 1. Обзор и приведение данных к нужным типам "
   ]
  },
  {
   "cell_type": "markdown",
   "id": "6d534a8b",
   "metadata": {},
   "source": [
    "***Таблица data_calls***\n",
    "\n",
    "Описание данных\n",
    "\n",
    "Таблица data_calls (информация о звонках):\n",
    "- id — уникальный номер звонка\n",
    "- call_date — дата звонка\n",
    "- duration — длительность звонка в минутах\n",
    "- user_id — идентификатор пользователя, сделавшего звонок\n",
    "\n",
    "В таблице с информацией о звонках 202607 записей. Пропусков значений нет.\n",
    "Столбец call_date нужно сменить тип, чтобы в дальнейшем можно было использовать его как дату."
   ]
  },
  {
   "cell_type": "code",
   "execution_count": 2,
   "id": "b8b24391",
   "metadata": {
    "scrolled": false
   },
   "outputs": [
    {
     "data": {
      "text/plain": [
       "202607"
      ]
     },
     "metadata": {},
     "output_type": "display_data"
    },
    {
     "data": {
      "text/html": [
       "<div>\n",
       "<style scoped>\n",
       "    .dataframe tbody tr th:only-of-type {\n",
       "        vertical-align: middle;\n",
       "    }\n",
       "\n",
       "    .dataframe tbody tr th {\n",
       "        vertical-align: top;\n",
       "    }\n",
       "\n",
       "    .dataframe thead th {\n",
       "        text-align: right;\n",
       "    }\n",
       "</style>\n",
       "<table border=\"1\" class=\"dataframe\">\n",
       "  <thead>\n",
       "    <tr style=\"text-align: right;\">\n",
       "      <th></th>\n",
       "      <th>id</th>\n",
       "      <th>call_date</th>\n",
       "      <th>duration</th>\n",
       "      <th>user_id</th>\n",
       "    </tr>\n",
       "  </thead>\n",
       "  <tbody>\n",
       "    <tr>\n",
       "      <th>0</th>\n",
       "      <td>1000_0</td>\n",
       "      <td>2018-07-25</td>\n",
       "      <td>0.00</td>\n",
       "      <td>1000</td>\n",
       "    </tr>\n",
       "    <tr>\n",
       "      <th>1</th>\n",
       "      <td>1000_1</td>\n",
       "      <td>2018-08-17</td>\n",
       "      <td>0.00</td>\n",
       "      <td>1000</td>\n",
       "    </tr>\n",
       "    <tr>\n",
       "      <th>2</th>\n",
       "      <td>1000_2</td>\n",
       "      <td>2018-06-11</td>\n",
       "      <td>2.85</td>\n",
       "      <td>1000</td>\n",
       "    </tr>\n",
       "    <tr>\n",
       "      <th>3</th>\n",
       "      <td>1000_3</td>\n",
       "      <td>2018-09-21</td>\n",
       "      <td>13.80</td>\n",
       "      <td>1000</td>\n",
       "    </tr>\n",
       "    <tr>\n",
       "      <th>4</th>\n",
       "      <td>1000_4</td>\n",
       "      <td>2018-12-15</td>\n",
       "      <td>5.18</td>\n",
       "      <td>1000</td>\n",
       "    </tr>\n",
       "  </tbody>\n",
       "</table>\n",
       "</div>"
      ],
      "text/plain": [
       "       id   call_date  duration  user_id\n",
       "0  1000_0  2018-07-25      0.00     1000\n",
       "1  1000_1  2018-08-17      0.00     1000\n",
       "2  1000_2  2018-06-11      2.85     1000\n",
       "3  1000_3  2018-09-21     13.80     1000\n",
       "4  1000_4  2018-12-15      5.18     1000"
      ]
     },
     "metadata": {},
     "output_type": "display_data"
    },
    {
     "data": {
      "text/html": [
       "<div>\n",
       "<style scoped>\n",
       "    .dataframe tbody tr th:only-of-type {\n",
       "        vertical-align: middle;\n",
       "    }\n",
       "\n",
       "    .dataframe tbody tr th {\n",
       "        vertical-align: top;\n",
       "    }\n",
       "\n",
       "    .dataframe thead th {\n",
       "        text-align: right;\n",
       "    }\n",
       "</style>\n",
       "<table border=\"1\" class=\"dataframe\">\n",
       "  <thead>\n",
       "    <tr style=\"text-align: right;\">\n",
       "      <th></th>\n",
       "      <th>count</th>\n",
       "      <th>mean</th>\n",
       "      <th>std</th>\n",
       "      <th>min</th>\n",
       "      <th>25%</th>\n",
       "      <th>50%</th>\n",
       "      <th>75%</th>\n",
       "      <th>max</th>\n",
       "    </tr>\n",
       "  </thead>\n",
       "  <tbody>\n",
       "    <tr>\n",
       "      <th>duration</th>\n",
       "      <td>202607.0</td>\n",
       "      <td>6.755887</td>\n",
       "      <td>5.843365</td>\n",
       "      <td>0.0</td>\n",
       "      <td>1.3</td>\n",
       "      <td>6.0</td>\n",
       "      <td>10.7</td>\n",
       "      <td>38.0</td>\n",
       "    </tr>\n",
       "    <tr>\n",
       "      <th>user_id</th>\n",
       "      <td>202607.0</td>\n",
       "      <td>1253.940619</td>\n",
       "      <td>144.722751</td>\n",
       "      <td>1000.0</td>\n",
       "      <td>1126.0</td>\n",
       "      <td>1260.0</td>\n",
       "      <td>1379.0</td>\n",
       "      <td>1499.0</td>\n",
       "    </tr>\n",
       "  </tbody>\n",
       "</table>\n",
       "</div>"
      ],
      "text/plain": [
       "             count         mean         std     min     25%     50%     75%  \\\n",
       "duration  202607.0     6.755887    5.843365     0.0     1.3     6.0    10.7   \n",
       "user_id   202607.0  1253.940619  144.722751  1000.0  1126.0  1260.0  1379.0   \n",
       "\n",
       "             max  \n",
       "duration    38.0  \n",
       "user_id   1499.0  "
      ]
     },
     "metadata": {},
     "output_type": "display_data"
    },
    {
     "name": "stdout",
     "output_type": "stream",
     "text": [
      "<class 'pandas.core.frame.DataFrame'>\n",
      "RangeIndex: 202607 entries, 0 to 202606\n",
      "Data columns (total 4 columns):\n",
      " #   Column     Non-Null Count   Dtype  \n",
      "---  ------     --------------   -----  \n",
      " 0   id         202607 non-null  object \n",
      " 1   call_date  202607 non-null  object \n",
      " 2   duration   202607 non-null  float64\n",
      " 3   user_id    202607 non-null  int64  \n",
      "dtypes: float64(1), int64(1), object(2)\n",
      "memory usage: 6.2+ MB\n"
     ]
    }
   ],
   "source": [
    "display(len(data_calls['id']), data_calls.head(), data_calls.describe().T) # посмотрим таблицу data_calls\n",
    "data_calls.info()"
   ]
  },
  {
   "cell_type": "code",
   "execution_count": 3,
   "id": "9d50a670",
   "metadata": {
    "scrolled": false
   },
   "outputs": [
    {
     "name": "stdout",
     "output_type": "stream",
     "text": [
      "<class 'pandas.core.frame.DataFrame'>\n",
      "RangeIndex: 202607 entries, 0 to 202606\n",
      "Data columns (total 4 columns):\n",
      " #   Column     Non-Null Count   Dtype         \n",
      "---  ------     --------------   -----         \n",
      " 0   id         202607 non-null  object        \n",
      " 1   call_date  202607 non-null  datetime64[ns]\n",
      " 2   duration   202607 non-null  float64       \n",
      " 3   user_id    202607 non-null  int64         \n",
      "dtypes: datetime64[ns](1), float64(1), int64(1), object(1)\n",
      "memory usage: 6.2+ MB\n"
     ]
    }
   ],
   "source": [
    "data_calls['call_date'] = pd.to_datetime(data_calls['call_date'], format='%Y-%m-%d')\n",
    "data_calls.info()"
   ]
  },
  {
   "cell_type": "code",
   "execution_count": 4,
   "id": "4edc2a39",
   "metadata": {},
   "outputs": [
    {
     "data": {
      "text/html": [
       "<div>\n",
       "<style scoped>\n",
       "    .dataframe tbody tr th:only-of-type {\n",
       "        vertical-align: middle;\n",
       "    }\n",
       "\n",
       "    .dataframe tbody tr th {\n",
       "        vertical-align: top;\n",
       "    }\n",
       "\n",
       "    .dataframe thead th {\n",
       "        text-align: right;\n",
       "    }\n",
       "</style>\n",
       "<table border=\"1\" class=\"dataframe\">\n",
       "  <thead>\n",
       "    <tr style=\"text-align: right;\">\n",
       "      <th></th>\n",
       "      <th>id</th>\n",
       "      <th>call_date</th>\n",
       "      <th>duration</th>\n",
       "      <th>user_id</th>\n",
       "      <th>duration_rounded</th>\n",
       "    </tr>\n",
       "  </thead>\n",
       "  <tbody>\n",
       "    <tr>\n",
       "      <th>0</th>\n",
       "      <td>1000_0</td>\n",
       "      <td>2018-07-25</td>\n",
       "      <td>0.00</td>\n",
       "      <td>1000</td>\n",
       "      <td>0.0</td>\n",
       "    </tr>\n",
       "    <tr>\n",
       "      <th>1</th>\n",
       "      <td>1000_1</td>\n",
       "      <td>2018-08-17</td>\n",
       "      <td>0.00</td>\n",
       "      <td>1000</td>\n",
       "      <td>0.0</td>\n",
       "    </tr>\n",
       "    <tr>\n",
       "      <th>2</th>\n",
       "      <td>1000_2</td>\n",
       "      <td>2018-06-11</td>\n",
       "      <td>2.85</td>\n",
       "      <td>1000</td>\n",
       "      <td>3.0</td>\n",
       "    </tr>\n",
       "    <tr>\n",
       "      <th>3</th>\n",
       "      <td>1000_3</td>\n",
       "      <td>2018-09-21</td>\n",
       "      <td>13.80</td>\n",
       "      <td>1000</td>\n",
       "      <td>14.0</td>\n",
       "    </tr>\n",
       "    <tr>\n",
       "      <th>4</th>\n",
       "      <td>1000_4</td>\n",
       "      <td>2018-12-15</td>\n",
       "      <td>5.18</td>\n",
       "      <td>1000</td>\n",
       "      <td>6.0</td>\n",
       "    </tr>\n",
       "  </tbody>\n",
       "</table>\n",
       "</div>"
      ],
      "text/plain": [
       "       id  call_date  duration  user_id  duration_rounded\n",
       "0  1000_0 2018-07-25      0.00     1000               0.0\n",
       "1  1000_1 2018-08-17      0.00     1000               0.0\n",
       "2  1000_2 2018-06-11      2.85     1000               3.0\n",
       "3  1000_3 2018-09-21     13.80     1000              14.0\n",
       "4  1000_4 2018-12-15      5.18     1000               6.0"
      ]
     },
     "execution_count": 4,
     "metadata": {},
     "output_type": "execute_result"
    }
   ],
   "source": [
    " # \"Мегалайн\" всегда округляет секунды до минут, поэтому добавим столбец с округлёнными минутами  по каждому звонку для расчётов\n",
    "data_calls['duration_rounded'] = data_calls['duration'].apply(np.ceil) \n",
    "data_calls.head()"
   ]
  },
  {
   "cell_type": "markdown",
   "id": "0b03a714",
   "metadata": {},
   "source": [
    "***Таблица data_internet***\n",
    "\n",
    "Описание данных\n",
    "\n",
    "Таблица data_internet (информация об интернет-сессиях):\n",
    "-\tid — уникальный номер сессии\n",
    "-\tmb_used — объём потраченного за сессию интернет-трафика (в мегабайтах)\n",
    "-\tsession_date — дата интернет-сессии\n",
    "-\tuser_id — идентификатор пользователя\n",
    "\n",
    "В таблице с информацией об интернет-сессиях 149396 записей. Пропусков значений нет.\n",
    "Столбец session_date нужно сменить тип, чтобы в дальнейшем можно было использовать его как дату."
   ]
  },
  {
   "cell_type": "code",
   "execution_count": 5,
   "id": "adeeb4bb",
   "metadata": {
    "scrolled": false
   },
   "outputs": [
    {
     "data": {
      "text/plain": [
       "149396"
      ]
     },
     "metadata": {},
     "output_type": "display_data"
    },
    {
     "data": {
      "text/html": [
       "<div>\n",
       "<style scoped>\n",
       "    .dataframe tbody tr th:only-of-type {\n",
       "        vertical-align: middle;\n",
       "    }\n",
       "\n",
       "    .dataframe tbody tr th {\n",
       "        vertical-align: top;\n",
       "    }\n",
       "\n",
       "    .dataframe thead th {\n",
       "        text-align: right;\n",
       "    }\n",
       "</style>\n",
       "<table border=\"1\" class=\"dataframe\">\n",
       "  <thead>\n",
       "    <tr style=\"text-align: right;\">\n",
       "      <th></th>\n",
       "      <th>Unnamed: 0</th>\n",
       "      <th>id</th>\n",
       "      <th>mb_used</th>\n",
       "      <th>session_date</th>\n",
       "      <th>user_id</th>\n",
       "    </tr>\n",
       "  </thead>\n",
       "  <tbody>\n",
       "    <tr>\n",
       "      <th>0</th>\n",
       "      <td>0</td>\n",
       "      <td>1000_0</td>\n",
       "      <td>112.95</td>\n",
       "      <td>2018-11-25</td>\n",
       "      <td>1000</td>\n",
       "    </tr>\n",
       "    <tr>\n",
       "      <th>1</th>\n",
       "      <td>1</td>\n",
       "      <td>1000_1</td>\n",
       "      <td>1052.81</td>\n",
       "      <td>2018-09-07</td>\n",
       "      <td>1000</td>\n",
       "    </tr>\n",
       "    <tr>\n",
       "      <th>2</th>\n",
       "      <td>2</td>\n",
       "      <td>1000_2</td>\n",
       "      <td>1197.26</td>\n",
       "      <td>2018-06-25</td>\n",
       "      <td>1000</td>\n",
       "    </tr>\n",
       "    <tr>\n",
       "      <th>3</th>\n",
       "      <td>3</td>\n",
       "      <td>1000_3</td>\n",
       "      <td>550.27</td>\n",
       "      <td>2018-08-22</td>\n",
       "      <td>1000</td>\n",
       "    </tr>\n",
       "    <tr>\n",
       "      <th>4</th>\n",
       "      <td>4</td>\n",
       "      <td>1000_4</td>\n",
       "      <td>302.56</td>\n",
       "      <td>2018-09-24</td>\n",
       "      <td>1000</td>\n",
       "    </tr>\n",
       "  </tbody>\n",
       "</table>\n",
       "</div>"
      ],
      "text/plain": [
       "   Unnamed: 0      id  mb_used session_date  user_id\n",
       "0           0  1000_0   112.95   2018-11-25     1000\n",
       "1           1  1000_1  1052.81   2018-09-07     1000\n",
       "2           2  1000_2  1197.26   2018-06-25     1000\n",
       "3           3  1000_3   550.27   2018-08-22     1000\n",
       "4           4  1000_4   302.56   2018-09-24     1000"
      ]
     },
     "metadata": {},
     "output_type": "display_data"
    },
    {
     "data": {
      "text/html": [
       "<div>\n",
       "<style scoped>\n",
       "    .dataframe tbody tr th:only-of-type {\n",
       "        vertical-align: middle;\n",
       "    }\n",
       "\n",
       "    .dataframe tbody tr th {\n",
       "        vertical-align: top;\n",
       "    }\n",
       "\n",
       "    .dataframe thead th {\n",
       "        text-align: right;\n",
       "    }\n",
       "</style>\n",
       "<table border=\"1\" class=\"dataframe\">\n",
       "  <thead>\n",
       "    <tr style=\"text-align: right;\">\n",
       "      <th></th>\n",
       "      <th>count</th>\n",
       "      <th>mean</th>\n",
       "      <th>std</th>\n",
       "      <th>min</th>\n",
       "      <th>25%</th>\n",
       "      <th>50%</th>\n",
       "      <th>75%</th>\n",
       "      <th>max</th>\n",
       "    </tr>\n",
       "  </thead>\n",
       "  <tbody>\n",
       "    <tr>\n",
       "      <th>Unnamed: 0</th>\n",
       "      <td>149396.0</td>\n",
       "      <td>74697.500000</td>\n",
       "      <td>43127.054745</td>\n",
       "      <td>0.0</td>\n",
       "      <td>37348.7500</td>\n",
       "      <td>74697.500</td>\n",
       "      <td>112046.2500</td>\n",
       "      <td>149395.00</td>\n",
       "    </tr>\n",
       "    <tr>\n",
       "      <th>mb_used</th>\n",
       "      <td>149396.0</td>\n",
       "      <td>370.192426</td>\n",
       "      <td>278.300951</td>\n",
       "      <td>0.0</td>\n",
       "      <td>138.1875</td>\n",
       "      <td>348.015</td>\n",
       "      <td>559.5525</td>\n",
       "      <td>1724.83</td>\n",
       "    </tr>\n",
       "    <tr>\n",
       "      <th>user_id</th>\n",
       "      <td>149396.0</td>\n",
       "      <td>1252.099842</td>\n",
       "      <td>144.050823</td>\n",
       "      <td>1000.0</td>\n",
       "      <td>1130.0000</td>\n",
       "      <td>1251.000</td>\n",
       "      <td>1380.0000</td>\n",
       "      <td>1499.00</td>\n",
       "    </tr>\n",
       "  </tbody>\n",
       "</table>\n",
       "</div>"
      ],
      "text/plain": [
       "               count          mean           std     min         25%  \\\n",
       "Unnamed: 0  149396.0  74697.500000  43127.054745     0.0  37348.7500   \n",
       "mb_used     149396.0    370.192426    278.300951     0.0    138.1875   \n",
       "user_id     149396.0   1252.099842    144.050823  1000.0   1130.0000   \n",
       "\n",
       "                  50%          75%        max  \n",
       "Unnamed: 0  74697.500  112046.2500  149395.00  \n",
       "mb_used       348.015     559.5525    1724.83  \n",
       "user_id      1251.000    1380.0000    1499.00  "
      ]
     },
     "metadata": {},
     "output_type": "display_data"
    },
    {
     "name": "stdout",
     "output_type": "stream",
     "text": [
      "<class 'pandas.core.frame.DataFrame'>\n",
      "RangeIndex: 149396 entries, 0 to 149395\n",
      "Data columns (total 5 columns):\n",
      " #   Column        Non-Null Count   Dtype  \n",
      "---  ------        --------------   -----  \n",
      " 0   Unnamed: 0    149396 non-null  int64  \n",
      " 1   id            149396 non-null  object \n",
      " 2   mb_used       149396 non-null  float64\n",
      " 3   session_date  149396 non-null  object \n",
      " 4   user_id       149396 non-null  int64  \n",
      "dtypes: float64(1), int64(2), object(2)\n",
      "memory usage: 5.7+ MB\n"
     ]
    }
   ],
   "source": [
    "display(len(data_internet['id']), data_internet.head(), data_internet.describe().T) # посмотрим таблицу data_internet\n",
    "data_internet.info()"
   ]
  },
  {
   "cell_type": "code",
   "execution_count": 6,
   "id": "01335713",
   "metadata": {
    "scrolled": false
   },
   "outputs": [
    {
     "name": "stdout",
     "output_type": "stream",
     "text": [
      "<class 'pandas.core.frame.DataFrame'>\n",
      "RangeIndex: 149396 entries, 0 to 149395\n",
      "Data columns (total 5 columns):\n",
      " #   Column        Non-Null Count   Dtype         \n",
      "---  ------        --------------   -----         \n",
      " 0   Unnamed: 0    149396 non-null  int64         \n",
      " 1   id            149396 non-null  object        \n",
      " 2   mb_used       149396 non-null  float64       \n",
      " 3   session_date  149396 non-null  datetime64[ns]\n",
      " 4   user_id       149396 non-null  int64         \n",
      "dtypes: datetime64[ns](1), float64(1), int64(2), object(1)\n",
      "memory usage: 5.7+ MB\n"
     ]
    }
   ],
   "source": [
    "data_internet['session_date'] = pd.to_datetime(data_internet['session_date'], format='%Y-%m-%d')\n",
    "data_internet.info()"
   ]
  },
  {
   "cell_type": "markdown",
   "id": "7de33926",
   "metadata": {},
   "source": [
    "***Таблица data_messages***\n",
    "\n",
    "Описание данных\n",
    "\n",
    "Таблица messages (информация о сообщениях):\n",
    "- id — уникальный номер сообщения\n",
    "- message_date — дата сообщения\n",
    "- user_id — идентификатор пользователя, отправившего сообщение\n",
    "\n",
    "В таблице с информацией о сообщениях 123036 записей. Пропусков значений нет.\n",
    "Столбец message_date нужно сменить тип, чтобы в дальнейшем можно было использовать его как дату."
   ]
  },
  {
   "cell_type": "code",
   "execution_count": 7,
   "id": "7c47c0c2",
   "metadata": {
    "scrolled": false
   },
   "outputs": [
    {
     "data": {
      "text/plain": [
       "123036"
      ]
     },
     "metadata": {},
     "output_type": "display_data"
    },
    {
     "data": {
      "text/html": [
       "<div>\n",
       "<style scoped>\n",
       "    .dataframe tbody tr th:only-of-type {\n",
       "        vertical-align: middle;\n",
       "    }\n",
       "\n",
       "    .dataframe tbody tr th {\n",
       "        vertical-align: top;\n",
       "    }\n",
       "\n",
       "    .dataframe thead th {\n",
       "        text-align: right;\n",
       "    }\n",
       "</style>\n",
       "<table border=\"1\" class=\"dataframe\">\n",
       "  <thead>\n",
       "    <tr style=\"text-align: right;\">\n",
       "      <th></th>\n",
       "      <th>id</th>\n",
       "      <th>message_date</th>\n",
       "      <th>user_id</th>\n",
       "    </tr>\n",
       "  </thead>\n",
       "  <tbody>\n",
       "    <tr>\n",
       "      <th>0</th>\n",
       "      <td>1000_0</td>\n",
       "      <td>2018-06-27</td>\n",
       "      <td>1000</td>\n",
       "    </tr>\n",
       "    <tr>\n",
       "      <th>1</th>\n",
       "      <td>1000_1</td>\n",
       "      <td>2018-10-08</td>\n",
       "      <td>1000</td>\n",
       "    </tr>\n",
       "    <tr>\n",
       "      <th>2</th>\n",
       "      <td>1000_2</td>\n",
       "      <td>2018-08-04</td>\n",
       "      <td>1000</td>\n",
       "    </tr>\n",
       "    <tr>\n",
       "      <th>3</th>\n",
       "      <td>1000_3</td>\n",
       "      <td>2018-06-16</td>\n",
       "      <td>1000</td>\n",
       "    </tr>\n",
       "    <tr>\n",
       "      <th>4</th>\n",
       "      <td>1000_4</td>\n",
       "      <td>2018-12-05</td>\n",
       "      <td>1000</td>\n",
       "    </tr>\n",
       "  </tbody>\n",
       "</table>\n",
       "</div>"
      ],
      "text/plain": [
       "       id message_date  user_id\n",
       "0  1000_0   2018-06-27     1000\n",
       "1  1000_1   2018-10-08     1000\n",
       "2  1000_2   2018-08-04     1000\n",
       "3  1000_3   2018-06-16     1000\n",
       "4  1000_4   2018-12-05     1000"
      ]
     },
     "metadata": {},
     "output_type": "display_data"
    },
    {
     "data": {
      "text/html": [
       "<div>\n",
       "<style scoped>\n",
       "    .dataframe tbody tr th:only-of-type {\n",
       "        vertical-align: middle;\n",
       "    }\n",
       "\n",
       "    .dataframe tbody tr th {\n",
       "        vertical-align: top;\n",
       "    }\n",
       "\n",
       "    .dataframe thead th {\n",
       "        text-align: right;\n",
       "    }\n",
       "</style>\n",
       "<table border=\"1\" class=\"dataframe\">\n",
       "  <thead>\n",
       "    <tr style=\"text-align: right;\">\n",
       "      <th></th>\n",
       "      <th>count</th>\n",
       "      <th>mean</th>\n",
       "      <th>std</th>\n",
       "      <th>min</th>\n",
       "      <th>25%</th>\n",
       "      <th>50%</th>\n",
       "      <th>75%</th>\n",
       "      <th>max</th>\n",
       "    </tr>\n",
       "  </thead>\n",
       "  <tbody>\n",
       "    <tr>\n",
       "      <th>user_id</th>\n",
       "      <td>123036.0</td>\n",
       "      <td>1256.98941</td>\n",
       "      <td>143.523967</td>\n",
       "      <td>1000.0</td>\n",
       "      <td>1134.0</td>\n",
       "      <td>1271.0</td>\n",
       "      <td>1381.0</td>\n",
       "      <td>1499.0</td>\n",
       "    </tr>\n",
       "  </tbody>\n",
       "</table>\n",
       "</div>"
      ],
      "text/plain": [
       "            count        mean         std     min     25%     50%     75%  \\\n",
       "user_id  123036.0  1256.98941  143.523967  1000.0  1134.0  1271.0  1381.0   \n",
       "\n",
       "            max  \n",
       "user_id  1499.0  "
      ]
     },
     "metadata": {},
     "output_type": "display_data"
    },
    {
     "name": "stdout",
     "output_type": "stream",
     "text": [
      "<class 'pandas.core.frame.DataFrame'>\n",
      "RangeIndex: 123036 entries, 0 to 123035\n",
      "Data columns (total 3 columns):\n",
      " #   Column        Non-Null Count   Dtype \n",
      "---  ------        --------------   ----- \n",
      " 0   id            123036 non-null  object\n",
      " 1   message_date  123036 non-null  object\n",
      " 2   user_id       123036 non-null  int64 \n",
      "dtypes: int64(1), object(2)\n",
      "memory usage: 2.8+ MB\n"
     ]
    }
   ],
   "source": [
    "display(len(data_messages['id']), data_messages.head(), data_messages.describe().T) # посмотрим таблицу data_messages\n",
    "data_messages.info()"
   ]
  },
  {
   "cell_type": "code",
   "execution_count": 8,
   "id": "9e72a2b7",
   "metadata": {
    "scrolled": false
   },
   "outputs": [
    {
     "name": "stdout",
     "output_type": "stream",
     "text": [
      "<class 'pandas.core.frame.DataFrame'>\n",
      "RangeIndex: 123036 entries, 0 to 123035\n",
      "Data columns (total 3 columns):\n",
      " #   Column        Non-Null Count   Dtype         \n",
      "---  ------        --------------   -----         \n",
      " 0   id            123036 non-null  object        \n",
      " 1   message_date  123036 non-null  datetime64[ns]\n",
      " 2   user_id       123036 non-null  int64         \n",
      "dtypes: datetime64[ns](1), int64(1), object(1)\n",
      "memory usage: 2.8+ MB\n"
     ]
    }
   ],
   "source": [
    "data_messages['message_date'] = pd.to_datetime(data_messages['message_date'], format='%Y-%m-%d')\n",
    "data_messages.info()"
   ]
  },
  {
   "cell_type": "markdown",
   "id": "083df6ce",
   "metadata": {},
   "source": [
    "***Таблица data_tariffs***\n",
    "\n",
    "Описание данных\n",
    "\n",
    "Таблица tariffs (информация о тарифах):\n",
    "-\ttariff_name — название тарифа\n",
    "-\trub_monthly_fee — ежемесячная абонентская плата в рублях\n",
    "-\tminutes_included — количество минут разговора в месяц, включённых в абонентскую плату\n",
    "-\tmessages_included — количество сообщений в месяц, включённых в абонентскую плату\n",
    "-\tmb_per_month_included — объём интернет-трафика, включённого в абонентскую плату (в мегабайтах)\n",
    "-\trub_per_minute — стоимость минуты разговора сверх тарифного пакета (например, если в тарифе 100 минут разговора в месяц, то со 101 минуты будет взиматься плата)\n",
    "-\trub_per_message — стоимость отправки сообщения сверх тарифного пакета\n",
    "-\trub_per_gb — стоимость дополнительного гигабайта интернет-трафика сверх тарифного пакета (1 гигабайт = 1024 мегабайта)\n",
    "\n",
    "Таблица включает в себя условия по двум тарифам \"Смарт\" и \"Ультра\""
   ]
  },
  {
   "cell_type": "code",
   "execution_count": 9,
   "id": "89f67b37",
   "metadata": {
    "scrolled": false
   },
   "outputs": [
    {
     "data": {
      "text/html": [
       "<div>\n",
       "<style scoped>\n",
       "    .dataframe tbody tr th:only-of-type {\n",
       "        vertical-align: middle;\n",
       "    }\n",
       "\n",
       "    .dataframe tbody tr th {\n",
       "        vertical-align: top;\n",
       "    }\n",
       "\n",
       "    .dataframe thead th {\n",
       "        text-align: right;\n",
       "    }\n",
       "</style>\n",
       "<table border=\"1\" class=\"dataframe\">\n",
       "  <thead>\n",
       "    <tr style=\"text-align: right;\">\n",
       "      <th></th>\n",
       "      <th>messages_included</th>\n",
       "      <th>mb_per_month_included</th>\n",
       "      <th>minutes_included</th>\n",
       "      <th>rub_monthly_fee</th>\n",
       "      <th>rub_per_gb</th>\n",
       "      <th>rub_per_message</th>\n",
       "      <th>rub_per_minute</th>\n",
       "      <th>tariff_name</th>\n",
       "    </tr>\n",
       "  </thead>\n",
       "  <tbody>\n",
       "    <tr>\n",
       "      <th>0</th>\n",
       "      <td>50</td>\n",
       "      <td>15360</td>\n",
       "      <td>500</td>\n",
       "      <td>550</td>\n",
       "      <td>200</td>\n",
       "      <td>3</td>\n",
       "      <td>3</td>\n",
       "      <td>smart</td>\n",
       "    </tr>\n",
       "    <tr>\n",
       "      <th>1</th>\n",
       "      <td>1000</td>\n",
       "      <td>30720</td>\n",
       "      <td>3000</td>\n",
       "      <td>1950</td>\n",
       "      <td>150</td>\n",
       "      <td>1</td>\n",
       "      <td>1</td>\n",
       "      <td>ultra</td>\n",
       "    </tr>\n",
       "  </tbody>\n",
       "</table>\n",
       "</div>"
      ],
      "text/plain": [
       "   messages_included  mb_per_month_included  minutes_included  \\\n",
       "0                 50                  15360               500   \n",
       "1               1000                  30720              3000   \n",
       "\n",
       "   rub_monthly_fee  rub_per_gb  rub_per_message  rub_per_minute tariff_name  \n",
       "0              550         200                3               3       smart  \n",
       "1             1950         150                1               1       ultra  "
      ]
     },
     "metadata": {},
     "output_type": "display_data"
    },
    {
     "name": "stdout",
     "output_type": "stream",
     "text": [
      "<class 'pandas.core.frame.DataFrame'>\n",
      "RangeIndex: 2 entries, 0 to 1\n",
      "Data columns (total 8 columns):\n",
      " #   Column                 Non-Null Count  Dtype \n",
      "---  ------                 --------------  ----- \n",
      " 0   messages_included      2 non-null      int64 \n",
      " 1   mb_per_month_included  2 non-null      int64 \n",
      " 2   minutes_included       2 non-null      int64 \n",
      " 3   rub_monthly_fee        2 non-null      int64 \n",
      " 4   rub_per_gb             2 non-null      int64 \n",
      " 5   rub_per_message        2 non-null      int64 \n",
      " 6   rub_per_minute         2 non-null      int64 \n",
      " 7   tariff_name            2 non-null      object\n",
      "dtypes: int64(7), object(1)\n",
      "memory usage: 256.0+ bytes\n"
     ]
    }
   ],
   "source": [
    "display(data_tariffs.head()) # посмотрим таблицу data_tariffs\n",
    "data_tariffs.info()"
   ]
  },
  {
   "cell_type": "markdown",
   "id": "9f4e30ab",
   "metadata": {},
   "source": [
    "***Таблица data_users***\n",
    "\n",
    "Описание данных\n",
    "\n",
    "Таблица data_users (информация о пользователях):\n",
    "-\tuser_id — уникальный идентификатор пользователя\n",
    "-\tfirst_name — имя пользователя\n",
    "-\tlast_name — фамилия пользователя\n",
    "-\tage — возраст пользователя (годы)\n",
    "-\treg_date — дата подключения тарифа (день, месяц, год)\n",
    "-\tchurn_date — дата прекращения пользования тарифом (если значение пропущено, то тариф ещё действовал на момент выгрузки данных)\n",
    "-\tcity — город проживания пользователя\n",
    "-\ttarif — название тарифного плана\n",
    "\n",
    "В таблице с информацией о пользователях 500 записей. Пропуски есть в столбце churn_date (дата прекращения пользования тарифом). Эти пропуски говорят о том, что на момент выгрузки данных тариф ещё действовал.\n",
    "Столбцы reg_date и churn_date нужно сменить тип, чтобы в дальнейшем можно было использовать его как дату."
   ]
  },
  {
   "cell_type": "code",
   "execution_count": 10,
   "id": "41ccd341",
   "metadata": {
    "scrolled": false
   },
   "outputs": [
    {
     "data": {
      "text/plain": [
       "500"
      ]
     },
     "metadata": {},
     "output_type": "display_data"
    },
    {
     "data": {
      "text/html": [
       "<div>\n",
       "<style scoped>\n",
       "    .dataframe tbody tr th:only-of-type {\n",
       "        vertical-align: middle;\n",
       "    }\n",
       "\n",
       "    .dataframe tbody tr th {\n",
       "        vertical-align: top;\n",
       "    }\n",
       "\n",
       "    .dataframe thead th {\n",
       "        text-align: right;\n",
       "    }\n",
       "</style>\n",
       "<table border=\"1\" class=\"dataframe\">\n",
       "  <thead>\n",
       "    <tr style=\"text-align: right;\">\n",
       "      <th></th>\n",
       "      <th>user_id</th>\n",
       "      <th>age</th>\n",
       "      <th>churn_date</th>\n",
       "      <th>city</th>\n",
       "      <th>first_name</th>\n",
       "      <th>last_name</th>\n",
       "      <th>reg_date</th>\n",
       "      <th>tariff</th>\n",
       "    </tr>\n",
       "  </thead>\n",
       "  <tbody>\n",
       "    <tr>\n",
       "      <th>0</th>\n",
       "      <td>1000</td>\n",
       "      <td>52</td>\n",
       "      <td>NaN</td>\n",
       "      <td>Краснодар</td>\n",
       "      <td>Рафаил</td>\n",
       "      <td>Верещагин</td>\n",
       "      <td>2018-05-25</td>\n",
       "      <td>ultra</td>\n",
       "    </tr>\n",
       "    <tr>\n",
       "      <th>1</th>\n",
       "      <td>1001</td>\n",
       "      <td>41</td>\n",
       "      <td>NaN</td>\n",
       "      <td>Москва</td>\n",
       "      <td>Иван</td>\n",
       "      <td>Ежов</td>\n",
       "      <td>2018-11-01</td>\n",
       "      <td>smart</td>\n",
       "    </tr>\n",
       "    <tr>\n",
       "      <th>2</th>\n",
       "      <td>1002</td>\n",
       "      <td>59</td>\n",
       "      <td>NaN</td>\n",
       "      <td>Стерлитамак</td>\n",
       "      <td>Евгений</td>\n",
       "      <td>Абрамович</td>\n",
       "      <td>2018-06-17</td>\n",
       "      <td>smart</td>\n",
       "    </tr>\n",
       "    <tr>\n",
       "      <th>3</th>\n",
       "      <td>1003</td>\n",
       "      <td>23</td>\n",
       "      <td>NaN</td>\n",
       "      <td>Москва</td>\n",
       "      <td>Белла</td>\n",
       "      <td>Белякова</td>\n",
       "      <td>2018-08-17</td>\n",
       "      <td>ultra</td>\n",
       "    </tr>\n",
       "    <tr>\n",
       "      <th>4</th>\n",
       "      <td>1004</td>\n",
       "      <td>68</td>\n",
       "      <td>NaN</td>\n",
       "      <td>Новокузнецк</td>\n",
       "      <td>Татьяна</td>\n",
       "      <td>Авдеенко</td>\n",
       "      <td>2018-05-14</td>\n",
       "      <td>ultra</td>\n",
       "    </tr>\n",
       "  </tbody>\n",
       "</table>\n",
       "</div>"
      ],
      "text/plain": [
       "   user_id  age churn_date         city first_name  last_name    reg_date  \\\n",
       "0     1000   52        NaN    Краснодар     Рафаил  Верещагин  2018-05-25   \n",
       "1     1001   41        NaN       Москва       Иван       Ежов  2018-11-01   \n",
       "2     1002   59        NaN  Стерлитамак    Евгений  Абрамович  2018-06-17   \n",
       "3     1003   23        NaN       Москва      Белла   Белякова  2018-08-17   \n",
       "4     1004   68        NaN  Новокузнецк    Татьяна   Авдеенко  2018-05-14   \n",
       "\n",
       "  tariff  \n",
       "0  ultra  \n",
       "1  smart  \n",
       "2  smart  \n",
       "3  ultra  \n",
       "4  ultra  "
      ]
     },
     "metadata": {},
     "output_type": "display_data"
    },
    {
     "data": {
      "text/html": [
       "<div>\n",
       "<style scoped>\n",
       "    .dataframe tbody tr th:only-of-type {\n",
       "        vertical-align: middle;\n",
       "    }\n",
       "\n",
       "    .dataframe tbody tr th {\n",
       "        vertical-align: top;\n",
       "    }\n",
       "\n",
       "    .dataframe thead th {\n",
       "        text-align: right;\n",
       "    }\n",
       "</style>\n",
       "<table border=\"1\" class=\"dataframe\">\n",
       "  <thead>\n",
       "    <tr style=\"text-align: right;\">\n",
       "      <th></th>\n",
       "      <th>count</th>\n",
       "      <th>mean</th>\n",
       "      <th>std</th>\n",
       "      <th>min</th>\n",
       "      <th>25%</th>\n",
       "      <th>50%</th>\n",
       "      <th>75%</th>\n",
       "      <th>max</th>\n",
       "    </tr>\n",
       "  </thead>\n",
       "  <tbody>\n",
       "    <tr>\n",
       "      <th>user_id</th>\n",
       "      <td>500.0</td>\n",
       "      <td>1249.500</td>\n",
       "      <td>144.481833</td>\n",
       "      <td>1000.0</td>\n",
       "      <td>1124.75</td>\n",
       "      <td>1249.5</td>\n",
       "      <td>1374.25</td>\n",
       "      <td>1499.0</td>\n",
       "    </tr>\n",
       "    <tr>\n",
       "      <th>age</th>\n",
       "      <td>500.0</td>\n",
       "      <td>46.588</td>\n",
       "      <td>16.667630</td>\n",
       "      <td>18.0</td>\n",
       "      <td>32.00</td>\n",
       "      <td>46.0</td>\n",
       "      <td>62.00</td>\n",
       "      <td>75.0</td>\n",
       "    </tr>\n",
       "  </tbody>\n",
       "</table>\n",
       "</div>"
      ],
      "text/plain": [
       "         count      mean         std     min      25%     50%      75%     max\n",
       "user_id  500.0  1249.500  144.481833  1000.0  1124.75  1249.5  1374.25  1499.0\n",
       "age      500.0    46.588   16.667630    18.0    32.00    46.0    62.00    75.0"
      ]
     },
     "metadata": {},
     "output_type": "display_data"
    },
    {
     "name": "stdout",
     "output_type": "stream",
     "text": [
      "<class 'pandas.core.frame.DataFrame'>\n",
      "RangeIndex: 500 entries, 0 to 499\n",
      "Data columns (total 8 columns):\n",
      " #   Column      Non-Null Count  Dtype \n",
      "---  ------      --------------  ----- \n",
      " 0   user_id     500 non-null    int64 \n",
      " 1   age         500 non-null    int64 \n",
      " 2   churn_date  38 non-null     object\n",
      " 3   city        500 non-null    object\n",
      " 4   first_name  500 non-null    object\n",
      " 5   last_name   500 non-null    object\n",
      " 6   reg_date    500 non-null    object\n",
      " 7   tariff      500 non-null    object\n",
      "dtypes: int64(2), object(6)\n",
      "memory usage: 31.4+ KB\n"
     ]
    }
   ],
   "source": [
    "display(len(data_users['user_id']), data_users.head(), data_users.describe().T) # посмотрим таблицу data_users\n",
    "data_users.info()"
   ]
  },
  {
   "cell_type": "code",
   "execution_count": 11,
   "id": "f900981b",
   "metadata": {
    "scrolled": false
   },
   "outputs": [
    {
     "name": "stdout",
     "output_type": "stream",
     "text": [
      "<class 'pandas.core.frame.DataFrame'>\n",
      "RangeIndex: 500 entries, 0 to 499\n",
      "Data columns (total 8 columns):\n",
      " #   Column      Non-Null Count  Dtype         \n",
      "---  ------      --------------  -----         \n",
      " 0   user_id     500 non-null    int64         \n",
      " 1   age         500 non-null    int64         \n",
      " 2   churn_date  38 non-null     datetime64[ns]\n",
      " 3   city        500 non-null    object        \n",
      " 4   first_name  500 non-null    object        \n",
      " 5   last_name   500 non-null    object        \n",
      " 6   reg_date    500 non-null    datetime64[ns]\n",
      " 7   tariff      500 non-null    object        \n",
      "dtypes: datetime64[ns](2), int64(2), object(4)\n",
      "memory usage: 31.4+ KB\n"
     ]
    }
   ],
   "source": [
    "data_users['reg_date'] = pd.to_datetime(data_users['reg_date'], format='%Y-%m-%d')\n",
    "data_users['churn_date'] = pd.to_datetime(data_users['churn_date'], format='%Y-%m-%d')\n",
    "data_users.info()"
   ]
  },
  {
   "cell_type": "markdown",
   "id": "5470f86f",
   "metadata": {},
   "source": [
    "***Вывод***\n",
    "\n",
    "Для работы получено пять разных таблиц с информацией о пользователях (data_users), об их звонках (data_calls), сообщениях(data_messages) и интернет-сессиях (data_internet), а также об условиях тарифов (data_tariffs)\n",
    "\n",
    "Пропуски содержит только таблица data_users, но мы заменять не будем, т.к. тариф ещё действовал на момент выгрузки данных.\n",
    "\n",
    "В таблицах data_calls, data_internet, data_messages, data_users столбцам с датами изменили тип данных на datetime.\n",
    "\n",
    "В data_calls добавили столбец с округлёнными минутами  по каждому звонку для расчётов, т.к. \"Мегалайн\" всегда округляет секунды до минут. "
   ]
  },
  {
   "cell_type": "markdown",
   "id": "31f8aa18",
   "metadata": {},
   "source": [
    "### Шаг 2 Формирование дополнительных датафреймов, декомпозиция исходного датафрейма."
   ]
  },
  {
   "cell_type": "code",
   "execution_count": 12,
   "id": "e25ef470",
   "metadata": {},
   "outputs": [
    {
     "data": {
      "text/html": [
       "<div>\n",
       "<style scoped>\n",
       "    .dataframe tbody tr th:only-of-type {\n",
       "        vertical-align: middle;\n",
       "    }\n",
       "\n",
       "    .dataframe tbody tr th {\n",
       "        vertical-align: top;\n",
       "    }\n",
       "\n",
       "    .dataframe thead th {\n",
       "        text-align: right;\n",
       "    }\n",
       "</style>\n",
       "<table border=\"1\" class=\"dataframe\">\n",
       "  <thead>\n",
       "    <tr style=\"text-align: right;\">\n",
       "      <th></th>\n",
       "      <th>id</th>\n",
       "      <th>call_date</th>\n",
       "      <th>duration</th>\n",
       "      <th>user_id</th>\n",
       "      <th>duration_rounded</th>\n",
       "      <th>month</th>\n",
       "    </tr>\n",
       "  </thead>\n",
       "  <tbody>\n",
       "    <tr>\n",
       "      <th>0</th>\n",
       "      <td>1000_0</td>\n",
       "      <td>2018-07-25</td>\n",
       "      <td>0.00</td>\n",
       "      <td>1000</td>\n",
       "      <td>0.0</td>\n",
       "      <td>7</td>\n",
       "    </tr>\n",
       "    <tr>\n",
       "      <th>1</th>\n",
       "      <td>1000_1</td>\n",
       "      <td>2018-08-17</td>\n",
       "      <td>0.00</td>\n",
       "      <td>1000</td>\n",
       "      <td>0.0</td>\n",
       "      <td>8</td>\n",
       "    </tr>\n",
       "    <tr>\n",
       "      <th>2</th>\n",
       "      <td>1000_2</td>\n",
       "      <td>2018-06-11</td>\n",
       "      <td>2.85</td>\n",
       "      <td>1000</td>\n",
       "      <td>3.0</td>\n",
       "      <td>6</td>\n",
       "    </tr>\n",
       "    <tr>\n",
       "      <th>3</th>\n",
       "      <td>1000_3</td>\n",
       "      <td>2018-09-21</td>\n",
       "      <td>13.80</td>\n",
       "      <td>1000</td>\n",
       "      <td>14.0</td>\n",
       "      <td>9</td>\n",
       "    </tr>\n",
       "    <tr>\n",
       "      <th>4</th>\n",
       "      <td>1000_4</td>\n",
       "      <td>2018-12-15</td>\n",
       "      <td>5.18</td>\n",
       "      <td>1000</td>\n",
       "      <td>6.0</td>\n",
       "      <td>12</td>\n",
       "    </tr>\n",
       "  </tbody>\n",
       "</table>\n",
       "</div>"
      ],
      "text/plain": [
       "       id  call_date  duration  user_id  duration_rounded  month\n",
       "0  1000_0 2018-07-25      0.00     1000               0.0      7\n",
       "1  1000_1 2018-08-17      0.00     1000               0.0      8\n",
       "2  1000_2 2018-06-11      2.85     1000               3.0      6\n",
       "3  1000_3 2018-09-21     13.80     1000              14.0      9\n",
       "4  1000_4 2018-12-15      5.18     1000               6.0     12"
      ]
     },
     "execution_count": 12,
     "metadata": {},
     "output_type": "execute_result"
    }
   ],
   "source": [
    "data_calls['month'] = data_calls['call_date'].dt.month\n",
    "data_calls.head()"
   ]
  },
  {
   "cell_type": "code",
   "execution_count": 13,
   "id": "6ff6ec25",
   "metadata": {},
   "outputs": [
    {
     "data": {
      "text/html": [
       "<div>\n",
       "<style scoped>\n",
       "    .dataframe tbody tr th:only-of-type {\n",
       "        vertical-align: middle;\n",
       "    }\n",
       "\n",
       "    .dataframe tbody tr th {\n",
       "        vertical-align: top;\n",
       "    }\n",
       "\n",
       "    .dataframe thead th {\n",
       "        text-align: right;\n",
       "    }\n",
       "</style>\n",
       "<table border=\"1\" class=\"dataframe\">\n",
       "  <thead>\n",
       "    <tr style=\"text-align: right;\">\n",
       "      <th></th>\n",
       "      <th>user_id</th>\n",
       "      <th>month</th>\n",
       "      <th>calls_sum</th>\n",
       "      <th>calls_quantity</th>\n",
       "    </tr>\n",
       "  </thead>\n",
       "  <tbody>\n",
       "    <tr>\n",
       "      <th>0</th>\n",
       "      <td>1000</td>\n",
       "      <td>5</td>\n",
       "      <td>159.0</td>\n",
       "      <td>22</td>\n",
       "    </tr>\n",
       "    <tr>\n",
       "      <th>1</th>\n",
       "      <td>1000</td>\n",
       "      <td>6</td>\n",
       "      <td>172.0</td>\n",
       "      <td>43</td>\n",
       "    </tr>\n",
       "    <tr>\n",
       "      <th>2</th>\n",
       "      <td>1000</td>\n",
       "      <td>7</td>\n",
       "      <td>340.0</td>\n",
       "      <td>47</td>\n",
       "    </tr>\n",
       "    <tr>\n",
       "      <th>3</th>\n",
       "      <td>1000</td>\n",
       "      <td>8</td>\n",
       "      <td>408.0</td>\n",
       "      <td>52</td>\n",
       "    </tr>\n",
       "    <tr>\n",
       "      <th>4</th>\n",
       "      <td>1000</td>\n",
       "      <td>9</td>\n",
       "      <td>466.0</td>\n",
       "      <td>58</td>\n",
       "    </tr>\n",
       "    <tr>\n",
       "      <th>5</th>\n",
       "      <td>1000</td>\n",
       "      <td>10</td>\n",
       "      <td>350.0</td>\n",
       "      <td>57</td>\n",
       "    </tr>\n",
       "    <tr>\n",
       "      <th>6</th>\n",
       "      <td>1000</td>\n",
       "      <td>11</td>\n",
       "      <td>338.0</td>\n",
       "      <td>43</td>\n",
       "    </tr>\n",
       "    <tr>\n",
       "      <th>7</th>\n",
       "      <td>1000</td>\n",
       "      <td>12</td>\n",
       "      <td>333.0</td>\n",
       "      <td>46</td>\n",
       "    </tr>\n",
       "    <tr>\n",
       "      <th>8</th>\n",
       "      <td>1001</td>\n",
       "      <td>11</td>\n",
       "      <td>430.0</td>\n",
       "      <td>59</td>\n",
       "    </tr>\n",
       "    <tr>\n",
       "      <th>9</th>\n",
       "      <td>1001</td>\n",
       "      <td>12</td>\n",
       "      <td>414.0</td>\n",
       "      <td>63</td>\n",
       "    </tr>\n",
       "  </tbody>\n",
       "</table>\n",
       "</div>"
      ],
      "text/plain": [
       "   user_id  month  calls_sum  calls_quantity\n",
       "0     1000      5      159.0              22\n",
       "1     1000      6      172.0              43\n",
       "2     1000      7      340.0              47\n",
       "3     1000      8      408.0              52\n",
       "4     1000      9      466.0              58\n",
       "5     1000     10      350.0              57\n",
       "6     1000     11      338.0              43\n",
       "7     1000     12      333.0              46\n",
       "8     1001     11      430.0              59\n",
       "9     1001     12      414.0              63"
      ]
     },
     "execution_count": 13,
     "metadata": {},
     "output_type": "execute_result"
    }
   ],
   "source": [
    "# посчитаем по каждому клиенту количество совершённых звонков и израсходованных минут в каждом месяце\n",
    "fun = [('duration_rounded', 'sum'), ('id','count')]\n",
    "\n",
    "data_calls = (data_calls\n",
    "            .groupby(by=['user_id', 'month'])['duration_rounded']\n",
    "            .agg(fun)\n",
    "            .reset_index()\n",
    "           )\n",
    "\n",
    "data_calls = data_calls.rename(\n",
    "    columns={\n",
    "        'duration_rounded': 'calls_sum',\n",
    "        'id': 'calls_quantity'\n",
    "    }\n",
    ")\n",
    "\n",
    "data_calls.head(10)"
   ]
  },
  {
   "cell_type": "code",
   "execution_count": 14,
   "id": "1be2ca25",
   "metadata": {},
   "outputs": [
    {
     "data": {
      "text/html": [
       "<div>\n",
       "<style scoped>\n",
       "    .dataframe tbody tr th:only-of-type {\n",
       "        vertical-align: middle;\n",
       "    }\n",
       "\n",
       "    .dataframe tbody tr th {\n",
       "        vertical-align: top;\n",
       "    }\n",
       "\n",
       "    .dataframe thead th {\n",
       "        text-align: right;\n",
       "    }\n",
       "</style>\n",
       "<table border=\"1\" class=\"dataframe\">\n",
       "  <thead>\n",
       "    <tr style=\"text-align: right;\">\n",
       "      <th></th>\n",
       "      <th>user_id</th>\n",
       "      <th>month</th>\n",
       "      <th>messages_quantity</th>\n",
       "    </tr>\n",
       "  </thead>\n",
       "  <tbody>\n",
       "    <tr>\n",
       "      <th>0</th>\n",
       "      <td>1000</td>\n",
       "      <td>5</td>\n",
       "      <td>22</td>\n",
       "    </tr>\n",
       "    <tr>\n",
       "      <th>1</th>\n",
       "      <td>1000</td>\n",
       "      <td>6</td>\n",
       "      <td>60</td>\n",
       "    </tr>\n",
       "    <tr>\n",
       "      <th>2</th>\n",
       "      <td>1000</td>\n",
       "      <td>7</td>\n",
       "      <td>75</td>\n",
       "    </tr>\n",
       "    <tr>\n",
       "      <th>3</th>\n",
       "      <td>1000</td>\n",
       "      <td>8</td>\n",
       "      <td>81</td>\n",
       "    </tr>\n",
       "    <tr>\n",
       "      <th>4</th>\n",
       "      <td>1000</td>\n",
       "      <td>9</td>\n",
       "      <td>57</td>\n",
       "    </tr>\n",
       "    <tr>\n",
       "      <th>5</th>\n",
       "      <td>1000</td>\n",
       "      <td>10</td>\n",
       "      <td>73</td>\n",
       "    </tr>\n",
       "    <tr>\n",
       "      <th>6</th>\n",
       "      <td>1000</td>\n",
       "      <td>11</td>\n",
       "      <td>58</td>\n",
       "    </tr>\n",
       "    <tr>\n",
       "      <th>7</th>\n",
       "      <td>1000</td>\n",
       "      <td>12</td>\n",
       "      <td>70</td>\n",
       "    </tr>\n",
       "    <tr>\n",
       "      <th>8</th>\n",
       "      <td>1002</td>\n",
       "      <td>6</td>\n",
       "      <td>4</td>\n",
       "    </tr>\n",
       "    <tr>\n",
       "      <th>9</th>\n",
       "      <td>1002</td>\n",
       "      <td>7</td>\n",
       "      <td>11</td>\n",
       "    </tr>\n",
       "  </tbody>\n",
       "</table>\n",
       "</div>"
      ],
      "text/plain": [
       "   user_id  month  messages_quantity\n",
       "0     1000      5                 22\n",
       "1     1000      6                 60\n",
       "2     1000      7                 75\n",
       "3     1000      8                 81\n",
       "4     1000      9                 57\n",
       "5     1000     10                 73\n",
       "6     1000     11                 58\n",
       "7     1000     12                 70\n",
       "8     1002      6                  4\n",
       "9     1002      7                 11"
      ]
     },
     "execution_count": 14,
     "metadata": {},
     "output_type": "execute_result"
    }
   ],
   "source": [
    "# посчитаем количество отправленных сообщений по месяцам\n",
    "data_messages['month'] = data_messages['message_date'].dt.month\n",
    "data_message = (data_messages\n",
    "              .pivot_table(index=['user_id', 'month'], values=['id'], aggfunc='count')\n",
    "              .reset_index()\n",
    "             )\n",
    "data_message = data_message.rename(columns={'id': 'messages_quantity'})\n",
    "data_message.head(10)"
   ]
  },
  {
   "cell_type": "code",
   "execution_count": 15,
   "id": "f9de1426",
   "metadata": {},
   "outputs": [
    {
     "data": {
      "text/html": [
       "<div>\n",
       "<style scoped>\n",
       "    .dataframe tbody tr th:only-of-type {\n",
       "        vertical-align: middle;\n",
       "    }\n",
       "\n",
       "    .dataframe tbody tr th {\n",
       "        vertical-align: top;\n",
       "    }\n",
       "\n",
       "    .dataframe thead th {\n",
       "        text-align: right;\n",
       "    }\n",
       "</style>\n",
       "<table border=\"1\" class=\"dataframe\">\n",
       "  <thead>\n",
       "    <tr style=\"text-align: right;\">\n",
       "      <th></th>\n",
       "      <th>user_id</th>\n",
       "      <th>month</th>\n",
       "      <th>mb_used</th>\n",
       "      <th>gb_used</th>\n",
       "    </tr>\n",
       "  </thead>\n",
       "  <tbody>\n",
       "    <tr>\n",
       "      <th>0</th>\n",
       "      <td>1000</td>\n",
       "      <td>5</td>\n",
       "      <td>2253.49</td>\n",
       "      <td>3.0</td>\n",
       "    </tr>\n",
       "    <tr>\n",
       "      <th>1</th>\n",
       "      <td>1000</td>\n",
       "      <td>6</td>\n",
       "      <td>23233.77</td>\n",
       "      <td>23.0</td>\n",
       "    </tr>\n",
       "    <tr>\n",
       "      <th>2</th>\n",
       "      <td>1000</td>\n",
       "      <td>7</td>\n",
       "      <td>14003.64</td>\n",
       "      <td>14.0</td>\n",
       "    </tr>\n",
       "    <tr>\n",
       "      <th>3</th>\n",
       "      <td>1000</td>\n",
       "      <td>8</td>\n",
       "      <td>14055.93</td>\n",
       "      <td>14.0</td>\n",
       "    </tr>\n",
       "    <tr>\n",
       "      <th>4</th>\n",
       "      <td>1000</td>\n",
       "      <td>9</td>\n",
       "      <td>14568.91</td>\n",
       "      <td>15.0</td>\n",
       "    </tr>\n",
       "    <tr>\n",
       "      <th>5</th>\n",
       "      <td>1000</td>\n",
       "      <td>10</td>\n",
       "      <td>14702.49</td>\n",
       "      <td>15.0</td>\n",
       "    </tr>\n",
       "    <tr>\n",
       "      <th>6</th>\n",
       "      <td>1000</td>\n",
       "      <td>11</td>\n",
       "      <td>14756.47</td>\n",
       "      <td>15.0</td>\n",
       "    </tr>\n",
       "    <tr>\n",
       "      <th>7</th>\n",
       "      <td>1000</td>\n",
       "      <td>12</td>\n",
       "      <td>9817.61</td>\n",
       "      <td>10.0</td>\n",
       "    </tr>\n",
       "    <tr>\n",
       "      <th>8</th>\n",
       "      <td>1001</td>\n",
       "      <td>11</td>\n",
       "      <td>18429.34</td>\n",
       "      <td>18.0</td>\n",
       "    </tr>\n",
       "    <tr>\n",
       "      <th>9</th>\n",
       "      <td>1001</td>\n",
       "      <td>12</td>\n",
       "      <td>14036.66</td>\n",
       "      <td>14.0</td>\n",
       "    </tr>\n",
       "  </tbody>\n",
       "</table>\n",
       "</div>"
      ],
      "text/plain": [
       "   user_id  month   mb_used  gb_used\n",
       "0     1000      5   2253.49      3.0\n",
       "1     1000      6  23233.77     23.0\n",
       "2     1000      7  14003.64     14.0\n",
       "3     1000      8  14055.93     14.0\n",
       "4     1000      9  14568.91     15.0\n",
       "5     1000     10  14702.49     15.0\n",
       "6     1000     11  14756.47     15.0\n",
       "7     1000     12   9817.61     10.0\n",
       "8     1001     11  18429.34     18.0\n",
       "9     1001     12  14036.66     14.0"
      ]
     },
     "execution_count": 15,
     "metadata": {},
     "output_type": "execute_result"
    }
   ],
   "source": [
    "# посчитаем объём израсходованного интернет-трафика по месяцам и округлим его до Гб \n",
    "data_internet['month'] = data_internet['session_date'].dt.month\n",
    "data_internet = (data_internet\n",
    "              .pivot_table(index=['user_id', 'month'], values=['mb_used'], aggfunc='sum')\n",
    "              .reset_index()\n",
    "              )\n",
    "data_internet['gb_used'] = (data_internet['mb_used'] / 1024).apply(np.ceil) # оператор округляет общую сумму за месяц\n",
    "data_internet.head(10)"
   ]
  },
  {
   "cell_type": "code",
   "execution_count": 16,
   "id": "18435255",
   "metadata": {},
   "outputs": [
    {
     "data": {
      "text/html": [
       "<div>\n",
       "<style scoped>\n",
       "    .dataframe tbody tr th:only-of-type {\n",
       "        vertical-align: middle;\n",
       "    }\n",
       "\n",
       "    .dataframe tbody tr th {\n",
       "        vertical-align: top;\n",
       "    }\n",
       "\n",
       "    .dataframe thead th {\n",
       "        text-align: right;\n",
       "    }\n",
       "</style>\n",
       "<table border=\"1\" class=\"dataframe\">\n",
       "  <thead>\n",
       "    <tr style=\"text-align: right;\">\n",
       "      <th></th>\n",
       "      <th>0</th>\n",
       "      <th>1</th>\n",
       "    </tr>\n",
       "  </thead>\n",
       "  <tbody>\n",
       "    <tr>\n",
       "      <th>messages_included</th>\n",
       "      <td>50</td>\n",
       "      <td>1000</td>\n",
       "    </tr>\n",
       "    <tr>\n",
       "      <th>mb_per_month_included</th>\n",
       "      <td>15360</td>\n",
       "      <td>30720</td>\n",
       "    </tr>\n",
       "    <tr>\n",
       "      <th>minutes_included</th>\n",
       "      <td>500</td>\n",
       "      <td>3000</td>\n",
       "    </tr>\n",
       "    <tr>\n",
       "      <th>rub_monthly_fee</th>\n",
       "      <td>550</td>\n",
       "      <td>1950</td>\n",
       "    </tr>\n",
       "    <tr>\n",
       "      <th>rub_per_gb</th>\n",
       "      <td>200</td>\n",
       "      <td>150</td>\n",
       "    </tr>\n",
       "    <tr>\n",
       "      <th>rub_per_message</th>\n",
       "      <td>3</td>\n",
       "      <td>1</td>\n",
       "    </tr>\n",
       "    <tr>\n",
       "      <th>rub_per_minute</th>\n",
       "      <td>3</td>\n",
       "      <td>1</td>\n",
       "    </tr>\n",
       "    <tr>\n",
       "      <th>tariff_name</th>\n",
       "      <td>smart</td>\n",
       "      <td>ultra</td>\n",
       "    </tr>\n",
       "    <tr>\n",
       "      <th>gb_per_month_included</th>\n",
       "      <td>15.0</td>\n",
       "      <td>30.0</td>\n",
       "    </tr>\n",
       "  </tbody>\n",
       "</table>\n",
       "</div>"
      ],
      "text/plain": [
       "                           0      1\n",
       "messages_included         50   1000\n",
       "mb_per_month_included  15360  30720\n",
       "minutes_included         500   3000\n",
       "rub_monthly_fee          550   1950\n",
       "rub_per_gb               200    150\n",
       "rub_per_message            3      1\n",
       "rub_per_minute             3      1\n",
       "tariff_name            smart  ultra\n",
       "gb_per_month_included   15.0   30.0"
      ]
     },
     "execution_count": 16,
     "metadata": {},
     "output_type": "execute_result"
    }
   ],
   "source": [
    "# добавим столбец с объёмом включенного в абонентскую плату интернет-трафика в Гб\n",
    "data_tariffs['gb_per_month_included'] = data_tariffs['mb_per_month_included'] / 1024\n",
    "data_tariffs.T"
   ]
  },
  {
   "cell_type": "code",
   "execution_count": 17,
   "id": "d672cc33",
   "metadata": {},
   "outputs": [
    {
     "data": {
      "text/html": [
       "<div>\n",
       "<style scoped>\n",
       "    .dataframe tbody tr th:only-of-type {\n",
       "        vertical-align: middle;\n",
       "    }\n",
       "\n",
       "    .dataframe tbody tr th {\n",
       "        vertical-align: top;\n",
       "    }\n",
       "\n",
       "    .dataframe thead th {\n",
       "        text-align: right;\n",
       "    }\n",
       "</style>\n",
       "<table border=\"1\" class=\"dataframe\">\n",
       "  <thead>\n",
       "    <tr style=\"text-align: right;\">\n",
       "      <th></th>\n",
       "      <th>user_id</th>\n",
       "      <th>month</th>\n",
       "      <th>calls_sum</th>\n",
       "      <th>calls_quantity</th>\n",
       "      <th>messages_quantity</th>\n",
       "      <th>gb_used</th>\n",
       "      <th>tariff</th>\n",
       "      <th>city</th>\n",
       "    </tr>\n",
       "  </thead>\n",
       "  <tbody>\n",
       "    <tr>\n",
       "      <th>0</th>\n",
       "      <td>1000</td>\n",
       "      <td>5.0</td>\n",
       "      <td>159.0</td>\n",
       "      <td>22.0</td>\n",
       "      <td>22.0</td>\n",
       "      <td>3.0</td>\n",
       "      <td>ultra</td>\n",
       "      <td>Краснодар</td>\n",
       "    </tr>\n",
       "    <tr>\n",
       "      <th>1</th>\n",
       "      <td>1000</td>\n",
       "      <td>6.0</td>\n",
       "      <td>172.0</td>\n",
       "      <td>43.0</td>\n",
       "      <td>60.0</td>\n",
       "      <td>23.0</td>\n",
       "      <td>ultra</td>\n",
       "      <td>Краснодар</td>\n",
       "    </tr>\n",
       "    <tr>\n",
       "      <th>2</th>\n",
       "      <td>1000</td>\n",
       "      <td>7.0</td>\n",
       "      <td>340.0</td>\n",
       "      <td>47.0</td>\n",
       "      <td>75.0</td>\n",
       "      <td>14.0</td>\n",
       "      <td>ultra</td>\n",
       "      <td>Краснодар</td>\n",
       "    </tr>\n",
       "    <tr>\n",
       "      <th>3</th>\n",
       "      <td>1000</td>\n",
       "      <td>8.0</td>\n",
       "      <td>408.0</td>\n",
       "      <td>52.0</td>\n",
       "      <td>81.0</td>\n",
       "      <td>14.0</td>\n",
       "      <td>ultra</td>\n",
       "      <td>Краснодар</td>\n",
       "    </tr>\n",
       "    <tr>\n",
       "      <th>4</th>\n",
       "      <td>1000</td>\n",
       "      <td>9.0</td>\n",
       "      <td>466.0</td>\n",
       "      <td>58.0</td>\n",
       "      <td>57.0</td>\n",
       "      <td>15.0</td>\n",
       "      <td>ultra</td>\n",
       "      <td>Краснодар</td>\n",
       "    </tr>\n",
       "    <tr>\n",
       "      <th>5</th>\n",
       "      <td>1000</td>\n",
       "      <td>10.0</td>\n",
       "      <td>350.0</td>\n",
       "      <td>57.0</td>\n",
       "      <td>73.0</td>\n",
       "      <td>15.0</td>\n",
       "      <td>ultra</td>\n",
       "      <td>Краснодар</td>\n",
       "    </tr>\n",
       "    <tr>\n",
       "      <th>6</th>\n",
       "      <td>1000</td>\n",
       "      <td>11.0</td>\n",
       "      <td>338.0</td>\n",
       "      <td>43.0</td>\n",
       "      <td>58.0</td>\n",
       "      <td>15.0</td>\n",
       "      <td>ultra</td>\n",
       "      <td>Краснодар</td>\n",
       "    </tr>\n",
       "    <tr>\n",
       "      <th>7</th>\n",
       "      <td>1000</td>\n",
       "      <td>12.0</td>\n",
       "      <td>333.0</td>\n",
       "      <td>46.0</td>\n",
       "      <td>70.0</td>\n",
       "      <td>10.0</td>\n",
       "      <td>ultra</td>\n",
       "      <td>Краснодар</td>\n",
       "    </tr>\n",
       "    <tr>\n",
       "      <th>8</th>\n",
       "      <td>1001</td>\n",
       "      <td>11.0</td>\n",
       "      <td>430.0</td>\n",
       "      <td>59.0</td>\n",
       "      <td>NaN</td>\n",
       "      <td>18.0</td>\n",
       "      <td>smart</td>\n",
       "      <td>Москва</td>\n",
       "    </tr>\n",
       "    <tr>\n",
       "      <th>9</th>\n",
       "      <td>1001</td>\n",
       "      <td>12.0</td>\n",
       "      <td>414.0</td>\n",
       "      <td>63.0</td>\n",
       "      <td>NaN</td>\n",
       "      <td>14.0</td>\n",
       "      <td>smart</td>\n",
       "      <td>Москва</td>\n",
       "    </tr>\n",
       "    <tr>\n",
       "      <th>10</th>\n",
       "      <td>1002</td>\n",
       "      <td>6.0</td>\n",
       "      <td>117.0</td>\n",
       "      <td>15.0</td>\n",
       "      <td>4.0</td>\n",
       "      <td>11.0</td>\n",
       "      <td>smart</td>\n",
       "      <td>Стерлитамак</td>\n",
       "    </tr>\n",
       "    <tr>\n",
       "      <th>11</th>\n",
       "      <td>1002</td>\n",
       "      <td>7.0</td>\n",
       "      <td>214.0</td>\n",
       "      <td>26.0</td>\n",
       "      <td>11.0</td>\n",
       "      <td>18.0</td>\n",
       "      <td>smart</td>\n",
       "      <td>Стерлитамак</td>\n",
       "    </tr>\n",
       "    <tr>\n",
       "      <th>12</th>\n",
       "      <td>1002</td>\n",
       "      <td>8.0</td>\n",
       "      <td>289.0</td>\n",
       "      <td>42.0</td>\n",
       "      <td>13.0</td>\n",
       "      <td>20.0</td>\n",
       "      <td>smart</td>\n",
       "      <td>Стерлитамак</td>\n",
       "    </tr>\n",
       "    <tr>\n",
       "      <th>13</th>\n",
       "      <td>1002</td>\n",
       "      <td>9.0</td>\n",
       "      <td>206.0</td>\n",
       "      <td>36.0</td>\n",
       "      <td>4.0</td>\n",
       "      <td>17.0</td>\n",
       "      <td>smart</td>\n",
       "      <td>Стерлитамак</td>\n",
       "    </tr>\n",
       "    <tr>\n",
       "      <th>14</th>\n",
       "      <td>1002</td>\n",
       "      <td>10.0</td>\n",
       "      <td>212.0</td>\n",
       "      <td>33.0</td>\n",
       "      <td>10.0</td>\n",
       "      <td>14.0</td>\n",
       "      <td>smart</td>\n",
       "      <td>Стерлитамак</td>\n",
       "    </tr>\n",
       "  </tbody>\n",
       "</table>\n",
       "</div>"
      ],
      "text/plain": [
       "    user_id  month  calls_sum  calls_quantity  messages_quantity  gb_used  \\\n",
       "0      1000    5.0      159.0            22.0               22.0      3.0   \n",
       "1      1000    6.0      172.0            43.0               60.0     23.0   \n",
       "2      1000    7.0      340.0            47.0               75.0     14.0   \n",
       "3      1000    8.0      408.0            52.0               81.0     14.0   \n",
       "4      1000    9.0      466.0            58.0               57.0     15.0   \n",
       "5      1000   10.0      350.0            57.0               73.0     15.0   \n",
       "6      1000   11.0      338.0            43.0               58.0     15.0   \n",
       "7      1000   12.0      333.0            46.0               70.0     10.0   \n",
       "8      1001   11.0      430.0            59.0                NaN     18.0   \n",
       "9      1001   12.0      414.0            63.0                NaN     14.0   \n",
       "10     1002    6.0      117.0            15.0                4.0     11.0   \n",
       "11     1002    7.0      214.0            26.0               11.0     18.0   \n",
       "12     1002    8.0      289.0            42.0               13.0     20.0   \n",
       "13     1002    9.0      206.0            36.0                4.0     17.0   \n",
       "14     1002   10.0      212.0            33.0               10.0     14.0   \n",
       "\n",
       "   tariff         city  \n",
       "0   ultra    Краснодар  \n",
       "1   ultra    Краснодар  \n",
       "2   ultra    Краснодар  \n",
       "3   ultra    Краснодар  \n",
       "4   ultra    Краснодар  \n",
       "5   ultra    Краснодар  \n",
       "6   ultra    Краснодар  \n",
       "7   ultra    Краснодар  \n",
       "8   smart       Москва  \n",
       "9   smart       Москва  \n",
       "10  smart  Стерлитамак  \n",
       "11  smart  Стерлитамак  \n",
       "12  smart  Стерлитамак  \n",
       "13  smart  Стерлитамак  \n",
       "14  smart  Стерлитамак  "
      ]
     },
     "execution_count": 17,
     "metadata": {},
     "output_type": "execute_result"
    }
   ],
   "source": [
    "# соберём данные о звонках, сообщениях и интернет_трафике в одну таблицу\n",
    "data = (data_calls\n",
    "      .merge(data_message, how='outer')\n",
    "      .merge(data_internet, how='outer')\n",
    "      .merge(data_users[['user_id','tariff', 'city']], how='outer')\n",
    "      .drop(['mb_used'], axis=1)\n",
    "           )\n",
    "\n",
    "data.head(15)"
   ]
  },
  {
   "cell_type": "code",
   "execution_count": 18,
   "id": "3bed4740",
   "metadata": {},
   "outputs": [],
   "source": [
    "# добавим сюда данные по условиям соответствующего тарифа\n",
    "# пропуски заменим на 0 \n",
    "data = data.merge(data_tariffs, left_on=['tariff'], right_on=['tariff_name'], how='left').drop(['tariff_name'], axis=1).fillna(0)\n",
    "#data.head(15)\n",
    "#data.isna().sum()\n"
   ]
  },
  {
   "cell_type": "code",
   "execution_count": 19,
   "id": "1c729a22",
   "metadata": {},
   "outputs": [
    {
     "data": {
      "text/html": [
       "<div>\n",
       "<style scoped>\n",
       "    .dataframe tbody tr th:only-of-type {\n",
       "        vertical-align: middle;\n",
       "    }\n",
       "\n",
       "    .dataframe tbody tr th {\n",
       "        vertical-align: top;\n",
       "    }\n",
       "\n",
       "    .dataframe thead th {\n",
       "        text-align: right;\n",
       "    }\n",
       "</style>\n",
       "<table border=\"1\" class=\"dataframe\">\n",
       "  <thead>\n",
       "    <tr style=\"text-align: right;\">\n",
       "      <th></th>\n",
       "      <th>user_id</th>\n",
       "      <th>month</th>\n",
       "      <th>calls_sum</th>\n",
       "      <th>calls_quantity</th>\n",
       "      <th>messages_quantity</th>\n",
       "      <th>gb_used</th>\n",
       "      <th>tariff</th>\n",
       "      <th>city</th>\n",
       "      <th>messages_included</th>\n",
       "      <th>mb_per_month_included</th>\n",
       "      <th>minutes_included</th>\n",
       "      <th>rub_monthly_fee</th>\n",
       "      <th>rub_per_gb</th>\n",
       "      <th>rub_per_message</th>\n",
       "      <th>rub_per_minute</th>\n",
       "      <th>gb_per_month_included</th>\n",
       "      <th>cost</th>\n",
       "    </tr>\n",
       "  </thead>\n",
       "  <tbody>\n",
       "    <tr>\n",
       "      <th>0</th>\n",
       "      <td>1000</td>\n",
       "      <td>5.0</td>\n",
       "      <td>159.0</td>\n",
       "      <td>22.0</td>\n",
       "      <td>22.0</td>\n",
       "      <td>3.0</td>\n",
       "      <td>ultra</td>\n",
       "      <td>Краснодар</td>\n",
       "      <td>1000</td>\n",
       "      <td>30720</td>\n",
       "      <td>3000</td>\n",
       "      <td>1950</td>\n",
       "      <td>150</td>\n",
       "      <td>1</td>\n",
       "      <td>1</td>\n",
       "      <td>30.0</td>\n",
       "      <td>1950.0</td>\n",
       "    </tr>\n",
       "    <tr>\n",
       "      <th>1</th>\n",
       "      <td>1000</td>\n",
       "      <td>6.0</td>\n",
       "      <td>172.0</td>\n",
       "      <td>43.0</td>\n",
       "      <td>60.0</td>\n",
       "      <td>23.0</td>\n",
       "      <td>ultra</td>\n",
       "      <td>Краснодар</td>\n",
       "      <td>1000</td>\n",
       "      <td>30720</td>\n",
       "      <td>3000</td>\n",
       "      <td>1950</td>\n",
       "      <td>150</td>\n",
       "      <td>1</td>\n",
       "      <td>1</td>\n",
       "      <td>30.0</td>\n",
       "      <td>1950.0</td>\n",
       "    </tr>\n",
       "    <tr>\n",
       "      <th>2</th>\n",
       "      <td>1000</td>\n",
       "      <td>7.0</td>\n",
       "      <td>340.0</td>\n",
       "      <td>47.0</td>\n",
       "      <td>75.0</td>\n",
       "      <td>14.0</td>\n",
       "      <td>ultra</td>\n",
       "      <td>Краснодар</td>\n",
       "      <td>1000</td>\n",
       "      <td>30720</td>\n",
       "      <td>3000</td>\n",
       "      <td>1950</td>\n",
       "      <td>150</td>\n",
       "      <td>1</td>\n",
       "      <td>1</td>\n",
       "      <td>30.0</td>\n",
       "      <td>1950.0</td>\n",
       "    </tr>\n",
       "    <tr>\n",
       "      <th>3</th>\n",
       "      <td>1000</td>\n",
       "      <td>8.0</td>\n",
       "      <td>408.0</td>\n",
       "      <td>52.0</td>\n",
       "      <td>81.0</td>\n",
       "      <td>14.0</td>\n",
       "      <td>ultra</td>\n",
       "      <td>Краснодар</td>\n",
       "      <td>1000</td>\n",
       "      <td>30720</td>\n",
       "      <td>3000</td>\n",
       "      <td>1950</td>\n",
       "      <td>150</td>\n",
       "      <td>1</td>\n",
       "      <td>1</td>\n",
       "      <td>30.0</td>\n",
       "      <td>1950.0</td>\n",
       "    </tr>\n",
       "    <tr>\n",
       "      <th>4</th>\n",
       "      <td>1000</td>\n",
       "      <td>9.0</td>\n",
       "      <td>466.0</td>\n",
       "      <td>58.0</td>\n",
       "      <td>57.0</td>\n",
       "      <td>15.0</td>\n",
       "      <td>ultra</td>\n",
       "      <td>Краснодар</td>\n",
       "      <td>1000</td>\n",
       "      <td>30720</td>\n",
       "      <td>3000</td>\n",
       "      <td>1950</td>\n",
       "      <td>150</td>\n",
       "      <td>1</td>\n",
       "      <td>1</td>\n",
       "      <td>30.0</td>\n",
       "      <td>1950.0</td>\n",
       "    </tr>\n",
       "    <tr>\n",
       "      <th>5</th>\n",
       "      <td>1000</td>\n",
       "      <td>10.0</td>\n",
       "      <td>350.0</td>\n",
       "      <td>57.0</td>\n",
       "      <td>73.0</td>\n",
       "      <td>15.0</td>\n",
       "      <td>ultra</td>\n",
       "      <td>Краснодар</td>\n",
       "      <td>1000</td>\n",
       "      <td>30720</td>\n",
       "      <td>3000</td>\n",
       "      <td>1950</td>\n",
       "      <td>150</td>\n",
       "      <td>1</td>\n",
       "      <td>1</td>\n",
       "      <td>30.0</td>\n",
       "      <td>1950.0</td>\n",
       "    </tr>\n",
       "    <tr>\n",
       "      <th>6</th>\n",
       "      <td>1000</td>\n",
       "      <td>11.0</td>\n",
       "      <td>338.0</td>\n",
       "      <td>43.0</td>\n",
       "      <td>58.0</td>\n",
       "      <td>15.0</td>\n",
       "      <td>ultra</td>\n",
       "      <td>Краснодар</td>\n",
       "      <td>1000</td>\n",
       "      <td>30720</td>\n",
       "      <td>3000</td>\n",
       "      <td>1950</td>\n",
       "      <td>150</td>\n",
       "      <td>1</td>\n",
       "      <td>1</td>\n",
       "      <td>30.0</td>\n",
       "      <td>1950.0</td>\n",
       "    </tr>\n",
       "    <tr>\n",
       "      <th>7</th>\n",
       "      <td>1000</td>\n",
       "      <td>12.0</td>\n",
       "      <td>333.0</td>\n",
       "      <td>46.0</td>\n",
       "      <td>70.0</td>\n",
       "      <td>10.0</td>\n",
       "      <td>ultra</td>\n",
       "      <td>Краснодар</td>\n",
       "      <td>1000</td>\n",
       "      <td>30720</td>\n",
       "      <td>3000</td>\n",
       "      <td>1950</td>\n",
       "      <td>150</td>\n",
       "      <td>1</td>\n",
       "      <td>1</td>\n",
       "      <td>30.0</td>\n",
       "      <td>1950.0</td>\n",
       "    </tr>\n",
       "    <tr>\n",
       "      <th>8</th>\n",
       "      <td>1001</td>\n",
       "      <td>11.0</td>\n",
       "      <td>430.0</td>\n",
       "      <td>59.0</td>\n",
       "      <td>0.0</td>\n",
       "      <td>18.0</td>\n",
       "      <td>smart</td>\n",
       "      <td>Москва</td>\n",
       "      <td>50</td>\n",
       "      <td>15360</td>\n",
       "      <td>500</td>\n",
       "      <td>550</td>\n",
       "      <td>200</td>\n",
       "      <td>3</td>\n",
       "      <td>3</td>\n",
       "      <td>15.0</td>\n",
       "      <td>1150.0</td>\n",
       "    </tr>\n",
       "    <tr>\n",
       "      <th>9</th>\n",
       "      <td>1001</td>\n",
       "      <td>12.0</td>\n",
       "      <td>414.0</td>\n",
       "      <td>63.0</td>\n",
       "      <td>0.0</td>\n",
       "      <td>14.0</td>\n",
       "      <td>smart</td>\n",
       "      <td>Москва</td>\n",
       "      <td>50</td>\n",
       "      <td>15360</td>\n",
       "      <td>500</td>\n",
       "      <td>550</td>\n",
       "      <td>200</td>\n",
       "      <td>3</td>\n",
       "      <td>3</td>\n",
       "      <td>15.0</td>\n",
       "      <td>550.0</td>\n",
       "    </tr>\n",
       "    <tr>\n",
       "      <th>10</th>\n",
       "      <td>1002</td>\n",
       "      <td>6.0</td>\n",
       "      <td>117.0</td>\n",
       "      <td>15.0</td>\n",
       "      <td>4.0</td>\n",
       "      <td>11.0</td>\n",
       "      <td>smart</td>\n",
       "      <td>Стерлитамак</td>\n",
       "      <td>50</td>\n",
       "      <td>15360</td>\n",
       "      <td>500</td>\n",
       "      <td>550</td>\n",
       "      <td>200</td>\n",
       "      <td>3</td>\n",
       "      <td>3</td>\n",
       "      <td>15.0</td>\n",
       "      <td>550.0</td>\n",
       "    </tr>\n",
       "    <tr>\n",
       "      <th>11</th>\n",
       "      <td>1002</td>\n",
       "      <td>7.0</td>\n",
       "      <td>214.0</td>\n",
       "      <td>26.0</td>\n",
       "      <td>11.0</td>\n",
       "      <td>18.0</td>\n",
       "      <td>smart</td>\n",
       "      <td>Стерлитамак</td>\n",
       "      <td>50</td>\n",
       "      <td>15360</td>\n",
       "      <td>500</td>\n",
       "      <td>550</td>\n",
       "      <td>200</td>\n",
       "      <td>3</td>\n",
       "      <td>3</td>\n",
       "      <td>15.0</td>\n",
       "      <td>1150.0</td>\n",
       "    </tr>\n",
       "    <tr>\n",
       "      <th>12</th>\n",
       "      <td>1002</td>\n",
       "      <td>8.0</td>\n",
       "      <td>289.0</td>\n",
       "      <td>42.0</td>\n",
       "      <td>13.0</td>\n",
       "      <td>20.0</td>\n",
       "      <td>smart</td>\n",
       "      <td>Стерлитамак</td>\n",
       "      <td>50</td>\n",
       "      <td>15360</td>\n",
       "      <td>500</td>\n",
       "      <td>550</td>\n",
       "      <td>200</td>\n",
       "      <td>3</td>\n",
       "      <td>3</td>\n",
       "      <td>15.0</td>\n",
       "      <td>1550.0</td>\n",
       "    </tr>\n",
       "    <tr>\n",
       "      <th>13</th>\n",
       "      <td>1002</td>\n",
       "      <td>9.0</td>\n",
       "      <td>206.0</td>\n",
       "      <td>36.0</td>\n",
       "      <td>4.0</td>\n",
       "      <td>17.0</td>\n",
       "      <td>smart</td>\n",
       "      <td>Стерлитамак</td>\n",
       "      <td>50</td>\n",
       "      <td>15360</td>\n",
       "      <td>500</td>\n",
       "      <td>550</td>\n",
       "      <td>200</td>\n",
       "      <td>3</td>\n",
       "      <td>3</td>\n",
       "      <td>15.0</td>\n",
       "      <td>950.0</td>\n",
       "    </tr>\n",
       "    <tr>\n",
       "      <th>14</th>\n",
       "      <td>1002</td>\n",
       "      <td>10.0</td>\n",
       "      <td>212.0</td>\n",
       "      <td>33.0</td>\n",
       "      <td>10.0</td>\n",
       "      <td>14.0</td>\n",
       "      <td>smart</td>\n",
       "      <td>Стерлитамак</td>\n",
       "      <td>50</td>\n",
       "      <td>15360</td>\n",
       "      <td>500</td>\n",
       "      <td>550</td>\n",
       "      <td>200</td>\n",
       "      <td>3</td>\n",
       "      <td>3</td>\n",
       "      <td>15.0</td>\n",
       "      <td>550.0</td>\n",
       "    </tr>\n",
       "  </tbody>\n",
       "</table>\n",
       "</div>"
      ],
      "text/plain": [
       "    user_id  month  calls_sum  calls_quantity  messages_quantity  gb_used  \\\n",
       "0      1000    5.0      159.0            22.0               22.0      3.0   \n",
       "1      1000    6.0      172.0            43.0               60.0     23.0   \n",
       "2      1000    7.0      340.0            47.0               75.0     14.0   \n",
       "3      1000    8.0      408.0            52.0               81.0     14.0   \n",
       "4      1000    9.0      466.0            58.0               57.0     15.0   \n",
       "5      1000   10.0      350.0            57.0               73.0     15.0   \n",
       "6      1000   11.0      338.0            43.0               58.0     15.0   \n",
       "7      1000   12.0      333.0            46.0               70.0     10.0   \n",
       "8      1001   11.0      430.0            59.0                0.0     18.0   \n",
       "9      1001   12.0      414.0            63.0                0.0     14.0   \n",
       "10     1002    6.0      117.0            15.0                4.0     11.0   \n",
       "11     1002    7.0      214.0            26.0               11.0     18.0   \n",
       "12     1002    8.0      289.0            42.0               13.0     20.0   \n",
       "13     1002    9.0      206.0            36.0                4.0     17.0   \n",
       "14     1002   10.0      212.0            33.0               10.0     14.0   \n",
       "\n",
       "   tariff         city  messages_included  mb_per_month_included  \\\n",
       "0   ultra    Краснодар               1000                  30720   \n",
       "1   ultra    Краснодар               1000                  30720   \n",
       "2   ultra    Краснодар               1000                  30720   \n",
       "3   ultra    Краснодар               1000                  30720   \n",
       "4   ultra    Краснодар               1000                  30720   \n",
       "5   ultra    Краснодар               1000                  30720   \n",
       "6   ultra    Краснодар               1000                  30720   \n",
       "7   ultra    Краснодар               1000                  30720   \n",
       "8   smart       Москва                 50                  15360   \n",
       "9   smart       Москва                 50                  15360   \n",
       "10  smart  Стерлитамак                 50                  15360   \n",
       "11  smart  Стерлитамак                 50                  15360   \n",
       "12  smart  Стерлитамак                 50                  15360   \n",
       "13  smart  Стерлитамак                 50                  15360   \n",
       "14  smart  Стерлитамак                 50                  15360   \n",
       "\n",
       "    minutes_included  rub_monthly_fee  rub_per_gb  rub_per_message  \\\n",
       "0               3000             1950         150                1   \n",
       "1               3000             1950         150                1   \n",
       "2               3000             1950         150                1   \n",
       "3               3000             1950         150                1   \n",
       "4               3000             1950         150                1   \n",
       "5               3000             1950         150                1   \n",
       "6               3000             1950         150                1   \n",
       "7               3000             1950         150                1   \n",
       "8                500              550         200                3   \n",
       "9                500              550         200                3   \n",
       "10               500              550         200                3   \n",
       "11               500              550         200                3   \n",
       "12               500              550         200                3   \n",
       "13               500              550         200                3   \n",
       "14               500              550         200                3   \n",
       "\n",
       "    rub_per_minute  gb_per_month_included    cost  \n",
       "0                1                   30.0  1950.0  \n",
       "1                1                   30.0  1950.0  \n",
       "2                1                   30.0  1950.0  \n",
       "3                1                   30.0  1950.0  \n",
       "4                1                   30.0  1950.0  \n",
       "5                1                   30.0  1950.0  \n",
       "6                1                   30.0  1950.0  \n",
       "7                1                   30.0  1950.0  \n",
       "8                3                   15.0  1150.0  \n",
       "9                3                   15.0   550.0  \n",
       "10               3                   15.0   550.0  \n",
       "11               3                   15.0  1150.0  \n",
       "12               3                   15.0  1550.0  \n",
       "13               3                   15.0   950.0  \n",
       "14               3                   15.0   550.0  "
      ]
     },
     "execution_count": 19,
     "metadata": {},
     "output_type": "execute_result"
    }
   ],
   "source": [
    "def revenue (row):\n",
    "    calls_sum = row['calls_sum']\n",
    "    minutes_included = row['minutes_included']\n",
    "    messages_quantity = row['messages_quantity']\n",
    "    messages_included = row['messages_included']\n",
    "    gb_used = row['gb_used']\n",
    "    gb_per_month_included = row['gb_per_month_included']\n",
    "    rub_monthly_fee = row['rub_monthly_fee']\n",
    "    rub_per_gb = row['rub_per_gb']\n",
    "    rub_per_message = row['rub_per_message']\n",
    "    rub_per_minute = row['rub_per_minute']\n",
    "    cost = 0\n",
    "    \n",
    "    if (calls_sum - minutes_included) > 0:\n",
    "        cost = (calls_sum - minutes_included) * rub_per_minute\n",
    "    \n",
    "    if (messages_quantity - messages_included) > 0:\n",
    "        cost = cost + (messages_quantity - messages_included) * rub_per_message\n",
    "    \n",
    "    if (gb_used - gb_per_month_included) > 0:\n",
    "        cost = cost + (gb_used - gb_per_month_included) * rub_per_gb\n",
    "    \n",
    "    return (cost + rub_monthly_fee)\n",
    "        \n",
    "data['cost'] = data.apply(revenue, axis=1)\n",
    "data.head(15)"
   ]
  },
  {
   "cell_type": "code",
   "execution_count": 20,
   "id": "178ada43",
   "metadata": {},
   "outputs": [
    {
     "data": {
      "text/html": [
       "<div>\n",
       "<style scoped>\n",
       "    .dataframe tbody tr th:only-of-type {\n",
       "        vertical-align: middle;\n",
       "    }\n",
       "\n",
       "    .dataframe tbody tr th {\n",
       "        vertical-align: top;\n",
       "    }\n",
       "\n",
       "    .dataframe thead th {\n",
       "        text-align: right;\n",
       "    }\n",
       "</style>\n",
       "<table border=\"1\" class=\"dataframe\">\n",
       "  <thead>\n",
       "    <tr style=\"text-align: right;\">\n",
       "      <th></th>\n",
       "      <th>user_id</th>\n",
       "      <th>month</th>\n",
       "      <th>tariff</th>\n",
       "      <th>rub_monthly_fee</th>\n",
       "      <th>cost</th>\n",
       "      <th>calls_sum</th>\n",
       "      <th>calls_quantity</th>\n",
       "      <th>messages_quantity</th>\n",
       "      <th>gb_used</th>\n",
       "      <th>city</th>\n",
       "    </tr>\n",
       "  </thead>\n",
       "  <tbody>\n",
       "    <tr>\n",
       "      <th>0</th>\n",
       "      <td>1000</td>\n",
       "      <td>5.0</td>\n",
       "      <td>ultra</td>\n",
       "      <td>1950</td>\n",
       "      <td>1950.0</td>\n",
       "      <td>159.0</td>\n",
       "      <td>22.0</td>\n",
       "      <td>22.0</td>\n",
       "      <td>3.0</td>\n",
       "      <td>Краснодар</td>\n",
       "    </tr>\n",
       "    <tr>\n",
       "      <th>1</th>\n",
       "      <td>1000</td>\n",
       "      <td>6.0</td>\n",
       "      <td>ultra</td>\n",
       "      <td>1950</td>\n",
       "      <td>1950.0</td>\n",
       "      <td>172.0</td>\n",
       "      <td>43.0</td>\n",
       "      <td>60.0</td>\n",
       "      <td>23.0</td>\n",
       "      <td>Краснодар</td>\n",
       "    </tr>\n",
       "    <tr>\n",
       "      <th>2</th>\n",
       "      <td>1000</td>\n",
       "      <td>7.0</td>\n",
       "      <td>ultra</td>\n",
       "      <td>1950</td>\n",
       "      <td>1950.0</td>\n",
       "      <td>340.0</td>\n",
       "      <td>47.0</td>\n",
       "      <td>75.0</td>\n",
       "      <td>14.0</td>\n",
       "      <td>Краснодар</td>\n",
       "    </tr>\n",
       "    <tr>\n",
       "      <th>3</th>\n",
       "      <td>1000</td>\n",
       "      <td>8.0</td>\n",
       "      <td>ultra</td>\n",
       "      <td>1950</td>\n",
       "      <td>1950.0</td>\n",
       "      <td>408.0</td>\n",
       "      <td>52.0</td>\n",
       "      <td>81.0</td>\n",
       "      <td>14.0</td>\n",
       "      <td>Краснодар</td>\n",
       "    </tr>\n",
       "    <tr>\n",
       "      <th>4</th>\n",
       "      <td>1000</td>\n",
       "      <td>9.0</td>\n",
       "      <td>ultra</td>\n",
       "      <td>1950</td>\n",
       "      <td>1950.0</td>\n",
       "      <td>466.0</td>\n",
       "      <td>58.0</td>\n",
       "      <td>57.0</td>\n",
       "      <td>15.0</td>\n",
       "      <td>Краснодар</td>\n",
       "    </tr>\n",
       "    <tr>\n",
       "      <th>5</th>\n",
       "      <td>1000</td>\n",
       "      <td>10.0</td>\n",
       "      <td>ultra</td>\n",
       "      <td>1950</td>\n",
       "      <td>1950.0</td>\n",
       "      <td>350.0</td>\n",
       "      <td>57.0</td>\n",
       "      <td>73.0</td>\n",
       "      <td>15.0</td>\n",
       "      <td>Краснодар</td>\n",
       "    </tr>\n",
       "    <tr>\n",
       "      <th>6</th>\n",
       "      <td>1000</td>\n",
       "      <td>11.0</td>\n",
       "      <td>ultra</td>\n",
       "      <td>1950</td>\n",
       "      <td>1950.0</td>\n",
       "      <td>338.0</td>\n",
       "      <td>43.0</td>\n",
       "      <td>58.0</td>\n",
       "      <td>15.0</td>\n",
       "      <td>Краснодар</td>\n",
       "    </tr>\n",
       "    <tr>\n",
       "      <th>7</th>\n",
       "      <td>1000</td>\n",
       "      <td>12.0</td>\n",
       "      <td>ultra</td>\n",
       "      <td>1950</td>\n",
       "      <td>1950.0</td>\n",
       "      <td>333.0</td>\n",
       "      <td>46.0</td>\n",
       "      <td>70.0</td>\n",
       "      <td>10.0</td>\n",
       "      <td>Краснодар</td>\n",
       "    </tr>\n",
       "    <tr>\n",
       "      <th>8</th>\n",
       "      <td>1001</td>\n",
       "      <td>11.0</td>\n",
       "      <td>smart</td>\n",
       "      <td>550</td>\n",
       "      <td>1150.0</td>\n",
       "      <td>430.0</td>\n",
       "      <td>59.0</td>\n",
       "      <td>0.0</td>\n",
       "      <td>18.0</td>\n",
       "      <td>Москва</td>\n",
       "    </tr>\n",
       "    <tr>\n",
       "      <th>9</th>\n",
       "      <td>1001</td>\n",
       "      <td>12.0</td>\n",
       "      <td>smart</td>\n",
       "      <td>550</td>\n",
       "      <td>550.0</td>\n",
       "      <td>414.0</td>\n",
       "      <td>63.0</td>\n",
       "      <td>0.0</td>\n",
       "      <td>14.0</td>\n",
       "      <td>Москва</td>\n",
       "    </tr>\n",
       "    <tr>\n",
       "      <th>10</th>\n",
       "      <td>1002</td>\n",
       "      <td>6.0</td>\n",
       "      <td>smart</td>\n",
       "      <td>550</td>\n",
       "      <td>550.0</td>\n",
       "      <td>117.0</td>\n",
       "      <td>15.0</td>\n",
       "      <td>4.0</td>\n",
       "      <td>11.0</td>\n",
       "      <td>Стерлитамак</td>\n",
       "    </tr>\n",
       "    <tr>\n",
       "      <th>11</th>\n",
       "      <td>1002</td>\n",
       "      <td>7.0</td>\n",
       "      <td>smart</td>\n",
       "      <td>550</td>\n",
       "      <td>1150.0</td>\n",
       "      <td>214.0</td>\n",
       "      <td>26.0</td>\n",
       "      <td>11.0</td>\n",
       "      <td>18.0</td>\n",
       "      <td>Стерлитамак</td>\n",
       "    </tr>\n",
       "    <tr>\n",
       "      <th>12</th>\n",
       "      <td>1002</td>\n",
       "      <td>8.0</td>\n",
       "      <td>smart</td>\n",
       "      <td>550</td>\n",
       "      <td>1550.0</td>\n",
       "      <td>289.0</td>\n",
       "      <td>42.0</td>\n",
       "      <td>13.0</td>\n",
       "      <td>20.0</td>\n",
       "      <td>Стерлитамак</td>\n",
       "    </tr>\n",
       "    <tr>\n",
       "      <th>13</th>\n",
       "      <td>1002</td>\n",
       "      <td>9.0</td>\n",
       "      <td>smart</td>\n",
       "      <td>550</td>\n",
       "      <td>950.0</td>\n",
       "      <td>206.0</td>\n",
       "      <td>36.0</td>\n",
       "      <td>4.0</td>\n",
       "      <td>17.0</td>\n",
       "      <td>Стерлитамак</td>\n",
       "    </tr>\n",
       "    <tr>\n",
       "      <th>14</th>\n",
       "      <td>1002</td>\n",
       "      <td>10.0</td>\n",
       "      <td>smart</td>\n",
       "      <td>550</td>\n",
       "      <td>550.0</td>\n",
       "      <td>212.0</td>\n",
       "      <td>33.0</td>\n",
       "      <td>10.0</td>\n",
       "      <td>14.0</td>\n",
       "      <td>Стерлитамак</td>\n",
       "    </tr>\n",
       "    <tr>\n",
       "      <th>15</th>\n",
       "      <td>1002</td>\n",
       "      <td>11.0</td>\n",
       "      <td>smart</td>\n",
       "      <td>550</td>\n",
       "      <td>1350.0</td>\n",
       "      <td>243.0</td>\n",
       "      <td>32.0</td>\n",
       "      <td>16.0</td>\n",
       "      <td>19.0</td>\n",
       "      <td>Стерлитамак</td>\n",
       "    </tr>\n",
       "    <tr>\n",
       "      <th>16</th>\n",
       "      <td>1002</td>\n",
       "      <td>12.0</td>\n",
       "      <td>smart</td>\n",
       "      <td>550</td>\n",
       "      <td>1150.0</td>\n",
       "      <td>236.0</td>\n",
       "      <td>33.0</td>\n",
       "      <td>12.0</td>\n",
       "      <td>18.0</td>\n",
       "      <td>Стерлитамак</td>\n",
       "    </tr>\n",
       "    <tr>\n",
       "      <th>17</th>\n",
       "      <td>1003</td>\n",
       "      <td>8.0</td>\n",
       "      <td>ultra</td>\n",
       "      <td>1950</td>\n",
       "      <td>1950.0</td>\n",
       "      <td>380.0</td>\n",
       "      <td>55.0</td>\n",
       "      <td>37.0</td>\n",
       "      <td>9.0</td>\n",
       "      <td>Москва</td>\n",
       "    </tr>\n",
       "    <tr>\n",
       "      <th>18</th>\n",
       "      <td>1003</td>\n",
       "      <td>9.0</td>\n",
       "      <td>ultra</td>\n",
       "      <td>1950</td>\n",
       "      <td>1950.0</td>\n",
       "      <td>961.0</td>\n",
       "      <td>134.0</td>\n",
       "      <td>91.0</td>\n",
       "      <td>13.0</td>\n",
       "      <td>Москва</td>\n",
       "    </tr>\n",
       "    <tr>\n",
       "      <th>19</th>\n",
       "      <td>1003</td>\n",
       "      <td>10.0</td>\n",
       "      <td>ultra</td>\n",
       "      <td>1950</td>\n",
       "      <td>1950.0</td>\n",
       "      <td>855.0</td>\n",
       "      <td>108.0</td>\n",
       "      <td>83.0</td>\n",
       "      <td>15.0</td>\n",
       "      <td>Москва</td>\n",
       "    </tr>\n",
       "  </tbody>\n",
       "</table>\n",
       "</div>"
      ],
      "text/plain": [
       "    user_id  month tariff  rub_monthly_fee    cost  calls_sum  calls_quantity  \\\n",
       "0      1000    5.0  ultra             1950  1950.0      159.0            22.0   \n",
       "1      1000    6.0  ultra             1950  1950.0      172.0            43.0   \n",
       "2      1000    7.0  ultra             1950  1950.0      340.0            47.0   \n",
       "3      1000    8.0  ultra             1950  1950.0      408.0            52.0   \n",
       "4      1000    9.0  ultra             1950  1950.0      466.0            58.0   \n",
       "5      1000   10.0  ultra             1950  1950.0      350.0            57.0   \n",
       "6      1000   11.0  ultra             1950  1950.0      338.0            43.0   \n",
       "7      1000   12.0  ultra             1950  1950.0      333.0            46.0   \n",
       "8      1001   11.0  smart              550  1150.0      430.0            59.0   \n",
       "9      1001   12.0  smart              550   550.0      414.0            63.0   \n",
       "10     1002    6.0  smart              550   550.0      117.0            15.0   \n",
       "11     1002    7.0  smart              550  1150.0      214.0            26.0   \n",
       "12     1002    8.0  smart              550  1550.0      289.0            42.0   \n",
       "13     1002    9.0  smart              550   950.0      206.0            36.0   \n",
       "14     1002   10.0  smart              550   550.0      212.0            33.0   \n",
       "15     1002   11.0  smart              550  1350.0      243.0            32.0   \n",
       "16     1002   12.0  smart              550  1150.0      236.0            33.0   \n",
       "17     1003    8.0  ultra             1950  1950.0      380.0            55.0   \n",
       "18     1003    9.0  ultra             1950  1950.0      961.0           134.0   \n",
       "19     1003   10.0  ultra             1950  1950.0      855.0           108.0   \n",
       "\n",
       "    messages_quantity  gb_used         city  \n",
       "0                22.0      3.0    Краснодар  \n",
       "1                60.0     23.0    Краснодар  \n",
       "2                75.0     14.0    Краснодар  \n",
       "3                81.0     14.0    Краснодар  \n",
       "4                57.0     15.0    Краснодар  \n",
       "5                73.0     15.0    Краснодар  \n",
       "6                58.0     15.0    Краснодар  \n",
       "7                70.0     10.0    Краснодар  \n",
       "8                 0.0     18.0       Москва  \n",
       "9                 0.0     14.0       Москва  \n",
       "10                4.0     11.0  Стерлитамак  \n",
       "11               11.0     18.0  Стерлитамак  \n",
       "12               13.0     20.0  Стерлитамак  \n",
       "13                4.0     17.0  Стерлитамак  \n",
       "14               10.0     14.0  Стерлитамак  \n",
       "15               16.0     19.0  Стерлитамак  \n",
       "16               12.0     18.0  Стерлитамак  \n",
       "17               37.0      9.0       Москва  \n",
       "18               91.0     13.0       Москва  \n",
       "19               83.0     15.0       Москва  "
      ]
     },
     "execution_count": 20,
     "metadata": {},
     "output_type": "execute_result"
    }
   ],
   "source": [
    "# создадим новый датафрейм\n",
    "df = data[['user_id', 'month', 'tariff', 'rub_monthly_fee', 'cost', 'calls_sum', 'calls_quantity', 'messages_quantity', 'gb_used', 'city']]\n",
    "df.head(20)\n",
    "#len(df['user_id'].unique())"
   ]
  },
  {
   "cell_type": "markdown",
   "id": "06ef77a2",
   "metadata": {},
   "source": [
    "***Вывод***\n",
    "\n",
    "В ходе подготовки данных для дальнейшего использования в таблице: \n",
    "- data_calls добавили два столбца с количеством совершённых звонков и израсходованных минут по каждому месяцу\n",
    "- data_messages добавили столбец с количеством отправленных сообщений\n",
    "- data_internet добавили столбец с количеством израсходованного интернет-трафика, округлив значение до целого в большую сторону, согласно правилу расчёта оператора\n",
    "- data_tariffs добавили столбец с объёмом включенного в абонентскую плату интернет-трафика в Гб, т.к. все расчёты оператор ведёт по Гб\n",
    "\n",
    "Затем собрали данные из разных таблиц в одну и по ней посчитали по каждому пользователю в каждом месяце сумму расходов на связь.\n",
    "\n",
    "Для дальнейшей работы создали новую таблицу с меньшим количеством столбцов."
   ]
  },
  {
   "cell_type": "markdown",
   "id": "faf4de2f",
   "metadata": {},
   "source": [
    "### Шаг 3 Анализ данных."
   ]
  },
  {
   "cell_type": "code",
   "execution_count": 21,
   "id": "32d9dde4",
   "metadata": {},
   "outputs": [
    {
     "name": "stdout",
     "output_type": "stream",
     "text": [
      "Количество пользователей тарифа ultra - 149\n",
      "Количество пользователей тарифа smart - 351\n"
     ]
    }
   ],
   "source": [
    "df_ultra = df.query('tariff == \"ultra\"')\n",
    "df_smart = df.query('tariff == \"smart\"')\n",
    "\n",
    "print('Количество пользователей тарифа ultra -', len(df_ultra['user_id'].unique()))\n",
    "print('Количество пользователей тарифа smart -', len(df_smart['user_id'].unique()))"
   ]
  },
  {
   "cell_type": "code",
   "execution_count": 22,
   "id": "1e35e40c",
   "metadata": {},
   "outputs": [
    {
     "data": {
      "text/html": [
       "<div>\n",
       "<style scoped>\n",
       "    .dataframe tbody tr th:only-of-type {\n",
       "        vertical-align: middle;\n",
       "    }\n",
       "\n",
       "    .dataframe tbody tr th {\n",
       "        vertical-align: top;\n",
       "    }\n",
       "\n",
       "    .dataframe thead th {\n",
       "        text-align: right;\n",
       "    }\n",
       "</style>\n",
       "<table border=\"1\" class=\"dataframe\">\n",
       "  <thead>\n",
       "    <tr style=\"text-align: right;\">\n",
       "      <th></th>\n",
       "      <th>count</th>\n",
       "      <th>mean</th>\n",
       "      <th>std</th>\n",
       "      <th>min</th>\n",
       "      <th>25%</th>\n",
       "      <th>50%</th>\n",
       "      <th>75%</th>\n",
       "      <th>max</th>\n",
       "    </tr>\n",
       "  </thead>\n",
       "  <tbody>\n",
       "    <tr>\n",
       "      <th>user_id</th>\n",
       "      <td>986.0</td>\n",
       "      <td>1262.957404</td>\n",
       "      <td>140.689268</td>\n",
       "      <td>1000.0</td>\n",
       "      <td>1143.0</td>\n",
       "      <td>1277.0</td>\n",
       "      <td>1381.00</td>\n",
       "      <td>1495.0</td>\n",
       "    </tr>\n",
       "    <tr>\n",
       "      <th>month</th>\n",
       "      <td>986.0</td>\n",
       "      <td>8.242394</td>\n",
       "      <td>2.882305</td>\n",
       "      <td>0.0</td>\n",
       "      <td>6.0</td>\n",
       "      <td>9.0</td>\n",
       "      <td>11.00</td>\n",
       "      <td>12.0</td>\n",
       "    </tr>\n",
       "    <tr>\n",
       "      <th>rub_monthly_fee</th>\n",
       "      <td>986.0</td>\n",
       "      <td>1950.000000</td>\n",
       "      <td>0.000000</td>\n",
       "      <td>1950.0</td>\n",
       "      <td>1950.0</td>\n",
       "      <td>1950.0</td>\n",
       "      <td>1950.00</td>\n",
       "      <td>1950.0</td>\n",
       "    </tr>\n",
       "    <tr>\n",
       "      <th>cost</th>\n",
       "      <td>986.0</td>\n",
       "      <td>2070.030426</td>\n",
       "      <td>376.015578</td>\n",
       "      <td>1950.0</td>\n",
       "      <td>1950.0</td>\n",
       "      <td>1950.0</td>\n",
       "      <td>1950.00</td>\n",
       "      <td>4800.0</td>\n",
       "    </tr>\n",
       "    <tr>\n",
       "      <th>calls_sum</th>\n",
       "      <td>986.0</td>\n",
       "      <td>526.089249</td>\n",
       "      <td>317.887549</td>\n",
       "      <td>0.0</td>\n",
       "      <td>282.5</td>\n",
       "      <td>518.0</td>\n",
       "      <td>751.75</td>\n",
       "      <td>1673.0</td>\n",
       "    </tr>\n",
       "    <tr>\n",
       "      <th>calls_quantity</th>\n",
       "      <td>986.0</td>\n",
       "      <td>73.318458</td>\n",
       "      <td>43.956739</td>\n",
       "      <td>0.0</td>\n",
       "      <td>41.0</td>\n",
       "      <td>73.5</td>\n",
       "      <td>103.75</td>\n",
       "      <td>244.0</td>\n",
       "    </tr>\n",
       "    <tr>\n",
       "      <th>messages_quantity</th>\n",
       "      <td>986.0</td>\n",
       "      <td>49.313387</td>\n",
       "      <td>47.806040</td>\n",
       "      <td>0.0</td>\n",
       "      <td>6.0</td>\n",
       "      <td>38.0</td>\n",
       "      <td>78.75</td>\n",
       "      <td>224.0</td>\n",
       "    </tr>\n",
       "    <tr>\n",
       "      <th>gb_used</th>\n",
       "      <td>986.0</td>\n",
       "      <td>19.474645</td>\n",
       "      <td>9.868057</td>\n",
       "      <td>0.0</td>\n",
       "      <td>12.0</td>\n",
       "      <td>19.0</td>\n",
       "      <td>27.00</td>\n",
       "      <td>49.0</td>\n",
       "    </tr>\n",
       "  </tbody>\n",
       "</table>\n",
       "</div>"
      ],
      "text/plain": [
       "                   count         mean         std     min     25%     50%  \\\n",
       "user_id            986.0  1262.957404  140.689268  1000.0  1143.0  1277.0   \n",
       "month              986.0     8.242394    2.882305     0.0     6.0     9.0   \n",
       "rub_monthly_fee    986.0  1950.000000    0.000000  1950.0  1950.0  1950.0   \n",
       "cost               986.0  2070.030426  376.015578  1950.0  1950.0  1950.0   \n",
       "calls_sum          986.0   526.089249  317.887549     0.0   282.5   518.0   \n",
       "calls_quantity     986.0    73.318458   43.956739     0.0    41.0    73.5   \n",
       "messages_quantity  986.0    49.313387   47.806040     0.0     6.0    38.0   \n",
       "gb_used            986.0    19.474645    9.868057     0.0    12.0    19.0   \n",
       "\n",
       "                       75%     max  \n",
       "user_id            1381.00  1495.0  \n",
       "month                11.00    12.0  \n",
       "rub_monthly_fee    1950.00  1950.0  \n",
       "cost               1950.00  4800.0  \n",
       "calls_sum           751.75  1673.0  \n",
       "calls_quantity      103.75   244.0  \n",
       "messages_quantity    78.75   224.0  \n",
       "gb_used              27.00    49.0  "
      ]
     },
     "execution_count": 22,
     "metadata": {},
     "output_type": "execute_result"
    }
   ],
   "source": [
    "df_ultra.describe().T"
   ]
  },
  {
   "cell_type": "code",
   "execution_count": 23,
   "id": "9161c88d",
   "metadata": {},
   "outputs": [
    {
     "data": {
      "text/html": [
       "<div>\n",
       "<style scoped>\n",
       "    .dataframe tbody tr th:only-of-type {\n",
       "        vertical-align: middle;\n",
       "    }\n",
       "\n",
       "    .dataframe tbody tr th {\n",
       "        vertical-align: top;\n",
       "    }\n",
       "\n",
       "    .dataframe thead th {\n",
       "        text-align: right;\n",
       "    }\n",
       "</style>\n",
       "<table border=\"1\" class=\"dataframe\">\n",
       "  <thead>\n",
       "    <tr style=\"text-align: right;\">\n",
       "      <th></th>\n",
       "      <th>count</th>\n",
       "      <th>mean</th>\n",
       "      <th>std</th>\n",
       "      <th>min</th>\n",
       "      <th>25%</th>\n",
       "      <th>50%</th>\n",
       "      <th>75%</th>\n",
       "      <th>max</th>\n",
       "    </tr>\n",
       "  </thead>\n",
       "  <tbody>\n",
       "    <tr>\n",
       "      <th>user_id</th>\n",
       "      <td>2230.0</td>\n",
       "      <td>1246.562332</td>\n",
       "      <td>146.110501</td>\n",
       "      <td>1001.0</td>\n",
       "      <td>1121.0</td>\n",
       "      <td>1240.0</td>\n",
       "      <td>1376.0</td>\n",
       "      <td>1499.0</td>\n",
       "    </tr>\n",
       "    <tr>\n",
       "      <th>month</th>\n",
       "      <td>2230.0</td>\n",
       "      <td>8.343049</td>\n",
       "      <td>2.925006</td>\n",
       "      <td>0.0</td>\n",
       "      <td>6.0</td>\n",
       "      <td>9.0</td>\n",
       "      <td>11.0</td>\n",
       "      <td>12.0</td>\n",
       "    </tr>\n",
       "    <tr>\n",
       "      <th>rub_monthly_fee</th>\n",
       "      <td>2230.0</td>\n",
       "      <td>550.000000</td>\n",
       "      <td>0.000000</td>\n",
       "      <td>550.0</td>\n",
       "      <td>550.0</td>\n",
       "      <td>550.0</td>\n",
       "      <td>550.0</td>\n",
       "      <td>550.0</td>\n",
       "    </tr>\n",
       "    <tr>\n",
       "      <th>cost</th>\n",
       "      <td>2230.0</td>\n",
       "      <td>1289.641704</td>\n",
       "      <td>818.370799</td>\n",
       "      <td>550.0</td>\n",
       "      <td>550.0</td>\n",
       "      <td>1021.0</td>\n",
       "      <td>1750.0</td>\n",
       "      <td>6770.0</td>\n",
       "    </tr>\n",
       "    <tr>\n",
       "      <th>calls_sum</th>\n",
       "      <td>2230.0</td>\n",
       "      <td>417.747534</td>\n",
       "      <td>190.476754</td>\n",
       "      <td>0.0</td>\n",
       "      <td>282.0</td>\n",
       "      <td>421.5</td>\n",
       "      <td>545.0</td>\n",
       "      <td>1435.0</td>\n",
       "    </tr>\n",
       "    <tr>\n",
       "      <th>calls_quantity</th>\n",
       "      <td>2230.0</td>\n",
       "      <td>58.437220</td>\n",
       "      <td>25.963572</td>\n",
       "      <td>0.0</td>\n",
       "      <td>40.0</td>\n",
       "      <td>60.0</td>\n",
       "      <td>76.0</td>\n",
       "      <td>198.0</td>\n",
       "    </tr>\n",
       "    <tr>\n",
       "      <th>messages_quantity</th>\n",
       "      <td>2230.0</td>\n",
       "      <td>33.369058</td>\n",
       "      <td>28.230396</td>\n",
       "      <td>0.0</td>\n",
       "      <td>10.0</td>\n",
       "      <td>28.0</td>\n",
       "      <td>51.0</td>\n",
       "      <td>143.0</td>\n",
       "    </tr>\n",
       "    <tr>\n",
       "      <th>gb_used</th>\n",
       "      <td>2230.0</td>\n",
       "      <td>16.321525</td>\n",
       "      <td>5.756167</td>\n",
       "      <td>0.0</td>\n",
       "      <td>13.0</td>\n",
       "      <td>17.0</td>\n",
       "      <td>20.0</td>\n",
       "      <td>38.0</td>\n",
       "    </tr>\n",
       "  </tbody>\n",
       "</table>\n",
       "</div>"
      ],
      "text/plain": [
       "                    count         mean         std     min     25%     50%  \\\n",
       "user_id            2230.0  1246.562332  146.110501  1001.0  1121.0  1240.0   \n",
       "month              2230.0     8.343049    2.925006     0.0     6.0     9.0   \n",
       "rub_monthly_fee    2230.0   550.000000    0.000000   550.0   550.0   550.0   \n",
       "cost               2230.0  1289.641704  818.370799   550.0   550.0  1021.0   \n",
       "calls_sum          2230.0   417.747534  190.476754     0.0   282.0   421.5   \n",
       "calls_quantity     2230.0    58.437220   25.963572     0.0    40.0    60.0   \n",
       "messages_quantity  2230.0    33.369058   28.230396     0.0    10.0    28.0   \n",
       "gb_used            2230.0    16.321525    5.756167     0.0    13.0    17.0   \n",
       "\n",
       "                      75%     max  \n",
       "user_id            1376.0  1499.0  \n",
       "month                11.0    12.0  \n",
       "rub_monthly_fee     550.0   550.0  \n",
       "cost               1750.0  6770.0  \n",
       "calls_sum           545.0  1435.0  \n",
       "calls_quantity       76.0   198.0  \n",
       "messages_quantity    51.0   143.0  \n",
       "gb_used              20.0    38.0  "
      ]
     },
     "execution_count": 23,
     "metadata": {},
     "output_type": "execute_result"
    }
   ],
   "source": [
    "df_smart.describe().T"
   ]
  },
  {
   "cell_type": "code",
   "execution_count": 24,
   "id": "8470853c",
   "metadata": {
    "scrolled": false
   },
   "outputs": [
    {
     "name": "stdout",
     "output_type": "stream",
     "text": [
      "count     986.000000\n",
      "mean      526.089249\n",
      "std       317.887549\n",
      "min         0.000000\n",
      "25%       282.500000\n",
      "50%       518.000000\n",
      "75%       751.750000\n",
      "max      1673.000000\n",
      "Name: calls_sum, dtype: float64\n",
      "Среднее колчество 526.0892494929006\n",
      "Дисперсия 101052.49354928375\n",
      "Стандартное отклонение 317.88754859113897\n"
     ]
    },
    {
     "data": {
      "image/png": "[encoded data removed]",
      "text/plain": [
       "<Figure size 432x288 with 1 Axes>"
      ]
     },
     "metadata": {
      "needs_background": "light"
     },
     "output_type": "display_data"
    }
   ],
   "source": [
    "df_ultra['calls_sum'].hist(range=(10,100), bins=range(0, 1701, 100)); # по использованным минутам тариф ultra\n",
    "print(df_ultra['calls_sum'].describe())\n",
    "\n",
    "plt.title('Использованные минуты. Тариф ultra')\n",
    "\n",
    "mean_calls_sum_ultra = df_ultra['calls_sum'].mean()\n",
    "print('Среднее колчество', mean_calls_sum_ultra)\n",
    "\n",
    "var_calls_sum_ultra = np.var(df_ultra['calls_sum'], ddof=1)# дисперсия выборки, т.к. нам дана выборка клиентов\n",
    "print('Дисперсия', var_calls_sum_ultra)\n",
    "\n",
    "std_calls_sum_ultra = np.sqrt(var_calls_sum_ultra)\n",
    "print('Стандартное отклонение', std_calls_sum_ultra)"
   ]
  },
  {
   "cell_type": "code",
   "execution_count": 25,
   "id": "a05d935e",
   "metadata": {},
   "outputs": [
    {
     "name": "stdout",
     "output_type": "stream",
     "text": [
      "count     986.000000\n",
      "mean      526.089249\n",
      "std       317.887549\n",
      "min         0.000000\n",
      "25%       282.500000\n",
      "50%       518.000000\n",
      "75%       751.750000\n",
      "max      1673.000000\n",
      "Name: calls_sum, dtype: float64\n",
      "Среднее колчество 526.0892494929006\n",
      "Дисперсия 101052.49354928375\n",
      "Стандартное отклонение 317.88754859113897\n"
     ]
    },
    {
     "data": {
      "image/png": "[encoded data removed]",
      "text/plain": [
       "<Figure size 432x288 with 1 Axes>"
      ]
     },
     "metadata": {
      "needs_background": "light"
     },
     "output_type": "display_data"
    }
   ],
   "source": [
    "# Код ревьюера\n",
    "\n",
    "df_ultra['calls_sum'].hist(range=(10,100), bins=range(0, 1701, 100)); # по использованным минутам тариф ultra\n",
    "print(df_ultra['calls_sum'].describe())\n",
    "\n",
    "mean_calls_sum_ultra = df_ultra['calls_sum'].mean()\n",
    "print('Среднее колчество', mean_calls_sum_ultra)\n",
    "\n",
    "var_calls_sum_ultra = np.var(df_ultra['calls_sum'], ddof=1)# дисперсия выборки, т.к. нам дана выборка клиентов\n",
    "print('Дисперсия', var_calls_sum_ultra)\n",
    "\n",
    "std_calls_sum_ultra = np.sqrt(var_calls_sum_ultra)\n",
    "print('Стандартное отклонение', std_calls_sum_ultra)"
   ]
  },
  {
   "cell_type": "markdown",
   "id": "a5265c76",
   "metadata": {},
   "source": [
    "Для количества потраченных минут (непрерывной переменной) посторим гистограмму частот указав границы интревалов. Распределение стремиться к нормальному(среднее значение и медиана близки)."
   ]
  },
  {
   "cell_type": "code",
   "execution_count": 26,
   "id": "9a041082",
   "metadata": {
    "scrolled": false
   },
   "outputs": [
    {
     "name": "stdout",
     "output_type": "stream",
     "text": [
      "count    986.000000\n",
      "mean      49.313387\n",
      "std       47.806040\n",
      "min        0.000000\n",
      "25%        6.000000\n",
      "50%       38.000000\n",
      "75%       78.750000\n",
      "max      224.000000\n",
      "Name: messages_quantity, dtype: float64\n",
      "Среднее количество 49.31338742393509\n",
      "Дисперсия 2285.417424655839\n",
      "Стандартное отклонение 47.80603962530089\n"
     ]
    },
    {
     "data": {
      "image/png": "[encoded data removed]",
      "text/plain": [
       "<Figure size 432x288 with 1 Axes>"
      ]
     },
     "metadata": {
      "needs_background": "light"
     },
     "output_type": "display_data"
    }
   ],
   "source": [
    "df_ultra['messages_quantity'].hist(range=(10,100), bins=range(0, 240, 20)); # по отправленным сообщениям тариф ultra\n",
    "print(df_ultra['messages_quantity'].describe())\n",
    "plt.title('Отправленные сообщения. Тариф ultra')\n",
    "\n",
    "mean_messages_ultra = df_ultra['messages_quantity'].mean()\n",
    "print('Среднее количество', mean_messages_ultra)\n",
    "\n",
    "\n",
    "var_messages_quantity_ultra = np.var(df_ultra['messages_quantity'], ddof=1)\n",
    "print('Дисперсия', var_messages_quantity_ultra)\n",
    "\n",
    "std_messages_quantity_ultra = np.sqrt(var_messages_quantity_ultra)\n",
    "print('Стандартное отклонение', std_messages_quantity_ultra)"
   ]
  },
  {
   "cell_type": "markdown",
   "id": "993f2927",
   "metadata": {},
   "source": [
    "Для количества отправленных сообщений (непрерывной переменной) посторим гистограмму частот указав границы интревалов. Распределение скошенно вправо."
   ]
  },
  {
   "cell_type": "code",
   "execution_count": 27,
   "id": "dfd026ba",
   "metadata": {},
   "outputs": [
    {
     "name": "stdout",
     "output_type": "stream",
     "text": [
      "count    986.000000\n",
      "mean      19.474645\n",
      "std        9.868057\n",
      "min        0.000000\n",
      "25%       12.000000\n",
      "50%       19.000000\n",
      "75%       27.000000\n",
      "max       49.000000\n",
      "Name: gb_used, dtype: float64\n",
      "Среднее количество 19.474645030425965\n",
      "Дисперсия 97.3785442901125\n",
      "Стандартное отклонение 9.868056763624361\n"
     ]
    },
    {
     "data": {
      "image/png": "[encoded data removed]",
      "text/plain": [
       "<Figure size 432x288 with 1 Axes>"
      ]
     },
     "metadata": {
      "needs_background": "light"
     },
     "output_type": "display_data"
    }
   ],
   "source": [
    "df_ultra['gb_used'].hist(range=(10,100), bins=range(0, 50, 2)); # по использованному интернет-трафику тариф ultra\n",
    "print(df_ultra['gb_used'].describe())\n",
    "plt.title('Использованный интернет-трафик. Тариф ultra')\n",
    "\n",
    "mean_gb_used_ultra = df_ultra['gb_used'].mean()\n",
    "print('Среднее количество', mean_gb_used_ultra)\n",
    "\n",
    "var_gb_used_ultra = np.var(df_ultra['gb_used'], ddof=1)\n",
    "print('Дисперсия', var_gb_used_ultra)\n",
    "\n",
    "std_gb_used_ultra = np.sqrt(var_gb_used_ultra)\n",
    "print('Стандартное отклонение', std_gb_used_ultra)"
   ]
  },
  {
   "cell_type": "markdown",
   "id": "739f9b87",
   "metadata": {},
   "source": [
    "Для количества использованного интернет-трафика (непрерывной переменной) посторим гистограмму частот указав границы интревалов. Распределение стремится к нормальному (медиана и среднее почти равны)."
   ]
  },
  {
   "cell_type": "code",
   "execution_count": 28,
   "id": "6b22604c",
   "metadata": {},
   "outputs": [
    {
     "name": "stdout",
     "output_type": "stream",
     "text": [
      "count    986.000000\n",
      "mean      73.318458\n",
      "std       43.956739\n",
      "min        0.000000\n",
      "25%       41.000000\n",
      "50%       73.500000\n",
      "75%      103.750000\n",
      "max      244.000000\n",
      "Name: calls_quantity, dtype: float64\n",
      "Среднее количество 73.3184584178499\n",
      "Дисперсия 1932.194927976439\n",
      "Стандартное отклонение 43.95673927825447\n"
     ]
    },
    {
     "data": {
      "image/png": "[encoded data removed]",
      "text/plain": [
       "<Figure size 432x288 with 1 Axes>"
      ]
     },
     "metadata": {
      "needs_background": "light"
     },
     "output_type": "display_data"
    }
   ],
   "source": [
    "df_ultra['calls_quantity'].hist(range=(10,100), bins=range(0, 250, 20)); # по количеству совершённых звонков  тариф ultra\n",
    "print(df_ultra['calls_quantity'].describe())\n",
    "plt.title('Количество совершённых звонков. Тариф ultra')\n",
    "\n",
    "mean_calls_quantity_ultra = df_ultra['calls_quantity'].mean()\n",
    "print('Среднее количество', mean_calls_quantity_ultra)\n",
    "\n",
    "var_calls_quantity_ultra = np.var(df_ultra['calls_quantity'], ddof=1)\n",
    "print('Дисперсия', var_calls_quantity_ultra)\n",
    "\n",
    "std_calls_quantity_ultra = np.sqrt(var_calls_quantity_ultra)\n",
    "print('Стандартное отклонение', std_calls_quantity_ultra)"
   ]
  },
  {
   "cell_type": "markdown",
   "id": "4129e10d",
   "metadata": {},
   "source": [
    "Для количества звонков (непрерывной переменной) посторим гистограмму частот указав границы интревалов. Распределение стремится к нормальному (медиана и среднее почти равны)."
   ]
  },
  {
   "cell_type": "code",
   "execution_count": 29,
   "id": "abeb6681",
   "metadata": {},
   "outputs": [
    {
     "data": {
      "text/html": [
       "<div>\n",
       "<style scoped>\n",
       "    .dataframe tbody tr th:only-of-type {\n",
       "        vertical-align: middle;\n",
       "    }\n",
       "\n",
       "    .dataframe tbody tr th {\n",
       "        vertical-align: top;\n",
       "    }\n",
       "\n",
       "    .dataframe thead th {\n",
       "        text-align: right;\n",
       "    }\n",
       "</style>\n",
       "<table border=\"1\" class=\"dataframe\">\n",
       "  <thead>\n",
       "    <tr style=\"text-align: right;\">\n",
       "      <th></th>\n",
       "      <th>user_id</th>\n",
       "    </tr>\n",
       "    <tr>\n",
       "      <th>city</th>\n",
       "      <th></th>\n",
       "    </tr>\n",
       "  </thead>\n",
       "  <tbody>\n",
       "    <tr>\n",
       "      <th>Москва</th>\n",
       "      <td>32</td>\n",
       "    </tr>\n",
       "    <tr>\n",
       "      <th>Санкт-Петербург</th>\n",
       "      <td>9</td>\n",
       "    </tr>\n",
       "    <tr>\n",
       "      <th>Уфа</th>\n",
       "      <td>6</td>\n",
       "    </tr>\n",
       "    <tr>\n",
       "      <th>Краснодар</th>\n",
       "      <td>5</td>\n",
       "    </tr>\n",
       "    <tr>\n",
       "      <th>Новосибирск</th>\n",
       "      <td>5</td>\n",
       "    </tr>\n",
       "    <tr>\n",
       "      <th>Воронеж</th>\n",
       "      <td>5</td>\n",
       "    </tr>\n",
       "    <tr>\n",
       "      <th>Пенза</th>\n",
       "      <td>5</td>\n",
       "    </tr>\n",
       "    <tr>\n",
       "      <th>Омск</th>\n",
       "      <td>4</td>\n",
       "    </tr>\n",
       "    <tr>\n",
       "      <th>Набережные Челны</th>\n",
       "      <td>4</td>\n",
       "    </tr>\n",
       "    <tr>\n",
       "      <th>Пермь</th>\n",
       "      <td>3</td>\n",
       "    </tr>\n",
       "  </tbody>\n",
       "</table>\n",
       "</div>"
      ],
      "text/plain": [
       "                  user_id\n",
       "city                     \n",
       "Москва                 32\n",
       "Санкт-Петербург         9\n",
       "Уфа                     6\n",
       "Краснодар               5\n",
       "Новосибирск             5\n",
       "Воронеж                 5\n",
       "Пенза                   5\n",
       "Омск                    4\n",
       "Набережные Челны        4\n",
       "Пермь                   3"
      ]
     },
     "metadata": {},
     "output_type": "display_data"
    },
    {
     "data": {
      "image/png": "[encoded data removed]",
      "text/plain": [
       "<Figure size 720x360 with 1 Axes>"
      ]
     },
     "metadata": {
      "needs_background": "light"
     },
     "output_type": "display_data"
    }
   ],
   "source": [
    "(data_users \n",
    " .query('tariff == \"ultra\"')    # распределение пользователей по городам\n",
    " .pivot_table(index='city', values='user_id', aggfunc='count')\n",
    " .sort_values('user_id', ascending=False)[0:10]                # 10 с наибольшим количеством абонентов с тарифом ultra\n",
    " .plot(kind='bar', grid=True, figsize=(10, 5))\n",
    "); \n",
    "plt.title('Распределение пользователей по городам. Тариф ultra', fontsize=14, fontweight=\"bold\")\n",
    "plt.xlabel('Город')\n",
    "plt.ylabel('Количество')\n",
    "display(data_users.query('tariff == \"ultra\"').pivot_table(index='city', values='user_id', aggfunc='count').round().sort_values('user_id', ascending=False)[0:10])  "
   ]
  },
  {
   "cell_type": "markdown",
   "id": "647dae84",
   "metadata": {},
   "source": [
    "***Вывод по анализу абонентов трифа ultra***\n",
    "\n",
    "Разделив клиентов по тарифу можно сказать, что большая часть клиентов с тарифом ultra оплачивает в месяц только абонентскую плату.\n",
    "\n",
    "Абоненты с тарифом \"ultra\" в среднем тратят на разговоры 545 минут, совершают 76 звонков, отправляют 49 сообщений и используют около 19.5 Гб интернет-трафика. Средние значения значительно ниже предоставляемых оператором за абоненскую плату.\n",
    "\n",
    "Большая часть этих клиентов из Москвы, почти в 3 раза больше, чем в следующем по частоте Санкт-Перетбурге. В остальных городах тариф явно не пользуется популярностью. "
   ]
  },
  {
   "cell_type": "code",
   "execution_count": 30,
   "id": "30ba495e",
   "metadata": {},
   "outputs": [
    {
     "name": "stdout",
     "output_type": "stream",
     "text": [
      "count    2230.000000\n",
      "mean      417.747534\n",
      "std       190.476754\n",
      "min         0.000000\n",
      "25%       282.000000\n",
      "50%       421.500000\n",
      "75%       545.000000\n",
      "max      1435.000000\n",
      "Name: calls_sum, dtype: float64\n",
      "Среднее колчество 417.747533632287\n",
      "Дисперсия 36281.393836444564\n",
      "Стандартное отклонение 190.47675405792845\n"
     ]
    },
    {
     "data": {
      "image/png": "[encoded data removed]",
      "text/plain": [
       "<Figure size 432x288 with 1 Axes>"
      ]
     },
     "metadata": {
      "needs_background": "light"
     },
     "output_type": "display_data"
    }
   ],
   "source": [
    "df_smart['calls_sum'].hist(range=(10,100), bins=range(0, 1435, 100)); # по использованным минутам тариф smart\n",
    "print(df_smart['calls_sum'].describe())\n",
    "plt.title('Использованные минуты. Тариф smart')\n",
    "\n",
    "mean_calls_sum_smart = df_smart['calls_sum'].mean()\n",
    "print('Среднее колчество', mean_calls_sum_smart)\n",
    "\n",
    "var_calls_sum_smart = np.var(df_smart['calls_sum'], ddof=1)\n",
    "print('Дисперсия', var_calls_sum_smart)\n",
    "\n",
    "std_calls_sum_smart = np.sqrt(var_calls_sum_smart)\n",
    "print('Стандартное отклонение', std_calls_sum_smart)"
   ]
  },
  {
   "cell_type": "markdown",
   "id": "014b93e5",
   "metadata": {},
   "source": [
    "Для количества потраченных минут (непрерывной переменной) посторим гистограмму частот указав границы интревалов. Распределение стремиться к нормальному(среднее значение и медиана очень близки)."
   ]
  },
  {
   "cell_type": "code",
   "execution_count": 31,
   "id": "ec8fc17a",
   "metadata": {},
   "outputs": [
    {
     "name": "stdout",
     "output_type": "stream",
     "text": [
      "count    2230.000000\n",
      "mean       33.369058\n",
      "std        28.230396\n",
      "min         0.000000\n",
      "25%        10.000000\n",
      "50%        28.000000\n",
      "75%        51.000000\n",
      "max       143.000000\n",
      "Name: messages_quantity, dtype: float64\n",
      "Среднее количество 33.36905829596412\n",
      "Дисперсия 796.9552557301104\n",
      "Стандартное отклонение 28.230395954185806\n"
     ]
    },
    {
     "data": {
      "image/png": "[encoded data removed]",
      "text/plain": [
       "<Figure size 432x288 with 1 Axes>"
      ]
     },
     "metadata": {
      "needs_background": "light"
     },
     "output_type": "display_data"
    }
   ],
   "source": [
    "df_smart['messages_quantity'].hist(range=(10,100), bins=range(0, 145, 20)); # по отправленным сообщениям тариф smart\n",
    "print(df_smart['messages_quantity'].describe())\n",
    "plt.title('Отправленные сообщения. Тариф smart')\n",
    "\n",
    "mean_messages_smart = df_smart['messages_quantity'].mean()\n",
    "print('Среднее количество', mean_messages_smart)\n",
    "\n",
    "\n",
    "var_messages_smart = np.var(df_smart['messages_quantity'], ddof=1)\n",
    "print('Дисперсия', var_messages_smart)\n",
    "\n",
    "std_messages_smart = np.sqrt(var_messages_smart)\n",
    "print('Стандартное отклонение', std_messages_smart)"
   ]
  },
  {
   "cell_type": "markdown",
   "id": "067d9826",
   "metadata": {},
   "source": [
    "Для количества отправленных сообщений (непрерывной переменной) посторим гистограмму частот указав границы интревалов. Распределение скошенно вправо."
   ]
  },
  {
   "cell_type": "code",
   "execution_count": 32,
   "id": "3cf4ed73",
   "metadata": {},
   "outputs": [
    {
     "name": "stdout",
     "output_type": "stream",
     "text": [
      "count    2230.000000\n",
      "mean       16.321525\n",
      "std         5.756167\n",
      "min         0.000000\n",
      "25%        13.000000\n",
      "50%        17.000000\n",
      "75%        20.000000\n",
      "max        38.000000\n",
      "Name: gb_used, dtype: float64\n",
      "Среднее количество 16.32152466367713\n",
      "Дисперсия 33.13345303550617\n",
      "Стандартное отклонение 5.756166522565706\n"
     ]
    },
    {
     "data": {
      "image/png": "[encoded data removed]",
      "text/plain": [
       "<Figure size 432x288 with 1 Axes>"
      ]
     },
     "metadata": {
      "needs_background": "light"
     },
     "output_type": "display_data"
    }
   ],
   "source": [
    "df_smart['gb_used'].hist(range=(10,100), bins=range(0, 38, 2)); # по использованному интернет-трафику тариф smart\n",
    "print(df_smart['gb_used'].describe())\n",
    "plt.title('Использованный интернет-трафик. Тариф smart')\n",
    "\n",
    "mean_gb_used_smart = df_smart['gb_used'].mean()\n",
    "print('Среднее количество', mean_gb_used_smart)\n",
    "\n",
    "var_gb_used_smart = np.var(df_smart['gb_used'], ddof=1)\n",
    "print('Дисперсия', var_gb_used_smart)\n",
    "\n",
    "std_gb_used_smart = np.sqrt(var_gb_used_smart)\n",
    "print('Стандартное отклонение', std_gb_used_smart)"
   ]
  },
  {
   "cell_type": "markdown",
   "id": "213c200b",
   "metadata": {},
   "source": [
    "Для количества использованного интернет-трафика (непрерывной переменной) посторим гистограмму частот указав границы интревалов. Распределение стремится к нормальному (медиана и среднее близки по значению)."
   ]
  },
  {
   "cell_type": "code",
   "execution_count": 33,
   "id": "02f00d1f",
   "metadata": {},
   "outputs": [
    {
     "name": "stdout",
     "output_type": "stream",
     "text": [
      "count    2230.000000\n",
      "mean       58.437220\n",
      "std        25.963572\n",
      "min         0.000000\n",
      "25%        40.000000\n",
      "50%        60.000000\n",
      "75%        76.000000\n",
      "max       198.000000\n",
      "Name: calls_quantity, dtype: float64\n",
      "Среднее количество 58.437219730941706\n",
      "Дисперсия 674.1070932087628\n",
      "Стандартное отклонение 25.96357242770653\n"
     ]
    },
    {
     "data": {
      "image/png": "[encoded data removed]",
      "text/plain": [
       "<Figure size 432x288 with 1 Axes>"
      ]
     },
     "metadata": {
      "needs_background": "light"
     },
     "output_type": "display_data"
    }
   ],
   "source": [
    "df_smart['calls_quantity'].hist(range=(10,100), bins=range(0, 198, 20)); # по количеству соверщённых звонков  тариф smart\n",
    "print(df_smart['calls_quantity'].describe())\n",
    "plt.title('Количество совершённых звонков. Тариф smart')\n",
    "\n",
    "mean_calls_quantity_smart = df_smart['calls_quantity'].mean()\n",
    "print('Среднее количество', mean_calls_quantity_smart)\n",
    "\n",
    "var_calls_quantity_smart = np.var(df_smart['calls_quantity'], ddof=1)\n",
    "print('Дисперсия', var_calls_quantity_smart)\n",
    "\n",
    "std_calls_quantity_smart = np.sqrt(var_calls_quantity_smart)\n",
    "print('Стандартное отклонение', std_calls_quantity_smart)"
   ]
  },
  {
   "cell_type": "markdown",
   "id": "60af55a5",
   "metadata": {},
   "source": [
    "Для количества звонков (непрерывной переменной) посторим гистограмму частот указав границы интревалов. Распределение стремится к нормальному (медиана и среднее близки по значению)."
   ]
  },
  {
   "cell_type": "code",
   "execution_count": 34,
   "id": "0afea41f",
   "metadata": {},
   "outputs": [
    {
     "data": {
      "text/html": [
       "<div>\n",
       "<style scoped>\n",
       "    .dataframe tbody tr th:only-of-type {\n",
       "        vertical-align: middle;\n",
       "    }\n",
       "\n",
       "    .dataframe tbody tr th {\n",
       "        vertical-align: top;\n",
       "    }\n",
       "\n",
       "    .dataframe thead th {\n",
       "        text-align: right;\n",
       "    }\n",
       "</style>\n",
       "<table border=\"1\" class=\"dataframe\">\n",
       "  <thead>\n",
       "    <tr style=\"text-align: right;\">\n",
       "      <th></th>\n",
       "      <th>user_id</th>\n",
       "    </tr>\n",
       "    <tr>\n",
       "      <th>city</th>\n",
       "      <th></th>\n",
       "    </tr>\n",
       "  </thead>\n",
       "  <tbody>\n",
       "    <tr>\n",
       "      <th>Москва</th>\n",
       "      <td>67</td>\n",
       "    </tr>\n",
       "    <tr>\n",
       "      <th>Санкт-Петербург</th>\n",
       "      <td>30</td>\n",
       "    </tr>\n",
       "    <tr>\n",
       "      <th>Казань</th>\n",
       "      <td>13</td>\n",
       "    </tr>\n",
       "    <tr>\n",
       "      <th>Новосибирск</th>\n",
       "      <td>11</td>\n",
       "    </tr>\n",
       "    <tr>\n",
       "      <th>Омск</th>\n",
       "      <td>10</td>\n",
       "    </tr>\n",
       "    <tr>\n",
       "      <th>Ульяновск</th>\n",
       "      <td>10</td>\n",
       "    </tr>\n",
       "    <tr>\n",
       "      <th>Екатеринбург</th>\n",
       "      <td>9</td>\n",
       "    </tr>\n",
       "    <tr>\n",
       "      <th>Улан-Удэ</th>\n",
       "      <td>7</td>\n",
       "    </tr>\n",
       "    <tr>\n",
       "      <th>Самара</th>\n",
       "      <td>7</td>\n",
       "    </tr>\n",
       "    <tr>\n",
       "      <th>Набережные Челны</th>\n",
       "      <td>7</td>\n",
       "    </tr>\n",
       "  </tbody>\n",
       "</table>\n",
       "</div>"
      ],
      "text/plain": [
       "                  user_id\n",
       "city                     \n",
       "Москва                 67\n",
       "Санкт-Петербург        30\n",
       "Казань                 13\n",
       "Новосибирск            11\n",
       "Омск                   10\n",
       "Ульяновск              10\n",
       "Екатеринбург            9\n",
       "Улан-Удэ                7\n",
       "Самара                  7\n",
       "Набережные Челны        7"
      ]
     },
     "metadata": {},
     "output_type": "display_data"
    },
    {
     "data": {
      "image/png": "[encoded data removed]",
      "text/plain": [
       "<Figure size 720x360 with 1 Axes>"
      ]
     },
     "metadata": {
      "needs_background": "light"
     },
     "output_type": "display_data"
    }
   ],
   "source": [
    "(data_users \n",
    " .query('tariff == \"smart\"')    # распределение пользователей по городам\n",
    " .pivot_table(index='city', values='user_id', aggfunc='count')\n",
    " .sort_values('user_id', ascending=False)[0:10]                # 10 с наибольшим количеством абонентов с тарифом ultra\n",
    " .plot(kind='bar', grid=True, figsize=(10, 5))\n",
    "); \n",
    "plt.title('Распределение пользователей по городам. Тариф smart', fontsize=14, fontweight=\"bold\")\n",
    "plt.xlabel('Город')\n",
    "plt.ylabel('Количество')\n",
    "display(data_users.query('tariff == \"smart\"').pivot_table(index='city', values='user_id', aggfunc='count').round().sort_values('user_id', ascending=False)[0:10])  "
   ]
  },
  {
   "cell_type": "markdown",
   "id": "7cb64532",
   "metadata": {},
   "source": [
    "***Вывод по анализу абонентов трифа smart***\n",
    "\n",
    "Разделив клиентов по тарифу можно сказать, что тарифом \"smart\" пользуется большее число абонентов и по большей части их платежи выходят за рамки абонентской платы.\n",
    "\n",
    "Абоненты с тарифом \"smart\" в среднем тратят на разговоры 419 минут, совершают 58 звонков, отправляют 33 сообщения и используют около 16 Гб интернет-трафика. Средние значения звонков и сообщений в пределах предоставляемых оператором за абоненскую плату, а вот среднее значение использованного интернет-трафика выбивается.\n",
    "\n",
    "Большая часть этих клиентов так же из Москвы, но разница с Санкт_Перебрургом меньше, чем при сравнении тарифа \"ultra\". "
   ]
  },
  {
   "cell_type": "markdown",
   "id": "1d22077f",
   "metadata": {},
   "source": [
    "Численно значения средней и медианной длительности звонков, их количества, число отправленных сообщений и использованных Гб по пользователям разных тарифов отличается, но распределение этих значений очень схоже."
   ]
  },
  {
   "cell_type": "markdown",
   "id": "148b9c45",
   "metadata": {},
   "source": [
    "### Шаг 4 Проверка гипотез."
   ]
  },
  {
   "cell_type": "markdown",
   "id": "69709737",
   "metadata": {},
   "source": [
    "***Проверим первую гипотезу:***\n",
    "- средняя выручка пользователей тарифов \"Ультра\" и \"Смарт\" различаются\n",
    "\n",
    "Сформулируем нулевую гипотезу H₀: средняя выручка пользователей тарифа \"Ультра\" равна средней выручке пользователей тарифа \"Смарт\". H₀ всегда формулируется так, чтобы использовать знак равенства.\n",
    "\n",
    "Исходя из H₀ формулируем альтернативную гипотезу H₁: средняя выручка пользователей тарифа \"Ультра\" не равна средней выручке  пользователей тарифа \"Смарт\". Такая альтернативная гипотеза называется двусторонней, потому что есть возможное отклонение и в большую, и в меньшую стороны.\n",
    "\n",
    "Для проверки гипотезы о равенстве среднего двух генеральных совокупностей по взятым из них выборкам используем метод: scipy.stats.ttest_ind (array1, array2,equal_var). Параметр equal_var = False, т.к. выборки разные по размерам.\n",
    "Критический уровень статистической значимости зададим 5%."
   ]
  },
  {
   "cell_type": "code",
   "execution_count": 35,
   "id": "bc4a7dbe",
   "metadata": {},
   "outputs": [
    {
     "name": "stdout",
     "output_type": "stream",
     "text": [
      "count     986.000000\n",
      "mean     2070.030426\n",
      "std       376.015578\n",
      "min      1950.000000\n",
      "25%      1950.000000\n",
      "50%      1950.000000\n",
      "75%      1950.000000\n",
      "max      4800.000000\n",
      "Name: cost, dtype: float64\n"
     ]
    }
   ],
   "source": [
    "print(df_ultra['cost'].describe()) # выручка пользователей тарифа Ультра"
   ]
  },
  {
   "cell_type": "code",
   "execution_count": 36,
   "id": "5386efcd",
   "metadata": {},
   "outputs": [
    {
     "name": "stdout",
     "output_type": "stream",
     "text": [
      "count    2230.000000\n",
      "mean     1289.641704\n",
      "std       818.370799\n",
      "min       550.000000\n",
      "25%       550.000000\n",
      "50%      1021.000000\n",
      "75%      1750.000000\n",
      "max      6770.000000\n",
      "Name: cost, dtype: float64\n"
     ]
    }
   ],
   "source": [
    "print(df_smart['cost'].describe()) # выручка пользователей тарифа Смарт"
   ]
  },
  {
   "cell_type": "code",
   "execution_count": 37,
   "id": "0dc77df7",
   "metadata": {},
   "outputs": [
    {
     "name": "stdout",
     "output_type": "stream",
     "text": [
      "p-значение:  1.927011394420941e-250\n",
      "Отвергаем нулевую гипотезу. Cредняя выручка пользователей тарифов Ультра и Смарт различаются.\n"
     ]
    }
   ],
   "source": [
    "alpha = .05 # критический уровень статистической значимости\n",
    "\n",
    "results = st.ttest_ind(\n",
    "    df_ultra['cost'], \n",
    "    df_smart['cost'],\n",
    "    equal_var = False\n",
    ")\n",
    "\n",
    "print('p-значение: ', results.pvalue)\n",
    "\n",
    "if results.pvalue < alpha:\n",
    "    print('Отвергаем нулевую гипотезу. Cредняя выручка пользователей тарифов Ультра и Смарт различаются.')\n",
    "else:\n",
    "    print('Не получилось отвергнуть нулевую гипотезу. Средняя выручка пользователей тарифа Ультра равна средней выручке пользователей тарифа Смарт') "
   ]
  },
  {
   "cell_type": "markdown",
   "id": "968399e8",
   "metadata": {},
   "source": [
    "Нулевая гипотезе не подтвердилась. Уровень значимости сильно меньше заданного уровня статистической значимости. Нулевая гипотеза отвергается в пользу альтернативной - Cредняя выручка пользователей тарифов Ультра и Смарт различаются."
   ]
  },
  {
   "cell_type": "markdown",
   "id": "6b81cabf",
   "metadata": {},
   "source": [
    "***Проверим вторую гипотезу:***\n",
    "- средняя выручка пользователей из Москвы отличается от выручки пользователей из других регионов\n",
    "\n",
    "Сформулируем нулевую гипотезу H₀: средняя выручка пользователей из Москвы равна средней выручке пользователей из других регионов. H₀ всегда формулируется так, чтобы использовать знак равенства.\n",
    "\n",
    "Исходя из H₀ формулируем альтернативную гипотезу H₁: средняя выручка пользователей из Москвы не равна средней выручке  пользователей из других регионов. Такая альтернативная гипотеза называется двусторонней, потому что есть возможное отклонение и в большую, и в меньшую стороны.\n",
    "\n",
    "Для проверки гипотезы о равенстве среднего двух генеральных совокупностей по взятым из них выборкам так же используем метод: scipy.stats.ttest_ind (array1, array2,equal_var). Параметр equal_var = False, т.к. выборки разные по размерам.\n",
    "Критический уровень статистической значимости зададим 5%."
   ]
  },
  {
   "cell_type": "code",
   "execution_count": 38,
   "id": "e8f0f12c",
   "metadata": {},
   "outputs": [
    {
     "data": {
      "text/html": [
       "<div>\n",
       "<style scoped>\n",
       "    .dataframe tbody tr th:only-of-type {\n",
       "        vertical-align: middle;\n",
       "    }\n",
       "\n",
       "    .dataframe tbody tr th {\n",
       "        vertical-align: top;\n",
       "    }\n",
       "\n",
       "    .dataframe thead th {\n",
       "        text-align: right;\n",
       "    }\n",
       "</style>\n",
       "<table border=\"1\" class=\"dataframe\">\n",
       "  <thead>\n",
       "    <tr style=\"text-align: right;\">\n",
       "      <th></th>\n",
       "      <th>user_id</th>\n",
       "      <th>month</th>\n",
       "      <th>tariff</th>\n",
       "      <th>rub_monthly_fee</th>\n",
       "      <th>cost</th>\n",
       "      <th>calls_sum</th>\n",
       "      <th>calls_quantity</th>\n",
       "      <th>messages_quantity</th>\n",
       "      <th>gb_used</th>\n",
       "      <th>city</th>\n",
       "    </tr>\n",
       "  </thead>\n",
       "  <tbody>\n",
       "    <tr>\n",
       "      <th>8</th>\n",
       "      <td>1001</td>\n",
       "      <td>11.0</td>\n",
       "      <td>smart</td>\n",
       "      <td>550</td>\n",
       "      <td>1150.0</td>\n",
       "      <td>430.0</td>\n",
       "      <td>59.0</td>\n",
       "      <td>0.0</td>\n",
       "      <td>18.0</td>\n",
       "      <td>Москва</td>\n",
       "    </tr>\n",
       "    <tr>\n",
       "      <th>9</th>\n",
       "      <td>1001</td>\n",
       "      <td>12.0</td>\n",
       "      <td>smart</td>\n",
       "      <td>550</td>\n",
       "      <td>550.0</td>\n",
       "      <td>414.0</td>\n",
       "      <td>63.0</td>\n",
       "      <td>0.0</td>\n",
       "      <td>14.0</td>\n",
       "      <td>Москва</td>\n",
       "    </tr>\n",
       "    <tr>\n",
       "      <th>17</th>\n",
       "      <td>1003</td>\n",
       "      <td>8.0</td>\n",
       "      <td>ultra</td>\n",
       "      <td>1950</td>\n",
       "      <td>1950.0</td>\n",
       "      <td>380.0</td>\n",
       "      <td>55.0</td>\n",
       "      <td>37.0</td>\n",
       "      <td>9.0</td>\n",
       "      <td>Москва</td>\n",
       "    </tr>\n",
       "    <tr>\n",
       "      <th>18</th>\n",
       "      <td>1003</td>\n",
       "      <td>9.0</td>\n",
       "      <td>ultra</td>\n",
       "      <td>1950</td>\n",
       "      <td>1950.0</td>\n",
       "      <td>961.0</td>\n",
       "      <td>134.0</td>\n",
       "      <td>91.0</td>\n",
       "      <td>13.0</td>\n",
       "      <td>Москва</td>\n",
       "    </tr>\n",
       "    <tr>\n",
       "      <th>19</th>\n",
       "      <td>1003</td>\n",
       "      <td>10.0</td>\n",
       "      <td>ultra</td>\n",
       "      <td>1950</td>\n",
       "      <td>1950.0</td>\n",
       "      <td>855.0</td>\n",
       "      <td>108.0</td>\n",
       "      <td>83.0</td>\n",
       "      <td>15.0</td>\n",
       "      <td>Москва</td>\n",
       "    </tr>\n",
       "    <tr>\n",
       "      <th>20</th>\n",
       "      <td>1003</td>\n",
       "      <td>11.0</td>\n",
       "      <td>ultra</td>\n",
       "      <td>1950</td>\n",
       "      <td>1950.0</td>\n",
       "      <td>824.0</td>\n",
       "      <td>115.0</td>\n",
       "      <td>94.0</td>\n",
       "      <td>12.0</td>\n",
       "      <td>Москва</td>\n",
       "    </tr>\n",
       "    <tr>\n",
       "      <th>21</th>\n",
       "      <td>1003</td>\n",
       "      <td>12.0</td>\n",
       "      <td>ultra</td>\n",
       "      <td>1950</td>\n",
       "      <td>1950.0</td>\n",
       "      <td>802.0</td>\n",
       "      <td>108.0</td>\n",
       "      <td>75.0</td>\n",
       "      <td>10.0</td>\n",
       "      <td>Москва</td>\n",
       "    </tr>\n",
       "    <tr>\n",
       "      <th>53</th>\n",
       "      <td>1007</td>\n",
       "      <td>4.0</td>\n",
       "      <td>smart</td>\n",
       "      <td>550</td>\n",
       "      <td>550.0</td>\n",
       "      <td>198.0</td>\n",
       "      <td>25.0</td>\n",
       "      <td>11.0</td>\n",
       "      <td>8.0</td>\n",
       "      <td>Москва</td>\n",
       "    </tr>\n",
       "    <tr>\n",
       "      <th>54</th>\n",
       "      <td>1007</td>\n",
       "      <td>5.0</td>\n",
       "      <td>smart</td>\n",
       "      <td>550</td>\n",
       "      <td>1150.0</td>\n",
       "      <td>480.0</td>\n",
       "      <td>67.0</td>\n",
       "      <td>39.0</td>\n",
       "      <td>18.0</td>\n",
       "      <td>Москва</td>\n",
       "    </tr>\n",
       "    <tr>\n",
       "      <th>55</th>\n",
       "      <td>1007</td>\n",
       "      <td>6.0</td>\n",
       "      <td>smart</td>\n",
       "      <td>550</td>\n",
       "      <td>685.0</td>\n",
       "      <td>545.0</td>\n",
       "      <td>68.0</td>\n",
       "      <td>26.0</td>\n",
       "      <td>14.0</td>\n",
       "      <td>Москва</td>\n",
       "    </tr>\n",
       "  </tbody>\n",
       "</table>\n",
       "</div>"
      ],
      "text/plain": [
       "    user_id  month tariff  rub_monthly_fee    cost  calls_sum  calls_quantity  \\\n",
       "8      1001   11.0  smart              550  1150.0      430.0            59.0   \n",
       "9      1001   12.0  smart              550   550.0      414.0            63.0   \n",
       "17     1003    8.0  ultra             1950  1950.0      380.0            55.0   \n",
       "18     1003    9.0  ultra             1950  1950.0      961.0           134.0   \n",
       "19     1003   10.0  ultra             1950  1950.0      855.0           108.0   \n",
       "20     1003   11.0  ultra             1950  1950.0      824.0           115.0   \n",
       "21     1003   12.0  ultra             1950  1950.0      802.0           108.0   \n",
       "53     1007    4.0  smart              550   550.0      198.0            25.0   \n",
       "54     1007    5.0  smart              550  1150.0      480.0            67.0   \n",
       "55     1007    6.0  smart              550   685.0      545.0            68.0   \n",
       "\n",
       "    messages_quantity  gb_used    city  \n",
       "8                 0.0     18.0  Москва  \n",
       "9                 0.0     14.0  Москва  \n",
       "17               37.0      9.0  Москва  \n",
       "18               91.0     13.0  Москва  \n",
       "19               83.0     15.0  Москва  \n",
       "20               94.0     12.0  Москва  \n",
       "21               75.0     10.0  Москва  \n",
       "53               11.0      8.0  Москва  \n",
       "54               39.0     18.0  Москва  \n",
       "55               26.0     14.0  Москва  "
      ]
     },
     "metadata": {},
     "output_type": "display_data"
    },
    {
     "data": {
      "text/html": [
       "<div>\n",
       "<style scoped>\n",
       "    .dataframe tbody tr th:only-of-type {\n",
       "        vertical-align: middle;\n",
       "    }\n",
       "\n",
       "    .dataframe tbody tr th {\n",
       "        vertical-align: top;\n",
       "    }\n",
       "\n",
       "    .dataframe thead th {\n",
       "        text-align: right;\n",
       "    }\n",
       "</style>\n",
       "<table border=\"1\" class=\"dataframe\">\n",
       "  <thead>\n",
       "    <tr style=\"text-align: right;\">\n",
       "      <th></th>\n",
       "      <th>user_id</th>\n",
       "      <th>month</th>\n",
       "      <th>rub_monthly_fee</th>\n",
       "      <th>cost</th>\n",
       "      <th>calls_sum</th>\n",
       "      <th>calls_quantity</th>\n",
       "      <th>messages_quantity</th>\n",
       "      <th>gb_used</th>\n",
       "    </tr>\n",
       "  </thead>\n",
       "  <tbody>\n",
       "    <tr>\n",
       "      <th>count</th>\n",
       "      <td>611.000000</td>\n",
       "      <td>611.000000</td>\n",
       "      <td>611.000000</td>\n",
       "      <td>611.000000</td>\n",
       "      <td>611.000000</td>\n",
       "      <td>611.000000</td>\n",
       "      <td>611.000000</td>\n",
       "      <td>611.000000</td>\n",
       "    </tr>\n",
       "    <tr>\n",
       "      <th>mean</th>\n",
       "      <td>1268.872340</td>\n",
       "      <td>8.432079</td>\n",
       "      <td>1065.548282</td>\n",
       "      <td>1546.713584</td>\n",
       "      <td>469.150573</td>\n",
       "      <td>65.436989</td>\n",
       "      <td>37.877250</td>\n",
       "      <td>18.050736</td>\n",
       "    </tr>\n",
       "    <tr>\n",
       "      <th>std</th>\n",
       "      <td>137.530432</td>\n",
       "      <td>2.888057</td>\n",
       "      <td>675.814374</td>\n",
       "      <td>752.088071</td>\n",
       "      <td>241.535044</td>\n",
       "      <td>33.186021</td>\n",
       "      <td>37.160304</td>\n",
       "      <td>7.645788</td>\n",
       "    </tr>\n",
       "    <tr>\n",
       "      <th>min</th>\n",
       "      <td>1001.000000</td>\n",
       "      <td>1.000000</td>\n",
       "      <td>550.000000</td>\n",
       "      <td>550.000000</td>\n",
       "      <td>0.000000</td>\n",
       "      <td>0.000000</td>\n",
       "      <td>0.000000</td>\n",
       "      <td>1.000000</td>\n",
       "    </tr>\n",
       "    <tr>\n",
       "      <th>25%</th>\n",
       "      <td>1171.000000</td>\n",
       "      <td>6.000000</td>\n",
       "      <td>550.000000</td>\n",
       "      <td>780.500000</td>\n",
       "      <td>304.000000</td>\n",
       "      <td>42.000000</td>\n",
       "      <td>6.500000</td>\n",
       "      <td>13.000000</td>\n",
       "    </tr>\n",
       "    <tr>\n",
       "      <th>50%</th>\n",
       "      <td>1291.000000</td>\n",
       "      <td>9.000000</td>\n",
       "      <td>550.000000</td>\n",
       "      <td>1750.000000</td>\n",
       "      <td>453.000000</td>\n",
       "      <td>64.000000</td>\n",
       "      <td>29.000000</td>\n",
       "      <td>18.000000</td>\n",
       "    </tr>\n",
       "    <tr>\n",
       "      <th>75%</th>\n",
       "      <td>1385.000000</td>\n",
       "      <td>11.000000</td>\n",
       "      <td>1950.000000</td>\n",
       "      <td>1950.000000</td>\n",
       "      <td>620.500000</td>\n",
       "      <td>85.500000</td>\n",
       "      <td>57.000000</td>\n",
       "      <td>22.000000</td>\n",
       "    </tr>\n",
       "    <tr>\n",
       "      <th>max</th>\n",
       "      <td>1490.000000</td>\n",
       "      <td>12.000000</td>\n",
       "      <td>1950.000000</td>\n",
       "      <td>5321.000000</td>\n",
       "      <td>1321.000000</td>\n",
       "      <td>188.000000</td>\n",
       "      <td>191.000000</td>\n",
       "      <td>44.000000</td>\n",
       "    </tr>\n",
       "  </tbody>\n",
       "</table>\n",
       "</div>"
      ],
      "text/plain": [
       "           user_id       month  rub_monthly_fee         cost    calls_sum  \\\n",
       "count   611.000000  611.000000       611.000000   611.000000   611.000000   \n",
       "mean   1268.872340    8.432079      1065.548282  1546.713584   469.150573   \n",
       "std     137.530432    2.888057       675.814374   752.088071   241.535044   \n",
       "min    1001.000000    1.000000       550.000000   550.000000     0.000000   \n",
       "25%    1171.000000    6.000000       550.000000   780.500000   304.000000   \n",
       "50%    1291.000000    9.000000       550.000000  1750.000000   453.000000   \n",
       "75%    1385.000000   11.000000      1950.000000  1950.000000   620.500000   \n",
       "max    1490.000000   12.000000      1950.000000  5321.000000  1321.000000   \n",
       "\n",
       "       calls_quantity  messages_quantity     gb_used  \n",
       "count      611.000000         611.000000  611.000000  \n",
       "mean        65.436989          37.877250   18.050736  \n",
       "std         33.186021          37.160304    7.645788  \n",
       "min          0.000000           0.000000    1.000000  \n",
       "25%         42.000000           6.500000   13.000000  \n",
       "50%         64.000000          29.000000   18.000000  \n",
       "75%         85.500000          57.000000   22.000000  \n",
       "max        188.000000         191.000000   44.000000  "
      ]
     },
     "metadata": {},
     "output_type": "display_data"
    },
    {
     "data": {
      "text/plain": [
       "99"
      ]
     },
     "execution_count": 38,
     "metadata": {},
     "output_type": "execute_result"
    }
   ],
   "source": [
    "df_moscow = df.query('city == \"Москва\"') # выборка по Москве\n",
    "display(df_moscow.head(10), df_moscow.describe())\n",
    "len(df_moscow['user_id'].unique())"
   ]
  },
  {
   "cell_type": "code",
   "execution_count": 39,
   "id": "6ad1a5f7",
   "metadata": {},
   "outputs": [
    {
     "data": {
      "text/html": [
       "<div>\n",
       "<style scoped>\n",
       "    .dataframe tbody tr th:only-of-type {\n",
       "        vertical-align: middle;\n",
       "    }\n",
       "\n",
       "    .dataframe tbody tr th {\n",
       "        vertical-align: top;\n",
       "    }\n",
       "\n",
       "    .dataframe thead th {\n",
       "        text-align: right;\n",
       "    }\n",
       "</style>\n",
       "<table border=\"1\" class=\"dataframe\">\n",
       "  <thead>\n",
       "    <tr style=\"text-align: right;\">\n",
       "      <th></th>\n",
       "      <th>user_id</th>\n",
       "      <th>month</th>\n",
       "      <th>tariff</th>\n",
       "      <th>rub_monthly_fee</th>\n",
       "      <th>cost</th>\n",
       "      <th>calls_sum</th>\n",
       "      <th>calls_quantity</th>\n",
       "      <th>messages_quantity</th>\n",
       "      <th>gb_used</th>\n",
       "      <th>city</th>\n",
       "    </tr>\n",
       "  </thead>\n",
       "  <tbody>\n",
       "    <tr>\n",
       "      <th>0</th>\n",
       "      <td>1000</td>\n",
       "      <td>5.0</td>\n",
       "      <td>ultra</td>\n",
       "      <td>1950</td>\n",
       "      <td>1950.0</td>\n",
       "      <td>159.0</td>\n",
       "      <td>22.0</td>\n",
       "      <td>22.0</td>\n",
       "      <td>3.0</td>\n",
       "      <td>Краснодар</td>\n",
       "    </tr>\n",
       "    <tr>\n",
       "      <th>1</th>\n",
       "      <td>1000</td>\n",
       "      <td>6.0</td>\n",
       "      <td>ultra</td>\n",
       "      <td>1950</td>\n",
       "      <td>1950.0</td>\n",
       "      <td>172.0</td>\n",
       "      <td>43.0</td>\n",
       "      <td>60.0</td>\n",
       "      <td>23.0</td>\n",
       "      <td>Краснодар</td>\n",
       "    </tr>\n",
       "    <tr>\n",
       "      <th>2</th>\n",
       "      <td>1000</td>\n",
       "      <td>7.0</td>\n",
       "      <td>ultra</td>\n",
       "      <td>1950</td>\n",
       "      <td>1950.0</td>\n",
       "      <td>340.0</td>\n",
       "      <td>47.0</td>\n",
       "      <td>75.0</td>\n",
       "      <td>14.0</td>\n",
       "      <td>Краснодар</td>\n",
       "    </tr>\n",
       "    <tr>\n",
       "      <th>3</th>\n",
       "      <td>1000</td>\n",
       "      <td>8.0</td>\n",
       "      <td>ultra</td>\n",
       "      <td>1950</td>\n",
       "      <td>1950.0</td>\n",
       "      <td>408.0</td>\n",
       "      <td>52.0</td>\n",
       "      <td>81.0</td>\n",
       "      <td>14.0</td>\n",
       "      <td>Краснодар</td>\n",
       "    </tr>\n",
       "    <tr>\n",
       "      <th>4</th>\n",
       "      <td>1000</td>\n",
       "      <td>9.0</td>\n",
       "      <td>ultra</td>\n",
       "      <td>1950</td>\n",
       "      <td>1950.0</td>\n",
       "      <td>466.0</td>\n",
       "      <td>58.0</td>\n",
       "      <td>57.0</td>\n",
       "      <td>15.0</td>\n",
       "      <td>Краснодар</td>\n",
       "    </tr>\n",
       "    <tr>\n",
       "      <th>5</th>\n",
       "      <td>1000</td>\n",
       "      <td>10.0</td>\n",
       "      <td>ultra</td>\n",
       "      <td>1950</td>\n",
       "      <td>1950.0</td>\n",
       "      <td>350.0</td>\n",
       "      <td>57.0</td>\n",
       "      <td>73.0</td>\n",
       "      <td>15.0</td>\n",
       "      <td>Краснодар</td>\n",
       "    </tr>\n",
       "    <tr>\n",
       "      <th>6</th>\n",
       "      <td>1000</td>\n",
       "      <td>11.0</td>\n",
       "      <td>ultra</td>\n",
       "      <td>1950</td>\n",
       "      <td>1950.0</td>\n",
       "      <td>338.0</td>\n",
       "      <td>43.0</td>\n",
       "      <td>58.0</td>\n",
       "      <td>15.0</td>\n",
       "      <td>Краснодар</td>\n",
       "    </tr>\n",
       "    <tr>\n",
       "      <th>7</th>\n",
       "      <td>1000</td>\n",
       "      <td>12.0</td>\n",
       "      <td>ultra</td>\n",
       "      <td>1950</td>\n",
       "      <td>1950.0</td>\n",
       "      <td>333.0</td>\n",
       "      <td>46.0</td>\n",
       "      <td>70.0</td>\n",
       "      <td>10.0</td>\n",
       "      <td>Краснодар</td>\n",
       "    </tr>\n",
       "    <tr>\n",
       "      <th>10</th>\n",
       "      <td>1002</td>\n",
       "      <td>6.0</td>\n",
       "      <td>smart</td>\n",
       "      <td>550</td>\n",
       "      <td>550.0</td>\n",
       "      <td>117.0</td>\n",
       "      <td>15.0</td>\n",
       "      <td>4.0</td>\n",
       "      <td>11.0</td>\n",
       "      <td>Стерлитамак</td>\n",
       "    </tr>\n",
       "    <tr>\n",
       "      <th>11</th>\n",
       "      <td>1002</td>\n",
       "      <td>7.0</td>\n",
       "      <td>smart</td>\n",
       "      <td>550</td>\n",
       "      <td>1150.0</td>\n",
       "      <td>214.0</td>\n",
       "      <td>26.0</td>\n",
       "      <td>11.0</td>\n",
       "      <td>18.0</td>\n",
       "      <td>Стерлитамак</td>\n",
       "    </tr>\n",
       "  </tbody>\n",
       "</table>\n",
       "</div>"
      ],
      "text/plain": [
       "    user_id  month tariff  rub_monthly_fee    cost  calls_sum  calls_quantity  \\\n",
       "0      1000    5.0  ultra             1950  1950.0      159.0            22.0   \n",
       "1      1000    6.0  ultra             1950  1950.0      172.0            43.0   \n",
       "2      1000    7.0  ultra             1950  1950.0      340.0            47.0   \n",
       "3      1000    8.0  ultra             1950  1950.0      408.0            52.0   \n",
       "4      1000    9.0  ultra             1950  1950.0      466.0            58.0   \n",
       "5      1000   10.0  ultra             1950  1950.0      350.0            57.0   \n",
       "6      1000   11.0  ultra             1950  1950.0      338.0            43.0   \n",
       "7      1000   12.0  ultra             1950  1950.0      333.0            46.0   \n",
       "10     1002    6.0  smart              550   550.0      117.0            15.0   \n",
       "11     1002    7.0  smart              550  1150.0      214.0            26.0   \n",
       "\n",
       "    messages_quantity  gb_used         city  \n",
       "0                22.0      3.0    Краснодар  \n",
       "1                60.0     23.0    Краснодар  \n",
       "2                75.0     14.0    Краснодар  \n",
       "3                81.0     14.0    Краснодар  \n",
       "4                57.0     15.0    Краснодар  \n",
       "5                73.0     15.0    Краснодар  \n",
       "6                58.0     15.0    Краснодар  \n",
       "7                70.0     10.0    Краснодар  \n",
       "10                4.0     11.0  Стерлитамак  \n",
       "11               11.0     18.0  Стерлитамак  "
      ]
     },
     "metadata": {},
     "output_type": "display_data"
    },
    {
     "data": {
      "text/html": [
       "<div>\n",
       "<style scoped>\n",
       "    .dataframe tbody tr th:only-of-type {\n",
       "        vertical-align: middle;\n",
       "    }\n",
       "\n",
       "    .dataframe tbody tr th {\n",
       "        vertical-align: top;\n",
       "    }\n",
       "\n",
       "    .dataframe thead th {\n",
       "        text-align: right;\n",
       "    }\n",
       "</style>\n",
       "<table border=\"1\" class=\"dataframe\">\n",
       "  <thead>\n",
       "    <tr style=\"text-align: right;\">\n",
       "      <th></th>\n",
       "      <th>user_id</th>\n",
       "      <th>month</th>\n",
       "      <th>rub_monthly_fee</th>\n",
       "      <th>cost</th>\n",
       "      <th>calls_sum</th>\n",
       "      <th>calls_quantity</th>\n",
       "      <th>messages_quantity</th>\n",
       "      <th>gb_used</th>\n",
       "    </tr>\n",
       "  </thead>\n",
       "  <tbody>\n",
       "    <tr>\n",
       "      <th>count</th>\n",
       "      <td>2605.000000</td>\n",
       "      <td>2605.000000</td>\n",
       "      <td>2605.000000</td>\n",
       "      <td>2605.000000</td>\n",
       "      <td>2605.000000</td>\n",
       "      <td>2605.000000</td>\n",
       "      <td>2605.000000</td>\n",
       "      <td>2605.000000</td>\n",
       "    </tr>\n",
       "    <tr>\n",
       "      <th>mean</th>\n",
       "      <td>1247.535125</td>\n",
       "      <td>8.284069</td>\n",
       "      <td>958.982726</td>\n",
       "      <td>1524.725144</td>\n",
       "      <td>446.698656</td>\n",
       "      <td>62.428023</td>\n",
       "      <td>38.346641</td>\n",
       "      <td>17.109405</td>\n",
       "    </tr>\n",
       "    <tr>\n",
       "      <th>std</th>\n",
       "      <td>145.994150</td>\n",
       "      <td>2.917306</td>\n",
       "      <td>636.761018</td>\n",
       "      <td>808.745680</td>\n",
       "      <td>242.076254</td>\n",
       "      <td>33.261761</td>\n",
       "      <td>35.915233</td>\n",
       "      <td>7.344701</td>\n",
       "    </tr>\n",
       "    <tr>\n",
       "      <th>min</th>\n",
       "      <td>1000.000000</td>\n",
       "      <td>0.000000</td>\n",
       "      <td>550.000000</td>\n",
       "      <td>550.000000</td>\n",
       "      <td>0.000000</td>\n",
       "      <td>0.000000</td>\n",
       "      <td>0.000000</td>\n",
       "      <td>0.000000</td>\n",
       "    </tr>\n",
       "    <tr>\n",
       "      <th>25%</th>\n",
       "      <td>1120.000000</td>\n",
       "      <td>6.000000</td>\n",
       "      <td>550.000000</td>\n",
       "      <td>750.000000</td>\n",
       "      <td>280.000000</td>\n",
       "      <td>39.000000</td>\n",
       "      <td>9.000000</td>\n",
       "      <td>13.000000</td>\n",
       "    </tr>\n",
       "    <tr>\n",
       "      <th>50%</th>\n",
       "      <td>1241.000000</td>\n",
       "      <td>9.000000</td>\n",
       "      <td>550.000000</td>\n",
       "      <td>1583.000000</td>\n",
       "      <td>440.000000</td>\n",
       "      <td>62.000000</td>\n",
       "      <td>30.000000</td>\n",
       "      <td>17.000000</td>\n",
       "    </tr>\n",
       "    <tr>\n",
       "      <th>75%</th>\n",
       "      <td>1377.000000</td>\n",
       "      <td>11.000000</td>\n",
       "      <td>1950.000000</td>\n",
       "      <td>1950.000000</td>\n",
       "      <td>584.000000</td>\n",
       "      <td>82.000000</td>\n",
       "      <td>57.000000</td>\n",
       "      <td>21.000000</td>\n",
       "    </tr>\n",
       "    <tr>\n",
       "      <th>max</th>\n",
       "      <td>1499.000000</td>\n",
       "      <td>12.000000</td>\n",
       "      <td>1950.000000</td>\n",
       "      <td>6770.000000</td>\n",
       "      <td>1673.000000</td>\n",
       "      <td>244.000000</td>\n",
       "      <td>224.000000</td>\n",
       "      <td>49.000000</td>\n",
       "    </tr>\n",
       "  </tbody>\n",
       "</table>\n",
       "</div>"
      ],
      "text/plain": [
       "           user_id        month  rub_monthly_fee         cost    calls_sum  \\\n",
       "count  2605.000000  2605.000000      2605.000000  2605.000000  2605.000000   \n",
       "mean   1247.535125     8.284069       958.982726  1524.725144   446.698656   \n",
       "std     145.994150     2.917306       636.761018   808.745680   242.076254   \n",
       "min    1000.000000     0.000000       550.000000   550.000000     0.000000   \n",
       "25%    1120.000000     6.000000       550.000000   750.000000   280.000000   \n",
       "50%    1241.000000     9.000000       550.000000  1583.000000   440.000000   \n",
       "75%    1377.000000    11.000000      1950.000000  1950.000000   584.000000   \n",
       "max    1499.000000    12.000000      1950.000000  6770.000000  1673.000000   \n",
       "\n",
       "       calls_quantity  messages_quantity      gb_used  \n",
       "count     2605.000000        2605.000000  2605.000000  \n",
       "mean        62.428023          38.346641    17.109405  \n",
       "std         33.261761          35.915233     7.344701  \n",
       "min          0.000000           0.000000     0.000000  \n",
       "25%         39.000000           9.000000    13.000000  \n",
       "50%         62.000000          30.000000    17.000000  \n",
       "75%         82.000000          57.000000    21.000000  \n",
       "max        244.000000         224.000000    49.000000  "
      ]
     },
     "metadata": {},
     "output_type": "display_data"
    }
   ],
   "source": [
    "df_other = df.query('city != \"Москва\"') # выборка по всем городам кроме Москвы\n",
    "display(df_other.head(10), df_other.describe())"
   ]
  },
  {
   "cell_type": "code",
   "execution_count": 40,
   "id": "1b9e813e",
   "metadata": {},
   "outputs": [
    {
     "name": "stdout",
     "output_type": "stream",
     "text": [
      "p-значение:  0.5216952110000279\n",
      "Не получилось отвергнуть нулевую гипотезу. Средняя выручка пользователей из Москвы равна средней выручке пользователей из других регионов.\n"
     ]
    }
   ],
   "source": [
    "alpha = .05 # критический уровень статистической значимости\n",
    "\n",
    "results = st.ttest_ind(\n",
    "    df_moscow['cost'], \n",
    "    df_other['cost'],\n",
    "    equal_var = False\n",
    ")\n",
    "\n",
    "print('p-значение: ', results.pvalue)\n",
    "\n",
    "if results.pvalue < alpha:\n",
    "    print('Отвергаем нулевую гипотезу. Средняя выручка пользователей из Москвы отличается от выручки пользователей из других регионов.')\n",
    "else:\n",
    "    print('Не получилось отвергнуть нулевую гипотезу. Средняя выручка пользователей из Москвы равна средней выручке пользователей из других регионов.') "
   ]
  },
  {
   "cell_type": "markdown",
   "id": "eee11edb",
   "metadata": {},
   "source": [
    "Нулевую гипотезу не удалось отвергнуть. Уровень значимости сильно выше заданного уровня статистической значимости. Средняя выручка пользователей из Москвы равна средней выручке пользователей из других регионов."
   ]
  },
  {
   "cell_type": "markdown",
   "id": "6dcb4cfe",
   "metadata": {},
   "source": [
    "### Шаг 4 Вывод."
   ]
  },
  {
   "cell_type": "markdown",
   "id": "a8060591",
   "metadata": {},
   "source": [
    "По итогу проведённого анализа можно сказать, что:\n",
    "\n",
    "- большая часть клиентов с тарифом Ультра оплачивает в месяц только абонентскую плату (медианное значение ёё 1950, что равно сумме ежемесячного абонентского платежа)\n",
    "- тарифом Смарт пользуется большее число абонентов и по большей части их платежи выходят за рамки абонентской платы (медиана 1021, при ежемесячном обязательном платеже 550)\n",
    "- абоненты с тарифом Ультра в среднем тратят на разговоры 545 минут, совершают 76 звонков, отправляют 49 сообщений и используют около 19.5 Гб интернет-трафика. Средние значения значительно ниже предоставляемых оператором за абоненскую плату.\n",
    "- абоненты с тарифом Смарт в среднем тратят на разговоры 419 минут, совершают 58 звонков, отправляют 33 сообщения и используют около 16 Гб интернет-трафика. Средние значения звонков и сообщений в пределах предоставляемых оператором за абоненскую плату, а вот среднее значение использованного интернет-трафика выбивается. \n",
    "- Большая часть абонентов обоих тарифов из Москвы. По данным выборки из 500 абонентов 99 из Москвы, из них 32 абонента тарифа Ультра и 67 - тарифа Смарт\n",
    "- гипотезу о том, что средняя выручка пользователей по тарифам различается на основе предоставленным данных мы не смогли опровергнуть. По абонентам тарифа Ультра средняя выручка составила 2070, а по абонентам тарифа Смарт средняя выручка - 1289\n",
    "- гипотеза о том, что средняя выручка пользователей из Москвы отличается от выручки пользователей других регионов не подтвердилась. По абонентам из Москвы средняя выручка составила 1546, а по абонентам всех остальных городов средняя выручка - 1524, что отличается примерно на 1.5%\n",
    "\n",
    "В ходе проведённого исследования не проводилось замены и удаления значений выборки."
   ]
  }
 ],
 "metadata": {
  "ExecuteTimeLog": [
   {
    "duration": 2454,
    "start_time": "2022-03-15T10:43:59.230Z"
   },
   {
    "duration": 87,
    "start_time": "2022-03-15T10:44:01.686Z"
   },
   {
    "duration": 74,
    "start_time": "2022-03-15T10:44:01.777Z"
   },
   {
    "duration": 16,
    "start_time": "2022-03-15T10:44:01.854Z"
   },
   {
    "duration": 97,
    "start_time": "2022-03-15T10:44:01.872Z"
   },
   {
    "duration": 42,
    "start_time": "2022-03-15T10:44:01.972Z"
   },
   {
    "duration": 71,
    "start_time": "2022-03-15T10:44:02.017Z"
   },
   {
    "duration": 36,
    "start_time": "2022-03-15T10:44:02.092Z"
   },
   {
    "duration": 17,
    "start_time": "2022-03-15T10:44:02.153Z"
   },
   {
    "duration": 78,
    "start_time": "2022-03-15T10:44:02.173Z"
   },
   {
    "duration": 18,
    "start_time": "2022-03-15T10:44:02.254Z"
   },
   {
    "duration": 52,
    "start_time": "2022-03-15T10:44:02.274Z"
   },
   {
    "duration": 60,
    "start_time": "2022-03-15T10:44:02.328Z"
   },
   {
    "duration": 79,
    "start_time": "2022-03-15T10:44:02.390Z"
   },
   {
    "duration": 82,
    "start_time": "2022-03-15T10:44:02.471Z"
   },
   {
    "duration": 13,
    "start_time": "2022-03-15T10:44:02.555Z"
   },
   {
    "duration": 45,
    "start_time": "2022-03-15T10:44:02.570Z"
   },
   {
    "duration": 37,
    "start_time": "2022-03-15T10:44:02.617Z"
   },
   {
    "duration": 381,
    "start_time": "2022-03-15T10:44:02.656Z"
   },
   {
    "duration": 35,
    "start_time": "2022-03-15T10:44:03.039Z"
   },
   {
    "duration": 17,
    "start_time": "2022-03-15T10:44:03.077Z"
   },
   {
    "duration": 86,
    "start_time": "2022-03-15T10:44:03.097Z"
   },
   {
    "duration": 70,
    "start_time": "2022-03-15T10:44:03.188Z"
   },
   {
    "duration": 357,
    "start_time": "2022-03-15T10:44:03.261Z"
   },
   {
    "duration": 347,
    "start_time": "2022-03-15T10:44:03.620Z"
   },
   {
    "duration": 359,
    "start_time": "2022-03-15T10:44:03.969Z"
   },
   {
    "duration": 331,
    "start_time": "2022-03-15T10:44:04.330Z"
   },
   {
    "duration": 433,
    "start_time": "2022-03-15T10:44:04.663Z"
   },
   {
    "duration": 317,
    "start_time": "2022-03-15T10:44:05.099Z"
   },
   {
    "duration": 334,
    "start_time": "2022-03-15T10:44:05.419Z"
   },
   {
    "duration": 350,
    "start_time": "2022-03-15T10:44:05.756Z"
   },
   {
    "duration": 447,
    "start_time": "2022-03-15T10:44:06.109Z"
   },
   {
    "duration": 637,
    "start_time": "2022-03-15T10:44:06.559Z"
   },
   {
    "duration": 13,
    "start_time": "2022-03-15T10:44:07.199Z"
   },
   {
    "duration": 13,
    "start_time": "2022-03-15T10:44:07.214Z"
   },
   {
    "duration": 9,
    "start_time": "2022-03-15T10:44:07.252Z"
   },
   {
    "duration": 89,
    "start_time": "2022-03-15T10:44:07.263Z"
   },
   {
    "duration": 98,
    "start_time": "2022-03-15T10:44:07.355Z"
   },
   {
    "duration": 8,
    "start_time": "2022-03-15T10:44:07.455Z"
   },
   {
    "duration": 319,
    "start_time": "2022-03-15T10:44:50.376Z"
   },
   {
    "duration": 310,
    "start_time": "2022-03-15T10:45:05.450Z"
   },
   {
    "duration": 322,
    "start_time": "2022-03-15T10:45:12.585Z"
   },
   {
    "duration": 313,
    "start_time": "2022-03-15T10:45:58.697Z"
   },
   {
    "duration": 371,
    "start_time": "2022-03-15T10:47:28.745Z"
   },
   {
    "duration": 195,
    "start_time": "2022-03-16T05:32:53.073Z"
   },
   {
    "duration": 1541,
    "start_time": "2022-03-16T05:33:01.399Z"
   },
   {
    "duration": 61,
    "start_time": "2022-03-16T05:33:02.942Z"
   },
   {
    "duration": 58,
    "start_time": "2022-03-16T05:33:03.005Z"
   },
   {
    "duration": 12,
    "start_time": "2022-03-16T05:33:03.064Z"
   },
   {
    "duration": 50,
    "start_time": "2022-03-16T05:33:03.077Z"
   },
   {
    "duration": 52,
    "start_time": "2022-03-16T05:33:03.129Z"
   },
   {
    "duration": 32,
    "start_time": "2022-03-16T05:33:03.183Z"
   },
   {
    "duration": 50,
    "start_time": "2022-03-16T05:33:03.218Z"
   },
   {
    "duration": 11,
    "start_time": "2022-03-16T05:33:03.270Z"
   },
   {
    "duration": 29,
    "start_time": "2022-03-16T05:33:03.282Z"
   },
   {
    "duration": 9,
    "start_time": "2022-03-16T05:33:03.313Z"
   },
   {
    "duration": 67,
    "start_time": "2022-03-16T05:33:03.323Z"
   },
   {
    "duration": 36,
    "start_time": "2022-03-16T05:33:03.392Z"
   },
   {
    "duration": 66,
    "start_time": "2022-03-16T05:33:03.430Z"
   },
   {
    "duration": 61,
    "start_time": "2022-03-16T05:33:03.498Z"
   },
   {
    "duration": 8,
    "start_time": "2022-03-16T05:33:03.561Z"
   },
   {
    "duration": 32,
    "start_time": "2022-03-16T05:33:03.571Z"
   },
   {
    "duration": 8,
    "start_time": "2022-03-16T05:33:03.604Z"
   },
   {
    "duration": 250,
    "start_time": "2022-03-16T05:33:03.614Z"
   },
   {
    "duration": 17,
    "start_time": "2022-03-16T05:33:03.866Z"
   },
   {
    "duration": 11,
    "start_time": "2022-03-16T05:33:03.885Z"
   },
   {
    "duration": 31,
    "start_time": "2022-03-16T05:33:03.897Z"
   },
   {
    "duration": 58,
    "start_time": "2022-03-16T05:33:03.930Z"
   },
   {
    "duration": 499,
    "start_time": "2022-03-16T05:33:03.990Z"
   },
   {
    "duration": -367,
    "start_time": "2022-03-16T05:33:04.859Z"
   },
   {
    "duration": -369,
    "start_time": "2022-03-16T05:33:04.862Z"
   },
   {
    "duration": -369,
    "start_time": "2022-03-16T05:33:04.864Z"
   },
   {
    "duration": -370,
    "start_time": "2022-03-16T05:33:04.866Z"
   },
   {
    "duration": -378,
    "start_time": "2022-03-16T05:33:04.876Z"
   },
   {
    "duration": -379,
    "start_time": "2022-03-16T05:33:04.878Z"
   },
   {
    "duration": -379,
    "start_time": "2022-03-16T05:33:04.880Z"
   },
   {
    "duration": -380,
    "start_time": "2022-03-16T05:33:04.882Z"
   },
   {
    "duration": -381,
    "start_time": "2022-03-16T05:33:04.885Z"
   },
   {
    "duration": -381,
    "start_time": "2022-03-16T05:33:04.887Z"
   },
   {
    "duration": -382,
    "start_time": "2022-03-16T05:33:04.889Z"
   },
   {
    "duration": -383,
    "start_time": "2022-03-16T05:33:04.891Z"
   },
   {
    "duration": -384,
    "start_time": "2022-03-16T05:33:04.893Z"
   },
   {
    "duration": -385,
    "start_time": "2022-03-16T05:33:04.895Z"
   },
   {
    "duration": -392,
    "start_time": "2022-03-16T05:33:04.903Z"
   },
   {
    "duration": -394,
    "start_time": "2022-03-16T05:33:04.906Z"
   },
   {
    "duration": 207,
    "start_time": "2022-03-16T05:34:04.195Z"
   },
   {
    "duration": 1435,
    "start_time": "2022-03-16T05:34:39.676Z"
   },
   {
    "duration": 62,
    "start_time": "2022-03-16T05:34:41.113Z"
   },
   {
    "duration": 48,
    "start_time": "2022-03-16T05:34:41.178Z"
   },
   {
    "duration": 13,
    "start_time": "2022-03-16T05:34:41.228Z"
   },
   {
    "duration": 56,
    "start_time": "2022-03-16T05:34:41.258Z"
   },
   {
    "duration": 59,
    "start_time": "2022-03-16T05:34:41.315Z"
   },
   {
    "duration": 37,
    "start_time": "2022-03-16T05:34:41.376Z"
   },
   {
    "duration": 55,
    "start_time": "2022-03-16T05:34:41.416Z"
   },
   {
    "duration": 11,
    "start_time": "2022-03-16T05:34:41.474Z"
   },
   {
    "duration": 29,
    "start_time": "2022-03-16T05:34:41.487Z"
   },
   {
    "duration": 9,
    "start_time": "2022-03-16T05:34:41.518Z"
   },
   {
    "duration": 54,
    "start_time": "2022-03-16T05:34:41.529Z"
   },
   {
    "duration": 34,
    "start_time": "2022-03-16T05:34:41.585Z"
   },
   {
    "duration": 72,
    "start_time": "2022-03-16T05:34:41.621Z"
   },
   {
    "duration": 49,
    "start_time": "2022-03-16T05:34:41.695Z"
   },
   {
    "duration": 19,
    "start_time": "2022-03-16T05:34:41.746Z"
   },
   {
    "duration": 31,
    "start_time": "2022-03-16T05:34:41.766Z"
   },
   {
    "duration": 9,
    "start_time": "2022-03-16T05:34:41.798Z"
   },
   {
    "duration": 246,
    "start_time": "2022-03-16T05:34:41.809Z"
   },
   {
    "duration": 17,
    "start_time": "2022-03-16T05:34:42.059Z"
   },
   {
    "duration": 11,
    "start_time": "2022-03-16T05:34:42.078Z"
   },
   {
    "duration": 31,
    "start_time": "2022-03-16T05:34:42.090Z"
   },
   {
    "duration": 56,
    "start_time": "2022-03-16T05:34:42.124Z"
   },
   {
    "duration": 232,
    "start_time": "2022-03-16T05:34:42.182Z"
   },
   {
    "duration": 222,
    "start_time": "2022-03-16T05:34:42.416Z"
   },
   {
    "duration": 211,
    "start_time": "2022-03-16T05:34:42.640Z"
   },
   {
    "duration": 256,
    "start_time": "2022-03-16T05:34:42.853Z"
   },
   {
    "duration": 220,
    "start_time": "2022-03-16T05:34:43.111Z"
   },
   {
    "duration": 279,
    "start_time": "2022-03-16T05:34:43.333Z"
   },
   {
    "duration": 209,
    "start_time": "2022-03-16T05:34:43.615Z"
   },
   {
    "duration": 215,
    "start_time": "2022-03-16T05:34:43.826Z"
   },
   {
    "duration": 239,
    "start_time": "2022-03-16T05:34:44.043Z"
   },
   {
    "duration": 297,
    "start_time": "2022-03-16T05:34:44.284Z"
   },
   {
    "duration": 285,
    "start_time": "2022-03-16T05:34:44.583Z"
   },
   {
    "duration": 9,
    "start_time": "2022-03-16T05:34:44.870Z"
   },
   {
    "duration": 7,
    "start_time": "2022-03-16T05:34:44.881Z"
   },
   {
    "duration": 5,
    "start_time": "2022-03-16T05:34:44.890Z"
   },
   {
    "duration": 80,
    "start_time": "2022-03-16T05:34:44.897Z"
   },
   {
    "duration": 45,
    "start_time": "2022-03-16T05:34:44.979Z"
   },
   {
    "duration": 6,
    "start_time": "2022-03-16T05:34:45.026Z"
   },
   {
    "duration": 190,
    "start_time": "2022-03-16T05:42:32.519Z"
   },
   {
    "duration": 226,
    "start_time": "2022-03-16T05:43:17.203Z"
   },
   {
    "duration": 203,
    "start_time": "2022-03-16T05:44:48.405Z"
   },
   {
    "duration": 191,
    "start_time": "2022-03-16T05:45:36.018Z"
   },
   {
    "duration": 49,
    "start_time": "2022-03-16T05:45:46.282Z"
   },
   {
    "duration": 211,
    "start_time": "2022-03-16T05:47:32.158Z"
   },
   {
    "duration": 220,
    "start_time": "2022-03-16T05:47:46.350Z"
   },
   {
    "duration": 227,
    "start_time": "2022-03-16T05:48:33.695Z"
   },
   {
    "duration": 211,
    "start_time": "2022-03-16T05:49:46.183Z"
   },
   {
    "duration": 277,
    "start_time": "2022-03-16T05:50:31.418Z"
   },
   {
    "duration": 342,
    "start_time": "2022-03-16T05:51:58.766Z"
   },
   {
    "duration": 285,
    "start_time": "2022-03-16T05:52:46.112Z"
   },
   {
    "duration": 570,
    "start_time": "2022-03-16T05:53:35.880Z"
   },
   {
    "duration": 273,
    "start_time": "2022-03-16T05:53:42.614Z"
   },
   {
    "duration": 206,
    "start_time": "2022-03-16T05:55:15.428Z"
   },
   {
    "duration": 207,
    "start_time": "2022-03-16T05:55:45.471Z"
   },
   {
    "duration": 227,
    "start_time": "2022-03-16T05:56:09.970Z"
   },
   {
    "duration": 214,
    "start_time": "2022-03-16T05:56:44.470Z"
   },
   {
    "duration": 281,
    "start_time": "2022-03-16T05:57:24.044Z"
   },
   {
    "duration": 214,
    "start_time": "2022-03-16T05:58:39.050Z"
   },
   {
    "duration": 207,
    "start_time": "2022-03-16T05:59:00.930Z"
   },
   {
    "duration": 280,
    "start_time": "2022-03-16T05:59:49.804Z"
   },
   {
    "duration": 201,
    "start_time": "2022-03-16T06:00:11.772Z"
   },
   {
    "duration": 213,
    "start_time": "2022-03-16T06:00:30.922Z"
   },
   {
    "duration": 237,
    "start_time": "2022-03-16T06:01:01.116Z"
   },
   {
    "duration": 207,
    "start_time": "2022-03-16T06:01:31.529Z"
   },
   {
    "duration": 205,
    "start_time": "2022-03-16T06:02:01.914Z"
   },
   {
    "duration": 211,
    "start_time": "2022-03-16T06:02:31.749Z"
   },
   {
    "duration": 223,
    "start_time": "2022-03-16T06:03:02.208Z"
   },
   {
    "duration": 356,
    "start_time": "2022-03-16T06:03:19.276Z"
   },
   {
    "duration": 215,
    "start_time": "2022-03-16T06:03:35.862Z"
   },
   {
    "duration": 280,
    "start_time": "2022-03-16T06:04:06.569Z"
   },
   {
    "duration": 1547,
    "start_time": "2022-03-16T06:04:34.267Z"
   },
   {
    "duration": 64,
    "start_time": "2022-03-16T06:04:35.816Z"
   },
   {
    "duration": 49,
    "start_time": "2022-03-16T06:04:35.882Z"
   },
   {
    "duration": 29,
    "start_time": "2022-03-16T06:04:35.933Z"
   },
   {
    "duration": 57,
    "start_time": "2022-03-16T06:04:35.964Z"
   },
   {
    "duration": 52,
    "start_time": "2022-03-16T06:04:36.023Z"
   },
   {
    "duration": 34,
    "start_time": "2022-03-16T06:04:36.077Z"
   },
   {
    "duration": 51,
    "start_time": "2022-03-16T06:04:36.113Z"
   },
   {
    "duration": 13,
    "start_time": "2022-03-16T06:04:36.167Z"
   },
   {
    "duration": 33,
    "start_time": "2022-03-16T06:04:36.182Z"
   },
   {
    "duration": 47,
    "start_time": "2022-03-16T06:04:36.217Z"
   },
   {
    "duration": 32,
    "start_time": "2022-03-16T06:04:36.266Z"
   },
   {
    "duration": 36,
    "start_time": "2022-03-16T06:04:36.300Z"
   },
   {
    "duration": 48,
    "start_time": "2022-03-16T06:04:36.360Z"
   },
   {
    "duration": 62,
    "start_time": "2022-03-16T06:04:36.410Z"
   },
   {
    "duration": 8,
    "start_time": "2022-03-16T06:04:36.474Z"
   },
   {
    "duration": 32,
    "start_time": "2022-03-16T06:04:36.484Z"
   },
   {
    "duration": 9,
    "start_time": "2022-03-16T06:04:36.518Z"
   },
   {
    "duration": 252,
    "start_time": "2022-03-16T06:04:36.529Z"
   },
   {
    "duration": 17,
    "start_time": "2022-03-16T06:04:36.783Z"
   },
   {
    "duration": 10,
    "start_time": "2022-03-16T06:04:36.802Z"
   },
   {
    "duration": 49,
    "start_time": "2022-03-16T06:04:36.814Z"
   },
   {
    "duration": 32,
    "start_time": "2022-03-16T06:04:36.867Z"
   },
   {
    "duration": 248,
    "start_time": "2022-03-16T06:04:36.901Z"
   },
   {
    "duration": 229,
    "start_time": "2022-03-16T06:04:37.151Z"
   },
   {
    "duration": 215,
    "start_time": "2022-03-16T06:04:37.382Z"
   },
   {
    "duration": 236,
    "start_time": "2022-03-16T06:04:37.599Z"
   },
   {
    "duration": 222,
    "start_time": "2022-03-16T06:04:37.837Z"
   },
   {
    "duration": 291,
    "start_time": "2022-03-16T06:04:38.061Z"
   },
   {
    "duration": 214,
    "start_time": "2022-03-16T06:04:38.359Z"
   },
   {
    "duration": 230,
    "start_time": "2022-03-16T06:04:38.575Z"
   },
   {
    "duration": 238,
    "start_time": "2022-03-16T06:04:38.806Z"
   },
   {
    "duration": 290,
    "start_time": "2022-03-16T06:04:39.046Z"
   },
   {
    "duration": 284,
    "start_time": "2022-03-16T06:04:39.338Z"
   },
   {
    "duration": 7,
    "start_time": "2022-03-16T06:04:39.624Z"
   },
   {
    "duration": 12,
    "start_time": "2022-03-16T06:04:39.632Z"
   },
   {
    "duration": 5,
    "start_time": "2022-03-16T06:04:39.658Z"
   },
   {
    "duration": 44,
    "start_time": "2022-03-16T06:04:39.665Z"
   },
   {
    "duration": 58,
    "start_time": "2022-03-16T06:04:39.711Z"
   },
   {
    "duration": 5,
    "start_time": "2022-03-16T06:04:39.771Z"
   },
   {
    "duration": 1374,
    "start_time": "2022-03-16T08:32:49.279Z"
   },
   {
    "duration": 53,
    "start_time": "2022-03-16T08:32:50.655Z"
   },
   {
    "duration": 40,
    "start_time": "2022-03-16T08:32:50.709Z"
   },
   {
    "duration": 10,
    "start_time": "2022-03-16T08:32:50.750Z"
   },
   {
    "duration": 46,
    "start_time": "2022-03-16T08:32:50.761Z"
   },
   {
    "duration": 47,
    "start_time": "2022-03-16T08:32:50.809Z"
   },
   {
    "duration": 29,
    "start_time": "2022-03-16T08:32:50.857Z"
   },
   {
    "duration": 45,
    "start_time": "2022-03-16T08:32:50.888Z"
   },
   {
    "duration": 10,
    "start_time": "2022-03-16T08:32:50.935Z"
   },
   {
    "duration": 27,
    "start_time": "2022-03-16T08:32:50.946Z"
   },
   {
    "duration": 10,
    "start_time": "2022-03-16T08:32:50.975Z"
   },
   {
    "duration": 59,
    "start_time": "2022-03-16T08:32:50.986Z"
   },
   {
    "duration": 31,
    "start_time": "2022-03-16T08:32:51.047Z"
   },
   {
    "duration": 64,
    "start_time": "2022-03-16T08:32:51.080Z"
   },
   {
    "duration": 43,
    "start_time": "2022-03-16T08:32:51.146Z"
   },
   {
    "duration": 8,
    "start_time": "2022-03-16T08:32:51.191Z"
   },
   {
    "duration": 48,
    "start_time": "2022-03-16T08:32:51.201Z"
   },
   {
    "duration": 9,
    "start_time": "2022-03-16T08:32:51.251Z"
   },
   {
    "duration": 217,
    "start_time": "2022-03-16T08:32:51.262Z"
   },
   {
    "duration": 17,
    "start_time": "2022-03-16T08:32:51.481Z"
   },
   {
    "duration": 10,
    "start_time": "2022-03-16T08:32:51.499Z"
   },
   {
    "duration": 44,
    "start_time": "2022-03-16T08:32:51.510Z"
   },
   {
    "duration": 27,
    "start_time": "2022-03-16T08:32:51.558Z"
   },
   {
    "duration": 215,
    "start_time": "2022-03-16T08:32:51.587Z"
   },
   {
    "duration": 185,
    "start_time": "2022-03-16T08:32:51.804Z"
   },
   {
    "duration": 190,
    "start_time": "2022-03-16T08:32:51.990Z"
   },
   {
    "duration": 201,
    "start_time": "2022-03-16T08:32:52.183Z"
   },
   {
    "duration": 196,
    "start_time": "2022-03-16T08:32:52.386Z"
   },
   {
    "duration": 259,
    "start_time": "2022-03-16T08:32:52.584Z"
   },
   {
    "duration": 179,
    "start_time": "2022-03-16T08:32:52.845Z"
   },
   {
    "duration": 194,
    "start_time": "2022-03-16T08:32:53.033Z"
   },
   {
    "duration": 199,
    "start_time": "2022-03-16T08:32:53.229Z"
   },
   {
    "duration": 240,
    "start_time": "2022-03-16T08:32:53.430Z"
   },
   {
    "duration": 248,
    "start_time": "2022-03-16T08:32:53.671Z"
   },
   {
    "duration": 16,
    "start_time": "2022-03-16T08:32:53.921Z"
   },
   {
    "duration": 8,
    "start_time": "2022-03-16T08:32:53.938Z"
   },
   {
    "duration": 7,
    "start_time": "2022-03-16T08:32:53.947Z"
   },
   {
    "duration": 45,
    "start_time": "2022-03-16T08:32:53.955Z"
   },
   {
    "duration": 53,
    "start_time": "2022-03-16T08:32:54.001Z"
   },
   {
    "duration": 4,
    "start_time": "2022-03-16T08:32:54.056Z"
   }
  ],
  "kernelspec": {
   "display_name": "Python 3 (ipykernel)",
   "language": "python",
   "name": "python3"
  },
  "language_info": {
   "codemirror_mode": {
    "name": "ipython",
    "version": 3
   },
   "file_extension": ".py",
   "mimetype": "text/x-python",
   "name": "python",
   "nbconvert_exporter": "python",
   "pygments_lexer": "ipython3",
   "version": "3.9.7"
  },
  "toc": {
   "base_numbering": 1,
   "nav_menu": {},
   "number_sections": true,
   "sideBar": true,
   "skip_h1_title": true,
   "title_cell": "Table of Contents",
   "title_sidebar": "Contents",
   "toc_cell": false,
   "toc_position": {
    "height": "calc(100% - 180px)",
    "left": "10px",
    "top": "150px",
    "width": "425.764px"
   },
   "toc_section_display": true,
   "toc_window_display": true
  }
 },
 "nbformat": 4,
 "nbformat_minor": 5
}

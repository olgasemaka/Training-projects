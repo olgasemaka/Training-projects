{
 "cells": [
  {
   "cell_type": "markdown",
   "metadata": {},
   "source": [
    "<div style=\"border:solid green 3px; padding: 20px\">\n",
    "\n",
    "<b>Привет, Ольга! :)</b>\n",
    "\n",
    "Меня зовут Сороколетов Илья и я буду проверять твой проект. \n",
    "\n",
    "Предлагаю общаться на «**ты**», но если тебе будет комфортнее общаться на «**вы**», то сообщи об этом в комментариях)\n",
    "\n",
    "\n",
    "Для твоего удобства, я буду выделять свои комментарии следующим образом:\n",
    "\n",
    "<div class=\"alert alert-danger\">\n",
    "<b>❌ Комментарий ревьюера:</b> Самые важные замечания. Они указывают на ключевые моменты, которые влияют на конечный результат проекта. </div>\n",
    "\n",
    "<div class=\"alert alert-warning\">\n",
    "<b>⚠️ Комментарий ревьюера:</b> Советы или замечания, которые помогут сделать твою работу лучше, но необязательны к выполнению.\n",
    "\n",
    "</div>\n",
    "\n",
    "<div class=\"alert alert-success\">\n",
    "<b>✔️ Комментарий ревьюера:</b> Так я выделяю все остальные комментарии.</div>\n",
    "\n",
    "Давай работать над проектом в диалоге: если ты что-то меняешь в проекте по моим рекомендациям — пиши об этом. Выбери для своих комментариев какой-то заметный цвет, так мне будет легче отследить изменения, например вот так:\n",
    "<div class=\"alert alert-info\">\n",
    "<b>Комментарий студента:</b>\n",
    "<br>\n",
    "</div>\n",
    "\n",
    "Пожалуйста, не перемещай, не изменяй и не удаляй мои комментарии. Если ты оставляешь свои комментарии, то делай это под моими, чтобы сообщения были расположены в хронологическом порядке. Всё это поможет выполнить повторную проверку твоего проекта оперативнее. \n",
    "\n",
    "Обязательно задавай вопросы если они возникнут, а я перехожу к проверке)\n",
    "\n",
    "P.S. На всякий случай, я оставлю пустой шаблон для твоих комментариев в ячейке ниже. Кликни на него два раза, скопируй код и вставляй его в пустую ячейку там, где ты хочешь оставить комментарий. Не забудь только перед этим сменить тип ячейки на Markdown. Как это сделать можно посмотреть на этом видео\n",
    "\n",
    "    https://youtu.be/s0q2GpcYxo4?t=685\n",
    "\n",
    "Также, перед отправкой работы я рекомендую нажимать Kernel -> Restart & Run All. Это перезапустит ядро и по очереди выполнит все ячейки. Так ты сможешь проверить, что всё работает корректно. Кнопка Kernel находится в панели сверху\n",
    "\n",
    "<div class=\"alert alert-info\">\n",
    "<b>Комментарий студента:</b>\n",
    "<br>Место для твоего комментария\n",
    "</div>"
   ]
  },
  {
   "cell_type": "markdown",
   "metadata": {
    "id": "E0vqbgi9ay0H"
   },
   "source": [
    "# Яндекс.Музыка"
   ]
  },
  {
   "cell_type": "markdown",
   "metadata": {
    "id": "VUC88oWjTJw2"
   },
   "source": [
    "Сравнение Москвы и Петербурга окружено мифами. Например:\n",
    " * Москва — мегаполис, подчинённый жёсткому ритму рабочей недели;\n",
    " * Петербург — культурная столица, со своими вкусами.\n",
    "\n",
    "На данных Яндекс.Музыки вы сравните поведение пользователей двух столиц.\n",
    "\n",
    "**Цель исследования** — проверьте три гипотезы:\n",
    "1. Активность пользователей зависит от дня недели. Причём в Москве и Петербурге это проявляется по-разному.\n",
    "2. В понедельник утром в Москве преобладают одни жанры, а в Петербурге — другие. Так же и вечером пятницы преобладают разные жанры — в зависимости от города. \n",
    "3. Москва и Петербург предпочитают разные жанры музыки. В Москве чаще слушают поп-музыку, в Петербурге — русский рэп.\n",
    "\n",
    "**Ход исследования**\n",
    "\n",
    "Данные о поведении пользователей вы получите из файла `yandex_music_project.csv`. О качестве данных ничего не известно. Поэтому перед проверкой гипотез понадобится обзор данных. \n",
    "\n",
    "Вы проверите данные на ошибки и оцените их влияние на исследование. Затем, на этапе предобработки вы поищете возможность исправить самые критичные ошибки данных.\n",
    " \n",
    "Таким образом, исследование пройдёт в три этапа:\n",
    " 1. Обзор данных.\n",
    " 2. Предобработка данных.\n",
    " 3. Проверка гипотез.\n",
    "\n"
   ]
  },
  {
   "cell_type": "markdown",
   "metadata": {
    "id": "Ml1hmfXC_Zcs"
   },
   "source": [
    "## Обзор данных\n",
    "\n",
    "Составьте первое представление о данных Яндекс.Музыки.\n",
    "\n",
    "\n"
   ]
  },
  {
   "cell_type": "markdown",
   "metadata": {
    "id": "57eAOGIz_Zcs"
   },
   "source": [
    "Основной инструмент аналитика — `pandas`. Импортируйте эту библиотеку."
   ]
  },
  {
   "cell_type": "code",
   "execution_count": 1,
   "metadata": {
    "id": "AXN7PHPN_Zcs"
   },
   "outputs": [],
   "source": [
    "import pandas as pd "
   ]
  },
  {
   "cell_type": "markdown",
   "metadata": {},
   "source": [
    "<div class=\"alert alert-success\">\n",
    "<b>✔️ Комментарий ревьюера:</b> \n",
    "<br>Очень здорово, что ты используешь сокращение pd для Pandas, это общепринятое сокращение для этой библиотеки для удобной дальнейшей работы.\n",
    "</div>"
   ]
  },
  {
   "cell_type": "markdown",
   "metadata": {
    "id": "SG23P8tt_Zcs"
   },
   "source": [
    "Прочитайте файл `yandex_music_project.csv` из папки `/datasets` и сохраните его в переменной `df`:"
   ]
  },
  {
   "cell_type": "code",
   "execution_count": 2,
   "metadata": {
    "id": "fFVu7vqh_Zct"
   },
   "outputs": [],
   "source": [
    "df = pd.read_csv('/datasets/yandex_music_project.csv')"
   ]
  },
  {
   "cell_type": "markdown",
   "metadata": {
    "id": "rDoOMd3uTqnZ"
   },
   "source": [
    "Выведите на экран первые десять строк таблицы:"
   ]
  },
  {
   "cell_type": "code",
   "execution_count": 3,
   "metadata": {
    "id": "oWTVX3gW_Zct"
   },
   "outputs": [
    {
     "data": {
      "text/html": [
       "<div>\n",
       "<style scoped>\n",
       "    .dataframe tbody tr th:only-of-type {\n",
       "        vertical-align: middle;\n",
       "    }\n",
       "\n",
       "    .dataframe tbody tr th {\n",
       "        vertical-align: top;\n",
       "    }\n",
       "\n",
       "    .dataframe thead th {\n",
       "        text-align: right;\n",
       "    }\n",
       "</style>\n",
       "<table border=\"1\" class=\"dataframe\">\n",
       "  <thead>\n",
       "    <tr style=\"text-align: right;\">\n",
       "      <th></th>\n",
       "      <th>userID</th>\n",
       "      <th>Track</th>\n",
       "      <th>artist</th>\n",
       "      <th>genre</th>\n",
       "      <th>City</th>\n",
       "      <th>time</th>\n",
       "      <th>Day</th>\n",
       "    </tr>\n",
       "  </thead>\n",
       "  <tbody>\n",
       "    <tr>\n",
       "      <td>0</td>\n",
       "      <td>FFB692EC</td>\n",
       "      <td>Kamigata To Boots</td>\n",
       "      <td>The Mass Missile</td>\n",
       "      <td>rock</td>\n",
       "      <td>Saint-Petersburg</td>\n",
       "      <td>20:28:33</td>\n",
       "      <td>Wednesday</td>\n",
       "    </tr>\n",
       "    <tr>\n",
       "      <td>1</td>\n",
       "      <td>55204538</td>\n",
       "      <td>Delayed Because of Accident</td>\n",
       "      <td>Andreas Rönnberg</td>\n",
       "      <td>rock</td>\n",
       "      <td>Moscow</td>\n",
       "      <td>14:07:09</td>\n",
       "      <td>Friday</td>\n",
       "    </tr>\n",
       "    <tr>\n",
       "      <td>2</td>\n",
       "      <td>20EC38</td>\n",
       "      <td>Funiculì funiculà</td>\n",
       "      <td>Mario Lanza</td>\n",
       "      <td>pop</td>\n",
       "      <td>Saint-Petersburg</td>\n",
       "      <td>20:58:07</td>\n",
       "      <td>Wednesday</td>\n",
       "    </tr>\n",
       "    <tr>\n",
       "      <td>3</td>\n",
       "      <td>A3DD03C9</td>\n",
       "      <td>Dragons in the Sunset</td>\n",
       "      <td>Fire + Ice</td>\n",
       "      <td>folk</td>\n",
       "      <td>Saint-Petersburg</td>\n",
       "      <td>08:37:09</td>\n",
       "      <td>Monday</td>\n",
       "    </tr>\n",
       "    <tr>\n",
       "      <td>4</td>\n",
       "      <td>E2DC1FAE</td>\n",
       "      <td>Soul People</td>\n",
       "      <td>Space Echo</td>\n",
       "      <td>dance</td>\n",
       "      <td>Moscow</td>\n",
       "      <td>08:34:34</td>\n",
       "      <td>Monday</td>\n",
       "    </tr>\n",
       "    <tr>\n",
       "      <td>5</td>\n",
       "      <td>842029A1</td>\n",
       "      <td>Преданная</td>\n",
       "      <td>IMPERVTOR</td>\n",
       "      <td>rusrap</td>\n",
       "      <td>Saint-Petersburg</td>\n",
       "      <td>13:09:41</td>\n",
       "      <td>Friday</td>\n",
       "    </tr>\n",
       "    <tr>\n",
       "      <td>6</td>\n",
       "      <td>4CB90AA5</td>\n",
       "      <td>True</td>\n",
       "      <td>Roman Messer</td>\n",
       "      <td>dance</td>\n",
       "      <td>Moscow</td>\n",
       "      <td>13:00:07</td>\n",
       "      <td>Wednesday</td>\n",
       "    </tr>\n",
       "    <tr>\n",
       "      <td>7</td>\n",
       "      <td>F03E1C1F</td>\n",
       "      <td>Feeling This Way</td>\n",
       "      <td>Polina Griffith</td>\n",
       "      <td>dance</td>\n",
       "      <td>Moscow</td>\n",
       "      <td>20:47:49</td>\n",
       "      <td>Wednesday</td>\n",
       "    </tr>\n",
       "    <tr>\n",
       "      <td>8</td>\n",
       "      <td>8FA1D3BE</td>\n",
       "      <td>И вновь продолжается бой</td>\n",
       "      <td>NaN</td>\n",
       "      <td>ruspop</td>\n",
       "      <td>Moscow</td>\n",
       "      <td>09:17:40</td>\n",
       "      <td>Friday</td>\n",
       "    </tr>\n",
       "    <tr>\n",
       "      <td>9</td>\n",
       "      <td>E772D5C0</td>\n",
       "      <td>Pessimist</td>\n",
       "      <td>NaN</td>\n",
       "      <td>dance</td>\n",
       "      <td>Saint-Petersburg</td>\n",
       "      <td>21:20:49</td>\n",
       "      <td>Wednesday</td>\n",
       "    </tr>\n",
       "  </tbody>\n",
       "</table>\n",
       "</div>"
      ],
      "text/plain": [
       "     userID                        Track            artist   genre  \\\n",
       "0  FFB692EC            Kamigata To Boots  The Mass Missile    rock   \n",
       "1  55204538  Delayed Because of Accident  Andreas Rönnberg    rock   \n",
       "2    20EC38            Funiculì funiculà       Mario Lanza     pop   \n",
       "3  A3DD03C9        Dragons in the Sunset        Fire + Ice    folk   \n",
       "4  E2DC1FAE                  Soul People        Space Echo   dance   \n",
       "5  842029A1                    Преданная         IMPERVTOR  rusrap   \n",
       "6  4CB90AA5                         True      Roman Messer   dance   \n",
       "7  F03E1C1F             Feeling This Way   Polina Griffith   dance   \n",
       "8  8FA1D3BE     И вновь продолжается бой               NaN  ruspop   \n",
       "9  E772D5C0                    Pessimist               NaN   dance   \n",
       "\n",
       "             City        time        Day  \n",
       "0  Saint-Petersburg  20:28:33  Wednesday  \n",
       "1            Moscow  14:07:09     Friday  \n",
       "2  Saint-Petersburg  20:58:07  Wednesday  \n",
       "3  Saint-Petersburg  08:37:09     Monday  \n",
       "4            Moscow  08:34:34     Monday  \n",
       "5  Saint-Petersburg  13:09:41     Friday  \n",
       "6            Moscow  13:00:07  Wednesday  \n",
       "7            Moscow  20:47:49  Wednesday  \n",
       "8            Moscow  09:17:40     Friday  \n",
       "9  Saint-Petersburg  21:20:49  Wednesday  "
      ]
     },
     "execution_count": 3,
     "metadata": {},
     "output_type": "execute_result"
    }
   ],
   "source": [
    "df.head(10) "
   ]
  },
  {
   "cell_type": "markdown",
   "metadata": {
    "id": "EO73Kwic_Zct"
   },
   "source": [
    "Одной командой получить общую информацию о таблице:"
   ]
  },
  {
   "cell_type": "code",
   "execution_count": 4,
   "metadata": {
    "id": "DSf2kIb-_Zct"
   },
   "outputs": [
    {
     "name": "stdout",
     "output_type": "stream",
     "text": [
      "<class 'pandas.core.frame.DataFrame'>\n",
      "RangeIndex: 65079 entries, 0 to 65078\n",
      "Data columns (total 7 columns):\n",
      "  userID    65079 non-null object\n",
      "Track       63848 non-null object\n",
      "artist      57876 non-null object\n",
      "genre       63881 non-null object\n",
      "  City      65079 non-null object\n",
      "time        65079 non-null object\n",
      "Day         65079 non-null object\n",
      "dtypes: object(7)\n",
      "memory usage: 3.5+ MB\n"
     ]
    }
   ],
   "source": [
    "df.info()"
   ]
  },
  {
   "cell_type": "markdown",
   "metadata": {
    "id": "TaQ2Iwbr_Zct"
   },
   "source": [
    "Итак, в таблице семь столбцов. Тип данных во всех столбцах — `object`.\n",
    "\n",
    "Согласно документации к данным:\n",
    "* `userID` — идентификатор пользователя;\n",
    "* `Track` — название трека;  \n",
    "* `artist` — имя исполнителя;\n",
    "* `genre` — название жанра;\n",
    "* `City` — город пользователя;\n",
    "* `time` — время начала прослушивания;\n",
    "* `Day` — день недели.\n",
    "\n",
    "В названиях колонок видны три нарушения стиля:\n",
    "1. Строчные буквы сочетаются с прописными.\n",
    "2. Встречаются пробелы.\n",
    "3. Найдите ещё одну проблему в названии колонок и опишите её в этом пункте.\n",
    "\n",
    "Название столбца `userID`  необходимо заменить на `user_id`.\n",
    "\n",
    "\n",
    "\n",
    "Количество значений в столбцах различается. Значит, в данных есть пропущенные значения.\n"
   ]
  },
  {
   "cell_type": "markdown",
   "metadata": {},
   "source": [
    "<div class=\"alert alert-success\">\n",
    "<b>✔️ Комментарий ревьюера:</b> \n",
    "<br>И это правильный ответ! Отличная работа!\n",
    "</div>"
   ]
  },
  {
   "cell_type": "markdown",
   "metadata": {
    "id": "MCB6-dXG_Zct"
   },
   "source": [
    "**Выводы**\n",
    "\n",
    "В каждой строке таблицы — данные о прослушанном треке. Часть колонок описывает саму композицию: название, исполнителя и жанр. Остальные данные рассказывают о пользователе: из какого он города, когда он слушал музыку. \n",
    "\n",
    "Предварительно можно утверждать, что, данных достаточно для проверки гипотез. Но встречаются пропуски в данных, а в названиях колонок — расхождения с хорошим стилем.\n",
    "\n",
    "Чтобы двигаться дальше, нужно устранить проблемы в данных."
   ]
  },
  {
   "cell_type": "markdown",
   "metadata": {
    "id": "SjYF6Ub9_Zct"
   },
   "source": [
    "## Предобработка данных\n",
    "Исправьте стиль в заголовках столбцов, исключите пропуски. Затем проверьте данные на дубликаты."
   ]
  },
  {
   "cell_type": "markdown",
   "metadata": {
    "id": "dIaKXr29_Zct"
   },
   "source": [
    "### Стиль заголовков\n",
    "Выведите на экран названия столбцов:"
   ]
  },
  {
   "cell_type": "code",
   "execution_count": 5,
   "metadata": {
    "id": "oKOTdF_Q_Zct"
   },
   "outputs": [
    {
     "data": {
      "text/plain": [
       "Index(['  userID', 'Track', 'artist', 'genre', '  City  ', 'time', 'Day'], dtype='object')"
      ]
     },
     "execution_count": 5,
     "metadata": {},
     "output_type": "execute_result"
    }
   ],
   "source": [
    "df.columns"
   ]
  },
  {
   "cell_type": "markdown",
   "metadata": {},
   "source": [
    "<div class=\"alert alert-success\">\n",
    "<b>✔️ Комментарий ревьюера:</b> \n",
    "<br>Отлично, что здесь не использована функцию print() для вывода: ведь это последняя строчка ячейки.\n",
    "</div>"
   ]
  },
  {
   "cell_type": "markdown",
   "metadata": {
    "id": "zj5534cv_Zct"
   },
   "source": [
    "Приведите названия в соответствие с хорошим стилем:\n",
    "* несколько слов в названии запишите в «змеином_регистре»,\n",
    "* все символы сделайте строчными,\n",
    "* устраните пробелы.\n",
    "\n",
    "Для этого переименуйте колонки так:\n",
    "* `'  userID'` → `'user_id'`;\n",
    "* `'Track'` → `'track'`;\n",
    "* `'  City  '` → `'city'`;\n",
    "* `'Day'` → `'day'`."
   ]
  },
  {
   "cell_type": "code",
   "execution_count": 6,
   "metadata": {
    "id": "ISlFqs5y_Zct"
   },
   "outputs": [],
   "source": [
    "df = df.rename(columns={'  userID':'user_id', 'Track':'track', '  City  ':'city', 'Day':'day'})"
   ]
  },
  {
   "cell_type": "markdown",
   "metadata": {
    "id": "1dqbh00J_Zct"
   },
   "source": [
    "Проверьте результат. Для этого ещё раз выведите на экран названия столбцов:"
   ]
  },
  {
   "cell_type": "code",
   "execution_count": 7,
   "metadata": {
    "id": "d4NOAmTW_Zct"
   },
   "outputs": [
    {
     "data": {
      "text/plain": [
       "Index(['user_id', 'track', 'artist', 'genre', 'city', 'time', 'day'], dtype='object')"
      ]
     },
     "execution_count": 7,
     "metadata": {},
     "output_type": "execute_result"
    }
   ],
   "source": [
    "df.columns"
   ]
  },
  {
   "cell_type": "markdown",
   "metadata": {
    "id": "5ISfbcfY_Zct"
   },
   "source": [
    "### Пропуски значений\n",
    "Сначала посчитайте, сколько в таблице пропущенных значений. Для этого достаточно двух методов `pandas`:"
   ]
  },
  {
   "cell_type": "code",
   "execution_count": 8,
   "metadata": {
    "id": "RskX29qr_Zct"
   },
   "outputs": [
    {
     "data": {
      "text/plain": [
       "user_id       0\n",
       "track      1231\n",
       "artist     7203\n",
       "genre      1198\n",
       "city          0\n",
       "time          0\n",
       "day           0\n",
       "dtype: int64"
      ]
     },
     "execution_count": 8,
     "metadata": {},
     "output_type": "execute_result"
    }
   ],
   "source": [
    "df.isna().sum()"
   ]
  },
  {
   "cell_type": "markdown",
   "metadata": {
    "id": "qubhgnlO_Zct"
   },
   "source": [
    "Не все пропущенные значения влияют на исследование. Так в `track` и `artist` пропуски не важны для вашей работы. Достаточно заменить их явными обозначениями.\n",
    "\n",
    "Но пропуски в `genre` могут помешать сравнению музыкальных вкусов в Москве и Санкт-Петербурге. На практике было бы правильно установить причину пропусков и восстановить данные. Такой возможности нет в учебном проекте. Придётся:\n",
    "* заполнить и эти пропуски явными обозначениями,\n",
    "* оценить, насколько они повредят расчётам. "
   ]
  },
  {
   "cell_type": "markdown",
   "metadata": {
    "id": "fSv2laPA_Zct"
   },
   "source": [
    "Замените пропущенные значения в столбцах `track`, `artist` и `genre` на строку `'unknown'`. Для этого создайте список `columns_to_replace`, переберите его элементы циклом `for` и для каждого столбца выполните замену пропущенных значений:"
   ]
  },
  {
   "cell_type": "code",
   "execution_count": 9,
   "metadata": {
    "id": "KplB5qWs_Zct"
   },
   "outputs": [],
   "source": [
    "columns_to_replace = ['track', 'artist', 'genre'] # перебор названий столбцов в цикле и замена пропущенных значений на 'unknown'\n",
    "for column in columns_to_replace:\n",
    "    df[column] = df[column].fillna('unknown')"
   ]
  },
  {
   "cell_type": "markdown",
   "metadata": {
    "id": "Ilsm-MZo_Zct"
   },
   "source": [
    "Убедитесь, что в таблице не осталось пропусков. Для этого ещё раз посчитайте пропущенные значения."
   ]
  },
  {
   "cell_type": "code",
   "execution_count": 10,
   "metadata": {
    "id": "Tq4nYRX4_Zct"
   },
   "outputs": [
    {
     "data": {
      "text/plain": [
       "user_id    0\n",
       "track      0\n",
       "artist     0\n",
       "genre      0\n",
       "city       0\n",
       "time       0\n",
       "day        0\n",
       "dtype: int64"
      ]
     },
     "execution_count": 10,
     "metadata": {},
     "output_type": "execute_result"
    }
   ],
   "source": [
    "df.isna().sum()"
   ]
  },
  {
   "cell_type": "markdown",
   "metadata": {},
   "source": [
    "<div class=\"alert alert-success\">\n",
    "<b>✔️ Комментарий ревьюера:</b> \n",
    "<br>Пропуски заменены верно!\n",
    "</div>"
   ]
  },
  {
   "cell_type": "markdown",
   "metadata": {
    "id": "BWKRtBJ3_Zct"
   },
   "source": [
    "### Дубликаты\n",
    "Посчитайте явные дубликаты в таблице одной командой:"
   ]
  },
  {
   "cell_type": "code",
   "execution_count": 11,
   "metadata": {
    "id": "36eES_S0_Zct"
   },
   "outputs": [
    {
     "data": {
      "text/plain": [
       "3826"
      ]
     },
     "execution_count": 11,
     "metadata": {},
     "output_type": "execute_result"
    }
   ],
   "source": [
    "df.duplicated().sum()"
   ]
  },
  {
   "cell_type": "markdown",
   "metadata": {
    "id": "Ot25h6XR_Zct"
   },
   "source": [
    "Вызовите специальный метод `pandas`, чтобы удалить явные дубликаты:"
   ]
  },
  {
   "cell_type": "code",
   "execution_count": 12,
   "metadata": {
    "id": "exFHq6tt_Zct"
   },
   "outputs": [],
   "source": [
    "df = df.drop_duplicates().reset_index(drop=True) # удаление явных дубликатов (с удалением старых индексов и формированием новых)"
   ]
  },
  {
   "cell_type": "markdown",
   "metadata": {
    "id": "Im2YwBEG_Zct"
   },
   "source": [
    "Ещё раз посчитайте явные дубликаты в таблице — убедитесь, что полностью от них избавились:"
   ]
  },
  {
   "cell_type": "code",
   "execution_count": 13,
   "metadata": {
    "id": "-8PuNWQ0_Zct"
   },
   "outputs": [
    {
     "data": {
      "text/plain": [
       "0"
      ]
     },
     "execution_count": 13,
     "metadata": {},
     "output_type": "execute_result"
    }
   ],
   "source": [
    "df.duplicated().sum() # проверка на отсутствие дубликатов"
   ]
  },
  {
   "cell_type": "markdown",
   "metadata": {
    "id": "QlFBsxAr_Zct"
   },
   "source": [
    "Теперь избавьтесь от неявных дубликатов в колонке `genre`. Например, название одного и того же жанра может быть записано немного по-разному. Такие ошибки тоже повлияют на результат исследования."
   ]
  },
  {
   "cell_type": "markdown",
   "metadata": {
    "id": "eSjWwsOh_Zct"
   },
   "source": [
    "Выведите на экран список уникальных названий жанров, отсортированный в алфавитном порядке. Для этого:\n",
    "* извлеките нужный столбец датафрейма, \n",
    "* примените к нему метод сортировки,\n",
    "* для отсортированного столбца вызовите метод, который вернёт уникальные значения из столбца."
   ]
  },
  {
   "cell_type": "code",
   "execution_count": 14,
   "metadata": {
    "id": "JIUcqzZN_Zct"
   },
   "outputs": [
    {
     "data": {
      "text/plain": [
       "array(['acid', 'acoustic', 'action', 'adult', 'africa', 'afrikaans',\n",
       "       'alternative', 'alternativepunk', 'ambient', 'americana',\n",
       "       'animated', 'anime', 'arabesk', 'arabic', 'arena',\n",
       "       'argentinetango', 'art', 'audiobook', 'author', 'avantgarde',\n",
       "       'axé', 'baile', 'balkan', 'beats', 'bigroom', 'black', 'bluegrass',\n",
       "       'blues', 'bollywood', 'bossa', 'brazilian', 'breakbeat', 'breaks',\n",
       "       'broadway', 'cantautori', 'cantopop', 'canzone', 'caribbean',\n",
       "       'caucasian', 'celtic', 'chamber', 'chanson', 'children', 'chill',\n",
       "       'chinese', 'choral', 'christian', 'christmas', 'classical',\n",
       "       'classicmetal', 'club', 'colombian', 'comedy', 'conjazz',\n",
       "       'contemporary', 'country', 'cuban', 'dance', 'dancehall',\n",
       "       'dancepop', 'dark', 'death', 'deep', 'deutschrock', 'deutschspr',\n",
       "       'dirty', 'disco', 'dnb', 'documentary', 'downbeat', 'downtempo',\n",
       "       'drum', 'dub', 'dubstep', 'eastern', 'easy', 'electronic',\n",
       "       'electropop', 'emo', 'entehno', 'epicmetal', 'estrada', 'ethnic',\n",
       "       'eurofolk', 'european', 'experimental', 'extrememetal', 'fado',\n",
       "       'fairytail', 'film', 'fitness', 'flamenco', 'folk', 'folklore',\n",
       "       'folkmetal', 'folkrock', 'folktronica', 'forró', 'frankreich',\n",
       "       'französisch', 'french', 'funk', 'future', 'gangsta', 'garage',\n",
       "       'german', 'ghazal', 'gitarre', 'glitch', 'gospel', 'gothic',\n",
       "       'grime', 'grunge', 'gypsy', 'handsup', \"hard'n'heavy\", 'hardcore',\n",
       "       'hardstyle', 'hardtechno', 'hip', 'hip-hop', 'hiphop',\n",
       "       'historisch', 'holiday', 'hop', 'horror', 'house', 'hymn', 'idm',\n",
       "       'independent', 'indian', 'indie', 'indipop', 'industrial',\n",
       "       'inspirational', 'instrumental', 'international', 'irish', 'jam',\n",
       "       'japanese', 'jazz', 'jewish', 'jpop', 'jungle', 'k-pop',\n",
       "       'karadeniz', 'karaoke', 'kayokyoku', 'korean', 'laiko', 'latin',\n",
       "       'latino', 'leftfield', 'local', 'lounge', 'loungeelectronic',\n",
       "       'lovers', 'malaysian', 'mandopop', 'marschmusik', 'meditative',\n",
       "       'mediterranean', 'melodic', 'metal', 'metalcore', 'mexican',\n",
       "       'middle', 'minimal', 'miscellaneous', 'modern', 'mood', 'mpb',\n",
       "       'muslim', 'native', 'neoklassik', 'neue', 'new', 'newage',\n",
       "       'newwave', 'nu', 'nujazz', 'numetal', 'oceania', 'old', 'opera',\n",
       "       'orchestral', 'other', 'piano', 'podcasts', 'pop', 'popdance',\n",
       "       'popelectronic', 'popeurodance', 'poprussian', 'post',\n",
       "       'posthardcore', 'postrock', 'power', 'progmetal', 'progressive',\n",
       "       'psychedelic', 'punjabi', 'punk', 'quebecois', 'ragga', 'ram',\n",
       "       'rancheras', 'rap', 'rave', 'reggae', 'reggaeton', 'regional',\n",
       "       'relax', 'religious', 'retro', 'rhythm', 'rnb', 'rnr', 'rock',\n",
       "       'rockabilly', 'rockalternative', 'rockindie', 'rockother',\n",
       "       'romance', 'roots', 'ruspop', 'rusrap', 'rusrock', 'russian',\n",
       "       'salsa', 'samba', 'scenic', 'schlager', 'self', 'sertanejo',\n",
       "       'shanson', 'shoegazing', 'showtunes', 'singer', 'ska', 'skarock',\n",
       "       'slow', 'smooth', 'soft', 'soul', 'soulful', 'sound', 'soundtrack',\n",
       "       'southern', 'specialty', 'speech', 'spiritual', 'sport',\n",
       "       'stonerrock', 'surf', 'swing', 'synthpop', 'synthrock',\n",
       "       'sängerportrait', 'tango', 'tanzorchester', 'taraftar', 'tatar',\n",
       "       'tech', 'techno', 'teen', 'thrash', 'top', 'traditional',\n",
       "       'tradjazz', 'trance', 'tribal', 'trip', 'triphop', 'tropical',\n",
       "       'türk', 'türkçe', 'ukrrock', 'unknown', 'urban', 'uzbek',\n",
       "       'variété', 'vi', 'videogame', 'vocal', 'western', 'world',\n",
       "       'worldbeat', 'ïîï', 'электроника'], dtype=object)"
      ]
     },
     "execution_count": 14,
     "metadata": {},
     "output_type": "execute_result"
    }
   ],
   "source": [
    " # Просмотр уникальных названий жанров\n",
    "df['genre'].sort_values().unique()"
   ]
  },
  {
   "cell_type": "markdown",
   "metadata": {},
   "source": [
    "<div class=\"alert alert-warning\">\n",
    "<b>⚠️ Комментарий ревьюера:</b> \n",
    "<br>Ошибки в твоём решении нет, но для вывода будет достаточно строчки \n",
    "\n",
    "\tdf['genre'].sort_values().unique()\n",
    "</div>"
   ]
  },
  {
   "cell_type": "markdown",
   "metadata": {
    "id": "qej-Qmuo_Zct"
   },
   "source": [
    "Просмотрите список и найдите неявные дубликаты названия `hiphop`. Это могут быть названия с ошибками или альтернативные названия того же жанра.\n",
    "\n",
    "Вы увидите следующие неявные дубликаты:\n",
    "* *hip*,\n",
    "* *hop*,\n",
    "* *hip-hop*.\n",
    "\n",
    "Чтобы очистить от них таблицу, напишите функцию `replace_wrong_genres()` с двумя параметрами: \n",
    "* `wrong_genres` — список дубликатов,\n",
    "* `correct_genre` — строка с правильным значением.\n",
    "\n",
    "Функция должна исправить колонку `genre` в таблице `df`: заменить каждое значение из списка `wrong_genres` на значение из `correct_genre`."
   ]
  },
  {
   "cell_type": "code",
   "execution_count": 15,
   "metadata": {
    "id": "ErNDkmns_Zct"
   },
   "outputs": [],
   "source": [
    "def replace_wrong_genres(wrong_genres, correct_genre):\n",
    "    for wrong_genre in  wrong_genres:\n",
    "        df['genre'] = df['genre'].replace(wrong_genres, correct_genre)  # Функция для замены неявных дубликатов\n"
   ]
  },
  {
   "cell_type": "markdown",
   "metadata": {
    "id": "aDoBJxbA_Zct"
   },
   "source": [
    "Вызовите `replace_wrong_genres()` и передайте ей такие аргументы, чтобы она устранила неявные дубликаты: вместо `hip`, `hop` и `hip-hop` в таблице должно быть значение `hiphop`:"
   ]
  },
  {
   "cell_type": "code",
   "execution_count": 16,
   "metadata": {
    "id": "YN5i2hpmSo09"
   },
   "outputs": [],
   "source": [
    "# Устранение неявных дубликатов\n",
    "replace_wrong_genres(['hip', 'hop', 'hip-hop'], 'hiphop')"
   ]
  },
  {
   "cell_type": "markdown",
   "metadata": {},
   "source": [
    "<div class=\"alert alert-warning\">\n",
    "<b>⚠️ Комментарий ревьюера:</b> \n",
    "<br>Здесь можно заменить дубликаты не создавая дополнительные переменные:\n",
    "    \n",
    "    replace_wrong_genres(['hip', 'hop', 'hip-hop'], 'hiphop')\n",
    "</div>"
   ]
  },
  {
   "cell_type": "markdown",
   "metadata": {
    "id": "zQKF16_RG15m"
   },
   "source": [
    "Проверьте, что заменили неправильные названия:\n",
    "\n",
    "*   hip\n",
    "*   hop\n",
    "*   hip-hop\n",
    "\n",
    "Выведите отсортированный список уникальных значений столбца `genre`:"
   ]
  },
  {
   "cell_type": "code",
   "execution_count": 17,
   "metadata": {
    "id": "wvixALnFG15m"
   },
   "outputs": [
    {
     "data": {
      "text/plain": [
       "array(['acid', 'acoustic', 'action', 'adult', 'africa', 'afrikaans',\n",
       "       'alternative', 'alternativepunk', 'ambient', 'americana',\n",
       "       'animated', 'anime', 'arabesk', 'arabic', 'arena',\n",
       "       'argentinetango', 'art', 'audiobook', 'author', 'avantgarde',\n",
       "       'axé', 'baile', 'balkan', 'beats', 'bigroom', 'black', 'bluegrass',\n",
       "       'blues', 'bollywood', 'bossa', 'brazilian', 'breakbeat', 'breaks',\n",
       "       'broadway', 'cantautori', 'cantopop', 'canzone', 'caribbean',\n",
       "       'caucasian', 'celtic', 'chamber', 'chanson', 'children', 'chill',\n",
       "       'chinese', 'choral', 'christian', 'christmas', 'classical',\n",
       "       'classicmetal', 'club', 'colombian', 'comedy', 'conjazz',\n",
       "       'contemporary', 'country', 'cuban', 'dance', 'dancehall',\n",
       "       'dancepop', 'dark', 'death', 'deep', 'deutschrock', 'deutschspr',\n",
       "       'dirty', 'disco', 'dnb', 'documentary', 'downbeat', 'downtempo',\n",
       "       'drum', 'dub', 'dubstep', 'eastern', 'easy', 'electronic',\n",
       "       'electropop', 'emo', 'entehno', 'epicmetal', 'estrada', 'ethnic',\n",
       "       'eurofolk', 'european', 'experimental', 'extrememetal', 'fado',\n",
       "       'fairytail', 'film', 'fitness', 'flamenco', 'folk', 'folklore',\n",
       "       'folkmetal', 'folkrock', 'folktronica', 'forró', 'frankreich',\n",
       "       'französisch', 'french', 'funk', 'future', 'gangsta', 'garage',\n",
       "       'german', 'ghazal', 'gitarre', 'glitch', 'gospel', 'gothic',\n",
       "       'grime', 'grunge', 'gypsy', 'handsup', \"hard'n'heavy\", 'hardcore',\n",
       "       'hardstyle', 'hardtechno', 'hiphop', 'historisch', 'holiday',\n",
       "       'horror', 'house', 'hymn', 'idm', 'independent', 'indian', 'indie',\n",
       "       'indipop', 'industrial', 'inspirational', 'instrumental',\n",
       "       'international', 'irish', 'jam', 'japanese', 'jazz', 'jewish',\n",
       "       'jpop', 'jungle', 'k-pop', 'karadeniz', 'karaoke', 'kayokyoku',\n",
       "       'korean', 'laiko', 'latin', 'latino', 'leftfield', 'local',\n",
       "       'lounge', 'loungeelectronic', 'lovers', 'malaysian', 'mandopop',\n",
       "       'marschmusik', 'meditative', 'mediterranean', 'melodic', 'metal',\n",
       "       'metalcore', 'mexican', 'middle', 'minimal', 'miscellaneous',\n",
       "       'modern', 'mood', 'mpb', 'muslim', 'native', 'neoklassik', 'neue',\n",
       "       'new', 'newage', 'newwave', 'nu', 'nujazz', 'numetal', 'oceania',\n",
       "       'old', 'opera', 'orchestral', 'other', 'piano', 'podcasts', 'pop',\n",
       "       'popdance', 'popelectronic', 'popeurodance', 'poprussian', 'post',\n",
       "       'posthardcore', 'postrock', 'power', 'progmetal', 'progressive',\n",
       "       'psychedelic', 'punjabi', 'punk', 'quebecois', 'ragga', 'ram',\n",
       "       'rancheras', 'rap', 'rave', 'reggae', 'reggaeton', 'regional',\n",
       "       'relax', 'religious', 'retro', 'rhythm', 'rnb', 'rnr', 'rock',\n",
       "       'rockabilly', 'rockalternative', 'rockindie', 'rockother',\n",
       "       'romance', 'roots', 'ruspop', 'rusrap', 'rusrock', 'russian',\n",
       "       'salsa', 'samba', 'scenic', 'schlager', 'self', 'sertanejo',\n",
       "       'shanson', 'shoegazing', 'showtunes', 'singer', 'ska', 'skarock',\n",
       "       'slow', 'smooth', 'soft', 'soul', 'soulful', 'sound', 'soundtrack',\n",
       "       'southern', 'specialty', 'speech', 'spiritual', 'sport',\n",
       "       'stonerrock', 'surf', 'swing', 'synthpop', 'synthrock',\n",
       "       'sängerportrait', 'tango', 'tanzorchester', 'taraftar', 'tatar',\n",
       "       'tech', 'techno', 'teen', 'thrash', 'top', 'traditional',\n",
       "       'tradjazz', 'trance', 'tribal', 'trip', 'triphop', 'tropical',\n",
       "       'türk', 'türkçe', 'ukrrock', 'unknown', 'urban', 'uzbek',\n",
       "       'variété', 'vi', 'videogame', 'vocal', 'western', 'world',\n",
       "       'worldbeat', 'ïîï', 'электроника'], dtype=object)"
      ]
     },
     "execution_count": 17,
     "metadata": {},
     "output_type": "execute_result"
    }
   ],
   "source": [
    "df['genre'].sort_values().unique()  # Проверка на неявные дубликаты"
   ]
  },
  {
   "cell_type": "markdown",
   "metadata": {
    "id": "jz6a9-7HQUDd"
   },
   "source": [
    "**Выводы**\n",
    "\n",
    "Предобработка обнаружила три проблемы в данных:\n",
    "\n",
    "- нарушения в стиле заголовков,\n",
    "- пропущенные значения,\n",
    "- дубликаты — явные и неявные.\n",
    "\n",
    "Вы исправили заголовки, чтобы упростить работу с таблицей. Без дубликатов исследование станет более точным.\n",
    "\n",
    "Пропущенные значения вы заменили на `'unknown'`. Ещё предстоит увидеть, не повредят ли исследованию пропуски в колонке `genre`.\n",
    "\n",
    "Теперь можно перейти к проверке гипотез. "
   ]
  },
  {
   "cell_type": "markdown",
   "metadata": {},
   "source": [
    "<div class=\"alert alert-success\">\n",
    "<b>✔️ Комментарий ревьюера:</b> \n",
    "<br>Супер! От дубликатов избавились)\n",
    "</div>\n",
    "\n",
    "<div class=\"alert alert-info\">\n",
    "<b>Комментарий студента:</b>\n",
    "<br> Привет, Илья! В этом шаге проверки логично будет тоже одной строкой написать. Когда делала эту работу шла исключительно пошагам и не пыталась умничать.\n",
    "</div>"
   ]
  },
  {
   "cell_type": "markdown",
   "metadata": {},
   "source": [
    "<div class=\"alert alert-success\">\n",
    "<b>✔️ Комментарий ревьюера v2:</b> \n",
    "<br>И снова привет! Умничать не запрещается)\n",
    "</div>"
   ]
  },
  {
   "cell_type": "markdown",
   "metadata": {
    "id": "WttZHXH0SqKk"
   },
   "source": [
    "## Проверка гипотез"
   ]
  },
  {
   "cell_type": "markdown",
   "metadata": {
    "id": "Im936VVi_Zcu"
   },
   "source": [
    "### Сравнение поведения пользователей двух столиц"
   ]
  },
  {
   "cell_type": "markdown",
   "metadata": {
    "id": "nwt_MuaL_Zcu"
   },
   "source": [
    "Первая гипотеза утверждает, что пользователи по-разному слушают музыку в Москве и Санкт-Петербурге. Проверьте это предположение по данным о трёх днях недели — понедельнике, среде и пятнице. Для этого:\n",
    "\n",
    "* Разделите пользователей Москвы и Санкт-Петербурга\n",
    "* Сравните, сколько треков послушала каждая группа пользователей в понедельник, среду и пятницу.\n"
   ]
  },
  {
   "cell_type": "markdown",
   "metadata": {
    "id": "8Dw_YMmT_Zcu"
   },
   "source": [
    "Для тренировки сначала выполните каждый из расчётов по отдельности. \n",
    "\n",
    "Оцените активность пользователей в каждом городе. Сгруппируйте данные по городу и посчитайте прослушивания в каждой группе.\n",
    "\n"
   ]
  },
  {
   "cell_type": "code",
   "execution_count": 18,
   "metadata": {
    "id": "0_Qs96oh_Zcu"
   },
   "outputs": [
    {
     "data": {
      "text/plain": [
       "city\n",
       "Moscow              42741\n",
       "Saint-Petersburg    18512\n",
       "Name: user_id, dtype: int64"
      ]
     },
     "execution_count": 18,
     "metadata": {},
     "output_type": "execute_result"
    }
   ],
   "source": [
    "df.groupby('city')['user_id'].count()"
   ]
  },
  {
   "cell_type": "markdown",
   "metadata": {
    "id": "dzli3w8o_Zcu"
   },
   "source": [
    "В Москве прослушиваний больше, чем в Петербурге. Из этого не следует, что московские пользователи чаще слушают музыку. Просто самих пользователей в Москве больше.\n",
    "\n",
    "Теперь сгруппируйте данные по дню недели и подсчитайте прослушивания в понедельник, среду и пятницу. Учтите, что в данных есть информация только о прослушиваниях только за эти дни.\n"
   ]
  },
  {
   "cell_type": "code",
   "execution_count": 19,
   "metadata": {
    "id": "uZMKjiJz_Zcu"
   },
   "outputs": [
    {
     "data": {
      "text/plain": [
       "day\n",
       "Friday       21840\n",
       "Monday       21354\n",
       "Wednesday    18059\n",
       "Name: user_id, dtype: int64"
      ]
     },
     "execution_count": 19,
     "metadata": {},
     "output_type": "execute_result"
    }
   ],
   "source": [
    "df.groupby('day')['user_id'] .count()   # Подсчёт прослушиваний в каждый из трёх дней"
   ]
  },
  {
   "cell_type": "markdown",
   "metadata": {
    "id": "cC2tNrlL_Zcu"
   },
   "source": [
    "В среднем пользователи из двух городов менее активны по средам. Но картина может измениться, если рассмотреть каждый город в отдельности."
   ]
  },
  {
   "cell_type": "markdown",
   "metadata": {
    "id": "POzs8bGa_Zcu"
   },
   "source": [
    "Вы видели, как работает группировка по городу и по дням недели. Теперь напишите функцию, которая объединит два эти расчёта.\n",
    "\n",
    "Создайте функцию `number_tracks()`, которая посчитает прослушивания для заданного дня и города. Ей понадобятся два параметра:\n",
    "* день недели,\n",
    "* название города.\n",
    "\n",
    "В функции сохраните в переменную строки исходной таблицы, у которых значение:\n",
    "  * в колонке `day` равно параметру `day`,\n",
    "  * в колонке `city` равно параметру `city`.\n",
    "\n",
    "Для этого примените последовательную фильтрацию с логической индексацией.\n",
    "\n",
    "Затем посчитайте значения в столбце `user_id` получившейся таблицы. Результат сохраните в новую переменную. Верните эту переменную из функции."
   ]
  },
  {
   "cell_type": "code",
   "execution_count": 20,
   "metadata": {
    "id": "Nz3GdQB1_Zcu"
   },
   "outputs": [],
   "source": [
    " # <создание функции number_tracks()>\n",
    "def number_tracks(day, city):                              # Объявляется функция с двумя параметрами: day, city.\n",
    "    track_list = df[df['day'] == day]                      # В переменной track_list сохраняются те строки таблицы df, для которых \n",
    "    track_list = track_list[track_list['city'] == city]    # значение в столбце 'day' равно параметру day и одновременно значение\n",
    "                                                           # в столбце 'city' равно параметру city (используйте последовательную фильтрацию\n",
    "                                                           # с помощью логической индексации).\n",
    "    track_list_count = track_list['user_id'].count()       # В переменной track_list_count сохраняется число значений столбца 'user_id',\n",
    "                                                           # рассчитанное методом count() для таблицы track_list.\n",
    "    return track_list_count                                # Функция возвращает число - значение track_list_count.\n",
    "\n",
    " # Функция для подсчёта прослушиваний для конкретного города и дня.\n",
    " # С помощью последовательной фильтрации с логической индексацией она \n",
    " # сначала получит из исходной таблицы строки с нужным днём,\n",
    " # затем из результата отфильтрует строки с нужным городом,\n",
    " # методом count() посчитает количество значений в колонке user_id. \n",
    " # Это количество функция вернёт в качестве результата"
   ]
  },
  {
   "cell_type": "markdown",
   "metadata": {
    "id": "ytf7xFrFJQ2r"
   },
   "source": [
    "Вызовите `number_tracks()` шесть раз, меняя значение параметров — так, чтобы получить данные для каждого города в каждый из трёх дней."
   ]
  },
  {
   "cell_type": "code",
   "execution_count": 21,
   "metadata": {
    "id": "rJcRATNQ_Zcu"
   },
   "outputs": [
    {
     "data": {
      "text/plain": [
       "15740"
      ]
     },
     "execution_count": 21,
     "metadata": {},
     "output_type": "execute_result"
    }
   ],
   "source": [
    "number_tracks('Monday', 'Moscow') # количество прослушиваний в Москве по понедельникам"
   ]
  },
  {
   "cell_type": "code",
   "execution_count": 22,
   "metadata": {
    "id": "hq_ncZ5T_Zcu"
   },
   "outputs": [
    {
     "data": {
      "text/plain": [
       "5614"
      ]
     },
     "execution_count": 22,
     "metadata": {},
     "output_type": "execute_result"
    }
   ],
   "source": [
    "number_tracks('Monday', 'Saint-Petersburg') # количество прослушиваний в Санкт-Петербурге по понедельникам"
   ]
  },
  {
   "cell_type": "code",
   "execution_count": 23,
   "metadata": {
    "id": "_NTy2VPU_Zcu"
   },
   "outputs": [
    {
     "data": {
      "text/plain": [
       "11056"
      ]
     },
     "execution_count": 23,
     "metadata": {},
     "output_type": "execute_result"
    }
   ],
   "source": [
    "number_tracks('Wednesday', 'Moscow') # количество прослушиваний в Москве по средам"
   ]
  },
  {
   "cell_type": "code",
   "execution_count": 24,
   "metadata": {
    "id": "j2y3TAwo_Zcu"
   },
   "outputs": [
    {
     "data": {
      "text/plain": [
       "7003"
      ]
     },
     "execution_count": 24,
     "metadata": {},
     "output_type": "execute_result"
    }
   ],
   "source": [
    "number_tracks('Wednesday', 'Saint-Petersburg') # количество прослушиваний в Санкт-Петербурге по средам"
   ]
  },
  {
   "cell_type": "code",
   "execution_count": 25,
   "metadata": {
    "id": "vYDw5u_K_Zcu"
   },
   "outputs": [
    {
     "data": {
      "text/plain": [
       "15945"
      ]
     },
     "execution_count": 25,
     "metadata": {},
     "output_type": "execute_result"
    }
   ],
   "source": [
    "number_tracks('Friday', 'Moscow') # количество прослушиваний в Москве по пятницам"
   ]
  },
  {
   "cell_type": "code",
   "execution_count": 26,
   "metadata": {
    "id": "8_yzFtW3_Zcu"
   },
   "outputs": [
    {
     "data": {
      "text/plain": [
       "5895"
      ]
     },
     "execution_count": 26,
     "metadata": {},
     "output_type": "execute_result"
    }
   ],
   "source": [
    "number_tracks('Friday', 'Saint-Petersburg') # количество прослушиваний в Санкт-Петербурге по пятницам"
   ]
  },
  {
   "cell_type": "markdown",
   "metadata": {
    "id": "7QXffbO-_Zcu"
   },
   "source": [
    "Создайте c помощью конструктора `pd.DataFrame` таблицу, где\n",
    "* названия колонок — `['city', 'monday', 'wednesday', 'friday']`;\n",
    "* данные — результаты, которые вы получили с помощью `number_tracks`."
   ]
  },
  {
   "cell_type": "code",
   "execution_count": 27,
   "metadata": {
    "id": "APAcLpOr_Zcu"
   },
   "outputs": [
    {
     "data": {
      "text/html": [
       "<div>\n",
       "<style scoped>\n",
       "    .dataframe tbody tr th:only-of-type {\n",
       "        vertical-align: middle;\n",
       "    }\n",
       "\n",
       "    .dataframe tbody tr th {\n",
       "        vertical-align: top;\n",
       "    }\n",
       "\n",
       "    .dataframe thead th {\n",
       "        text-align: right;\n",
       "    }\n",
       "</style>\n",
       "<table border=\"1\" class=\"dataframe\">\n",
       "  <thead>\n",
       "    <tr style=\"text-align: right;\">\n",
       "      <th></th>\n",
       "      <th>city</th>\n",
       "      <th>monday</th>\n",
       "      <th>wednesday</th>\n",
       "      <th>friday</th>\n",
       "    </tr>\n",
       "  </thead>\n",
       "  <tbody>\n",
       "    <tr>\n",
       "      <td>0</td>\n",
       "      <td>Moscow</td>\n",
       "      <td>15740</td>\n",
       "      <td>11056</td>\n",
       "      <td>15945</td>\n",
       "    </tr>\n",
       "    <tr>\n",
       "      <td>1</td>\n",
       "      <td>Saint-Petersburg</td>\n",
       "      <td>5614</td>\n",
       "      <td>7003</td>\n",
       "      <td>5895</td>\n",
       "    </tr>\n",
       "  </tbody>\n",
       "</table>\n",
       "</div>"
      ],
      "text/plain": [
       "               city  monday  wednesday  friday\n",
       "0            Moscow   15740      11056   15945\n",
       "1  Saint-Petersburg    5614       7003    5895"
      ]
     },
     "execution_count": 27,
     "metadata": {},
     "output_type": "execute_result"
    }
   ],
   "source": [
    "columns = ['city', 'monday', 'wednesday', 'friday']\n",
    "data = [\n",
    "    ['Moscow', 15740, 11056, 15945],\n",
    "    ['Saint-Petersburg', 5614, 7003, 5895]\n",
    "]\n",
    "pd.DataFrame(data=data, columns=columns) # Таблица с результатами"
   ]
  },
  {
   "cell_type": "markdown",
   "metadata": {},
   "source": [
    "<div class=\"alert alert-success\">\n",
    "<b>✔️ Комментарий ревьюера:</b> \n",
    "<br>Датафрейм построен верно. Молодец!\n",
    "</div>\n",
    "\n",
    "<div class=\"alert alert-warning\">\n",
    "<b>⚠️ Комментарий ревьюера:</b> \n",
    "<br>Альтернативное решение:\n",
    "    \n",
    "    info = pd.DataFrame(data=[['Москва', 15740, 11056, 15945], ['Санкт-Петербург', 5614, 7003, 5895]], columns=['city', 'monday', 'wednesday', 'friday'])\n",
    "</div>\n",
    "\n",
    "<div class=\"alert alert-info\">\n",
    "<b>Комментарий студента:</b>\n",
    "<br> Здесь вопрос нсколько это будет читаемо? Какую длину списков data  и columns обычно пишут так?  \n",
    "</div>"
   ]
  },
  {
   "cell_type": "markdown",
   "metadata": {},
   "source": [
    "<div class=\"alert alert-success\">\n",
    "<b>✔️ Комментарий ревьюера v2:</b> \n",
    "<br>Согласен, что твой вариант более наглядный! И хорошо, что ты знаешь оба метода) Можно решение в одну строчку сделать немного лучше\n",
    "    \n",
    "    info = pd.DataFrame(\n",
    "    data=[['Москва', 15740, 11056, 15945], ['Санкт-Петербург', 5614, 7003, 5895]], \n",
    "    columns=['city', 'monday', 'wednesday', 'friday'])\n",
    "</div>\n",
    "\n",
    "<div class=\"alert alert-info\">\n",
    "<b>Комментарий студента:</b>\n",
    "<br> Красиво получилось. Стащила)\n",
    "</div>"
   ]
  },
  {
   "cell_type": "markdown",
   "metadata": {
    "id": "-EgPIHYu_Zcu"
   },
   "source": [
    "**Выводы**\n",
    "\n",
    "Данные показывают разницу поведения пользователей:\n",
    "\n",
    "- В Москве пик прослушиваний приходится на понедельник и пятницу, а в среду заметен спад.\n",
    "- В Петербурге, наоборот, больше слушают музыку по средам. Активность в понедельник и пятницу здесь почти в равной мере уступает среде.\n",
    "\n",
    "Значит, данные говорят в пользу первой гипотезы."
   ]
  },
  {
   "cell_type": "markdown",
   "metadata": {
    "id": "atZAxtq4_Zcu"
   },
   "source": [
    "### Музыка в начале и в конце недели"
   ]
  },
  {
   "cell_type": "markdown",
   "metadata": {
    "id": "eXrQqXFH_Zcu"
   },
   "source": [
    "Согласно второй гипотезе, утром в понедельник в Москве преобладают одни жанры, а в Петербурге — другие. Так же и вечером пятницы преобладают разные жанры — в зависимости от города."
   ]
  },
  {
   "cell_type": "markdown",
   "metadata": {
    "id": "S8UcW6Hw_Zcu"
   },
   "source": [
    "Сохраните таблицы с данными в две переменные:\n",
    "* по Москве — в `moscow_general`;\n",
    "* по Санкт-Петербургу — в `spb_general`."
   ]
  },
  {
   "cell_type": "code",
   "execution_count": 28,
   "metadata": {
    "id": "qeaFfM_P_Zcu"
   },
   "outputs": [],
   "source": [
    "moscow_general = df[df['city'] == 'Moscow'] # получение таблицы moscow_general из тех строк таблицы df, \n",
    "                                            # для которых значение в столбце 'city' равно 'Moscow'\n",
    "#display(moscow_general)"
   ]
  },
  {
   "cell_type": "code",
   "execution_count": 29,
   "metadata": {
    "id": "ORaVRKto_Zcu"
   },
   "outputs": [],
   "source": [
    "spb_general = df[df['city'] == 'Saint-Petersburg'] # получение таблицы spb_general из тех строк таблицы df,\n",
    "                                                   # для которых значение в столбце 'city' равно 'Saint-Petersburg'\n",
    "#display(spb_general)"
   ]
  },
  {
   "cell_type": "markdown",
   "metadata": {
    "id": "MEJV-CX2_Zcu"
   },
   "source": [
    "Создайте функцию `genre_weekday()` с четырьмя параметрами:\n",
    "* таблица (датафрейм) с данными,\n",
    "* день недели,\n",
    "* начальная временная метка в формате 'hh:mm', \n",
    "* последняя временная метка в формате 'hh:mm'.\n",
    "\n",
    "Функция должна вернуть информацию о топ-10 жанров тех треков, которые прослушивали в указанный день, в промежутке между двумя отметками времени."
   ]
  },
  {
   "cell_type": "code",
   "execution_count": 30,
   "metadata": {
    "id": "laJT9BYl_Zcu"
   },
   "outputs": [],
   "source": [
    "def genre_weekday(table, day, time1, time2):  # Объявление функции genre_weekday() с параметрами table, day, time1, time2,\n",
    "  # которая возвращает информацию о самых популярных жанрах в указанный день в\n",
    "  # заданное время:\n",
    "    genre_df = table[(table['day'] == day) & (table['time'] > time1) & (table['time'] < time2)]  # 1) в переменную genre_df сохраняются те строки переданного датафрейма table, для\n",
    "  #    которых одновременно:\n",
    "  #    - значение в столбце day равно значению аргумента day\n",
    "  #    - значение в столбце time больше значения аргумента time1\n",
    "  #    - значение в столбце time меньше значения аргумента time2\n",
    "  #    Используйте последовательную фильтрацию с помощью логической индексации.\n",
    "    genre_df_count = genre_df.groupby('genre')['user_id'] .count()  # 2) сгруппировать датафрейм genre_df по столбцу genre, взять один из его\n",
    "  #    столбцов и посчитать методом count() количество записей для каждого из\n",
    "  #    присутствующих жанров, получившийся Series записать в переменную\n",
    "  #    genre_df_count\n",
    "    genre_df_sorted = genre_df_count.sort_values(ascending=False)  # 3) отсортировать genre_df_count по убыванию встречаемости и сохранить\n",
    "  #    в переменную genre_df_sorted\n",
    "    return genre_df_sorted.head(10)  # 4) вернуть Series из 10 первых значений genre_df_sorted, это будут топ-10\n",
    "  #    популярных жанров (в указанный день, в заданное время)"
   ]
  },
  {
   "cell_type": "markdown",
   "metadata": {},
   "source": [
    "<div class=\"alert alert-success\">\n",
    "<b>✔️ Комментарий ревьюера: </b> \n",
    "<br>Замечательно! Здесь тоже все верно.\n",
    "</div>\n",
    "\n",
    "<div class=\"alert alert-warning\">\n",
    "<b>⚠️ Комментарий ревьюера:</b> \n",
    "<br>Как можно это сделать другим способом:\n",
    "<br>1. В одну строку: \n",
    "    \n",
    "    genre_df = table[(table['day'] == day) & (table['time'] > time1) & (table['time'] < time2)]\n",
    "<br>2. Через метод query(): \n",
    "\n",
    "    genre_df = table.query('@day==day and @time1 < time < @time2')\n",
    "<br>Метод query вы будете изучать в следующем спринте, а пока про него можно почитать в документации pandas:\n",
    "\n",
    "\thttps://pandas.pydata.org/docs/reference/api/pandas.DataFrame.query.html\n",
    "</div>\n",
    "\n",
    "<div class=\"alert alert-info\">\n",
    "<b>Комментарий студента:</b>\n",
    "<br> Сколько условий можно соединить &? За дополнительную информацию спасибо.  \n",
    "</div>"
   ]
  },
  {
   "cell_type": "markdown",
   "metadata": {},
   "source": [
    "<div class=\"alert alert-success\">\n",
    "<b>✔️ Комментарий ревьюера v2:</b>\n",
    "<br>Сколько хочешь)\n",
    "</div>"
   ]
  },
  {
   "cell_type": "markdown",
   "metadata": {
    "id": "la2s2_PF_Zcu"
   },
   "source": [
    "Cравните результаты функции `genre_weekday()` для Москвы и Санкт-Петербурга в понедельник утром (с 7:00 до 11:00) и в пятницу вечером (с 17:00 до 23:00):"
   ]
  },
  {
   "cell_type": "code",
   "execution_count": 31,
   "metadata": {
    "id": "yz7itPUQ_Zcu"
   },
   "outputs": [
    {
     "data": {
      "text/plain": [
       "genre\n",
       "pop            781\n",
       "dance          549\n",
       "electronic     480\n",
       "rock           474\n",
       "hiphop         286\n",
       "ruspop         186\n",
       "world          181\n",
       "rusrap         175\n",
       "alternative    164\n",
       "unknown        161\n",
       "Name: user_id, dtype: int64"
      ]
     },
     "execution_count": 31,
     "metadata": {},
     "output_type": "execute_result"
    }
   ],
   "source": [
    "genre_weekday(moscow_general, 'Monday', '07:00', '11:00')\n",
    "# вызов функции для утра понедельника в Москве (вместо df — таблица moscow_general)\n",
    "# объекты, хранящие время, являются строками и сравниваются как строки\n",
    "# пример вызова: genre_weekday(moscow_general, 'Monday', '07:00', '11:00')"
   ]
  },
  {
   "cell_type": "code",
   "execution_count": 32,
   "metadata": {
    "id": "kwUcHPdy_Zcu"
   },
   "outputs": [
    {
     "data": {
      "text/plain": [
       "genre\n",
       "pop            218\n",
       "dance          182\n",
       "rock           162\n",
       "electronic     147\n",
       "hiphop          80\n",
       "ruspop          64\n",
       "alternative     58\n",
       "rusrap          55\n",
       "jazz            44\n",
       "classical       40\n",
       "Name: user_id, dtype: int64"
      ]
     },
     "execution_count": 32,
     "metadata": {},
     "output_type": "execute_result"
    }
   ],
   "source": [
    "genre_weekday(spb_general, 'Monday', '07:00', '11:00')\n",
    "# вызов функции для утра понедельника в Петербурге (вместо df — таблица spb_general)"
   ]
  },
  {
   "cell_type": "code",
   "execution_count": 33,
   "metadata": {
    "id": "EzXVRE1o_Zcu"
   },
   "outputs": [
    {
     "data": {
      "text/plain": [
       "genre\n",
       "pop            713\n",
       "rock           517\n",
       "dance          495\n",
       "electronic     482\n",
       "hiphop         273\n",
       "world          208\n",
       "ruspop         170\n",
       "alternative    163\n",
       "classical      163\n",
       "rusrap         142\n",
       "Name: user_id, dtype: int64"
      ]
     },
     "execution_count": 33,
     "metadata": {},
     "output_type": "execute_result"
    }
   ],
   "source": [
    "genre_weekday(moscow_general, 'Friday', '17:00', '23:00')\n",
    "# вызов функции для вечера пятницы в Москве"
   ]
  },
  {
   "cell_type": "code",
   "execution_count": 34,
   "metadata": {
    "id": "JZaEKu5v_Zcu"
   },
   "outputs": [
    {
     "data": {
      "text/plain": [
       "genre\n",
       "pop            256\n",
       "rock           216\n",
       "electronic     216\n",
       "dance          210\n",
       "hiphop          97\n",
       "alternative     63\n",
       "jazz            61\n",
       "classical       60\n",
       "rusrap          59\n",
       "world           54\n",
       "Name: user_id, dtype: int64"
      ]
     },
     "execution_count": 34,
     "metadata": {},
     "output_type": "execute_result"
    }
   ],
   "source": [
    "genre_weekday(spb_general, 'Friday', '17:00', '23:00')\n",
    "# вызов функции для вечера пятницы в в Петербурге"
   ]
  },
  {
   "cell_type": "markdown",
   "metadata": {
    "id": "wrCe4MNX_Zcu"
   },
   "source": [
    "**Выводы**\n",
    "\n",
    "Если сравнить топ-10 жанров в понедельник утром, можно сделать такие выводы:\n",
    "\n",
    "1. В Москве и Петербурге слушают похожую музыку. Единственное отличие — в московский рейтинг вошёл жанр “world”, а в петербургский — джаз и классика.\n",
    "\n",
    "2. В Москве пропущенных значений оказалось так много, что значение `'unknown'` заняло десятое место среди самых популярных жанров. Значит, пропущенные значения занимают существенную долю в данных и угрожают достоверности исследования.\n",
    "\n",
    "Вечер пятницы не меняет эту картину. Некоторые жанры поднимаются немного выше, другие спускаются, но в целом топ-10 остаётся тем же самым.\n",
    "\n",
    "Таким образом, вторая гипотеза подтвердилась лишь частично:\n",
    "* Пользователи слушают похожую музыку в начале недели и в конце.\n",
    "* Разница между Москвой и Петербургом не слишком выражена. В Москве чаще слушают русскую популярную музыку, в Петербурге — джаз.\n",
    "\n",
    "Однако пропуски в данных ставят под сомнение этот результат. В Москве их так много, что рейтинг топ-10 мог бы выглядеть иначе, если бы не утерянные  данные о жанрах."
   ]
  },
  {
   "cell_type": "markdown",
   "metadata": {
    "id": "JolODAqr_Zcu"
   },
   "source": [
    "### Жанровые предпочтения в Москве и Петербурге\n",
    "\n",
    "Гипотеза: Петербург — столица рэпа, музыку этого жанра там слушают чаще, чем в Москве.  А Москва — город контрастов, в котором, тем не менее, преобладает поп-музыка."
   ]
  },
  {
   "cell_type": "markdown",
   "metadata": {
    "id": "DlegSvaT_Zcu"
   },
   "source": [
    "Сгруппируйте таблицу `moscow_general` по жанру и посчитайте прослушивания треков каждого жанра методом `count()`. Затем отсортируйте результат в порядке убывания и сохраните его в таблице `moscow_genres`."
   ]
  },
  {
   "cell_type": "code",
   "execution_count": 35,
   "metadata": {
    "id": "r19lIPke_Zcu"
   },
   "outputs": [],
   "source": [
    "moscow_general = moscow_general.groupby('genre')['user_id'].count()   # одной строкой: группировка таблицы moscow_general по столбцу 'genre', \n",
    "                                                                      # подсчёт числа значений 'genre' в этой группировке методом count(), \n",
    "moscow_genres =  moscow_general.sort_values(ascending=False)          # сортировка получившегося Series в порядке убывания и сохранение в moscow_genres"
   ]
  },
  {
   "cell_type": "markdown",
   "metadata": {
    "id": "6kMuomxTiIr8"
   },
   "source": [
    "Выведите на экран первые десять строк `moscow_genres`:"
   ]
  },
  {
   "cell_type": "code",
   "execution_count": 36,
   "metadata": {
    "id": "WhCSooF8_Zcv"
   },
   "outputs": [
    {
     "data": {
      "text/plain": [
       "genre\n",
       "pop            5892\n",
       "dance          4435\n",
       "rock           3965\n",
       "electronic     3786\n",
       "hiphop         2096\n",
       "classical      1616\n",
       "world          1432\n",
       "alternative    1379\n",
       "ruspop         1372\n",
       "rusrap         1161\n",
       "Name: user_id, dtype: int64"
      ]
     },
     "metadata": {},
     "output_type": "display_data"
    }
   ],
   "source": [
    "display(moscow_genres.head(10)) # просмотр первых 10 строк moscow_genres"
   ]
  },
  {
   "cell_type": "markdown",
   "metadata": {
    "id": "cnPG2vnN_Zcv"
   },
   "source": [
    "Теперь повторите то же и для Петербурга.\n",
    "\n",
    "Сгруппируйте таблицу `spb_general` по жанру. Посчитайте прослушивания треков каждого жанра. Результат отсортируйте в порядке убывания и сохраните в таблице `spb_genres`:\n"
   ]
  },
  {
   "cell_type": "code",
   "execution_count": 37,
   "metadata": {
    "id": "gluLIpE7_Zcv"
   },
   "outputs": [],
   "source": [
    "spb_general = spb_general.groupby('genre')['user_id'].count()  # одной строкой: группировка таблицы spb_general по столбцу 'genre', \n",
    "                                                               # подсчёт числа значений 'genre' в этой группировке методом count(), \n",
    "spb_general = spb_general.sort_values(ascending=False)         # сортировка получившегося Series в порядке убывания и сохранение в spb_genres"
   ]
  },
  {
   "cell_type": "markdown",
   "metadata": {
    "id": "5Doha_ODgyQ8"
   },
   "source": [
    "Выведите на экран первые десять строк `spb_genres`:"
   ]
  },
  {
   "cell_type": "code",
   "execution_count": 38,
   "metadata": {
    "id": "uaGJHjVU_Zcv"
   },
   "outputs": [
    {
     "data": {
      "text/plain": [
       "genre\n",
       "pop            2431\n",
       "dance          1932\n",
       "rock           1879\n",
       "electronic     1736\n",
       "hiphop          960\n",
       "alternative     649\n",
       "classical       646\n",
       "rusrap          564\n",
       "ruspop          538\n",
       "world           515\n",
       "Name: user_id, dtype: int64"
      ]
     },
     "metadata": {},
     "output_type": "display_data"
    }
   ],
   "source": [
    "display(spb_general.head(10)) # просмотр первых 10 строк spb_genres"
   ]
  },
  {
   "cell_type": "markdown",
   "metadata": {
    "id": "RY51YJYu_Zcv"
   },
   "source": [
    "**Выводы**"
   ]
  },
  {
   "cell_type": "markdown",
   "metadata": {
    "id": "nVhnJEm__Zcv"
   },
   "source": [
    "Гипотеза частично подтвердилась:\n",
    "* Поп-музыка — самый популярный жанр в Москве, как и предполагала гипотеза. Более того, в топ-10 жанров встречается близкий жанр — русская популярная музыка.\n",
    "* Вопреки ожиданиям, рэп одинаково популярен в Москве и Петербурге. \n"
   ]
  },
  {
   "cell_type": "markdown",
   "metadata": {},
   "source": [
    "<div class=\"alert alert-success\">\n",
    "<b>✔️ Комментарий ревьюера:</b> \n",
    "<br>Отлично, с жанровыми предпочтениями тоже разобрались.\n",
    "</div>"
   ]
  },
  {
   "cell_type": "markdown",
   "metadata": {
    "id": "ykKQ0N65_Zcv"
   },
   "source": [
    "## Итоги исследования"
   ]
  },
  {
   "cell_type": "markdown",
   "metadata": {
    "id": "tjUwbHb3_Zcv"
   },
   "source": [
    "Вы проверили три гипотезы и установили:\n",
    "\n",
    "1. День недели по-разному влияет на активность пользователей в Москве и Петербурге. \n",
    "\n",
    "Первая гипотеза полностью подтвердилась.\n",
    "\n",
    "2. Музыкальные предпочтения не сильно меняются в течение недели — будь то Москва или Петербург. Небольшие различия заметны в начале недели, по понедельникам:\n",
    "* в Москве слушают музыку жанра “world”,\n",
    "* в Петербурге — джаз и классику.\n",
    "\n",
    "Таким образом, вторая гипотеза подтвердилась лишь отчасти. Этот результат мог оказаться иным, если бы не пропуски в данных.\n",
    "\n",
    "3. Во вкусах пользователей Москвы и Петербурга больше общего чем различий. Вопреки ожиданиям, предпочтения жанров в Петербурге напоминают московские.\n",
    "\n",
    "Третья гипотеза не подтвердилась. Если различия в предпочтениях и существуют, на основной массе пользователей они незаметны.\n",
    "\n",
    "**На практике исследования содержат проверки статистических гипотез.**\n",
    "Из данных одного сервиса не всегда можно сделать вывод о всех жителях города.\n",
    "Проверки статистических гипотез покажут, насколько они достоверны, исходя из имеющихся данных. \n",
    "С методами проверок гипотез вы ещё познакомитесь в следующих темах."
   ]
  },
  {
   "cell_type": "markdown",
   "metadata": {},
   "source": [
    "<div class=\"alert alert-success\">\n",
    "<b>✔️ Итоговый комментарий ревьюера:</b>\n",
    "<br>Я бы мог принять твою работу с первого раза, но хочу дать тебе возможность задать мне вопросы) Если вопросов нет, то я с радостью приму проект)\n",
    "</div>"
   ]
  },
  {
   "cell_type": "markdown",
   "metadata": {},
   "source": [
    "<div class=\"alert alert-success\">\n",
    "<b>✔️ Итоговый комментарий ревьюера v2:</b>\n",
    "<br>У тебя отличная работа! Здорово, что ты проработала жёлтые комментарии. Практика никогда не бывает лишней)\n",
    "<br>Ты продемонстрировала владение базовыми методами pandas, которые очень пригодятся тебе в будущих проектах. Желаю удачи в дальнейшем обучении! 😉\n",
    "</div>"
   ]
  }
 ],
 "metadata": {
  "ExecuteTimeLog": [
   {
    "duration": 236,
    "start_time": "2022-01-21T07:17:31.077Z"
   },
   {
    "duration": 198,
    "start_time": "2022-01-21T07:17:47.376Z"
   },
   {
    "duration": 555,
    "start_time": "2022-01-21T07:17:53.825Z"
   },
   {
    "duration": 2,
    "start_time": "2022-01-21T07:18:22.280Z"
   },
   {
    "duration": 129,
    "start_time": "2022-01-21T07:18:26.949Z"
   },
   {
    "duration": 16,
    "start_time": "2022-01-21T07:18:32.775Z"
   },
   {
    "duration": 9,
    "start_time": "2022-01-21T07:19:22.408Z"
   },
   {
    "duration": 22,
    "start_time": "2022-01-21T07:23:02.912Z"
   },
   {
    "duration": 4,
    "start_time": "2022-01-21T07:49:14.578Z"
   },
   {
    "duration": 19,
    "start_time": "2022-01-21T07:54:42.102Z"
   },
   {
    "duration": 4,
    "start_time": "2022-01-21T07:55:05.010Z"
   },
   {
    "duration": 22,
    "start_time": "2022-01-21T07:58:45.775Z"
   },
   {
    "duration": 448,
    "start_time": "2022-01-21T08:09:33.206Z"
   },
   {
    "duration": 106,
    "start_time": "2022-01-21T08:16:02.019Z"
   },
   {
    "duration": 74,
    "start_time": "2022-01-21T08:22:27.526Z"
   },
   {
    "duration": 17,
    "start_time": "2022-01-21T08:24:39.166Z"
   },
   {
    "duration": 22,
    "start_time": "2022-01-21T08:25:00.299Z"
   },
   {
    "duration": 61,
    "start_time": "2022-01-21T08:25:37.231Z"
   },
   {
    "duration": 79,
    "start_time": "2022-01-21T08:27:34.215Z"
   },
   {
    "duration": 49,
    "start_time": "2022-01-21T08:27:50.800Z"
   },
   {
    "duration": 38,
    "start_time": "2022-01-21T08:37:19.781Z"
   },
   {
    "duration": 78,
    "start_time": "2022-01-21T08:53:52.000Z"
   },
   {
    "duration": 4,
    "start_time": "2022-01-21T08:54:01.640Z"
   },
   {
    "duration": 16,
    "start_time": "2022-01-21T08:58:05.892Z"
   },
   {
    "duration": 6,
    "start_time": "2022-01-21T08:58:50.280Z"
   },
   {
    "duration": 45,
    "start_time": "2022-01-21T08:59:56.728Z"
   },
   {
    "duration": 221,
    "start_time": "2022-01-21T15:13:50.395Z"
   },
   {
    "duration": 188,
    "start_time": "2022-01-21T15:17:09.651Z"
   },
   {
    "duration": 28,
    "start_time": "2022-01-21T15:38:27.018Z"
   },
   {
    "duration": 5927,
    "start_time": "2022-01-21T15:41:51.048Z"
   },
   {
    "duration": 66,
    "start_time": "2022-01-21T15:42:54.034Z"
   },
   {
    "duration": 630,
    "start_time": "2022-01-21T15:43:51.425Z"
   },
   {
    "duration": 481,
    "start_time": "2022-01-21T15:45:55.873Z"
   },
   {
    "duration": 491,
    "start_time": "2022-01-21T15:47:40.835Z"
   },
   {
    "duration": 3,
    "start_time": "2022-01-21T16:01:42.872Z"
   },
   {
    "duration": 8,
    "start_time": "2022-01-21T16:03:54.600Z"
   },
   {
    "duration": 8,
    "start_time": "2022-01-21T16:04:00.819Z"
   },
   {
    "duration": 33,
    "start_time": "2022-01-21T16:06:39.193Z"
   },
   {
    "duration": 33,
    "start_time": "2022-01-21T16:07:01.071Z"
   },
   {
    "duration": 14,
    "start_time": "2022-01-21T16:07:47.833Z"
   },
   {
    "duration": 10,
    "start_time": "2022-01-21T16:10:13.100Z"
   },
   {
    "duration": 10,
    "start_time": "2022-01-21T16:10:35.053Z"
   },
   {
    "duration": 192,
    "start_time": "2022-01-21T16:12:12.598Z"
   },
   {
    "duration": 9,
    "start_time": "2022-01-21T16:12:35.626Z"
   },
   {
    "duration": 31,
    "start_time": "2022-01-21T16:17:27.050Z"
   },
   {
    "duration": 215,
    "start_time": "2022-01-21T16:17:56.857Z"
   },
   {
    "duration": 16,
    "start_time": "2022-01-21T16:18:06.343Z"
   },
   {
    "duration": 198,
    "start_time": "2022-01-21T16:19:25.430Z"
   },
   {
    "duration": 10,
    "start_time": "2022-01-21T16:19:47.001Z"
   },
   {
    "duration": 8,
    "start_time": "2022-01-21T16:22:50.368Z"
   },
   {
    "duration": 15,
    "start_time": "2022-01-21T16:23:57.489Z"
   },
   {
    "duration": 3,
    "start_time": "2022-01-21T16:28:23.213Z"
   },
   {
    "duration": 3,
    "start_time": "2022-01-21T16:28:29.205Z"
   },
   {
    "duration": 10,
    "start_time": "2022-01-21T16:28:42.810Z"
   },
   {
    "duration": 9,
    "start_time": "2022-01-21T16:28:45.826Z"
   },
   {
    "duration": 5,
    "start_time": "2022-01-21T16:29:11.731Z"
   },
   {
    "duration": 11,
    "start_time": "2022-01-21T16:29:26.049Z"
   },
   {
    "duration": 54,
    "start_time": "2022-01-21T16:38:51.022Z"
   },
   {
    "duration": 317,
    "start_time": "2022-01-21T16:39:22.949Z"
   },
   {
    "duration": 13,
    "start_time": "2022-01-21T16:39:30.289Z"
   },
   {
    "duration": 9,
    "start_time": "2022-01-21T16:40:06.931Z"
   },
   {
    "duration": 276,
    "start_time": "2022-01-21T16:40:24.094Z"
   },
   {
    "duration": 186,
    "start_time": "2022-01-21T16:40:42.159Z"
   },
   {
    "duration": 6,
    "start_time": "2022-01-21T16:41:08.928Z"
   },
   {
    "duration": 10,
    "start_time": "2022-01-21T16:42:54.420Z"
   },
   {
    "duration": 58,
    "start_time": "2022-01-21T16:49:45.732Z"
   },
   {
    "duration": 11,
    "start_time": "2022-01-21T16:52:19.334Z"
   },
   {
    "duration": 11,
    "start_time": "2022-01-21T16:52:51.996Z"
   },
   {
    "duration": 65,
    "start_time": "2022-01-21T17:03:23.183Z"
   },
   {
    "duration": 4,
    "start_time": "2022-01-21T17:04:19.586Z"
   },
   {
    "duration": 441,
    "start_time": "2022-01-21T17:05:25.749Z"
   },
   {
    "duration": 409,
    "start_time": "2022-01-21T17:08:24.104Z"
   },
   {
    "duration": 4,
    "start_time": "2022-01-21T17:12:19.765Z"
   },
   {
    "duration": 2962,
    "start_time": "2022-01-21T17:12:23.153Z"
   },
   {
    "duration": 4,
    "start_time": "2022-01-21T17:13:08.171Z"
   },
   {
    "duration": 3190,
    "start_time": "2022-01-21T17:13:11.091Z"
   },
   {
    "duration": 3,
    "start_time": "2022-01-21T17:14:16.510Z"
   },
   {
    "duration": 9,
    "start_time": "2022-01-21T17:14:20.368Z"
   },
   {
    "duration": 4,
    "start_time": "2022-01-21T17:15:23.854Z"
   },
   {
    "duration": 5688,
    "start_time": "2022-01-21T17:15:27.041Z"
   },
   {
    "duration": 3116,
    "start_time": "2022-01-21T17:17:56.072Z"
   },
   {
    "duration": 1033,
    "start_time": "2022-01-21T17:18:38.685Z"
   },
   {
    "duration": 4,
    "start_time": "2022-01-21T17:24:46.823Z"
   },
   {
    "duration": 428,
    "start_time": "2022-01-21T17:24:57.285Z"
   },
   {
    "duration": 908,
    "start_time": "2022-01-21T17:26:25.716Z"
   },
   {
    "duration": 437,
    "start_time": "2022-01-21T17:42:40.889Z"
   },
   {
    "duration": 3,
    "start_time": "2022-01-21T17:42:52.333Z"
   },
   {
    "duration": 16,
    "start_time": "2022-01-21T17:42:57.279Z"
   },
   {
    "duration": 16,
    "start_time": "2022-01-21T17:45:34.052Z"
   },
   {
    "duration": 14,
    "start_time": "2022-01-21T17:46:15.694Z"
   },
   {
    "duration": 14,
    "start_time": "2022-01-21T17:46:18.616Z"
   },
   {
    "duration": 17,
    "start_time": "2022-01-21T17:46:59.041Z"
   },
   {
    "duration": 16,
    "start_time": "2022-01-21T17:47:02.841Z"
   },
   {
    "duration": 10,
    "start_time": "2022-01-21T18:00:49.504Z"
   },
   {
    "duration": 4826,
    "start_time": "2022-01-21T18:02:26.054Z"
   },
   {
    "duration": 11,
    "start_time": "2022-01-21T18:02:50.534Z"
   },
   {
    "duration": 11,
    "start_time": "2022-01-21T18:03:47.500Z"
   },
   {
    "duration": 358,
    "start_time": "2022-01-22T15:25:03.349Z"
   },
   {
    "duration": 722,
    "start_time": "2022-01-22T15:25:52.383Z"
   },
   {
    "duration": 206,
    "start_time": "2022-01-22T15:25:53.108Z"
   },
   {
    "duration": 32,
    "start_time": "2022-01-22T15:25:53.317Z"
   },
   {
    "duration": 39,
    "start_time": "2022-01-22T15:25:53.352Z"
   },
   {
    "duration": 5,
    "start_time": "2022-01-22T15:25:53.394Z"
   },
   {
    "duration": 55,
    "start_time": "2022-01-22T15:25:53.402Z"
   },
   {
    "duration": 15,
    "start_time": "2022-01-22T15:25:53.460Z"
   },
   {
    "duration": 34,
    "start_time": "2022-01-22T15:25:53.478Z"
   },
   {
    "duration": 23,
    "start_time": "2022-01-22T15:25:53.533Z"
   },
   {
    "duration": 28,
    "start_time": "2022-01-22T15:25:53.560Z"
   },
   {
    "duration": 108,
    "start_time": "2022-01-22T15:25:53.590Z"
   },
   {
    "duration": 102,
    "start_time": "2022-01-22T15:25:53.700Z"
   },
   {
    "duration": 86,
    "start_time": "2022-01-22T15:25:53.805Z"
   },
   {
    "duration": 65,
    "start_time": "2022-01-22T15:25:53.894Z"
   },
   {
    "duration": 4,
    "start_time": "2022-01-22T15:25:53.962Z"
   },
   {
    "duration": 31,
    "start_time": "2022-01-22T15:25:53.968Z"
   },
   {
    "duration": 70,
    "start_time": "2022-01-22T15:25:54.001Z"
   },
   {
    "duration": 16,
    "start_time": "2022-01-22T15:25:54.073Z"
   },
   {
    "duration": 43,
    "start_time": "2022-01-22T15:25:54.091Z"
   },
   {
    "duration": 5,
    "start_time": "2022-01-22T15:25:54.136Z"
   },
   {
    "duration": 27,
    "start_time": "2022-01-22T15:25:54.143Z"
   },
   {
    "duration": 18,
    "start_time": "2022-01-22T15:25:54.172Z"
   },
   {
    "duration": 40,
    "start_time": "2022-01-22T15:25:54.193Z"
   },
   {
    "duration": 19,
    "start_time": "2022-01-22T15:25:54.235Z"
   },
   {
    "duration": 20,
    "start_time": "2022-01-22T15:25:54.256Z"
   },
   {
    "duration": 54,
    "start_time": "2022-01-22T15:25:54.278Z"
   },
   {
    "duration": 12,
    "start_time": "2022-01-22T15:25:54.337Z"
   },
   {
    "duration": 31,
    "start_time": "2022-01-22T15:25:54.353Z"
   },
   {
    "duration": 47,
    "start_time": "2022-01-22T15:25:54.387Z"
   },
   {
    "duration": 3,
    "start_time": "2022-01-22T15:25:54.437Z"
   },
   {
    "duration": 9,
    "start_time": "2022-01-22T15:25:54.443Z"
   },
   {
    "duration": 12,
    "start_time": "2022-01-22T15:25:54.455Z"
   },
   {
    "duration": 7,
    "start_time": "2022-01-22T15:25:54.469Z"
   },
   {
    "duration": 11,
    "start_time": "2022-01-22T15:25:54.478Z"
   },
   {
    "duration": 6,
    "start_time": "2022-01-22T15:25:54.491Z"
   },
   {
    "duration": 32,
    "start_time": "2022-01-22T15:25:54.500Z"
   },
   {
    "duration": 3,
    "start_time": "2022-01-22T15:25:54.535Z"
   },
   {
    "duration": 7,
    "start_time": "2022-01-22T15:25:54.540Z"
   },
   {
    "duration": 15,
    "start_time": "2022-01-22T15:27:17.592Z"
   },
   {
    "duration": 103,
    "start_time": "2022-01-22T15:42:03.702Z"
   },
   {
    "duration": 152,
    "start_time": "2022-01-22T15:42:16.177Z"
   },
   {
    "duration": 444,
    "start_time": "2022-01-22T15:44:34.497Z"
   },
   {
    "duration": 6,
    "start_time": "2022-01-22T15:44:52.663Z"
   },
   {
    "duration": 6,
    "start_time": "2022-01-22T15:49:44.725Z"
   },
   {
    "duration": 587,
    "start_time": "2022-01-22T15:49:51.369Z"
   },
   {
    "duration": 30,
    "start_time": "2022-01-22T15:50:49.334Z"
   },
   {
    "duration": 700,
    "start_time": "2022-01-22T15:53:37.143Z"
   },
   {
    "duration": 5,
    "start_time": "2022-01-22T15:53:45.601Z"
   },
   {
    "duration": 676,
    "start_time": "2022-01-22T15:53:49.423Z"
   },
   {
    "duration": 6,
    "start_time": "2022-01-22T15:54:08.101Z"
   },
   {
    "duration": 608,
    "start_time": "2022-01-22T15:54:11.492Z"
   },
   {
    "duration": 5,
    "start_time": "2022-01-22T15:56:29.043Z"
   },
   {
    "duration": 34,
    "start_time": "2022-01-22T15:56:33.223Z"
   },
   {
    "duration": 6,
    "start_time": "2022-01-22T15:57:28.033Z"
   },
   {
    "duration": 32,
    "start_time": "2022-01-22T15:57:31.216Z"
   },
   {
    "duration": 10,
    "start_time": "2022-01-22T15:58:36.416Z"
   },
   {
    "duration": 34,
    "start_time": "2022-01-22T15:58:40.371Z"
   },
   {
    "duration": 285,
    "start_time": "2022-01-22T16:01:00.084Z"
   },
   {
    "duration": 26,
    "start_time": "2022-01-22T16:01:29.300Z"
   },
   {
    "duration": 6,
    "start_time": "2022-01-22T16:04:40.092Z"
   },
   {
    "duration": 8,
    "start_time": "2022-01-22T16:08:23.274Z"
   },
   {
    "duration": 37,
    "start_time": "2022-01-22T16:08:28.261Z"
   },
   {
    "duration": 26,
    "start_time": "2022-01-22T16:08:54.450Z"
   },
   {
    "duration": 6,
    "start_time": "2022-01-22T16:09:33.420Z"
   },
   {
    "duration": 36,
    "start_time": "2022-01-22T16:09:36.124Z"
   },
   {
    "duration": 5,
    "start_time": "2022-01-22T16:10:07.166Z"
   },
   {
    "duration": 561,
    "start_time": "2022-01-22T16:10:10.251Z"
   },
   {
    "duration": 6,
    "start_time": "2022-01-22T16:12:10.908Z"
   },
   {
    "duration": 25,
    "start_time": "2022-01-22T16:12:13.657Z"
   },
   {
    "duration": 7,
    "start_time": "2022-01-22T16:13:08.165Z"
   },
   {
    "duration": 25,
    "start_time": "2022-01-22T16:13:10.934Z"
   },
   {
    "duration": 18,
    "start_time": "2022-01-22T16:13:30.774Z"
   },
   {
    "duration": 6,
    "start_time": "2022-01-22T16:13:58.769Z"
   },
   {
    "duration": 26,
    "start_time": "2022-01-22T16:14:01.532Z"
   },
   {
    "duration": 6,
    "start_time": "2022-01-22T16:14:18.631Z"
   },
   {
    "duration": 25,
    "start_time": "2022-01-22T16:14:21.078Z"
   },
   {
    "duration": 24,
    "start_time": "2022-01-22T16:14:26.636Z"
   },
   {
    "duration": 22,
    "start_time": "2022-01-22T16:16:08.652Z"
   },
   {
    "duration": 16,
    "start_time": "2022-01-22T16:16:40.605Z"
   },
   {
    "duration": 12,
    "start_time": "2022-01-22T16:30:25.443Z"
   },
   {
    "duration": 7,
    "start_time": "2022-01-22T16:30:59.408Z"
   },
   {
    "duration": 11,
    "start_time": "2022-01-22T17:28:39.676Z"
   },
   {
    "duration": 7,
    "start_time": "2022-01-22T17:28:47.095Z"
   },
   {
    "duration": 21,
    "start_time": "2022-01-22T17:36:21.637Z"
   },
   {
    "duration": 13,
    "start_time": "2022-01-22T17:36:25.052Z"
   },
   {
    "duration": 6,
    "start_time": "2022-01-22T17:36:28.430Z"
   },
   {
    "duration": 25,
    "start_time": "2022-01-22T17:36:31.906Z"
   },
   {
    "duration": 17,
    "start_time": "2022-01-22T17:36:34.761Z"
   },
   {
    "duration": 22,
    "start_time": "2022-01-22T17:36:37.306Z"
   },
   {
    "duration": 16,
    "start_time": "2022-01-22T17:36:39.777Z"
   },
   {
    "duration": 14,
    "start_time": "2022-01-22T17:36:44.326Z"
   },
   {
    "duration": 7,
    "start_time": "2022-01-22T17:36:46.882Z"
   },
   {
    "duration": 10,
    "start_time": "2022-01-22T17:36:51.856Z"
   },
   {
    "duration": 6,
    "start_time": "2022-01-22T17:36:54.622Z"
   },
   {
    "duration": 614,
    "start_time": "2022-01-29T13:10:37.069Z"
   },
   {
    "duration": 144,
    "start_time": "2022-01-29T13:10:37.684Z"
   },
   {
    "duration": 18,
    "start_time": "2022-01-29T13:10:37.831Z"
   },
   {
    "duration": 27,
    "start_time": "2022-01-29T13:10:37.852Z"
   },
   {
    "duration": 6,
    "start_time": "2022-01-29T13:10:37.897Z"
   },
   {
    "duration": 22,
    "start_time": "2022-01-29T13:10:37.905Z"
   },
   {
    "duration": 4,
    "start_time": "2022-01-29T13:10:37.929Z"
   },
   {
    "duration": 26,
    "start_time": "2022-01-29T13:10:37.936Z"
   },
   {
    "duration": 48,
    "start_time": "2022-01-29T13:10:37.964Z"
   },
   {
    "duration": 25,
    "start_time": "2022-01-29T13:10:38.014Z"
   },
   {
    "duration": 88,
    "start_time": "2022-01-29T13:10:38.041Z"
   },
   {
    "duration": 82,
    "start_time": "2022-01-29T13:10:38.131Z"
   },
   {
    "duration": 54,
    "start_time": "2022-01-29T13:10:38.215Z"
   },
   {
    "duration": 61,
    "start_time": "2022-01-29T13:10:38.271Z"
   },
   {
    "duration": 3,
    "start_time": "2022-01-29T13:10:38.334Z"
   },
   {
    "duration": 19,
    "start_time": "2022-01-29T13:10:38.339Z"
   },
   {
    "duration": 64,
    "start_time": "2022-01-29T13:10:38.360Z"
   },
   {
    "duration": 12,
    "start_time": "2022-01-29T13:10:38.425Z"
   },
   {
    "duration": 16,
    "start_time": "2022-01-29T13:10:38.439Z"
   },
   {
    "duration": 8,
    "start_time": "2022-01-29T13:10:38.457Z"
   },
   {
    "duration": 57,
    "start_time": "2022-01-29T13:10:38.467Z"
   },
   {
    "duration": 18,
    "start_time": "2022-01-29T13:10:38.526Z"
   },
   {
    "duration": 15,
    "start_time": "2022-01-29T13:10:38.547Z"
   },
   {
    "duration": 16,
    "start_time": "2022-01-29T13:10:38.564Z"
   },
   {
    "duration": 17,
    "start_time": "2022-01-29T13:10:38.599Z"
   },
   {
    "duration": 19,
    "start_time": "2022-01-29T13:10:38.618Z"
   },
   {
    "duration": 16,
    "start_time": "2022-01-29T13:10:38.638Z"
   },
   {
    "duration": 17,
    "start_time": "2022-01-29T13:10:38.656Z"
   },
   {
    "duration": 30,
    "start_time": "2022-01-29T13:10:38.675Z"
   },
   {
    "duration": 10,
    "start_time": "2022-01-29T13:10:38.707Z"
   },
   {
    "duration": 41,
    "start_time": "2022-01-29T13:10:38.719Z"
   },
   {
    "duration": 18,
    "start_time": "2022-01-29T13:10:38.762Z"
   },
   {
    "duration": 25,
    "start_time": "2022-01-29T13:10:38.782Z"
   },
   {
    "duration": 19,
    "start_time": "2022-01-29T13:10:38.810Z"
   },
   {
    "duration": 17,
    "start_time": "2022-01-29T13:10:38.832Z"
   },
   {
    "duration": 7,
    "start_time": "2022-01-29T13:10:38.851Z"
   },
   {
    "duration": 37,
    "start_time": "2022-01-29T13:10:38.861Z"
   },
   {
    "duration": 6,
    "start_time": "2022-01-29T13:10:38.901Z"
   },
   {
    "duration": 238,
    "start_time": "2022-01-30T09:53:18.384Z"
   },
   {
    "duration": 660,
    "start_time": "2022-01-30T09:54:08.814Z"
   },
   {
    "duration": 154,
    "start_time": "2022-01-30T09:54:13.489Z"
   },
   {
    "duration": 19,
    "start_time": "2022-01-30T09:54:16.907Z"
   },
   {
    "duration": 52,
    "start_time": "2022-01-30T09:54:48.089Z"
   },
   {
    "duration": 309,
    "start_time": "2022-01-30T09:57:20.575Z"
   },
   {
    "duration": 622,
    "start_time": "2022-01-30T09:57:40.903Z"
   },
   {
    "duration": 157,
    "start_time": "2022-01-30T09:57:41.527Z"
   },
   {
    "duration": 24,
    "start_time": "2022-01-30T09:57:41.687Z"
   },
   {
    "duration": 30,
    "start_time": "2022-01-30T09:57:41.713Z"
   },
   {
    "duration": 5,
    "start_time": "2022-01-30T09:57:41.745Z"
   },
   {
    "duration": 31,
    "start_time": "2022-01-30T09:57:41.751Z"
   },
   {
    "duration": 25,
    "start_time": "2022-01-30T09:57:41.784Z"
   },
   {
    "duration": 43,
    "start_time": "2022-01-30T09:57:41.813Z"
   },
   {
    "duration": 20,
    "start_time": "2022-01-30T09:57:41.858Z"
   },
   {
    "duration": 49,
    "start_time": "2022-01-30T09:57:41.880Z"
   },
   {
    "duration": 98,
    "start_time": "2022-01-30T09:57:41.932Z"
   },
   {
    "duration": 120,
    "start_time": "2022-01-30T09:57:42.032Z"
   },
   {
    "duration": 98,
    "start_time": "2022-01-30T09:57:42.154Z"
   },
   {
    "duration": 84,
    "start_time": "2022-01-30T09:57:42.254Z"
   },
   {
    "duration": 4,
    "start_time": "2022-01-30T09:57:42.340Z"
   },
   {
    "duration": 35,
    "start_time": "2022-01-30T09:57:42.346Z"
   },
   {
    "duration": 91,
    "start_time": "2022-01-30T09:57:42.384Z"
   },
   {
    "duration": 30,
    "start_time": "2022-01-30T09:57:42.477Z"
   },
   {
    "duration": 20,
    "start_time": "2022-01-30T09:57:42.510Z"
   },
   {
    "duration": 5,
    "start_time": "2022-01-30T09:57:42.533Z"
   },
   {
    "duration": 26,
    "start_time": "2022-01-30T09:57:42.540Z"
   },
   {
    "duration": 41,
    "start_time": "2022-01-30T09:57:42.568Z"
   },
   {
    "duration": 17,
    "start_time": "2022-01-30T09:57:42.613Z"
   },
   {
    "duration": 16,
    "start_time": "2022-01-30T09:57:42.632Z"
   },
   {
    "duration": 21,
    "start_time": "2022-01-30T09:57:42.650Z"
   },
   {
    "duration": 46,
    "start_time": "2022-01-30T09:57:42.673Z"
   },
   {
    "duration": 10,
    "start_time": "2022-01-30T09:57:42.721Z"
   },
   {
    "duration": 17,
    "start_time": "2022-01-30T09:57:42.733Z"
   },
   {
    "duration": 16,
    "start_time": "2022-01-30T09:57:42.752Z"
   },
   {
    "duration": 14,
    "start_time": "2022-01-30T09:57:42.770Z"
   },
   {
    "duration": 44,
    "start_time": "2022-01-30T09:57:42.786Z"
   },
   {
    "duration": 17,
    "start_time": "2022-01-30T09:57:42.832Z"
   },
   {
    "duration": 26,
    "start_time": "2022-01-30T09:57:42.851Z"
   },
   {
    "duration": 42,
    "start_time": "2022-01-30T09:57:42.880Z"
   },
   {
    "duration": 19,
    "start_time": "2022-01-30T09:57:42.924Z"
   },
   {
    "duration": 7,
    "start_time": "2022-01-30T09:57:42.945Z"
   },
   {
    "duration": 12,
    "start_time": "2022-01-30T09:57:42.954Z"
   },
   {
    "duration": 17,
    "start_time": "2022-01-30T09:57:42.968Z"
   },
   {
    "duration": 46,
    "start_time": "2022-01-30T10:00:48.629Z"
   },
   {
    "duration": 4,
    "start_time": "2022-01-30T10:10:56.568Z"
   },
   {
    "duration": 606,
    "start_time": "2022-01-30T10:16:58.195Z"
   },
   {
    "duration": 155,
    "start_time": "2022-01-30T10:16:58.803Z"
   },
   {
    "duration": 18,
    "start_time": "2022-01-30T10:16:58.960Z"
   },
   {
    "duration": 39,
    "start_time": "2022-01-30T10:16:58.980Z"
   },
   {
    "duration": 8,
    "start_time": "2022-01-30T10:16:59.021Z"
   },
   {
    "duration": 28,
    "start_time": "2022-01-30T10:16:59.031Z"
   },
   {
    "duration": 14,
    "start_time": "2022-01-30T10:16:59.061Z"
   },
   {
    "duration": 33,
    "start_time": "2022-01-30T10:16:59.077Z"
   },
   {
    "duration": 20,
    "start_time": "2022-01-30T10:16:59.112Z"
   },
   {
    "duration": 26,
    "start_time": "2022-01-30T10:16:59.134Z"
   },
   {
    "duration": 81,
    "start_time": "2022-01-30T10:16:59.162Z"
   },
   {
    "duration": 85,
    "start_time": "2022-01-30T10:16:59.244Z"
   },
   {
    "duration": 53,
    "start_time": "2022-01-30T10:16:59.331Z"
   },
   {
    "duration": 53,
    "start_time": "2022-01-30T10:16:59.386Z"
   },
   {
    "duration": 3,
    "start_time": "2022-01-30T10:16:59.441Z"
   },
   {
    "duration": 20,
    "start_time": "2022-01-30T10:16:59.446Z"
   },
   {
    "duration": 57,
    "start_time": "2022-01-30T10:16:59.468Z"
   },
   {
    "duration": 11,
    "start_time": "2022-01-30T10:16:59.527Z"
   },
   {
    "duration": 11,
    "start_time": "2022-01-30T10:16:59.540Z"
   },
   {
    "duration": 4,
    "start_time": "2022-01-30T10:16:59.552Z"
   },
   {
    "duration": 24,
    "start_time": "2022-01-30T10:16:59.557Z"
   },
   {
    "duration": 15,
    "start_time": "2022-01-30T10:16:59.607Z"
   },
   {
    "duration": 16,
    "start_time": "2022-01-30T10:16:59.625Z"
   },
   {
    "duration": 15,
    "start_time": "2022-01-30T10:16:59.643Z"
   },
   {
    "duration": 18,
    "start_time": "2022-01-30T10:16:59.660Z"
   },
   {
    "duration": 16,
    "start_time": "2022-01-30T10:16:59.708Z"
   },
   {
    "duration": 9,
    "start_time": "2022-01-30T10:16:59.726Z"
   },
   {
    "duration": 14,
    "start_time": "2022-01-30T10:16:59.737Z"
   },
   {
    "duration": 9,
    "start_time": "2022-01-30T10:16:59.753Z"
   },
   {
    "duration": 7,
    "start_time": "2022-01-30T10:16:59.764Z"
   },
   {
    "duration": 55,
    "start_time": "2022-01-30T10:16:59.772Z"
   },
   {
    "duration": 14,
    "start_time": "2022-01-30T10:16:59.828Z"
   },
   {
    "duration": 19,
    "start_time": "2022-01-30T10:16:59.844Z"
   },
   {
    "duration": 14,
    "start_time": "2022-01-30T10:16:59.865Z"
   },
   {
    "duration": 11,
    "start_time": "2022-01-30T10:16:59.908Z"
   },
   {
    "duration": 5,
    "start_time": "2022-01-30T10:16:59.921Z"
   },
   {
    "duration": 11,
    "start_time": "2022-01-30T10:16:59.928Z"
   },
   {
    "duration": 7,
    "start_time": "2022-01-30T10:16:59.940Z"
   },
   {
    "duration": 355,
    "start_time": "2022-01-30T19:23:54.664Z"
   }
  ],
  "colab": {
   "collapsed_sections": [
    "E0vqbgi9ay0H",
    "VUC88oWjTJw2"
   ],
   "name": "yandex_music_project_2021.2.ipynb",
   "provenance": []
  },
  "kernelspec": {
   "display_name": "Python 3 (ipykernel)",
   "language": "python",
   "name": "python3"
  },
  "language_info": {
   "codemirror_mode": {
    "name": "ipython",
    "version": 3
   },
   "file_extension": ".py",
   "mimetype": "text/x-python",
   "name": "python",
   "nbconvert_exporter": "python",
   "pygments_lexer": "ipython3",
   "version": "3.9.7"
  },
  "toc": {
   "base_numbering": 1,
   "nav_menu": {},
   "number_sections": true,
   "sideBar": true,
   "skip_h1_title": true,
   "title_cell": "Table of Contents",
   "title_sidebar": "Contents",
   "toc_cell": false,
   "toc_position": {},
   "toc_section_display": true,
   "toc_window_display": true
  }
 },
 "nbformat": 4,
 "nbformat_minor": 1
}
